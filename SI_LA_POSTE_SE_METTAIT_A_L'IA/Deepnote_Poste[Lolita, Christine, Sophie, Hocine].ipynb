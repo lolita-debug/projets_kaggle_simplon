{
 "cells": [
  {
   "cell_type": "markdown",
   "metadata": {
    "cell_id": "00000-24ad0920-0a4e-423e-8a97-7f63eb78ef32",
    "deepnote_cell_type": "markdown",
    "tags": []
   },
   "source": [
    "# Les données"
   ]
  },
  {
   "cell_type": "markdown",
   "metadata": {
    "cell_id": "00001-a037e448-06bc-408f-b27b-0cc61d820a72",
    "deepnote_cell_type": "markdown",
    "tags": []
   },
   "source": [
    "## Les imports"
   ]
  },
  {
   "cell_type": "code",
   "execution_count": 2,
   "metadata": {
    "cell_id": "00000-d3ee0b10-ba24-4727-8686-16950f591ab0",
    "deepnote_cell_type": "code",
    "deepnote_to_be_reexecuted": false,
    "execution_millis": 1445,
    "execution_start": 1613939607753,
    "source_hash": "2248421b",
    "tags": []
   },
   "outputs": [],
   "source": [
    "import pandas as pd\n",
    "import seaborn as sns\n",
    "import numpy as np\n",
    "import matplotlib.pyplot as plt"
   ]
  },
  {
   "cell_type": "markdown",
   "metadata": {
    "cell_id": "00003-e9012d31-8837-4877-a51e-f9883f3d0359",
    "deepnote_cell_type": "markdown",
    "tags": []
   },
   "source": [
    "## Chargement des données"
   ]
  },
  {
   "cell_type": "code",
   "execution_count": 3,
   "metadata": {
    "cell_id": "00001-ba4fa612-51bd-4aae-9c92-73c3993a8e8b",
    "deepnote_cell_type": "code",
    "deepnote_to_be_reexecuted": false,
    "execution_millis": 2240,
    "execution_start": 1613939612836,
    "source_hash": "ac27bbb2",
    "tags": []
   },
   "outputs": [],
   "source": [
    "images = pd.read_csv('train.csv')"
   ]
  },
  {
   "cell_type": "code",
   "execution_count": 4,
   "metadata": {
    "cell_id": "00005-d472f09a-1c79-4000-a669-c66250ec0299",
    "deepnote_cell_type": "code",
    "deepnote_to_be_reexecuted": false,
    "execution_millis": 9,
    "execution_start": 1613939619429,
    "source_hash": "9dcf6a46",
    "tags": []
   },
   "outputs": [
    {
     "data": {
      "text/plain": [
       "pixel0      0\n",
       "pixel1      0\n",
       "pixel2      0\n",
       "pixel3      0\n",
       "pixel4      0\n",
       "           ..\n",
       "pixel779    0\n",
       "pixel780    0\n",
       "pixel781    0\n",
       "pixel782    0\n",
       "pixel783    0\n",
       "Name: 0, Length: 784, dtype: int64"
      ]
     },
     "execution_count": 4,
     "metadata": {},
     "output_type": "execute_result"
    }
   ],
   "source": [
    "images.iloc[0,1:]"
   ]
  },
  {
   "cell_type": "code",
   "execution_count": 5,
   "metadata": {
    "cell_id": "00006-5e877c15-84d7-40d0-982f-5ca22670b1eb",
    "deepnote_cell_type": "code",
    "deepnote_to_be_reexecuted": false,
    "execution_millis": 0,
    "execution_start": 1613939624829,
    "source_hash": "3389c7d2",
    "tags": []
   },
   "outputs": [],
   "source": [
    "X, y = images.iloc[:,1:], images.iloc[:,0]"
   ]
  },
  {
   "cell_type": "code",
   "execution_count": null,
   "metadata": {
    "cell_id": "00010-306c2817-ad5c-4669-a9e1-6354de964c7f",
    "deepnote_cell_type": "code",
    "deepnote_to_be_reexecuted": false,
    "execution_millis": 1219,
    "execution_start": 1613731902862,
    "source_hash": "2d428afb",
    "tags": []
   },
   "outputs": [],
   "source": [
    "X_test_final = pd.read_csv('test.csv')"
   ]
  },
  {
   "cell_type": "markdown",
   "metadata": {
    "cell_id": "00006-45ef2ca7-7dd0-4feb-b63a-fb76e736ea02",
    "deepnote_cell_type": "markdown",
    "tags": []
   },
   "source": [
    "# Plan"
   ]
  },
  {
   "cell_type": "markdown",
   "metadata": {
    "cell_id": "00013-636f1598-345b-4d19-a830-8a2bbb4477bd",
    "deepnote_cell_type": "markdown",
    "tags": []
   },
   "source": [
    "Etape 1 : Organisez votre projet\n",
    "- Commencez par lister les différentes étapes de votre projet et répartissez-vous de façon\n",
    "équitable les tâches\n",
    "- Organisez des points d’avancement au sein de votre équipe pour partager vos avancées et\n",
    "vos difficultés.\n",
    "\n",
    "Etape 2 : Décrivez votre jeu de données\n",
    "- Vérifiez les valeurs manquantes, la taille, le type ect…\n",
    "- Identifiez les valeurs uniques et le nombre de données pour chaque valeur unique\n",
    "\n",
    "Etape 3 : Visualisez votre jeu de données\n",
    "- Affichez quelques chiffres\n",
    "- Visualisez la matrice de corrélation de pixels. Est-ce normal ?\n",
    "\n",
    "Etape 4 : Préparez vos données\n",
    "- D’après vous est-il nécessaire de standardiser vos données ? Pourquoi ?\n",
    "\n",
    "Etape 5 : Construisez votre modèle\n",
    "- Essayez tout d’abord un modèle lineaire avec l’option linear kernel\n",
    "- Puis essayez ‘poly’\n",
    "- Et ‘rbf’\n",
    "Utilisez dans un premier temps les paramètres par défaut.\n",
    "\n",
    "Etape 6 : Evaluez votre modèle\n",
    "En affichant la matrice de confusion, le classification report et la courbe ROC pour chacun des\n",
    "modèles que vous avez construit.\n",
    "\n",
    "Etape 7 : Choisissez le meilleur et optimisez les paramètres\n",
    "En utilisant GridsearchCV, déterminer les paramètres optimaux et réimplémenter le modèle. Quel\n",
    "score obtenez-vous ?\n",
    "\n",
    "Etape 8 : Optionnel\n",
    "Affichez quelques prédictions"
   ]
  },
  {
   "cell_type": "markdown",
   "metadata": {
    "cell_id": "00014-7233770e-de93-4f90-8081-c1ea7107a8e1",
    "deepnote_cell_type": "markdown",
    "tags": []
   },
   "source": [
    "# Etape 2 : Décrivez votre jeu de données"
   ]
  },
  {
   "cell_type": "markdown",
   "metadata": {
    "cell_id": "00015-8c8a8173-8ed4-40b3-9a71-10cb133947ea",
    "deepnote_cell_type": "markdown",
    "tags": []
   },
   "source": [
    "Vérifiez les valeurs manquantes, la taille, le type ect…"
   ]
  },
  {
   "cell_type": "code",
   "execution_count": null,
   "metadata": {
    "cell_id": "00014-e563805b-bb60-4cf8-b1f7-67d8f09e6fe0",
    "deepnote_cell_type": "code",
    "deepnote_to_be_reexecuted": false,
    "execution_millis": 17,
    "execution_start": 1613731904090,
    "source_hash": "f3b1f977",
    "tags": []
   },
   "outputs": [
    {
     "data": {
      "text/plain": [
       "(42000, 785)"
      ]
     },
     "execution_count": 6,
     "metadata": {},
     "output_type": "execute_result"
    }
   ],
   "source": [
    "images.shape"
   ]
  },
  {
   "cell_type": "code",
   "execution_count": null,
   "metadata": {
    "cell_id": "00017-63c75581-ea5e-4217-a491-64bd1478239d",
    "deepnote_cell_type": "code",
    "deepnote_to_be_reexecuted": false,
    "execution_millis": 50,
    "execution_start": 1613731904099,
    "source_hash": "b8230f74",
    "tags": []
   },
   "outputs": [
    {
     "data": {
      "text/plain": [
       "label       0\n",
       "pixel0      0\n",
       "pixel1      0\n",
       "pixel2      0\n",
       "pixel3      0\n",
       "           ..\n",
       "pixel779    0\n",
       "pixel780    0\n",
       "pixel781    0\n",
       "pixel782    0\n",
       "pixel783    0\n",
       "Length: 785, dtype: int64"
      ]
     },
     "execution_count": 7,
     "metadata": {},
     "output_type": "execute_result"
    }
   ],
   "source": [
    "images.isna().sum()"
   ]
  },
  {
   "cell_type": "markdown",
   "metadata": {
    "cell_id": "00017-f91db8e9-e58e-4bc3-b69c-9a3fc566c891",
    "deepnote_cell_type": "markdown",
    "tags": []
   },
   "source": [
    "Identifiez les valeurs uniques et le nombre de données pour chaque valeur unique"
   ]
  },
  {
   "cell_type": "code",
   "execution_count": null,
   "metadata": {
    "cell_id": "00019-acd3cf4f-5479-49c1-9ad4-7e2861ef8665",
    "deepnote_cell_type": "code",
    "deepnote_to_be_reexecuted": false,
    "execution_millis": 57,
    "execution_start": 1613731904144,
    "source_hash": "c3a092e8",
    "tags": []
   },
   "outputs": [
    {
     "data": {
      "text/plain": [
       "Index(['label', 'pixel0', 'pixel1', 'pixel2', 'pixel3', 'pixel4', 'pixel5',\n",
       "       'pixel6', 'pixel7', 'pixel8',\n",
       "       ...\n",
       "       'pixel774', 'pixel775', 'pixel776', 'pixel777', 'pixel778', 'pixel779',\n",
       "       'pixel780', 'pixel781', 'pixel782', 'pixel783'],\n",
       "      dtype='object', length=785)"
      ]
     },
     "execution_count": 8,
     "metadata": {},
     "output_type": "execute_result"
    }
   ],
   "source": [
    "images.columns"
   ]
  },
  {
   "cell_type": "code",
   "execution_count": null,
   "metadata": {
    "cell_id": "00019-ed81933b-d041-4da4-8d06-465cbbc0aca2",
    "deepnote_cell_type": "code",
    "deepnote_to_be_reexecuted": false,
    "execution_millis": 202,
    "execution_start": 1613731904189,
    "source_hash": "a27067e1",
    "tags": []
   },
   "outputs": [
    {
     "data": {
      "text/plain": [
       "<AxesSubplot:xlabel='label', ylabel='pixel0'>"
      ]
     },
     "execution_count": 9,
     "metadata": {},
     "output_type": "execute_result"
    },
    {
     "data": {
      "image/png": "[encoded data removed]",
      "text/plain": [
       "<Figure size 432x288 with 1 Axes>"
      ]
     },
     "metadata": {
      "needs_background": "light"
     },
     "output_type": "display_data"
    }
   ],
   "source": [
    "proportions = images.groupby('label')['pixel0'].count() / images.shape[0]\n",
    "sns.barplot(data=proportions.reset_index(), x='label', y='pixel0')"
   ]
  },
  {
   "cell_type": "code",
   "execution_count": null,
   "metadata": {
    "cell_id": "00021-a2181139-e7f5-4931-8b16-a4af39b6ba8c",
    "deepnote_cell_type": "code",
    "deepnote_to_be_reexecuted": false,
    "execution_millis": 15,
    "execution_start": 1613731904390,
    "source_hash": "36c4b8d2",
    "tags": []
   },
   "outputs": [
    {
     "data": {
      "text/plain": [
       "count    10.000000\n",
       "mean      0.100000\n",
       "std       0.005645\n",
       "min       0.090357\n",
       "25%       0.097310\n",
       "50%       0.098976\n",
       "75%       0.102625\n",
       "max       0.111524\n",
       "Name: pixel0, dtype: float64"
      ]
     },
     "execution_count": 10,
     "metadata": {},
     "output_type": "execute_result"
    }
   ],
   "source": [
    "proportions.describe()"
   ]
  },
  {
   "cell_type": "markdown",
   "metadata": {
    "cell_id": "00022-05ff0df0-f06c-41cc-bcb1-21ecfd7f76f4",
    "deepnote_cell_type": "markdown",
    "tags": []
   },
   "source": [
    "Les classes sont équilibrées avec une moyenne à 10% de proportion pour chaque classe"
   ]
  },
  {
   "cell_type": "markdown",
   "metadata": {
    "cell_id": "00023-429d3b77-6340-426e-b92d-9d48f7e43e33",
    "deepnote_cell_type": "markdown",
    "tags": []
   },
   "source": [
    "# Etape 3 : Visualisez votre jeu de données"
   ]
  },
  {
   "cell_type": "code",
   "execution_count": null,
   "metadata": {
    "cell_id": "00022-63d6fe9d-5039-4dd7-b59e-49089a702e6e",
    "deepnote_cell_type": "code",
    "deepnote_to_be_reexecuted": false,
    "execution_millis": 343,
    "execution_start": 1613731904390,
    "source_hash": "23c83e1",
    "tags": []
   },
   "outputs": [
    {
     "name": "stdout",
     "output_type": "stream",
     "text": [
      "3\n"
     ]
    },
    {
     "data": {
      "image/png": "[encoded data removed]",
      "text/plain": [
       "<Figure size 432x288 with 2 Axes>"
      ]
     },
     "metadata": {
      "needs_background": "light"
     },
     "output_type": "display_data"
    }
   ],
   "source": [
    "n = 9855\n",
    "print(images.iloc[n,0])\n",
    "sns.heatmap(images.iloc[n,1:].values.reshape((28,28)), cmap=\"Greys_r\");"
   ]
  },
  {
   "cell_type": "markdown",
   "metadata": {
    "cell_id": "00019-8b4e804b-492a-405e-8b58-7426135d8d09",
    "deepnote_cell_type": "markdown",
    "tags": []
   },
   "source": [
    "Visualisez la matrice de corrélation de pixels. Est-ce normal ?"
   ]
  },
  {
   "cell_type": "code",
   "execution_count": null,
   "metadata": {
    "cell_id": "00023-5bd54066-4c4d-4b99-a9ed-3b0af8102a17",
    "deepnote_cell_type": "code",
    "deepnote_to_be_reexecuted": false,
    "execution_millis": 125,
    "execution_start": 1613731904736,
    "source_hash": "b1446d8a",
    "tags": []
   },
   "outputs": [
    {
     "data": {
      "application/vnd.deepnote.dataframe.v2+json": {
       "column_count": 28,
       "columns": [
        {
         "dtype": "float64",
         "name": 0,
         "stats": {
          "histogram": [
           {
            "bin_end": 0.1,
            "bin_start": 0,
            "count": 0
           },
           {
            "bin_end": 0.2,
            "bin_start": 0.1,
            "count": 0
           },
           {
            "bin_end": 0.30000000000000004,
            "bin_start": 0.2,
            "count": 0
           },
           {
            "bin_end": 0.4,
            "bin_start": 0.30000000000000004,
            "count": 0
           },
           {
            "bin_end": 0.5,
            "bin_start": 0.4,
            "count": 0
           },
           {
            "bin_end": 0.6000000000000001,
            "bin_start": 0.5,
            "count": 0
           },
           {
            "bin_end": 0.7000000000000001,
            "bin_start": 0.6000000000000001,
            "count": 0
           },
           {
            "bin_end": 0.8,
            "bin_start": 0.7000000000000001,
            "count": 0
           },
           {
            "bin_end": 0.9,
            "bin_start": 0.8,
            "count": 0
           },
           {
            "bin_end": 1,
            "bin_start": 0.9,
            "count": 0
           }
          ],
          "max": null,
          "min": null,
          "nan_count": 28,
          "unique_count": 0
         }
        },
        {
         "dtype": "float64",
         "name": 1,
         "stats": {
          "histogram": [
           {
            "bin_end": 0.1,
            "bin_start": 0,
            "count": 0
           },
           {
            "bin_end": 0.2,
            "bin_start": 0.1,
            "count": 0
           },
           {
            "bin_end": 0.30000000000000004,
            "bin_start": 0.2,
            "count": 0
           },
           {
            "bin_end": 0.4,
            "bin_start": 0.30000000000000004,
            "count": 0
           },
           {
            "bin_end": 0.5,
            "bin_start": 0.4,
            "count": 0
           },
           {
            "bin_end": 0.6000000000000001,
            "bin_start": 0.5,
            "count": 0
           },
           {
            "bin_end": 0.7000000000000001,
            "bin_start": 0.6000000000000001,
            "count": 0
           },
           {
            "bin_end": 0.8,
            "bin_start": 0.7000000000000001,
            "count": 0
           },
           {
            "bin_end": 0.9,
            "bin_start": 0.8,
            "count": 0
           },
           {
            "bin_end": 1,
            "bin_start": 0.9,
            "count": 0
           }
          ],
          "max": null,
          "min": null,
          "nan_count": 28,
          "unique_count": 0
         }
        },
        {
         "dtype": "float64",
         "name": 2,
         "stats": {
          "histogram": [
           {
            "bin_end": 0.1,
            "bin_start": 0,
            "count": 0
           },
           {
            "bin_end": 0.2,
            "bin_start": 0.1,
            "count": 0
           },
           {
            "bin_end": 0.30000000000000004,
            "bin_start": 0.2,
            "count": 0
           },
           {
            "bin_end": 0.4,
            "bin_start": 0.30000000000000004,
            "count": 0
           },
           {
            "bin_end": 0.5,
            "bin_start": 0.4,
            "count": 0
           },
           {
            "bin_end": 0.6000000000000001,
            "bin_start": 0.5,
            "count": 0
           },
           {
            "bin_end": 0.7000000000000001,
            "bin_start": 0.6000000000000001,
            "count": 0
           },
           {
            "bin_end": 0.8,
            "bin_start": 0.7000000000000001,
            "count": 0
           },
           {
            "bin_end": 0.9,
            "bin_start": 0.8,
            "count": 0
           },
           {
            "bin_end": 1,
            "bin_start": 0.9,
            "count": 0
           }
          ],
          "max": null,
          "min": null,
          "nan_count": 28,
          "unique_count": 0
         }
        },
        {
         "dtype": "float64",
         "name": 3,
         "stats": {
          "histogram": [
           {
            "bin_end": 0.1,
            "bin_start": 0,
            "count": 0
           },
           {
            "bin_end": 0.2,
            "bin_start": 0.1,
            "count": 0
           },
           {
            "bin_end": 0.30000000000000004,
            "bin_start": 0.2,
            "count": 0
           },
           {
            "bin_end": 0.4,
            "bin_start": 0.30000000000000004,
            "count": 0
           },
           {
            "bin_end": 0.5,
            "bin_start": 0.4,
            "count": 0
           },
           {
            "bin_end": 0.6000000000000001,
            "bin_start": 0.5,
            "count": 0
           },
           {
            "bin_end": 0.7000000000000001,
            "bin_start": 0.6000000000000001,
            "count": 0
           },
           {
            "bin_end": 0.8,
            "bin_start": 0.7000000000000001,
            "count": 0
           },
           {
            "bin_end": 0.9,
            "bin_start": 0.8,
            "count": 0
           },
           {
            "bin_end": 1,
            "bin_start": 0.9,
            "count": 0
           }
          ],
          "max": null,
          "min": null,
          "nan_count": 28,
          "unique_count": 0
         }
        },
        {
         "dtype": "float64",
         "name": 4,
         "stats": {
          "histogram": [
           {
            "bin_end": 0.1,
            "bin_start": 0,
            "count": 0
           },
           {
            "bin_end": 0.2,
            "bin_start": 0.1,
            "count": 0
           },
           {
            "bin_end": 0.30000000000000004,
            "bin_start": 0.2,
            "count": 0
           },
           {
            "bin_end": 0.4,
            "bin_start": 0.30000000000000004,
            "count": 0
           },
           {
            "bin_end": 0.5,
            "bin_start": 0.4,
            "count": 0
           },
           {
            "bin_end": 0.6000000000000001,
            "bin_start": 0.5,
            "count": 0
           },
           {
            "bin_end": 0.7000000000000001,
            "bin_start": 0.6000000000000001,
            "count": 0
           },
           {
            "bin_end": 0.8,
            "bin_start": 0.7000000000000001,
            "count": 0
           },
           {
            "bin_end": 0.9,
            "bin_start": 0.8,
            "count": 0
           },
           {
            "bin_end": 1,
            "bin_start": 0.9,
            "count": 0
           }
          ],
          "max": null,
          "min": null,
          "nan_count": 28,
          "unique_count": 0
         }
        },
        {
         "dtype": "float64",
         "name": 5,
         "stats": {
          "histogram": [
           {
            "bin_end": 0.1,
            "bin_start": 0,
            "count": 0
           },
           {
            "bin_end": 0.2,
            "bin_start": 0.1,
            "count": 0
           },
           {
            "bin_end": 0.30000000000000004,
            "bin_start": 0.2,
            "count": 0
           },
           {
            "bin_end": 0.4,
            "bin_start": 0.30000000000000004,
            "count": 0
           },
           {
            "bin_end": 0.5,
            "bin_start": 0.4,
            "count": 0
           },
           {
            "bin_end": 0.6000000000000001,
            "bin_start": 0.5,
            "count": 0
           },
           {
            "bin_end": 0.7000000000000001,
            "bin_start": 0.6000000000000001,
            "count": 0
           },
           {
            "bin_end": 0.8,
            "bin_start": 0.7000000000000001,
            "count": 0
           },
           {
            "bin_end": 0.9,
            "bin_start": 0.8,
            "count": 0
           },
           {
            "bin_end": 1,
            "bin_start": 0.9,
            "count": 0
           }
          ],
          "max": null,
          "min": null,
          "nan_count": 28,
          "unique_count": 0
         }
        },
        {
         "dtype": "float64",
         "name": 6,
         "stats": {
          "histogram": [
           {
            "bin_end": 0.1,
            "bin_start": 0,
            "count": 0
           },
           {
            "bin_end": 0.2,
            "bin_start": 0.1,
            "count": 0
           },
           {
            "bin_end": 0.30000000000000004,
            "bin_start": 0.2,
            "count": 0
           },
           {
            "bin_end": 0.4,
            "bin_start": 0.30000000000000004,
            "count": 0
           },
           {
            "bin_end": 0.5,
            "bin_start": 0.4,
            "count": 0
           },
           {
            "bin_end": 0.6000000000000001,
            "bin_start": 0.5,
            "count": 0
           },
           {
            "bin_end": 0.7000000000000001,
            "bin_start": 0.6000000000000001,
            "count": 0
           },
           {
            "bin_end": 0.8,
            "bin_start": 0.7000000000000001,
            "count": 0
           },
           {
            "bin_end": 0.9,
            "bin_start": 0.8,
            "count": 0
           },
           {
            "bin_end": 1,
            "bin_start": 0.9,
            "count": 0
           }
          ],
          "max": null,
          "min": null,
          "nan_count": 28,
          "unique_count": 0
         }
        },
        {
         "dtype": "float64",
         "name": 7,
         "stats": {
          "histogram": [
           {
            "bin_end": 0.1,
            "bin_start": 0,
            "count": 0
           },
           {
            "bin_end": 0.2,
            "bin_start": 0.1,
            "count": 0
           },
           {
            "bin_end": 0.30000000000000004,
            "bin_start": 0.2,
            "count": 0
           },
           {
            "bin_end": 0.4,
            "bin_start": 0.30000000000000004,
            "count": 0
           },
           {
            "bin_end": 0.5,
            "bin_start": 0.4,
            "count": 0
           },
           {
            "bin_end": 0.6000000000000001,
            "bin_start": 0.5,
            "count": 0
           },
           {
            "bin_end": 0.7000000000000001,
            "bin_start": 0.6000000000000001,
            "count": 0
           },
           {
            "bin_end": 0.8,
            "bin_start": 0.7000000000000001,
            "count": 0
           },
           {
            "bin_end": 0.9,
            "bin_start": 0.8,
            "count": 0
           },
           {
            "bin_end": 1,
            "bin_start": 0.9,
            "count": 0
           }
          ],
          "max": null,
          "min": null,
          "nan_count": 28,
          "unique_count": 0
         }
        },
        {
         "dtype": "float64",
         "name": 8,
         "stats": {
          "histogram": [
           {
            "bin_end": 0.1,
            "bin_start": 0,
            "count": 0
           },
           {
            "bin_end": 0.2,
            "bin_start": 0.1,
            "count": 0
           },
           {
            "bin_end": 0.30000000000000004,
            "bin_start": 0.2,
            "count": 0
           },
           {
            "bin_end": 0.4,
            "bin_start": 0.30000000000000004,
            "count": 0
           },
           {
            "bin_end": 0.5,
            "bin_start": 0.4,
            "count": 0
           },
           {
            "bin_end": 0.6000000000000001,
            "bin_start": 0.5,
            "count": 0
           },
           {
            "bin_end": 0.7000000000000001,
            "bin_start": 0.6000000000000001,
            "count": 0
           },
           {
            "bin_end": 0.8,
            "bin_start": 0.7000000000000001,
            "count": 0
           },
           {
            "bin_end": 0.9,
            "bin_start": 0.8,
            "count": 0
           },
           {
            "bin_end": 1,
            "bin_start": 0.9,
            "count": 0
           }
          ],
          "max": null,
          "min": null,
          "nan_count": 28,
          "unique_count": 0
         }
        },
        {
         "dtype": "float64",
         "name": 9,
         "stats": {
          "histogram": [
           {
            "bin_end": -0.07643437703472739,
            "bin_start": -0.19603819670525266,
            "count": 1
           },
           {
            "bin_end": 0.04316944263579789,
            "bin_start": -0.07643437703472739,
            "count": 0
           },
           {
            "bin_end": 0.1627732623063232,
            "bin_start": 0.04316944263579789,
            "count": 1
           },
           {
            "bin_end": 0.2823770819768484,
            "bin_start": 0.1627732623063232,
            "count": 0
           },
           {
            "bin_end": 0.40198090164737366,
            "bin_start": 0.2823770819768484,
            "count": 0
           },
           {
            "bin_end": 0.521584721317899,
            "bin_start": 0.40198090164737366,
            "count": 5
           },
           {
            "bin_end": 0.6411885409884243,
            "bin_start": 0.521584721317899,
            "count": 1
           },
           {
            "bin_end": 0.7607923606589495,
            "bin_start": 0.6411885409884243,
            "count": 1
           },
           {
            "bin_end": 0.8803961803294749,
            "bin_start": 0.7607923606589495,
            "count": 0
           },
           {
            "bin_end": 1,
            "bin_start": 0.8803961803294749,
            "count": 1
           }
          ],
          "max": 1,
          "min": -0.19603819670525266,
          "nan_count": 18,
          "unique_count": 10
         }
        },
        {
         "dtype": "float64",
         "name": 10,
         "stats": {
          "histogram": [
           {
            "bin_end": 0.0157539218540802,
            "bin_start": -0.09360675349546646,
            "count": 1
           },
           {
            "bin_end": 0.12511459720362686,
            "bin_start": 0.0157539218540802,
            "count": 0
           },
           {
            "bin_end": 0.23447527255317355,
            "bin_start": 0.12511459720362686,
            "count": 0
           },
           {
            "bin_end": 0.3438359479027202,
            "bin_start": 0.23447527255317355,
            "count": 1
           },
           {
            "bin_end": 0.45319662325226684,
            "bin_start": 0.3438359479027202,
            "count": 0
           },
           {
            "bin_end": 0.5625572986018136,
            "bin_start": 0.45319662325226684,
            "count": 1
           },
           {
            "bin_end": 0.6719179739513602,
            "bin_start": 0.5625572986018136,
            "count": 4
           },
           {
            "bin_end": 0.7812786493009068,
            "bin_start": 0.6719179739513602,
            "count": 1
           },
           {
            "bin_end": 0.8906393246504535,
            "bin_start": 0.7812786493009068,
            "count": 1
           },
           {
            "bin_end": 1,
            "bin_start": 0.8906393246504535,
            "count": 1
           }
          ],
          "max": 1,
          "min": -0.09360675349546646,
          "nan_count": 18,
          "unique_count": 10
         }
        },
        {
         "dtype": "float64",
         "name": 11,
         "stats": {
          "histogram": [
           {
            "bin_end": -0.07736578930805425,
            "bin_start": -0.1970730992311714,
            "count": 1
           },
           {
            "bin_end": 0.04234152061506288,
            "bin_start": -0.07736578930805425,
            "count": 0
           },
           {
            "bin_end": 0.16204883053818003,
            "bin_start": 0.04234152061506288,
            "count": 0
           },
           {
            "bin_end": 0.28175614046129716,
            "bin_start": 0.16204883053818003,
            "count": 1
           },
           {
            "bin_end": 0.4014634503844143,
            "bin_start": 0.28175614046129716,
            "count": 0
           },
           {
            "bin_end": 0.5211707603075315,
            "bin_start": 0.4014634503844143,
            "count": 0
           },
           {
            "bin_end": 0.6408780702306485,
            "bin_start": 0.5211707603075315,
            "count": 1
           },
           {
            "bin_end": 0.7605853801537656,
            "bin_start": 0.6408780702306485,
            "count": 1
           },
           {
            "bin_end": 0.8802926900768828,
            "bin_start": 0.7605853801537656,
            "count": 5
           },
           {
            "bin_end": 1,
            "bin_start": 0.8802926900768828,
            "count": 1
           }
          ],
          "max": 1,
          "min": -0.1970730992311714,
          "nan_count": 18,
          "unique_count": 10
         }
        },
        {
         "dtype": "float64",
         "name": 12,
         "stats": {
          "histogram": [
           {
            "bin_end": -0.13627839610569026,
            "bin_start": -0.2625315512285447,
            "count": 1
           },
           {
            "bin_end": -0.010025240982835804,
            "bin_start": -0.13627839610569026,
            "count": 0
           },
           {
            "bin_end": 0.11622791414001865,
            "bin_start": -0.010025240982835804,
            "count": 0
           },
           {
            "bin_end": 0.2424810692628731,
            "bin_start": 0.11622791414001865,
            "count": 1
           },
           {
            "bin_end": 0.3687342243857276,
            "bin_start": 0.2424810692628731,
            "count": 0
           },
           {
            "bin_end": 0.494987379508582,
            "bin_start": 0.3687342243857276,
            "count": 1
           },
           {
            "bin_end": 0.6212405346314365,
            "bin_start": 0.494987379508582,
            "count": 1
           },
           {
            "bin_end": 0.747493689754291,
            "bin_start": 0.6212405346314365,
            "count": 1
           },
           {
            "bin_end": 0.8737468448771455,
            "bin_start": 0.747493689754291,
            "count": 4
           },
           {
            "bin_end": 1,
            "bin_start": 0.8737468448771455,
            "count": 1
           }
          ],
          "max": 1,
          "min": -0.2625315512285447,
          "nan_count": 18,
          "unique_count": 10
         }
        },
        {
         "dtype": "float64",
         "name": 13,
         "stats": {
          "histogram": [
           {
            "bin_end": -0.27196284071485827,
            "bin_start": -0.4132920452387314,
            "count": 1
           },
           {
            "bin_end": -0.13063363619098511,
            "bin_start": -0.27196284071485827,
            "count": 1
           },
           {
            "bin_end": 0.010695568332888039,
            "bin_start": -0.13063363619098511,
            "count": 0
           },
           {
            "bin_end": 0.1520247728567612,
            "bin_start": 0.010695568332888039,
            "count": 0
           },
           {
            "bin_end": 0.2933539773806344,
            "bin_start": 0.1520247728567612,
            "count": 0
           },
           {
            "bin_end": 0.4346831819045075,
            "bin_start": 0.2933539773806344,
            "count": 1
           },
           {
            "bin_end": 0.5760123864283806,
            "bin_start": 0.4346831819045075,
            "count": 1
           },
           {
            "bin_end": 0.7173415909522538,
            "bin_start": 0.5760123864283806,
            "count": 1
           },
           {
            "bin_end": 0.858670795476127,
            "bin_start": 0.7173415909522538,
            "count": 2
           },
           {
            "bin_end": 1,
            "bin_start": 0.858670795476127,
            "count": 3
           }
          ],
          "max": 1,
          "min": -0.4132920452387314,
          "nan_count": 18,
          "unique_count": 10
         }
        },
        {
         "dtype": "float64",
         "name": 14,
         "stats": {
          "histogram": [
           {
            "bin_end": -0.3141656005062879,
            "bin_start": -0.4601840005625421,
            "count": 1
           },
           {
            "bin_end": -0.16814720045003367,
            "bin_start": -0.3141656005062879,
            "count": 0
           },
           {
            "bin_end": -0.022128800393779458,
            "bin_start": -0.16814720045003367,
            "count": 1
           },
           {
            "bin_end": 0.12388959966247476,
            "bin_start": -0.022128800393779458,
            "count": 0
           },
           {
            "bin_end": 0.269907999718729,
            "bin_start": 0.12388959966247476,
            "count": 0
           },
           {
            "bin_end": 0.4159263997749832,
            "bin_start": 0.269907999718729,
            "count": 1
           },
           {
            "bin_end": 0.5619447998312375,
            "bin_start": 0.4159263997749832,
            "count": 2
           },
           {
            "bin_end": 0.7079631998874916,
            "bin_start": 0.5619447998312375,
            "count": 0
           },
           {
            "bin_end": 0.8539815999437457,
            "bin_start": 0.7079631998874916,
            "count": 2
           },
           {
            "bin_end": 1,
            "bin_start": 0.8539815999437457,
            "count": 3
           }
          ],
          "max": 1,
          "min": -0.4601840005625421,
          "nan_count": 18,
          "unique_count": 10
         }
        },
        {
         "dtype": "float64",
         "name": 15,
         "stats": {
          "histogram": [
           {
            "bin_end": -0.18656621352652664,
            "bin_start": -0.3184069039183629,
            "count": 1
           },
           {
            "bin_end": -0.05472552313469037,
            "bin_start": -0.18656621352652664,
            "count": 0
           },
           {
            "bin_end": 0.0771151672571459,
            "bin_start": -0.05472552313469037,
            "count": 1
           },
           {
            "bin_end": 0.20895585764898217,
            "bin_start": 0.0771151672571459,
            "count": 0
           },
           {
            "bin_end": 0.3407965480408185,
            "bin_start": 0.20895585764898217,
            "count": 0
           },
           {
            "bin_end": 0.4726372384326547,
            "bin_start": 0.3407965480408185,
            "count": 1
           },
           {
            "bin_end": 0.6044779288244909,
            "bin_start": 0.4726372384326547,
            "count": 2
           },
           {
            "bin_end": 0.7363186192163272,
            "bin_start": 0.6044779288244909,
            "count": 0
           },
           {
            "bin_end": 0.8681593096081636,
            "bin_start": 0.7363186192163272,
            "count": 2
           },
           {
            "bin_end": 1,
            "bin_start": 0.8681593096081636,
            "count": 3
           }
          ],
          "max": 1,
          "min": -0.3184069039183629,
          "nan_count": 18,
          "unique_count": 10
         }
        },
        {
         "dtype": "float64",
         "name": 16,
         "stats": {
          "histogram": [
           {
            "bin_end": 0.4375763229649338,
            "bin_start": 0.3750848032943709,
            "count": 3
           },
           {
            "bin_end": 0.5000678426354968,
            "bin_start": 0.4375763229649338,
            "count": 1
           },
           {
            "bin_end": 0.5625593623060596,
            "bin_start": 0.5000678426354968,
            "count": 0
           },
           {
            "bin_end": 0.6250508819766225,
            "bin_start": 0.5625593623060596,
            "count": 3
           },
           {
            "bin_end": 0.6875424016471854,
            "bin_start": 0.6250508819766225,
            "count": 1
           },
           {
            "bin_end": 0.7500339213177484,
            "bin_start": 0.6875424016471854,
            "count": 0
           },
           {
            "bin_end": 0.8125254409883113,
            "bin_start": 0.7500339213177484,
            "count": 1
           },
           {
            "bin_end": 0.8750169606588742,
            "bin_start": 0.8125254409883113,
            "count": 0
           },
           {
            "bin_end": 0.9375084803294371,
            "bin_start": 0.8750169606588742,
            "count": 0
           },
           {
            "bin_end": 1,
            "bin_start": 0.9375084803294371,
            "count": 1
           }
          ],
          "max": 1,
          "min": 0.3750848032943709,
          "nan_count": 18,
          "unique_count": 10
         }
        },
        {
         "dtype": "float64",
         "name": 17,
         "stats": {
          "histogram": [
           {
            "bin_end": -0.04394456607227093,
            "bin_start": -0.1599384067469677,
            "count": 2
           },
           {
            "bin_end": 0.07204927460242583,
            "bin_start": -0.04394456607227093,
            "count": 1
           },
           {
            "bin_end": 0.18804311527712259,
            "bin_start": 0.07204927460242583,
            "count": 2
           },
           {
            "bin_end": 0.30403695595181934,
            "bin_start": 0.18804311527712259,
            "count": 2
           },
           {
            "bin_end": 0.4200307966265161,
            "bin_start": 0.30403695595181934,
            "count": 0
           },
           {
            "bin_end": 0.5360246373012129,
            "bin_start": 0.4200307966265161,
            "count": 0
           },
           {
            "bin_end": 0.6520184779759096,
            "bin_start": 0.5360246373012129,
            "count": 0
           },
           {
            "bin_end": 0.7680123186506064,
            "bin_start": 0.6520184779759096,
            "count": 1
           },
           {
            "bin_end": 0.8840061593253031,
            "bin_start": 0.7680123186506064,
            "count": 1
           },
           {
            "bin_end": 1,
            "bin_start": 0.8840061593253031,
            "count": 1
           }
          ],
          "max": 1,
          "min": -0.1599384067469677,
          "nan_count": 18,
          "unique_count": 10
         }
        },
        {
         "dtype": "float64",
         "name": 18,
         "stats": {
          "histogram": [
           {
            "bin_end": -0.3141656005062879,
            "bin_start": -0.4601840005625421,
            "count": 3
           },
           {
            "bin_end": -0.16814720045003367,
            "bin_start": -0.3141656005062879,
            "count": 3
           },
           {
            "bin_end": -0.022128800393779458,
            "bin_start": -0.16814720045003367,
            "count": 1
           },
           {
            "bin_end": 0.12388959966247476,
            "bin_start": -0.022128800393779458,
            "count": 0
           },
           {
            "bin_end": 0.269907999718729,
            "bin_start": 0.12388959966247476,
            "count": 0
           },
           {
            "bin_end": 0.4159263997749832,
            "bin_start": 0.269907999718729,
            "count": 1
           },
           {
            "bin_end": 0.5619447998312375,
            "bin_start": 0.4159263997749832,
            "count": 0
           },
           {
            "bin_end": 0.7079631998874916,
            "bin_start": 0.5619447998312375,
            "count": 0
           },
           {
            "bin_end": 0.8539815999437457,
            "bin_start": 0.7079631998874916,
            "count": 1
           },
           {
            "bin_end": 1,
            "bin_start": 0.8539815999437457,
            "count": 1
           }
          ],
          "max": 1,
          "min": -0.4601840005625421,
          "nan_count": 18,
          "unique_count": 10
         }
        },
        {
         "dtype": "float64",
         "name": 19,
         "stats": {
          "histogram": [
           {
            "bin_end": 0.1,
            "bin_start": 0,
            "count": 0
           },
           {
            "bin_end": 0.2,
            "bin_start": 0.1,
            "count": 0
           },
           {
            "bin_end": 0.30000000000000004,
            "bin_start": 0.2,
            "count": 0
           },
           {
            "bin_end": 0.4,
            "bin_start": 0.30000000000000004,
            "count": 0
           },
           {
            "bin_end": 0.5,
            "bin_start": 0.4,
            "count": 0
           },
           {
            "bin_end": 0.6000000000000001,
            "bin_start": 0.5,
            "count": 0
           },
           {
            "bin_end": 0.7000000000000001,
            "bin_start": 0.6000000000000001,
            "count": 0
           },
           {
            "bin_end": 0.8,
            "bin_start": 0.7000000000000001,
            "count": 0
           },
           {
            "bin_end": 0.9,
            "bin_start": 0.8,
            "count": 0
           },
           {
            "bin_end": 1,
            "bin_start": 0.9,
            "count": 0
           }
          ],
          "max": null,
          "min": null,
          "nan_count": 28,
          "unique_count": 0
         }
        },
        {
         "dtype": "float64",
         "name": 20,
         "stats": {
          "histogram": [
           {
            "bin_end": 0.1,
            "bin_start": 0,
            "count": 0
           },
           {
            "bin_end": 0.2,
            "bin_start": 0.1,
            "count": 0
           },
           {
            "bin_end": 0.30000000000000004,
            "bin_start": 0.2,
            "count": 0
           },
           {
            "bin_end": 0.4,
            "bin_start": 0.30000000000000004,
            "count": 0
           },
           {
            "bin_end": 0.5,
            "bin_start": 0.4,
            "count": 0
           },
           {
            "bin_end": 0.6000000000000001,
            "bin_start": 0.5,
            "count": 0
           },
           {
            "bin_end": 0.7000000000000001,
            "bin_start": 0.6000000000000001,
            "count": 0
           },
           {
            "bin_end": 0.8,
            "bin_start": 0.7000000000000001,
            "count": 0
           },
           {
            "bin_end": 0.9,
            "bin_start": 0.8,
            "count": 0
           },
           {
            "bin_end": 1,
            "bin_start": 0.9,
            "count": 0
           }
          ],
          "max": null,
          "min": null,
          "nan_count": 28,
          "unique_count": 0
         }
        },
        {
         "dtype": "float64",
         "name": 21,
         "stats": {
          "histogram": [
           {
            "bin_end": 0.1,
            "bin_start": 0,
            "count": 0
           },
           {
            "bin_end": 0.2,
            "bin_start": 0.1,
            "count": 0
           },
           {
            "bin_end": 0.30000000000000004,
            "bin_start": 0.2,
            "count": 0
           },
           {
            "bin_end": 0.4,
            "bin_start": 0.30000000000000004,
            "count": 0
           },
           {
            "bin_end": 0.5,
            "bin_start": 0.4,
            "count": 0
           },
           {
            "bin_end": 0.6000000000000001,
            "bin_start": 0.5,
            "count": 0
           },
           {
            "bin_end": 0.7000000000000001,
            "bin_start": 0.6000000000000001,
            "count": 0
           },
           {
            "bin_end": 0.8,
            "bin_start": 0.7000000000000001,
            "count": 0
           },
           {
            "bin_end": 0.9,
            "bin_start": 0.8,
            "count": 0
           },
           {
            "bin_end": 1,
            "bin_start": 0.9,
            "count": 0
           }
          ],
          "max": null,
          "min": null,
          "nan_count": 28,
          "unique_count": 0
         }
        },
        {
         "dtype": "float64",
         "name": 22,
         "stats": {
          "histogram": [
           {
            "bin_end": 0.1,
            "bin_start": 0,
            "count": 0
           },
           {
            "bin_end": 0.2,
            "bin_start": 0.1,
            "count": 0
           },
           {
            "bin_end": 0.30000000000000004,
            "bin_start": 0.2,
            "count": 0
           },
           {
            "bin_end": 0.4,
            "bin_start": 0.30000000000000004,
            "count": 0
           },
           {
            "bin_end": 0.5,
            "bin_start": 0.4,
            "count": 0
           },
           {
            "bin_end": 0.6000000000000001,
            "bin_start": 0.5,
            "count": 0
           },
           {
            "bin_end": 0.7000000000000001,
            "bin_start": 0.6000000000000001,
            "count": 0
           },
           {
            "bin_end": 0.8,
            "bin_start": 0.7000000000000001,
            "count": 0
           },
           {
            "bin_end": 0.9,
            "bin_start": 0.8,
            "count": 0
           },
           {
            "bin_end": 1,
            "bin_start": 0.9,
            "count": 0
           }
          ],
          "max": null,
          "min": null,
          "nan_count": 28,
          "unique_count": 0
         }
        },
        {
         "dtype": "float64",
         "name": 23,
         "stats": {
          "histogram": [
           {
            "bin_end": 0.1,
            "bin_start": 0,
            "count": 0
           },
           {
            "bin_end": 0.2,
            "bin_start": 0.1,
            "count": 0
           },
           {
            "bin_end": 0.30000000000000004,
            "bin_start": 0.2,
            "count": 0
           },
           {
            "bin_end": 0.4,
            "bin_start": 0.30000000000000004,
            "count": 0
           },
           {
            "bin_end": 0.5,
            "bin_start": 0.4,
            "count": 0
           },
           {
            "bin_end": 0.6000000000000001,
            "bin_start": 0.5,
            "count": 0
           },
           {
            "bin_end": 0.7000000000000001,
            "bin_start": 0.6000000000000001,
            "count": 0
           },
           {
            "bin_end": 0.8,
            "bin_start": 0.7000000000000001,
            "count": 0
           },
           {
            "bin_end": 0.9,
            "bin_start": 0.8,
            "count": 0
           },
           {
            "bin_end": 1,
            "bin_start": 0.9,
            "count": 0
           }
          ],
          "max": null,
          "min": null,
          "nan_count": 28,
          "unique_count": 0
         }
        },
        {
         "dtype": "float64",
         "name": 24,
         "stats": {
          "histogram": [
           {
            "bin_end": 0.1,
            "bin_start": 0,
            "count": 0
           },
           {
            "bin_end": 0.2,
            "bin_start": 0.1,
            "count": 0
           },
           {
            "bin_end": 0.30000000000000004,
            "bin_start": 0.2,
            "count": 0
           },
           {
            "bin_end": 0.4,
            "bin_start": 0.30000000000000004,
            "count": 0
           },
           {
            "bin_end": 0.5,
            "bin_start": 0.4,
            "count": 0
           },
           {
            "bin_end": 0.6000000000000001,
            "bin_start": 0.5,
            "count": 0
           },
           {
            "bin_end": 0.7000000000000001,
            "bin_start": 0.6000000000000001,
            "count": 0
           },
           {
            "bin_end": 0.8,
            "bin_start": 0.7000000000000001,
            "count": 0
           },
           {
            "bin_end": 0.9,
            "bin_start": 0.8,
            "count": 0
           },
           {
            "bin_end": 1,
            "bin_start": 0.9,
            "count": 0
           }
          ],
          "max": null,
          "min": null,
          "nan_count": 28,
          "unique_count": 0
         }
        },
        {
         "dtype": "float64",
         "name": 25,
         "stats": {
          "histogram": [
           {
            "bin_end": 0.1,
            "bin_start": 0,
            "count": 0
           },
           {
            "bin_end": 0.2,
            "bin_start": 0.1,
            "count": 0
           },
           {
            "bin_end": 0.30000000000000004,
            "bin_start": 0.2,
            "count": 0
           },
           {
            "bin_end": 0.4,
            "bin_start": 0.30000000000000004,
            "count": 0
           },
           {
            "bin_end": 0.5,
            "bin_start": 0.4,
            "count": 0
           },
           {
            "bin_end": 0.6000000000000001,
            "bin_start": 0.5,
            "count": 0
           },
           {
            "bin_end": 0.7000000000000001,
            "bin_start": 0.6000000000000001,
            "count": 0
           },
           {
            "bin_end": 0.8,
            "bin_start": 0.7000000000000001,
            "count": 0
           },
           {
            "bin_end": 0.9,
            "bin_start": 0.8,
            "count": 0
           },
           {
            "bin_end": 1,
            "bin_start": 0.9,
            "count": 0
           }
          ],
          "max": null,
          "min": null,
          "nan_count": 28,
          "unique_count": 0
         }
        },
        {
         "dtype": "float64",
         "name": 26,
         "stats": {
          "histogram": [
           {
            "bin_end": 0.1,
            "bin_start": 0,
            "count": 0
           },
           {
            "bin_end": 0.2,
            "bin_start": 0.1,
            "count": 0
           },
           {
            "bin_end": 0.30000000000000004,
            "bin_start": 0.2,
            "count": 0
           },
           {
            "bin_end": 0.4,
            "bin_start": 0.30000000000000004,
            "count": 0
           },
           {
            "bin_end": 0.5,
            "bin_start": 0.4,
            "count": 0
           },
           {
            "bin_end": 0.6000000000000001,
            "bin_start": 0.5,
            "count": 0
           },
           {
            "bin_end": 0.7000000000000001,
            "bin_start": 0.6000000000000001,
            "count": 0
           },
           {
            "bin_end": 0.8,
            "bin_start": 0.7000000000000001,
            "count": 0
           },
           {
            "bin_end": 0.9,
            "bin_start": 0.8,
            "count": 0
           },
           {
            "bin_end": 1,
            "bin_start": 0.9,
            "count": 0
           }
          ],
          "max": null,
          "min": null,
          "nan_count": 28,
          "unique_count": 0
         }
        },
        {
         "dtype": "float64",
         "name": 27,
         "stats": {
          "histogram": [
           {
            "bin_end": 0.1,
            "bin_start": 0,
            "count": 0
           },
           {
            "bin_end": 0.2,
            "bin_start": 0.1,
            "count": 0
           },
           {
            "bin_end": 0.30000000000000004,
            "bin_start": 0.2,
            "count": 0
           },
           {
            "bin_end": 0.4,
            "bin_start": 0.30000000000000004,
            "count": 0
           },
           {
            "bin_end": 0.5,
            "bin_start": 0.4,
            "count": 0
           },
           {
            "bin_end": 0.6000000000000001,
            "bin_start": 0.5,
            "count": 0
           },
           {
            "bin_end": 0.7000000000000001,
            "bin_start": 0.6000000000000001,
            "count": 0
           },
           {
            "bin_end": 0.8,
            "bin_start": 0.7000000000000001,
            "count": 0
           },
           {
            "bin_end": 0.9,
            "bin_start": 0.8,
            "count": 0
           },
           {
            "bin_end": 1,
            "bin_start": 0.9,
            "count": 0
           }
          ],
          "max": null,
          "min": null,
          "nan_count": 28,
          "unique_count": 0
         }
        },
        {
         "dtype": "int64",
         "name": "_deepnote_index_column"
        }
       ],
       "row_count": 28,
       "rows_bottom": null,
       "rows_top": [
        {
         "0": "nan",
         "1": "nan",
         "10": "nan",
         "11": "nan",
         "12": "nan",
         "13": "nan",
         "14": "nan",
         "15": "nan",
         "16": "nan",
         "17": "nan",
         "18": "nan",
         "19": "nan",
         "2": "nan",
         "20": "nan",
         "21": "nan",
         "22": "nan",
         "23": "nan",
         "24": "nan",
         "25": "nan",
         "26": "nan",
         "27": "nan",
         "3": "nan",
         "4": "nan",
         "5": "nan",
         "6": "nan",
         "7": "nan",
         "8": "nan",
         "9": "nan",
         "_deepnote_index_column": 0
        },
        {
         "0": "nan",
         "1": "nan",
         "10": "nan",
         "11": "nan",
         "12": "nan",
         "13": "nan",
         "14": "nan",
         "15": "nan",
         "16": "nan",
         "17": "nan",
         "18": "nan",
         "19": "nan",
         "2": "nan",
         "20": "nan",
         "21": "nan",
         "22": "nan",
         "23": "nan",
         "24": "nan",
         "25": "nan",
         "26": "nan",
         "27": "nan",
         "3": "nan",
         "4": "nan",
         "5": "nan",
         "6": "nan",
         "7": "nan",
         "8": "nan",
         "9": "nan",
         "_deepnote_index_column": 1
        },
        {
         "0": "nan",
         "1": "nan",
         "10": "nan",
         "11": "nan",
         "12": "nan",
         "13": "nan",
         "14": "nan",
         "15": "nan",
         "16": "nan",
         "17": "nan",
         "18": "nan",
         "19": "nan",
         "2": "nan",
         "20": "nan",
         "21": "nan",
         "22": "nan",
         "23": "nan",
         "24": "nan",
         "25": "nan",
         "26": "nan",
         "27": "nan",
         "3": "nan",
         "4": "nan",
         "5": "nan",
         "6": "nan",
         "7": "nan",
         "8": "nan",
         "9": "nan",
         "_deepnote_index_column": 2
        },
        {
         "0": "nan",
         "1": "nan",
         "10": "nan",
         "11": "nan",
         "12": "nan",
         "13": "nan",
         "14": "nan",
         "15": "nan",
         "16": "nan",
         "17": "nan",
         "18": "nan",
         "19": "nan",
         "2": "nan",
         "20": "nan",
         "21": "nan",
         "22": "nan",
         "23": "nan",
         "24": "nan",
         "25": "nan",
         "26": "nan",
         "27": "nan",
         "3": "nan",
         "4": "nan",
         "5": "nan",
         "6": "nan",
         "7": "nan",
         "8": "nan",
         "9": "nan",
         "_deepnote_index_column": 3
        },
        {
         "0": "nan",
         "1": "nan",
         "10": "nan",
         "11": "nan",
         "12": "nan",
         "13": "nan",
         "14": "nan",
         "15": "nan",
         "16": "nan",
         "17": "nan",
         "18": "nan",
         "19": "nan",
         "2": "nan",
         "20": "nan",
         "21": "nan",
         "22": "nan",
         "23": "nan",
         "24": "nan",
         "25": "nan",
         "26": "nan",
         "27": "nan",
         "3": "nan",
         "4": "nan",
         "5": "nan",
         "6": "nan",
         "7": "nan",
         "8": "nan",
         "9": "nan",
         "_deepnote_index_column": 4
        },
        {
         "0": "nan",
         "1": "nan",
         "10": "nan",
         "11": "nan",
         "12": "nan",
         "13": "nan",
         "14": "nan",
         "15": "nan",
         "16": "nan",
         "17": "nan",
         "18": "nan",
         "19": "nan",
         "2": "nan",
         "20": "nan",
         "21": "nan",
         "22": "nan",
         "23": "nan",
         "24": "nan",
         "25": "nan",
         "26": "nan",
         "27": "nan",
         "3": "nan",
         "4": "nan",
         "5": "nan",
         "6": "nan",
         "7": "nan",
         "8": "nan",
         "9": "nan",
         "_deepnote_index_column": 5
        },
        {
         "0": "nan",
         "1": "nan",
         "10": "nan",
         "11": "nan",
         "12": "nan",
         "13": "nan",
         "14": "nan",
         "15": "nan",
         "16": "nan",
         "17": "nan",
         "18": "nan",
         "19": "nan",
         "2": "nan",
         "20": "nan",
         "21": "nan",
         "22": "nan",
         "23": "nan",
         "24": "nan",
         "25": "nan",
         "26": "nan",
         "27": "nan",
         "3": "nan",
         "4": "nan",
         "5": "nan",
         "6": "nan",
         "7": "nan",
         "8": "nan",
         "9": "nan",
         "_deepnote_index_column": 6
        },
        {
         "0": "nan",
         "1": "nan",
         "10": "nan",
         "11": "nan",
         "12": "nan",
         "13": "nan",
         "14": "nan",
         "15": "nan",
         "16": "nan",
         "17": "nan",
         "18": "nan",
         "19": "nan",
         "2": "nan",
         "20": "nan",
         "21": "nan",
         "22": "nan",
         "23": "nan",
         "24": "nan",
         "25": "nan",
         "26": "nan",
         "27": "nan",
         "3": "nan",
         "4": "nan",
         "5": "nan",
         "6": "nan",
         "7": "nan",
         "8": "nan",
         "9": "nan",
         "_deepnote_index_column": 7
        },
        {
         "0": "nan",
         "1": "nan",
         "10": "nan",
         "11": "nan",
         "12": "nan",
         "13": "nan",
         "14": "nan",
         "15": "nan",
         "16": "nan",
         "17": "nan",
         "18": "nan",
         "19": "nan",
         "2": "nan",
         "20": "nan",
         "21": "nan",
         "22": "nan",
         "23": "nan",
         "24": "nan",
         "25": "nan",
         "26": "nan",
         "27": "nan",
         "3": "nan",
         "4": "nan",
         "5": "nan",
         "6": "nan",
         "7": "nan",
         "8": "nan",
         "9": "nan",
         "_deepnote_index_column": 8
        },
        {
         "0": "nan",
         "1": "nan",
         "10": "0.7559639587775208",
         "11": "0.5716231190094736",
         "12": "0.47680927215675156",
         "13": "0.45518552328459094",
         "14": "0.4291415058424668",
         "15": "0.42294500173411737",
         "16": "0.439713287031756",
         "17": "0.09911692861500038",
         "18": "-0.19603819670525266",
         "19": "nan",
         "2": "nan",
         "20": "nan",
         "21": "nan",
         "22": "nan",
         "23": "nan",
         "24": "nan",
         "25": "nan",
         "26": "nan",
         "27": "nan",
         "3": "nan",
         "4": "nan",
         "5": "nan",
         "6": "nan",
         "7": "nan",
         "8": "nan",
         "9": "1.0",
         "_deepnote_index_column": 9
        },
        {
         "0": "nan",
         "1": "nan",
         "10": "1.0",
         "11": "0.8419323727783597",
         "12": "0.6368476584657389",
         "13": "0.5793326995891039",
         "14": "0.5304456730741247",
         "15": "0.5833407904397104",
         "16": "0.6091035186655195",
         "17": "0.2752066911192284",
         "18": "-0.09360675349546646",
         "19": "nan",
         "2": "nan",
         "20": "nan",
         "21": "nan",
         "22": "nan",
         "23": "nan",
         "24": "nan",
         "25": "nan",
         "26": "nan",
         "27": "nan",
         "3": "nan",
         "4": "nan",
         "5": "nan",
         "6": "nan",
         "7": "nan",
         "8": "nan",
         "9": "0.7559639587775208",
         "_deepnote_index_column": 10
        },
        {
         "0": "nan",
         "1": "nan",
         "10": "0.8419323727783597",
         "11": "1.0",
         "12": "0.8678528003640347",
         "13": "0.7772264964818298",
         "14": "0.7732141458965858",
         "15": "0.831140643587094",
         "16": "0.6798263346955218",
         "17": "0.2018458594060165",
         "18": "-0.1970730992311714",
         "19": "nan",
         "2": "nan",
         "20": "nan",
         "21": "nan",
         "22": "nan",
         "23": "nan",
         "24": "nan",
         "25": "nan",
         "26": "nan",
         "27": "nan",
         "3": "nan",
         "4": "nan",
         "5": "nan",
         "6": "nan",
         "7": "nan",
         "8": "nan",
         "9": "0.5716231190094736",
         "_deepnote_index_column": 11
        },
        {
         "0": "nan",
         "1": "nan",
         "10": "0.6368476584657389",
         "11": "0.8678528003640347",
         "12": "1.0",
         "13": "0.8309028989311866",
         "14": "0.809508154746458",
         "15": "0.8470171715452084",
         "16": "0.5630476961095416",
         "17": "0.14932682460520433",
         "18": "-0.2625315512285447",
         "19": "nan",
         "2": "nan",
         "20": "nan",
         "21": "nan",
         "22": "nan",
         "23": "nan",
         "24": "nan",
         "25": "nan",
         "26": "nan",
         "27": "nan",
         "3": "nan",
         "4": "nan",
         "5": "nan",
         "6": "nan",
         "7": "nan",
         "8": "nan",
         "9": "0.47680927215675156",
         "_deepnote_index_column": 12
        },
        {
         "0": "nan",
         "1": "nan",
         "10": "0.5793326995891039",
         "11": "0.7772264964818298",
         "12": "0.8309028989311866",
         "13": "1.0",
         "14": "0.9739035499643246",
         "15": "0.8803267148683159",
         "16": "0.3750848032943709",
         "17": "-0.13113438138693134",
         "18": "-0.4132920452387314",
         "19": "nan",
         "2": "nan",
         "20": "nan",
         "21": "nan",
         "22": "nan",
         "23": "nan",
         "24": "nan",
         "25": "nan",
         "26": "nan",
         "27": "nan",
         "3": "nan",
         "4": "nan",
         "5": "nan",
         "6": "nan",
         "7": "nan",
         "8": "nan",
         "9": "0.45518552328459094",
         "_deepnote_index_column": 13
        },
        {
         "0": "nan",
         "1": "nan",
         "10": "0.5304456730741247",
         "11": "0.7732141458965858",
         "12": "0.809508154746458",
         "13": "0.9739035499643246",
         "14": "1.0",
         "15": "0.9248705424782124",
         "16": "0.39882377646281997",
         "17": "-0.1599384067469677",
         "18": "-0.4601840005625421",
         "19": "nan",
         "2": "nan",
         "20": "nan",
         "21": "nan",
         "22": "nan",
         "23": "nan",
         "24": "nan",
         "25": "nan",
         "26": "nan",
         "27": "nan",
         "3": "nan",
         "4": "nan",
         "5": "nan",
         "6": "nan",
         "7": "nan",
         "8": "nan",
         "9": "0.4291415058424668",
         "_deepnote_index_column": 14
        },
        {
         "0": "nan",
         "1": "nan",
         "10": "0.5833407904397104",
         "11": "0.831140643587094",
         "12": "0.8470171715452084",
         "13": "0.8803267148683159",
         "14": "0.9248705424782124",
         "15": "1.0",
         "16": "0.59663331495149",
         "17": "0.05120034781717089",
         "18": "-0.3184069039183629",
         "19": "nan",
         "2": "nan",
         "20": "nan",
         "21": "nan",
         "22": "nan",
         "23": "nan",
         "24": "nan",
         "25": "nan",
         "26": "nan",
         "27": "nan",
         "3": "nan",
         "4": "nan",
         "5": "nan",
         "6": "nan",
         "7": "nan",
         "8": "nan",
         "9": "0.42294500173411737",
         "_deepnote_index_column": 15
        },
        {
         "0": "nan",
         "1": "nan",
         "10": "0.6091035186655195",
         "11": "0.6798263346955218",
         "12": "0.5630476961095416",
         "13": "0.3750848032943709",
         "14": "0.39882377646281997",
         "15": "0.59663331495149",
         "16": "1.0",
         "17": "0.7621493049946925",
         "18": "0.40351676188588415",
         "19": "nan",
         "2": "nan",
         "20": "nan",
         "21": "nan",
         "22": "nan",
         "23": "nan",
         "24": "nan",
         "25": "nan",
         "26": "nan",
         "27": "nan",
         "3": "nan",
         "4": "nan",
         "5": "nan",
         "6": "nan",
         "7": "nan",
         "8": "nan",
         "9": "0.439713287031756",
         "_deepnote_index_column": 16
        },
        {
         "0": "nan",
         "1": "nan",
         "10": "0.2752066911192284",
         "11": "0.2018458594060165",
         "12": "0.14932682460520433",
         "13": "-0.13113438138693134",
         "14": "-0.1599384067469677",
         "15": "0.05120034781717089",
         "16": "0.7621493049946925",
         "17": "1.0",
         "18": "0.8403644226617702",
         "19": "nan",
         "2": "nan",
         "20": "nan",
         "21": "nan",
         "22": "nan",
         "23": "nan",
         "24": "nan",
         "25": "nan",
         "26": "nan",
         "27": "nan",
         "3": "nan",
         "4": "nan",
         "5": "nan",
         "6": "nan",
         "7": "nan",
         "8": "nan",
         "9": "0.09911692861500038",
         "_deepnote_index_column": 17
        },
        {
         "0": "nan",
         "1": "nan",
         "10": "-0.09360675349546646",
         "11": "-0.1970730992311714",
         "12": "-0.2625315512285447",
         "13": "-0.4132920452387314",
         "14": "-0.4601840005625421",
         "15": "-0.3184069039183629",
         "16": "0.40351676188588415",
         "17": "0.8403644226617702",
         "18": "1.0",
         "19": "nan",
         "2": "nan",
         "20": "nan",
         "21": "nan",
         "22": "nan",
         "23": "nan",
         "24": "nan",
         "25": "nan",
         "26": "nan",
         "27": "nan",
         "3": "nan",
         "4": "nan",
         "5": "nan",
         "6": "nan",
         "7": "nan",
         "8": "nan",
         "9": "-0.19603819670525266",
         "_deepnote_index_column": 18
        },
        {
         "0": "nan",
         "1": "nan",
         "10": "nan",
         "11": "nan",
         "12": "nan",
         "13": "nan",
         "14": "nan",
         "15": "nan",
         "16": "nan",
         "17": "nan",
         "18": "nan",
         "19": "nan",
         "2": "nan",
         "20": "nan",
         "21": "nan",
         "22": "nan",
         "23": "nan",
         "24": "nan",
         "25": "nan",
         "26": "nan",
         "27": "nan",
         "3": "nan",
         "4": "nan",
         "5": "nan",
         "6": "nan",
         "7": "nan",
         "8": "nan",
         "9": "nan",
         "_deepnote_index_column": 19
        },
        {
         "0": "nan",
         "1": "nan",
         "10": "nan",
         "11": "nan",
         "12": "nan",
         "13": "nan",
         "14": "nan",
         "15": "nan",
         "16": "nan",
         "17": "nan",
         "18": "nan",
         "19": "nan",
         "2": "nan",
         "20": "nan",
         "21": "nan",
         "22": "nan",
         "23": "nan",
         "24": "nan",
         "25": "nan",
         "26": "nan",
         "27": "nan",
         "3": "nan",
         "4": "nan",
         "5": "nan",
         "6": "nan",
         "7": "nan",
         "8": "nan",
         "9": "nan",
         "_deepnote_index_column": 20
        },
        {
         "0": "nan",
         "1": "nan",
         "10": "nan",
         "11": "nan",
         "12": "nan",
         "13": "nan",
         "14": "nan",
         "15": "nan",
         "16": "nan",
         "17": "nan",
         "18": "nan",
         "19": "nan",
         "2": "nan",
         "20": "nan",
         "21": "nan",
         "22": "nan",
         "23": "nan",
         "24": "nan",
         "25": "nan",
         "26": "nan",
         "27": "nan",
         "3": "nan",
         "4": "nan",
         "5": "nan",
         "6": "nan",
         "7": "nan",
         "8": "nan",
         "9": "nan",
         "_deepnote_index_column": 21
        },
        {
         "0": "nan",
         "1": "nan",
         "10": "nan",
         "11": "nan",
         "12": "nan",
         "13": "nan",
         "14": "nan",
         "15": "nan",
         "16": "nan",
         "17": "nan",
         "18": "nan",
         "19": "nan",
         "2": "nan",
         "20": "nan",
         "21": "nan",
         "22": "nan",
         "23": "nan",
         "24": "nan",
         "25": "nan",
         "26": "nan",
         "27": "nan",
         "3": "nan",
         "4": "nan",
         "5": "nan",
         "6": "nan",
         "7": "nan",
         "8": "nan",
         "9": "nan",
         "_deepnote_index_column": 22
        },
        {
         "0": "nan",
         "1": "nan",
         "10": "nan",
         "11": "nan",
         "12": "nan",
         "13": "nan",
         "14": "nan",
         "15": "nan",
         "16": "nan",
         "17": "nan",
         "18": "nan",
         "19": "nan",
         "2": "nan",
         "20": "nan",
         "21": "nan",
         "22": "nan",
         "23": "nan",
         "24": "nan",
         "25": "nan",
         "26": "nan",
         "27": "nan",
         "3": "nan",
         "4": "nan",
         "5": "nan",
         "6": "nan",
         "7": "nan",
         "8": "nan",
         "9": "nan",
         "_deepnote_index_column": 23
        },
        {
         "0": "nan",
         "1": "nan",
         "10": "nan",
         "11": "nan",
         "12": "nan",
         "13": "nan",
         "14": "nan",
         "15": "nan",
         "16": "nan",
         "17": "nan",
         "18": "nan",
         "19": "nan",
         "2": "nan",
         "20": "nan",
         "21": "nan",
         "22": "nan",
         "23": "nan",
         "24": "nan",
         "25": "nan",
         "26": "nan",
         "27": "nan",
         "3": "nan",
         "4": "nan",
         "5": "nan",
         "6": "nan",
         "7": "nan",
         "8": "nan",
         "9": "nan",
         "_deepnote_index_column": 24
        },
        {
         "0": "nan",
         "1": "nan",
         "10": "nan",
         "11": "nan",
         "12": "nan",
         "13": "nan",
         "14": "nan",
         "15": "nan",
         "16": "nan",
         "17": "nan",
         "18": "nan",
         "19": "nan",
         "2": "nan",
         "20": "nan",
         "21": "nan",
         "22": "nan",
         "23": "nan",
         "24": "nan",
         "25": "nan",
         "26": "nan",
         "27": "nan",
         "3": "nan",
         "4": "nan",
         "5": "nan",
         "6": "nan",
         "7": "nan",
         "8": "nan",
         "9": "nan",
         "_deepnote_index_column": 25
        },
        {
         "0": "nan",
         "1": "nan",
         "10": "nan",
         "11": "nan",
         "12": "nan",
         "13": "nan",
         "14": "nan",
         "15": "nan",
         "16": "nan",
         "17": "nan",
         "18": "nan",
         "19": "nan",
         "2": "nan",
         "20": "nan",
         "21": "nan",
         "22": "nan",
         "23": "nan",
         "24": "nan",
         "25": "nan",
         "26": "nan",
         "27": "nan",
         "3": "nan",
         "4": "nan",
         "5": "nan",
         "6": "nan",
         "7": "nan",
         "8": "nan",
         "9": "nan",
         "_deepnote_index_column": 26
        },
        {
         "0": "nan",
         "1": "nan",
         "10": "nan",
         "11": "nan",
         "12": "nan",
         "13": "nan",
         "14": "nan",
         "15": "nan",
         "16": "nan",
         "17": "nan",
         "18": "nan",
         "19": "nan",
         "2": "nan",
         "20": "nan",
         "21": "nan",
         "22": "nan",
         "23": "nan",
         "24": "nan",
         "25": "nan",
         "26": "nan",
         "27": "nan",
         "3": "nan",
         "4": "nan",
         "5": "nan",
         "6": "nan",
         "7": "nan",
         "8": "nan",
         "9": "nan",
         "_deepnote_index_column": 27
        }
       ]
      },
      "text/html": [
       "<div>\n",
       "<style scoped>\n",
       "    .dataframe tbody tr th:only-of-type {\n",
       "        vertical-align: middle;\n",
       "    }\n",
       "\n",
       "    .dataframe tbody tr th {\n",
       "        vertical-align: top;\n",
       "    }\n",
       "\n",
       "    .dataframe thead th {\n",
       "        text-align: right;\n",
       "    }\n",
       "</style>\n",
       "<table border=\"1\" class=\"dataframe\">\n",
       "  <thead>\n",
       "    <tr style=\"text-align: right;\">\n",
       "      <th></th>\n",
       "      <th>0</th>\n",
       "      <th>1</th>\n",
       "      <th>2</th>\n",
       "      <th>3</th>\n",
       "      <th>4</th>\n",
       "      <th>5</th>\n",
       "      <th>6</th>\n",
       "      <th>7</th>\n",
       "      <th>8</th>\n",
       "      <th>9</th>\n",
       "      <th>...</th>\n",
       "      <th>18</th>\n",
       "      <th>19</th>\n",
       "      <th>20</th>\n",
       "      <th>21</th>\n",
       "      <th>22</th>\n",
       "      <th>23</th>\n",
       "      <th>24</th>\n",
       "      <th>25</th>\n",
       "      <th>26</th>\n",
       "      <th>27</th>\n",
       "    </tr>\n",
       "  </thead>\n",
       "  <tbody>\n",
       "    <tr>\n",
       "      <th>0</th>\n",
       "      <td>NaN</td>\n",
       "      <td>NaN</td>\n",
       "      <td>NaN</td>\n",
       "      <td>NaN</td>\n",
       "      <td>NaN</td>\n",
       "      <td>NaN</td>\n",
       "      <td>NaN</td>\n",
       "      <td>NaN</td>\n",
       "      <td>NaN</td>\n",
       "      <td>NaN</td>\n",
       "      <td>...</td>\n",
       "      <td>NaN</td>\n",
       "      <td>NaN</td>\n",
       "      <td>NaN</td>\n",
       "      <td>NaN</td>\n",
       "      <td>NaN</td>\n",
       "      <td>NaN</td>\n",
       "      <td>NaN</td>\n",
       "      <td>NaN</td>\n",
       "      <td>NaN</td>\n",
       "      <td>NaN</td>\n",
       "    </tr>\n",
       "    <tr>\n",
       "      <th>1</th>\n",
       "      <td>NaN</td>\n",
       "      <td>NaN</td>\n",
       "      <td>NaN</td>\n",
       "      <td>NaN</td>\n",
       "      <td>NaN</td>\n",
       "      <td>NaN</td>\n",
       "      <td>NaN</td>\n",
       "      <td>NaN</td>\n",
       "      <td>NaN</td>\n",
       "      <td>NaN</td>\n",
       "      <td>...</td>\n",
       "      <td>NaN</td>\n",
       "      <td>NaN</td>\n",
       "      <td>NaN</td>\n",
       "      <td>NaN</td>\n",
       "      <td>NaN</td>\n",
       "      <td>NaN</td>\n",
       "      <td>NaN</td>\n",
       "      <td>NaN</td>\n",
       "      <td>NaN</td>\n",
       "      <td>NaN</td>\n",
       "    </tr>\n",
       "    <tr>\n",
       "      <th>2</th>\n",
       "      <td>NaN</td>\n",
       "      <td>NaN</td>\n",
       "      <td>NaN</td>\n",
       "      <td>NaN</td>\n",
       "      <td>NaN</td>\n",
       "      <td>NaN</td>\n",
       "      <td>NaN</td>\n",
       "      <td>NaN</td>\n",
       "      <td>NaN</td>\n",
       "      <td>NaN</td>\n",
       "      <td>...</td>\n",
       "      <td>NaN</td>\n",
       "      <td>NaN</td>\n",
       "      <td>NaN</td>\n",
       "      <td>NaN</td>\n",
       "      <td>NaN</td>\n",
       "      <td>NaN</td>\n",
       "      <td>NaN</td>\n",
       "      <td>NaN</td>\n",
       "      <td>NaN</td>\n",
       "      <td>NaN</td>\n",
       "    </tr>\n",
       "    <tr>\n",
       "      <th>3</th>\n",
       "      <td>NaN</td>\n",
       "      <td>NaN</td>\n",
       "      <td>NaN</td>\n",
       "      <td>NaN</td>\n",
       "      <td>NaN</td>\n",
       "      <td>NaN</td>\n",
       "      <td>NaN</td>\n",
       "      <td>NaN</td>\n",
       "      <td>NaN</td>\n",
       "      <td>NaN</td>\n",
       "      <td>...</td>\n",
       "      <td>NaN</td>\n",
       "      <td>NaN</td>\n",
       "      <td>NaN</td>\n",
       "      <td>NaN</td>\n",
       "      <td>NaN</td>\n",
       "      <td>NaN</td>\n",
       "      <td>NaN</td>\n",
       "      <td>NaN</td>\n",
       "      <td>NaN</td>\n",
       "      <td>NaN</td>\n",
       "    </tr>\n",
       "    <tr>\n",
       "      <th>4</th>\n",
       "      <td>NaN</td>\n",
       "      <td>NaN</td>\n",
       "      <td>NaN</td>\n",
       "      <td>NaN</td>\n",
       "      <td>NaN</td>\n",
       "      <td>NaN</td>\n",
       "      <td>NaN</td>\n",
       "      <td>NaN</td>\n",
       "      <td>NaN</td>\n",
       "      <td>NaN</td>\n",
       "      <td>...</td>\n",
       "      <td>NaN</td>\n",
       "      <td>NaN</td>\n",
       "      <td>NaN</td>\n",
       "      <td>NaN</td>\n",
       "      <td>NaN</td>\n",
       "      <td>NaN</td>\n",
       "      <td>NaN</td>\n",
       "      <td>NaN</td>\n",
       "      <td>NaN</td>\n",
       "      <td>NaN</td>\n",
       "    </tr>\n",
       "    <tr>\n",
       "      <th>5</th>\n",
       "      <td>NaN</td>\n",
       "      <td>NaN</td>\n",
       "      <td>NaN</td>\n",
       "      <td>NaN</td>\n",
       "      <td>NaN</td>\n",
       "      <td>NaN</td>\n",
       "      <td>NaN</td>\n",
       "      <td>NaN</td>\n",
       "      <td>NaN</td>\n",
       "      <td>NaN</td>\n",
       "      <td>...</td>\n",
       "      <td>NaN</td>\n",
       "      <td>NaN</td>\n",
       "      <td>NaN</td>\n",
       "      <td>NaN</td>\n",
       "      <td>NaN</td>\n",
       "      <td>NaN</td>\n",
       "      <td>NaN</td>\n",
       "      <td>NaN</td>\n",
       "      <td>NaN</td>\n",
       "      <td>NaN</td>\n",
       "    </tr>\n",
       "    <tr>\n",
       "      <th>6</th>\n",
       "      <td>NaN</td>\n",
       "      <td>NaN</td>\n",
       "      <td>NaN</td>\n",
       "      <td>NaN</td>\n",
       "      <td>NaN</td>\n",
       "      <td>NaN</td>\n",
       "      <td>NaN</td>\n",
       "      <td>NaN</td>\n",
       "      <td>NaN</td>\n",
       "      <td>NaN</td>\n",
       "      <td>...</td>\n",
       "      <td>NaN</td>\n",
       "      <td>NaN</td>\n",
       "      <td>NaN</td>\n",
       "      <td>NaN</td>\n",
       "      <td>NaN</td>\n",
       "      <td>NaN</td>\n",
       "      <td>NaN</td>\n",
       "      <td>NaN</td>\n",
       "      <td>NaN</td>\n",
       "      <td>NaN</td>\n",
       "    </tr>\n",
       "    <tr>\n",
       "      <th>7</th>\n",
       "      <td>NaN</td>\n",
       "      <td>NaN</td>\n",
       "      <td>NaN</td>\n",
       "      <td>NaN</td>\n",
       "      <td>NaN</td>\n",
       "      <td>NaN</td>\n",
       "      <td>NaN</td>\n",
       "      <td>NaN</td>\n",
       "      <td>NaN</td>\n",
       "      <td>NaN</td>\n",
       "      <td>...</td>\n",
       "      <td>NaN</td>\n",
       "      <td>NaN</td>\n",
       "      <td>NaN</td>\n",
       "      <td>NaN</td>\n",
       "      <td>NaN</td>\n",
       "      <td>NaN</td>\n",
       "      <td>NaN</td>\n",
       "      <td>NaN</td>\n",
       "      <td>NaN</td>\n",
       "      <td>NaN</td>\n",
       "    </tr>\n",
       "    <tr>\n",
       "      <th>8</th>\n",
       "      <td>NaN</td>\n",
       "      <td>NaN</td>\n",
       "      <td>NaN</td>\n",
       "      <td>NaN</td>\n",
       "      <td>NaN</td>\n",
       "      <td>NaN</td>\n",
       "      <td>NaN</td>\n",
       "      <td>NaN</td>\n",
       "      <td>NaN</td>\n",
       "      <td>NaN</td>\n",
       "      <td>...</td>\n",
       "      <td>NaN</td>\n",
       "      <td>NaN</td>\n",
       "      <td>NaN</td>\n",
       "      <td>NaN</td>\n",
       "      <td>NaN</td>\n",
       "      <td>NaN</td>\n",
       "      <td>NaN</td>\n",
       "      <td>NaN</td>\n",
       "      <td>NaN</td>\n",
       "      <td>NaN</td>\n",
       "    </tr>\n",
       "    <tr>\n",
       "      <th>9</th>\n",
       "      <td>NaN</td>\n",
       "      <td>NaN</td>\n",
       "      <td>NaN</td>\n",
       "      <td>NaN</td>\n",
       "      <td>NaN</td>\n",
       "      <td>NaN</td>\n",
       "      <td>NaN</td>\n",
       "      <td>NaN</td>\n",
       "      <td>NaN</td>\n",
       "      <td>1.000000</td>\n",
       "      <td>...</td>\n",
       "      <td>-0.196038</td>\n",
       "      <td>NaN</td>\n",
       "      <td>NaN</td>\n",
       "      <td>NaN</td>\n",
       "      <td>NaN</td>\n",
       "      <td>NaN</td>\n",
       "      <td>NaN</td>\n",
       "      <td>NaN</td>\n",
       "      <td>NaN</td>\n",
       "      <td>NaN</td>\n",
       "    </tr>\n",
       "    <tr>\n",
       "      <th>10</th>\n",
       "      <td>NaN</td>\n",
       "      <td>NaN</td>\n",
       "      <td>NaN</td>\n",
       "      <td>NaN</td>\n",
       "      <td>NaN</td>\n",
       "      <td>NaN</td>\n",
       "      <td>NaN</td>\n",
       "      <td>NaN</td>\n",
       "      <td>NaN</td>\n",
       "      <td>0.755964</td>\n",
       "      <td>...</td>\n",
       "      <td>-0.093607</td>\n",
       "      <td>NaN</td>\n",
       "      <td>NaN</td>\n",
       "      <td>NaN</td>\n",
       "      <td>NaN</td>\n",
       "      <td>NaN</td>\n",
       "      <td>NaN</td>\n",
       "      <td>NaN</td>\n",
       "      <td>NaN</td>\n",
       "      <td>NaN</td>\n",
       "    </tr>\n",
       "    <tr>\n",
       "      <th>11</th>\n",
       "      <td>NaN</td>\n",
       "      <td>NaN</td>\n",
       "      <td>NaN</td>\n",
       "      <td>NaN</td>\n",
       "      <td>NaN</td>\n",
       "      <td>NaN</td>\n",
       "      <td>NaN</td>\n",
       "      <td>NaN</td>\n",
       "      <td>NaN</td>\n",
       "      <td>0.571623</td>\n",
       "      <td>...</td>\n",
       "      <td>-0.197073</td>\n",
       "      <td>NaN</td>\n",
       "      <td>NaN</td>\n",
       "      <td>NaN</td>\n",
       "      <td>NaN</td>\n",
       "      <td>NaN</td>\n",
       "      <td>NaN</td>\n",
       "      <td>NaN</td>\n",
       "      <td>NaN</td>\n",
       "      <td>NaN</td>\n",
       "    </tr>\n",
       "    <tr>\n",
       "      <th>12</th>\n",
       "      <td>NaN</td>\n",
       "      <td>NaN</td>\n",
       "      <td>NaN</td>\n",
       "      <td>NaN</td>\n",
       "      <td>NaN</td>\n",
       "      <td>NaN</td>\n",
       "      <td>NaN</td>\n",
       "      <td>NaN</td>\n",
       "      <td>NaN</td>\n",
       "      <td>0.476809</td>\n",
       "      <td>...</td>\n",
       "      <td>-0.262532</td>\n",
       "      <td>NaN</td>\n",
       "      <td>NaN</td>\n",
       "      <td>NaN</td>\n",
       "      <td>NaN</td>\n",
       "      <td>NaN</td>\n",
       "      <td>NaN</td>\n",
       "      <td>NaN</td>\n",
       "      <td>NaN</td>\n",
       "      <td>NaN</td>\n",
       "    </tr>\n",
       "    <tr>\n",
       "      <th>13</th>\n",
       "      <td>NaN</td>\n",
       "      <td>NaN</td>\n",
       "      <td>NaN</td>\n",
       "      <td>NaN</td>\n",
       "      <td>NaN</td>\n",
       "      <td>NaN</td>\n",
       "      <td>NaN</td>\n",
       "      <td>NaN</td>\n",
       "      <td>NaN</td>\n",
       "      <td>0.455186</td>\n",
       "      <td>...</td>\n",
       "      <td>-0.413292</td>\n",
       "      <td>NaN</td>\n",
       "      <td>NaN</td>\n",
       "      <td>NaN</td>\n",
       "      <td>NaN</td>\n",
       "      <td>NaN</td>\n",
       "      <td>NaN</td>\n",
       "      <td>NaN</td>\n",
       "      <td>NaN</td>\n",
       "      <td>NaN</td>\n",
       "    </tr>\n",
       "    <tr>\n",
       "      <th>14</th>\n",
       "      <td>NaN</td>\n",
       "      <td>NaN</td>\n",
       "      <td>NaN</td>\n",
       "      <td>NaN</td>\n",
       "      <td>NaN</td>\n",
       "      <td>NaN</td>\n",
       "      <td>NaN</td>\n",
       "      <td>NaN</td>\n",
       "      <td>NaN</td>\n",
       "      <td>0.429142</td>\n",
       "      <td>...</td>\n",
       "      <td>-0.460184</td>\n",
       "      <td>NaN</td>\n",
       "      <td>NaN</td>\n",
       "      <td>NaN</td>\n",
       "      <td>NaN</td>\n",
       "      <td>NaN</td>\n",
       "      <td>NaN</td>\n",
       "      <td>NaN</td>\n",
       "      <td>NaN</td>\n",
       "      <td>NaN</td>\n",
       "    </tr>\n",
       "    <tr>\n",
       "      <th>15</th>\n",
       "      <td>NaN</td>\n",
       "      <td>NaN</td>\n",
       "      <td>NaN</td>\n",
       "      <td>NaN</td>\n",
       "      <td>NaN</td>\n",
       "      <td>NaN</td>\n",
       "      <td>NaN</td>\n",
       "      <td>NaN</td>\n",
       "      <td>NaN</td>\n",
       "      <td>0.422945</td>\n",
       "      <td>...</td>\n",
       "      <td>-0.318407</td>\n",
       "      <td>NaN</td>\n",
       "      <td>NaN</td>\n",
       "      <td>NaN</td>\n",
       "      <td>NaN</td>\n",
       "      <td>NaN</td>\n",
       "      <td>NaN</td>\n",
       "      <td>NaN</td>\n",
       "      <td>NaN</td>\n",
       "      <td>NaN</td>\n",
       "    </tr>\n",
       "    <tr>\n",
       "      <th>16</th>\n",
       "      <td>NaN</td>\n",
       "      <td>NaN</td>\n",
       "      <td>NaN</td>\n",
       "      <td>NaN</td>\n",
       "      <td>NaN</td>\n",
       "      <td>NaN</td>\n",
       "      <td>NaN</td>\n",
       "      <td>NaN</td>\n",
       "      <td>NaN</td>\n",
       "      <td>0.439713</td>\n",
       "      <td>...</td>\n",
       "      <td>0.403517</td>\n",
       "      <td>NaN</td>\n",
       "      <td>NaN</td>\n",
       "      <td>NaN</td>\n",
       "      <td>NaN</td>\n",
       "      <td>NaN</td>\n",
       "      <td>NaN</td>\n",
       "      <td>NaN</td>\n",
       "      <td>NaN</td>\n",
       "      <td>NaN</td>\n",
       "    </tr>\n",
       "    <tr>\n",
       "      <th>17</th>\n",
       "      <td>NaN</td>\n",
       "      <td>NaN</td>\n",
       "      <td>NaN</td>\n",
       "      <td>NaN</td>\n",
       "      <td>NaN</td>\n",
       "      <td>NaN</td>\n",
       "      <td>NaN</td>\n",
       "      <td>NaN</td>\n",
       "      <td>NaN</td>\n",
       "      <td>0.099117</td>\n",
       "      <td>...</td>\n",
       "      <td>0.840364</td>\n",
       "      <td>NaN</td>\n",
       "      <td>NaN</td>\n",
       "      <td>NaN</td>\n",
       "      <td>NaN</td>\n",
       "      <td>NaN</td>\n",
       "      <td>NaN</td>\n",
       "      <td>NaN</td>\n",
       "      <td>NaN</td>\n",
       "      <td>NaN</td>\n",
       "    </tr>\n",
       "    <tr>\n",
       "      <th>18</th>\n",
       "      <td>NaN</td>\n",
       "      <td>NaN</td>\n",
       "      <td>NaN</td>\n",
       "      <td>NaN</td>\n",
       "      <td>NaN</td>\n",
       "      <td>NaN</td>\n",
       "      <td>NaN</td>\n",
       "      <td>NaN</td>\n",
       "      <td>NaN</td>\n",
       "      <td>-0.196038</td>\n",
       "      <td>...</td>\n",
       "      <td>1.000000</td>\n",
       "      <td>NaN</td>\n",
       "      <td>NaN</td>\n",
       "      <td>NaN</td>\n",
       "      <td>NaN</td>\n",
       "      <td>NaN</td>\n",
       "      <td>NaN</td>\n",
       "      <td>NaN</td>\n",
       "      <td>NaN</td>\n",
       "      <td>NaN</td>\n",
       "    </tr>\n",
       "    <tr>\n",
       "      <th>19</th>\n",
       "      <td>NaN</td>\n",
       "      <td>NaN</td>\n",
       "      <td>NaN</td>\n",
       "      <td>NaN</td>\n",
       "      <td>NaN</td>\n",
       "      <td>NaN</td>\n",
       "      <td>NaN</td>\n",
       "      <td>NaN</td>\n",
       "      <td>NaN</td>\n",
       "      <td>NaN</td>\n",
       "      <td>...</td>\n",
       "      <td>NaN</td>\n",
       "      <td>NaN</td>\n",
       "      <td>NaN</td>\n",
       "      <td>NaN</td>\n",
       "      <td>NaN</td>\n",
       "      <td>NaN</td>\n",
       "      <td>NaN</td>\n",
       "      <td>NaN</td>\n",
       "      <td>NaN</td>\n",
       "      <td>NaN</td>\n",
       "    </tr>\n",
       "    <tr>\n",
       "      <th>20</th>\n",
       "      <td>NaN</td>\n",
       "      <td>NaN</td>\n",
       "      <td>NaN</td>\n",
       "      <td>NaN</td>\n",
       "      <td>NaN</td>\n",
       "      <td>NaN</td>\n",
       "      <td>NaN</td>\n",
       "      <td>NaN</td>\n",
       "      <td>NaN</td>\n",
       "      <td>NaN</td>\n",
       "      <td>...</td>\n",
       "      <td>NaN</td>\n",
       "      <td>NaN</td>\n",
       "      <td>NaN</td>\n",
       "      <td>NaN</td>\n",
       "      <td>NaN</td>\n",
       "      <td>NaN</td>\n",
       "      <td>NaN</td>\n",
       "      <td>NaN</td>\n",
       "      <td>NaN</td>\n",
       "      <td>NaN</td>\n",
       "    </tr>\n",
       "    <tr>\n",
       "      <th>21</th>\n",
       "      <td>NaN</td>\n",
       "      <td>NaN</td>\n",
       "      <td>NaN</td>\n",
       "      <td>NaN</td>\n",
       "      <td>NaN</td>\n",
       "      <td>NaN</td>\n",
       "      <td>NaN</td>\n",
       "      <td>NaN</td>\n",
       "      <td>NaN</td>\n",
       "      <td>NaN</td>\n",
       "      <td>...</td>\n",
       "      <td>NaN</td>\n",
       "      <td>NaN</td>\n",
       "      <td>NaN</td>\n",
       "      <td>NaN</td>\n",
       "      <td>NaN</td>\n",
       "      <td>NaN</td>\n",
       "      <td>NaN</td>\n",
       "      <td>NaN</td>\n",
       "      <td>NaN</td>\n",
       "      <td>NaN</td>\n",
       "    </tr>\n",
       "    <tr>\n",
       "      <th>22</th>\n",
       "      <td>NaN</td>\n",
       "      <td>NaN</td>\n",
       "      <td>NaN</td>\n",
       "      <td>NaN</td>\n",
       "      <td>NaN</td>\n",
       "      <td>NaN</td>\n",
       "      <td>NaN</td>\n",
       "      <td>NaN</td>\n",
       "      <td>NaN</td>\n",
       "      <td>NaN</td>\n",
       "      <td>...</td>\n",
       "      <td>NaN</td>\n",
       "      <td>NaN</td>\n",
       "      <td>NaN</td>\n",
       "      <td>NaN</td>\n",
       "      <td>NaN</td>\n",
       "      <td>NaN</td>\n",
       "      <td>NaN</td>\n",
       "      <td>NaN</td>\n",
       "      <td>NaN</td>\n",
       "      <td>NaN</td>\n",
       "    </tr>\n",
       "    <tr>\n",
       "      <th>23</th>\n",
       "      <td>NaN</td>\n",
       "      <td>NaN</td>\n",
       "      <td>NaN</td>\n",
       "      <td>NaN</td>\n",
       "      <td>NaN</td>\n",
       "      <td>NaN</td>\n",
       "      <td>NaN</td>\n",
       "      <td>NaN</td>\n",
       "      <td>NaN</td>\n",
       "      <td>NaN</td>\n",
       "      <td>...</td>\n",
       "      <td>NaN</td>\n",
       "      <td>NaN</td>\n",
       "      <td>NaN</td>\n",
       "      <td>NaN</td>\n",
       "      <td>NaN</td>\n",
       "      <td>NaN</td>\n",
       "      <td>NaN</td>\n",
       "      <td>NaN</td>\n",
       "      <td>NaN</td>\n",
       "      <td>NaN</td>\n",
       "    </tr>\n",
       "    <tr>\n",
       "      <th>24</th>\n",
       "      <td>NaN</td>\n",
       "      <td>NaN</td>\n",
       "      <td>NaN</td>\n",
       "      <td>NaN</td>\n",
       "      <td>NaN</td>\n",
       "      <td>NaN</td>\n",
       "      <td>NaN</td>\n",
       "      <td>NaN</td>\n",
       "      <td>NaN</td>\n",
       "      <td>NaN</td>\n",
       "      <td>...</td>\n",
       "      <td>NaN</td>\n",
       "      <td>NaN</td>\n",
       "      <td>NaN</td>\n",
       "      <td>NaN</td>\n",
       "      <td>NaN</td>\n",
       "      <td>NaN</td>\n",
       "      <td>NaN</td>\n",
       "      <td>NaN</td>\n",
       "      <td>NaN</td>\n",
       "      <td>NaN</td>\n",
       "    </tr>\n",
       "    <tr>\n",
       "      <th>25</th>\n",
       "      <td>NaN</td>\n",
       "      <td>NaN</td>\n",
       "      <td>NaN</td>\n",
       "      <td>NaN</td>\n",
       "      <td>NaN</td>\n",
       "      <td>NaN</td>\n",
       "      <td>NaN</td>\n",
       "      <td>NaN</td>\n",
       "      <td>NaN</td>\n",
       "      <td>NaN</td>\n",
       "      <td>...</td>\n",
       "      <td>NaN</td>\n",
       "      <td>NaN</td>\n",
       "      <td>NaN</td>\n",
       "      <td>NaN</td>\n",
       "      <td>NaN</td>\n",
       "      <td>NaN</td>\n",
       "      <td>NaN</td>\n",
       "      <td>NaN</td>\n",
       "      <td>NaN</td>\n",
       "      <td>NaN</td>\n",
       "    </tr>\n",
       "    <tr>\n",
       "      <th>26</th>\n",
       "      <td>NaN</td>\n",
       "      <td>NaN</td>\n",
       "      <td>NaN</td>\n",
       "      <td>NaN</td>\n",
       "      <td>NaN</td>\n",
       "      <td>NaN</td>\n",
       "      <td>NaN</td>\n",
       "      <td>NaN</td>\n",
       "      <td>NaN</td>\n",
       "      <td>NaN</td>\n",
       "      <td>...</td>\n",
       "      <td>NaN</td>\n",
       "      <td>NaN</td>\n",
       "      <td>NaN</td>\n",
       "      <td>NaN</td>\n",
       "      <td>NaN</td>\n",
       "      <td>NaN</td>\n",
       "      <td>NaN</td>\n",
       "      <td>NaN</td>\n",
       "      <td>NaN</td>\n",
       "      <td>NaN</td>\n",
       "    </tr>\n",
       "    <tr>\n",
       "      <th>27</th>\n",
       "      <td>NaN</td>\n",
       "      <td>NaN</td>\n",
       "      <td>NaN</td>\n",
       "      <td>NaN</td>\n",
       "      <td>NaN</td>\n",
       "      <td>NaN</td>\n",
       "      <td>NaN</td>\n",
       "      <td>NaN</td>\n",
       "      <td>NaN</td>\n",
       "      <td>NaN</td>\n",
       "      <td>...</td>\n",
       "      <td>NaN</td>\n",
       "      <td>NaN</td>\n",
       "      <td>NaN</td>\n",
       "      <td>NaN</td>\n",
       "      <td>NaN</td>\n",
       "      <td>NaN</td>\n",
       "      <td>NaN</td>\n",
       "      <td>NaN</td>\n",
       "      <td>NaN</td>\n",
       "      <td>NaN</td>\n",
       "    </tr>\n",
       "  </tbody>\n",
       "</table>\n",
       "<p>28 rows × 28 columns</p>\n",
       "</div>"
      ],
      "text/plain": [
       "    0   1   2   3   4   5   6   7   8         9   ...        18  19  20  21  \\\n",
       "0  NaN NaN NaN NaN NaN NaN NaN NaN NaN       NaN  ...       NaN NaN NaN NaN   \n",
       "1  NaN NaN NaN NaN NaN NaN NaN NaN NaN       NaN  ...       NaN NaN NaN NaN   \n",
       "2  NaN NaN NaN NaN NaN NaN NaN NaN NaN       NaN  ...       NaN NaN NaN NaN   \n",
       "3  NaN NaN NaN NaN NaN NaN NaN NaN NaN       NaN  ...       NaN NaN NaN NaN   \n",
       "4  NaN NaN NaN NaN NaN NaN NaN NaN NaN       NaN  ...       NaN NaN NaN NaN   \n",
       "5  NaN NaN NaN NaN NaN NaN NaN NaN NaN       NaN  ...       NaN NaN NaN NaN   \n",
       "6  NaN NaN NaN NaN NaN NaN NaN NaN NaN       NaN  ...       NaN NaN NaN NaN   \n",
       "7  NaN NaN NaN NaN NaN NaN NaN NaN NaN       NaN  ...       NaN NaN NaN NaN   \n",
       "8  NaN NaN NaN NaN NaN NaN NaN NaN NaN       NaN  ...       NaN NaN NaN NaN   \n",
       "9  NaN NaN NaN NaN NaN NaN NaN NaN NaN  1.000000  ... -0.196038 NaN NaN NaN   \n",
       "10 NaN NaN NaN NaN NaN NaN NaN NaN NaN  0.755964  ... -0.093607 NaN NaN NaN   \n",
       "11 NaN NaN NaN NaN NaN NaN NaN NaN NaN  0.571623  ... -0.197073 NaN NaN NaN   \n",
       "12 NaN NaN NaN NaN NaN NaN NaN NaN NaN  0.476809  ... -0.262532 NaN NaN NaN   \n",
       "13 NaN NaN NaN NaN NaN NaN NaN NaN NaN  0.455186  ... -0.413292 NaN NaN NaN   \n",
       "14 NaN NaN NaN NaN NaN NaN NaN NaN NaN  0.429142  ... -0.460184 NaN NaN NaN   \n",
       "15 NaN NaN NaN NaN NaN NaN NaN NaN NaN  0.422945  ... -0.318407 NaN NaN NaN   \n",
       "16 NaN NaN NaN NaN NaN NaN NaN NaN NaN  0.439713  ...  0.403517 NaN NaN NaN   \n",
       "17 NaN NaN NaN NaN NaN NaN NaN NaN NaN  0.099117  ...  0.840364 NaN NaN NaN   \n",
       "18 NaN NaN NaN NaN NaN NaN NaN NaN NaN -0.196038  ...  1.000000 NaN NaN NaN   \n",
       "19 NaN NaN NaN NaN NaN NaN NaN NaN NaN       NaN  ...       NaN NaN NaN NaN   \n",
       "20 NaN NaN NaN NaN NaN NaN NaN NaN NaN       NaN  ...       NaN NaN NaN NaN   \n",
       "21 NaN NaN NaN NaN NaN NaN NaN NaN NaN       NaN  ...       NaN NaN NaN NaN   \n",
       "22 NaN NaN NaN NaN NaN NaN NaN NaN NaN       NaN  ...       NaN NaN NaN NaN   \n",
       "23 NaN NaN NaN NaN NaN NaN NaN NaN NaN       NaN  ...       NaN NaN NaN NaN   \n",
       "24 NaN NaN NaN NaN NaN NaN NaN NaN NaN       NaN  ...       NaN NaN NaN NaN   \n",
       "25 NaN NaN NaN NaN NaN NaN NaN NaN NaN       NaN  ...       NaN NaN NaN NaN   \n",
       "26 NaN NaN NaN NaN NaN NaN NaN NaN NaN       NaN  ...       NaN NaN NaN NaN   \n",
       "27 NaN NaN NaN NaN NaN NaN NaN NaN NaN       NaN  ...       NaN NaN NaN NaN   \n",
       "\n",
       "    22  23  24  25  26  27  \n",
       "0  NaN NaN NaN NaN NaN NaN  \n",
       "1  NaN NaN NaN NaN NaN NaN  \n",
       "2  NaN NaN NaN NaN NaN NaN  \n",
       "3  NaN NaN NaN NaN NaN NaN  \n",
       "4  NaN NaN NaN NaN NaN NaN  \n",
       "5  NaN NaN NaN NaN NaN NaN  \n",
       "6  NaN NaN NaN NaN NaN NaN  \n",
       "7  NaN NaN NaN NaN NaN NaN  \n",
       "8  NaN NaN NaN NaN NaN NaN  \n",
       "9  NaN NaN NaN NaN NaN NaN  \n",
       "10 NaN NaN NaN NaN NaN NaN  \n",
       "11 NaN NaN NaN NaN NaN NaN  \n",
       "12 NaN NaN NaN NaN NaN NaN  \n",
       "13 NaN NaN NaN NaN NaN NaN  \n",
       "14 NaN NaN NaN NaN NaN NaN  \n",
       "15 NaN NaN NaN NaN NaN NaN  \n",
       "16 NaN NaN NaN NaN NaN NaN  \n",
       "17 NaN NaN NaN NaN NaN NaN  \n",
       "18 NaN NaN NaN NaN NaN NaN  \n",
       "19 NaN NaN NaN NaN NaN NaN  \n",
       "20 NaN NaN NaN NaN NaN NaN  \n",
       "21 NaN NaN NaN NaN NaN NaN  \n",
       "22 NaN NaN NaN NaN NaN NaN  \n",
       "23 NaN NaN NaN NaN NaN NaN  \n",
       "24 NaN NaN NaN NaN NaN NaN  \n",
       "25 NaN NaN NaN NaN NaN NaN  \n",
       "26 NaN NaN NaN NaN NaN NaN  \n",
       "27 NaN NaN NaN NaN NaN NaN  \n",
       "\n",
       "[28 rows x 28 columns]"
      ]
     },
     "execution_count": 12,
     "metadata": {},
     "output_type": "execute_result"
    }
   ],
   "source": [
    "pd.DataFrame(images.iloc[n,1:].values.reshape((28,28))).corr()"
   ]
  },
  {
   "cell_type": "code",
   "execution_count": null,
   "metadata": {
    "cell_id": "00020-377f4884-435e-4e46-adf4-67dceff89732",
    "deepnote_cell_type": "code",
    "deepnote_to_be_reexecuted": false,
    "execution_millis": 1617,
    "execution_start": 1613731904868,
    "source_hash": "c1f53d05",
    "tags": []
   },
   "outputs": [
    {
     "name": "stdout",
     "output_type": "stream",
     "text": [
      "3\n"
     ]
    },
    {
     "data": {
      "image/png": "[encoded data removed]",
      "text/plain": [
       "<Figure size 720x720 with 2 Axes>"
      ]
     },
     "metadata": {
      "needs_background": "light"
     },
     "output_type": "display_data"
    }
   ],
   "source": [
    "plt.subplots(figsize=(10,10))\n",
    "n = 9855\n",
    "print(images.iloc[n,0])\n",
    "sns.heatmap(pd.DataFrame(images.iloc[n,1:].values.reshape((28,28))).corr(), cmap=\"Greys_r\" , annot=True);"
   ]
  },
  {
   "cell_type": "code",
   "execution_count": null,
   "metadata": {
    "cell_id": "00024-5636a396-d6e9-4a9d-8499-750d2db94305",
    "deepnote_cell_type": "code",
    "deepnote_to_be_reexecuted": false,
    "execution_millis": 3,
    "execution_start": 1613731906488,
    "source_hash": "b623e53d",
    "tags": []
   },
   "outputs": [],
   "source": []
  },
  {
   "cell_type": "markdown",
   "metadata": {
    "cell_id": "00026-393e55a7-1cb5-4da8-9233-2bd44daac4a1",
    "deepnote_cell_type": "markdown",
    "tags": []
   },
   "source": [
    "# Etape 4 : Préparez vos données"
   ]
  },
  {
   "cell_type": "markdown",
   "metadata": {
    "cell_id": "00027-7b0dba20-58bd-485d-a4ab-9a2b2015053b",
    "deepnote_cell_type": "markdown",
    "tags": []
   },
   "source": [
    "D’après vous est-il nécessaire de standardiser vos données ? Pourquoi ?"
   ]
  },
  {
   "cell_type": "markdown",
   "metadata": {
    "cell_id": "00028-c6f9ca5b-f29d-44a6-a053-b813b6981cc0",
    "deepnote_cell_type": "markdown",
    "tags": []
   },
   "source": [
    "Je pense que non car les valeurs sont déjà standardisées en sens car les valeurs fe pixels sont comprises entre 0 et 255 quelque soit la ligne < à vérifier\n"
   ]
  },
  {
   "cell_type": "code",
   "execution_count": null,
   "metadata": {
    "cell_id": "00030-edf1747c-1ae0-472f-ac41-a3aa6ce5cc01",
    "deepnote_cell_type": "code",
    "deepnote_to_be_reexecuted": false,
    "execution_millis": 797,
    "execution_start": 1613731906494,
    "source_hash": "5abcd17a",
    "tags": []
   },
   "outputs": [],
   "source": [
    "# Réduction du X_Train fourni de 42000 enregistrements en 10 000 en respectant la proportion intiale \n",
    "from sklearn.model_selection import train_test_split\n",
    "X_TReduit, X_TeReduit, y_TReduit, y_TeReduit = train_test_split(X, y, shuffle=True, test_size=32000, stratify=y, random_state=42)"
   ]
  },
  {
   "cell_type": "code",
   "execution_count": null,
   "metadata": {
    "cell_id": "00030-a01525c8-6b43-43d9-918f-a8908f2be952",
    "deepnote_cell_type": "code",
    "deepnote_to_be_reexecuted": false,
    "execution_millis": 22,
    "execution_start": 1613731907294,
    "source_hash": "5ca1d47f",
    "tags": []
   },
   "outputs": [
    {
     "name": "stdout",
     "output_type": "stream",
     "text": [
      "(10000, 784)\n",
      "(10000,)\n"
     ]
    }
   ],
   "source": [
    "# Vérification du nombre d'enregistrments dans X_TReduit\n",
    "print(X_TReduit.shape)\n",
    "print(y_TReduit.shape)"
   ]
  },
  {
   "cell_type": "code",
   "execution_count": null,
   "metadata": {
    "cell_id": "00031-87b73b52-fb4c-48dd-8785-820c451ae0b0",
    "deepnote_cell_type": "code",
    "deepnote_to_be_reexecuted": false,
    "execution_millis": 19,
    "execution_start": 1613731907302,
    "source_hash": "fd8f425d",
    "tags": []
   },
   "outputs": [
    {
     "data": {
      "text/plain": [
       "25420    4\n",
       "33967    6\n",
       "18894    6\n",
       "18206    7\n",
       "39566    4\n",
       "        ..\n",
       "21733    0\n",
       "8285     5\n",
       "40444    5\n",
       "13041    9\n",
       "13153    0\n",
       "Name: label, Length: 10000, dtype: int64"
      ]
     },
     "execution_count": 16,
     "metadata": {},
     "output_type": "execute_result"
    }
   ],
   "source": [
    "# affichage de quelques valeurs de label avec leur index\n",
    "y_TReduit\n"
   ]
  },
  {
   "cell_type": "code",
   "execution_count": null,
   "metadata": {
    "cell_id": "00032-ebf65dfb-8299-4175-9224-0d6dfaf3ced3",
    "deepnote_cell_type": "code",
    "deepnote_to_be_reexecuted": false,
    "execution_millis": 30,
    "execution_start": 1613731907307,
    "source_hash": "c3b9e3e0",
    "tags": []
   },
   "outputs": [
    {
     "data": {
      "text/plain": [
       "(10000, 784)"
      ]
     },
     "execution_count": 17,
     "metadata": {},
     "output_type": "execute_result"
    }
   ],
   "source": [
    "# Copie de X_Treduit en XSup100 pour effectuer la transformation des gris supérieur à 150 en blanc\n",
    "XSup150 = X_TReduit.copy()\n",
    "XSup150.shape"
   ]
  },
  {
   "cell_type": "code",
   "execution_count": null,
   "metadata": {
    "cell_id": "00033-3d3aaa8d-5adf-4bc3-a0e0-f067b4cfe815",
    "deepnote_cell_type": "code",
    "deepnote_to_be_reexecuted": false,
    "execution_millis": 336,
    "execution_start": 1613731907378,
    "source_hash": "3b83dcb7",
    "tags": []
   },
   "outputs": [
    {
     "data": {
      "application/vnd.deepnote.dataframe.v2+json": {
       "column_count": 784,
       "columns": [
        {
         "dtype": "int64",
         "name": "pixel0",
         "stats": {
          "histogram": [
           {
            "bin_end": -0.4,
            "bin_start": -0.5,
            "count": 0
           },
           {
            "bin_end": -0.3,
            "bin_start": -0.4,
            "count": 0
           },
           {
            "bin_end": -0.19999999999999996,
            "bin_start": -0.3,
            "count": 0
           },
           {
            "bin_end": -0.09999999999999998,
            "bin_start": -0.19999999999999996,
            "count": 0
           },
           {
            "bin_end": 0,
            "bin_start": -0.09999999999999998,
            "count": 0
           },
           {
            "bin_end": 0.10000000000000009,
            "bin_start": 0,
            "count": 10000
           },
           {
            "bin_end": 0.20000000000000007,
            "bin_start": 0.10000000000000009,
            "count": 0
           },
           {
            "bin_end": 0.30000000000000004,
            "bin_start": 0.20000000000000007,
            "count": 0
           },
           {
            "bin_end": 0.4,
            "bin_start": 0.30000000000000004,
            "count": 0
           },
           {
            "bin_end": 0.5,
            "bin_start": 0.4,
            "count": 0
           }
          ],
          "max": 0,
          "min": 0,
          "nan_count": 0,
          "unique_count": 1
         }
        },
        {
         "dtype": "int64",
         "name": "pixel1",
         "stats": {
          "histogram": [
           {
            "bin_end": -0.4,
            "bin_start": -0.5,
            "count": 0
           },
           {
            "bin_end": -0.3,
            "bin_start": -0.4,
            "count": 0
           },
           {
            "bin_end": -0.19999999999999996,
            "bin_start": -0.3,
            "count": 0
           },
           {
            "bin_end": -0.09999999999999998,
            "bin_start": -0.19999999999999996,
            "count": 0
           },
           {
            "bin_end": 0,
            "bin_start": -0.09999999999999998,
            "count": 0
           },
           {
            "bin_end": 0.10000000000000009,
            "bin_start": 0,
            "count": 10000
           },
           {
            "bin_end": 0.20000000000000007,
            "bin_start": 0.10000000000000009,
            "count": 0
           },
           {
            "bin_end": 0.30000000000000004,
            "bin_start": 0.20000000000000007,
            "count": 0
           },
           {
            "bin_end": 0.4,
            "bin_start": 0.30000000000000004,
            "count": 0
           },
           {
            "bin_end": 0.5,
            "bin_start": 0.4,
            "count": 0
           }
          ],
          "max": 0,
          "min": 0,
          "nan_count": 0,
          "unique_count": 1
         }
        },
        {
         "dtype": "int64",
         "name": "pixel2",
         "stats": {
          "histogram": [
           {
            "bin_end": -0.4,
            "bin_start": -0.5,
            "count": 0
           },
           {
            "bin_end": -0.3,
            "bin_start": -0.4,
            "count": 0
           },
           {
            "bin_end": -0.19999999999999996,
            "bin_start": -0.3,
            "count": 0
           },
           {
            "bin_end": -0.09999999999999998,
            "bin_start": -0.19999999999999996,
            "count": 0
           },
           {
            "bin_end": 0,
            "bin_start": -0.09999999999999998,
            "count": 0
           },
           {
            "bin_end": 0.10000000000000009,
            "bin_start": 0,
            "count": 10000
           },
           {
            "bin_end": 0.20000000000000007,
            "bin_start": 0.10000000000000009,
            "count": 0
           },
           {
            "bin_end": 0.30000000000000004,
            "bin_start": 0.20000000000000007,
            "count": 0
           },
           {
            "bin_end": 0.4,
            "bin_start": 0.30000000000000004,
            "count": 0
           },
           {
            "bin_end": 0.5,
            "bin_start": 0.4,
            "count": 0
           }
          ],
          "max": 0,
          "min": 0,
          "nan_count": 0,
          "unique_count": 1
         }
        },
        {
         "dtype": "int64",
         "name": "pixel3",
         "stats": {
          "histogram": [
           {
            "bin_end": -0.4,
            "bin_start": -0.5,
            "count": 0
           },
           {
            "bin_end": -0.3,
            "bin_start": -0.4,
            "count": 0
           },
           {
            "bin_end": -0.19999999999999996,
            "bin_start": -0.3,
            "count": 0
           },
           {
            "bin_end": -0.09999999999999998,
            "bin_start": -0.19999999999999996,
            "count": 0
           },
           {
            "bin_end": 0,
            "bin_start": -0.09999999999999998,
            "count": 0
           },
           {
            "bin_end": 0.10000000000000009,
            "bin_start": 0,
            "count": 10000
           },
           {
            "bin_end": 0.20000000000000007,
            "bin_start": 0.10000000000000009,
            "count": 0
           },
           {
            "bin_end": 0.30000000000000004,
            "bin_start": 0.20000000000000007,
            "count": 0
           },
           {
            "bin_end": 0.4,
            "bin_start": 0.30000000000000004,
            "count": 0
           },
           {
            "bin_end": 0.5,
            "bin_start": 0.4,
            "count": 0
           }
          ],
          "max": 0,
          "min": 0,
          "nan_count": 0,
          "unique_count": 1
         }
        },
        {
         "dtype": "int64",
         "name": "pixel4",
         "stats": {
          "histogram": [
           {
            "bin_end": -0.4,
            "bin_start": -0.5,
            "count": 0
           },
           {
            "bin_end": -0.3,
            "bin_start": -0.4,
            "count": 0
           },
           {
            "bin_end": -0.19999999999999996,
            "bin_start": -0.3,
            "count": 0
           },
           {
            "bin_end": -0.09999999999999998,
            "bin_start": -0.19999999999999996,
            "count": 0
           },
           {
            "bin_end": 0,
            "bin_start": -0.09999999999999998,
            "count": 0
           },
           {
            "bin_end": 0.10000000000000009,
            "bin_start": 0,
            "count": 10000
           },
           {
            "bin_end": 0.20000000000000007,
            "bin_start": 0.10000000000000009,
            "count": 0
           },
           {
            "bin_end": 0.30000000000000004,
            "bin_start": 0.20000000000000007,
            "count": 0
           },
           {
            "bin_end": 0.4,
            "bin_start": 0.30000000000000004,
            "count": 0
           },
           {
            "bin_end": 0.5,
            "bin_start": 0.4,
            "count": 0
           }
          ],
          "max": 0,
          "min": 0,
          "nan_count": 0,
          "unique_count": 1
         }
        },
        {
         "dtype": "int64",
         "name": "pixel5",
         "stats": {
          "histogram": [
           {
            "bin_end": -0.4,
            "bin_start": -0.5,
            "count": 0
           },
           {
            "bin_end": -0.3,
            "bin_start": -0.4,
            "count": 0
           },
           {
            "bin_end": -0.19999999999999996,
            "bin_start": -0.3,
            "count": 0
           },
           {
            "bin_end": -0.09999999999999998,
            "bin_start": -0.19999999999999996,
            "count": 0
           },
           {
            "bin_end": 0,
            "bin_start": -0.09999999999999998,
            "count": 0
           },
           {
            "bin_end": 0.10000000000000009,
            "bin_start": 0,
            "count": 10000
           },
           {
            "bin_end": 0.20000000000000007,
            "bin_start": 0.10000000000000009,
            "count": 0
           },
           {
            "bin_end": 0.30000000000000004,
            "bin_start": 0.20000000000000007,
            "count": 0
           },
           {
            "bin_end": 0.4,
            "bin_start": 0.30000000000000004,
            "count": 0
           },
           {
            "bin_end": 0.5,
            "bin_start": 0.4,
            "count": 0
           }
          ],
          "max": 0,
          "min": 0,
          "nan_count": 0,
          "unique_count": 1
         }
        },
        {
         "dtype": "int64",
         "name": "pixel6",
         "stats": {
          "histogram": [
           {
            "bin_end": -0.4,
            "bin_start": -0.5,
            "count": 0
           },
           {
            "bin_end": -0.3,
            "bin_start": -0.4,
            "count": 0
           },
           {
            "bin_end": -0.19999999999999996,
            "bin_start": -0.3,
            "count": 0
           },
           {
            "bin_end": -0.09999999999999998,
            "bin_start": -0.19999999999999996,
            "count": 0
           },
           {
            "bin_end": 0,
            "bin_start": -0.09999999999999998,
            "count": 0
           },
           {
            "bin_end": 0.10000000000000009,
            "bin_start": 0,
            "count": 10000
           },
           {
            "bin_end": 0.20000000000000007,
            "bin_start": 0.10000000000000009,
            "count": 0
           },
           {
            "bin_end": 0.30000000000000004,
            "bin_start": 0.20000000000000007,
            "count": 0
           },
           {
            "bin_end": 0.4,
            "bin_start": 0.30000000000000004,
            "count": 0
           },
           {
            "bin_end": 0.5,
            "bin_start": 0.4,
            "count": 0
           }
          ],
          "max": 0,
          "min": 0,
          "nan_count": 0,
          "unique_count": 1
         }
        },
        {
         "dtype": "int64",
         "name": "pixel7",
         "stats": {
          "histogram": [
           {
            "bin_end": -0.4,
            "bin_start": -0.5,
            "count": 0
           },
           {
            "bin_end": -0.3,
            "bin_start": -0.4,
            "count": 0
           },
           {
            "bin_end": -0.19999999999999996,
            "bin_start": -0.3,
            "count": 0
           },
           {
            "bin_end": -0.09999999999999998,
            "bin_start": -0.19999999999999996,
            "count": 0
           },
           {
            "bin_end": 0,
            "bin_start": -0.09999999999999998,
            "count": 0
           },
           {
            "bin_end": 0.10000000000000009,
            "bin_start": 0,
            "count": 10000
           },
           {
            "bin_end": 0.20000000000000007,
            "bin_start": 0.10000000000000009,
            "count": 0
           },
           {
            "bin_end": 0.30000000000000004,
            "bin_start": 0.20000000000000007,
            "count": 0
           },
           {
            "bin_end": 0.4,
            "bin_start": 0.30000000000000004,
            "count": 0
           },
           {
            "bin_end": 0.5,
            "bin_start": 0.4,
            "count": 0
           }
          ],
          "max": 0,
          "min": 0,
          "nan_count": 0,
          "unique_count": 1
         }
        },
        {
         "dtype": "int64",
         "name": "pixel8",
         "stats": {
          "histogram": [
           {
            "bin_end": -0.4,
            "bin_start": -0.5,
            "count": 0
           },
           {
            "bin_end": -0.3,
            "bin_start": -0.4,
            "count": 0
           },
           {
            "bin_end": -0.19999999999999996,
            "bin_start": -0.3,
            "count": 0
           },
           {
            "bin_end": -0.09999999999999998,
            "bin_start": -0.19999999999999996,
            "count": 0
           },
           {
            "bin_end": 0,
            "bin_start": -0.09999999999999998,
            "count": 0
           },
           {
            "bin_end": 0.10000000000000009,
            "bin_start": 0,
            "count": 10000
           },
           {
            "bin_end": 0.20000000000000007,
            "bin_start": 0.10000000000000009,
            "count": 0
           },
           {
            "bin_end": 0.30000000000000004,
            "bin_start": 0.20000000000000007,
            "count": 0
           },
           {
            "bin_end": 0.4,
            "bin_start": 0.30000000000000004,
            "count": 0
           },
           {
            "bin_end": 0.5,
            "bin_start": 0.4,
            "count": 0
           }
          ],
          "max": 0,
          "min": 0,
          "nan_count": 0,
          "unique_count": 1
         }
        },
        {
         "dtype": "int64",
         "name": "pixel9",
         "stats": {
          "histogram": [
           {
            "bin_end": -0.4,
            "bin_start": -0.5,
            "count": 0
           },
           {
            "bin_end": -0.3,
            "bin_start": -0.4,
            "count": 0
           },
           {
            "bin_end": -0.19999999999999996,
            "bin_start": -0.3,
            "count": 0
           },
           {
            "bin_end": -0.09999999999999998,
            "bin_start": -0.19999999999999996,
            "count": 0
           },
           {
            "bin_end": 0,
            "bin_start": -0.09999999999999998,
            "count": 0
           },
           {
            "bin_end": 0.10000000000000009,
            "bin_start": 0,
            "count": 10000
           },
           {
            "bin_end": 0.20000000000000007,
            "bin_start": 0.10000000000000009,
            "count": 0
           },
           {
            "bin_end": 0.30000000000000004,
            "bin_start": 0.20000000000000007,
            "count": 0
           },
           {
            "bin_end": 0.4,
            "bin_start": 0.30000000000000004,
            "count": 0
           },
           {
            "bin_end": 0.5,
            "bin_start": 0.4,
            "count": 0
           }
          ],
          "max": 0,
          "min": 0,
          "nan_count": 0,
          "unique_count": 1
         }
        },
        {
         "dtype": "int64",
         "name": "pixel10"
        },
        {
         "dtype": "int64",
         "name": "pixel11"
        },
        {
         "dtype": "int64",
         "name": "pixel12"
        },
        {
         "dtype": "int64",
         "name": "pixel13"
        },
        {
         "dtype": "int64",
         "name": "pixel14"
        },
        {
         "dtype": "int64",
         "name": "pixel15"
        },
        {
         "dtype": "int64",
         "name": "pixel16"
        },
        {
         "dtype": "int64",
         "name": "pixel17"
        },
        {
         "dtype": "int64",
         "name": "pixel18"
        },
        {
         "dtype": "int64",
         "name": "pixel19"
        },
        {
         "dtype": "int64",
         "name": "pixel20"
        },
        {
         "dtype": "int64",
         "name": "pixel21"
        },
        {
         "dtype": "int64",
         "name": "pixel22"
        },
        {
         "dtype": "int64",
         "name": "pixel23"
        },
        {
         "dtype": "int64",
         "name": "pixel24"
        },
        {
         "dtype": "int64",
         "name": "pixel25"
        },
        {
         "dtype": "int64",
         "name": "pixel26"
        },
        {
         "dtype": "int64",
         "name": "pixel27"
        },
        {
         "dtype": "int64",
         "name": "pixel28"
        },
        {
         "dtype": "int64",
         "name": "pixel29"
        },
        {
         "dtype": "int64",
         "name": "pixel30"
        },
        {
         "dtype": "int64",
         "name": "pixel31"
        },
        {
         "dtype": "int64",
         "name": "pixel32"
        },
        {
         "dtype": "int64",
         "name": "pixel33"
        },
        {
         "dtype": "int64",
         "name": "pixel34"
        },
        {
         "dtype": "int64",
         "name": "pixel35"
        },
        {
         "dtype": "int64",
         "name": "pixel36"
        },
        {
         "dtype": "int64",
         "name": "pixel37"
        },
        {
         "dtype": "int64",
         "name": "pixel38"
        },
        {
         "dtype": "int64",
         "name": "pixel39"
        },
        {
         "dtype": "int64",
         "name": "pixel40"
        },
        {
         "dtype": "int64",
         "name": "pixel41"
        },
        {
         "dtype": "int64",
         "name": "pixel42"
        },
        {
         "dtype": "int64",
         "name": "pixel43"
        },
        {
         "dtype": "int64",
         "name": "pixel44"
        },
        {
         "dtype": "int64",
         "name": "pixel45"
        },
        {
         "dtype": "int64",
         "name": "pixel46"
        },
        {
         "dtype": "int64",
         "name": "pixel47"
        },
        {
         "dtype": "int64",
         "name": "pixel48"
        },
        {
         "dtype": "int64",
         "name": "pixel49"
        },
        {
         "dtype": "int64",
         "name": "pixel50"
        },
        {
         "dtype": "int64",
         "name": "pixel51"
        },
        {
         "dtype": "int64",
         "name": "pixel52"
        },
        {
         "dtype": "int64",
         "name": "pixel53"
        },
        {
         "dtype": "int64",
         "name": "pixel54"
        },
        {
         "dtype": "int64",
         "name": "pixel55"
        },
        {
         "dtype": "int64",
         "name": "pixel56"
        },
        {
         "dtype": "int64",
         "name": "pixel57"
        },
        {
         "dtype": "int64",
         "name": "pixel58"
        },
        {
         "dtype": "int64",
         "name": "pixel59"
        },
        {
         "dtype": "int64",
         "name": "pixel60"
        },
        {
         "dtype": "int64",
         "name": "pixel61"
        },
        {
         "dtype": "int64",
         "name": "pixel62"
        },
        {
         "dtype": "int64",
         "name": "pixel63"
        },
        {
         "dtype": "int64",
         "name": "pixel64"
        },
        {
         "dtype": "int64",
         "name": "pixel65"
        },
        {
         "dtype": "int64",
         "name": "pixel66"
        },
        {
         "dtype": "int64",
         "name": "pixel67"
        },
        {
         "dtype": "int64",
         "name": "pixel68"
        },
        {
         "dtype": "int64",
         "name": "pixel69"
        },
        {
         "dtype": "int64",
         "name": "pixel70"
        },
        {
         "dtype": "int64",
         "name": "pixel71"
        },
        {
         "dtype": "int64",
         "name": "pixel72"
        },
        {
         "dtype": "int64",
         "name": "pixel73"
        },
        {
         "dtype": "int64",
         "name": "pixel74"
        },
        {
         "dtype": "int64",
         "name": "pixel75"
        },
        {
         "dtype": "int64",
         "name": "pixel76"
        },
        {
         "dtype": "int64",
         "name": "pixel77"
        },
        {
         "dtype": "int64",
         "name": "pixel78"
        },
        {
         "dtype": "int64",
         "name": "pixel79"
        },
        {
         "dtype": "int64",
         "name": "pixel80"
        },
        {
         "dtype": "int64",
         "name": "pixel81"
        },
        {
         "dtype": "int64",
         "name": "pixel82"
        },
        {
         "dtype": "int64",
         "name": "pixel83"
        },
        {
         "dtype": "int64",
         "name": "pixel84"
        },
        {
         "dtype": "int64",
         "name": "pixel85"
        },
        {
         "dtype": "int64",
         "name": "pixel86"
        },
        {
         "dtype": "int64",
         "name": "pixel87"
        },
        {
         "dtype": "int64",
         "name": "pixel88"
        },
        {
         "dtype": "int64",
         "name": "pixel89"
        },
        {
         "dtype": "int64",
         "name": "pixel90"
        },
        {
         "dtype": "int64",
         "name": "pixel91"
        },
        {
         "dtype": "int64",
         "name": "pixel92"
        },
        {
         "dtype": "int64",
         "name": "pixel93"
        },
        {
         "dtype": "int64",
         "name": "pixel94"
        },
        {
         "dtype": "int64",
         "name": "pixel95"
        },
        {
         "dtype": "int64",
         "name": "pixel96"
        },
        {
         "dtype": "int64",
         "name": "pixel97"
        },
        {
         "dtype": "int64",
         "name": "pixel98"
        },
        {
         "dtype": "int64",
         "name": "pixel99"
        },
        {
         "dtype": "int64",
         "name": "pixel100"
        },
        {
         "dtype": "int64",
         "name": "pixel101"
        },
        {
         "dtype": "int64",
         "name": "pixel102"
        },
        {
         "dtype": "int64",
         "name": "pixel103"
        },
        {
         "dtype": "int64",
         "name": "pixel104"
        },
        {
         "dtype": "int64",
         "name": "pixel105"
        },
        {
         "dtype": "int64",
         "name": "pixel106"
        },
        {
         "dtype": "int64",
         "name": "pixel107"
        },
        {
         "dtype": "int64",
         "name": "pixel108"
        },
        {
         "dtype": "int64",
         "name": "pixel109"
        },
        {
         "dtype": "int64",
         "name": "pixel110"
        },
        {
         "dtype": "int64",
         "name": "pixel111"
        },
        {
         "dtype": "int64",
         "name": "pixel112"
        },
        {
         "dtype": "int64",
         "name": "pixel113"
        },
        {
         "dtype": "int64",
         "name": "pixel114"
        },
        {
         "dtype": "int64",
         "name": "pixel115"
        },
        {
         "dtype": "int64",
         "name": "pixel116"
        },
        {
         "dtype": "int64",
         "name": "pixel117"
        },
        {
         "dtype": "int64",
         "name": "pixel118"
        },
        {
         "dtype": "int64",
         "name": "pixel119"
        },
        {
         "dtype": "int64",
         "name": "pixel120"
        },
        {
         "dtype": "int64",
         "name": "pixel121"
        },
        {
         "dtype": "int64",
         "name": "pixel122"
        },
        {
         "dtype": "int64",
         "name": "pixel123"
        },
        {
         "dtype": "int64",
         "name": "pixel124"
        },
        {
         "dtype": "int64",
         "name": "pixel125"
        },
        {
         "dtype": "int64",
         "name": "pixel126"
        },
        {
         "dtype": "int64",
         "name": "pixel127"
        },
        {
         "dtype": "int64",
         "name": "pixel128"
        },
        {
         "dtype": "int64",
         "name": "pixel129"
        },
        {
         "dtype": "int64",
         "name": "pixel130"
        },
        {
         "dtype": "int64",
         "name": "pixel131"
        },
        {
         "dtype": "int64",
         "name": "pixel132"
        },
        {
         "dtype": "int64",
         "name": "pixel133"
        },
        {
         "dtype": "int64",
         "name": "pixel134"
        },
        {
         "dtype": "int64",
         "name": "pixel135"
        },
        {
         "dtype": "int64",
         "name": "pixel136"
        },
        {
         "dtype": "int64",
         "name": "pixel137"
        },
        {
         "dtype": "int64",
         "name": "pixel138"
        },
        {
         "dtype": "int64",
         "name": "pixel139"
        },
        {
         "dtype": "int64",
         "name": "pixel140"
        },
        {
         "dtype": "int64",
         "name": "pixel141"
        },
        {
         "dtype": "int64",
         "name": "pixel142"
        },
        {
         "dtype": "int64",
         "name": "pixel143"
        },
        {
         "dtype": "int64",
         "name": "pixel144"
        },
        {
         "dtype": "int64",
         "name": "pixel145"
        },
        {
         "dtype": "int64",
         "name": "pixel146"
        },
        {
         "dtype": "int64",
         "name": "pixel147"
        },
        {
         "dtype": "int64",
         "name": "pixel148"
        },
        {
         "dtype": "int64",
         "name": "pixel149"
        },
        {
         "dtype": "int64",
         "name": "pixel150"
        },
        {
         "dtype": "int64",
         "name": "pixel151"
        },
        {
         "dtype": "int64",
         "name": "pixel152"
        },
        {
         "dtype": "int64",
         "name": "pixel153"
        },
        {
         "dtype": "int64",
         "name": "pixel154"
        },
        {
         "dtype": "int64",
         "name": "pixel155"
        },
        {
         "dtype": "int64",
         "name": "pixel156"
        },
        {
         "dtype": "int64",
         "name": "pixel157"
        },
        {
         "dtype": "int64",
         "name": "pixel158"
        },
        {
         "dtype": "int64",
         "name": "pixel159"
        },
        {
         "dtype": "int64",
         "name": "pixel160"
        },
        {
         "dtype": "int64",
         "name": "pixel161"
        },
        {
         "dtype": "int64",
         "name": "pixel162"
        },
        {
         "dtype": "int64",
         "name": "pixel163"
        },
        {
         "dtype": "int64",
         "name": "pixel164"
        },
        {
         "dtype": "int64",
         "name": "pixel165"
        },
        {
         "dtype": "int64",
         "name": "pixel166"
        },
        {
         "dtype": "int64",
         "name": "pixel167"
        },
        {
         "dtype": "int64",
         "name": "pixel168"
        },
        {
         "dtype": "int64",
         "name": "pixel169"
        },
        {
         "dtype": "int64",
         "name": "pixel170"
        },
        {
         "dtype": "int64",
         "name": "pixel171"
        },
        {
         "dtype": "int64",
         "name": "pixel172"
        },
        {
         "dtype": "int64",
         "name": "pixel173"
        },
        {
         "dtype": "int64",
         "name": "pixel174"
        },
        {
         "dtype": "int64",
         "name": "pixel175"
        },
        {
         "dtype": "int64",
         "name": "pixel176"
        },
        {
         "dtype": "int64",
         "name": "pixel177"
        },
        {
         "dtype": "int64",
         "name": "pixel178"
        },
        {
         "dtype": "int64",
         "name": "pixel179"
        },
        {
         "dtype": "int64",
         "name": "pixel180"
        },
        {
         "dtype": "int64",
         "name": "pixel181"
        },
        {
         "dtype": "int64",
         "name": "pixel182"
        },
        {
         "dtype": "int64",
         "name": "pixel183"
        },
        {
         "dtype": "int64",
         "name": "pixel184"
        },
        {
         "dtype": "int64",
         "name": "pixel185"
        },
        {
         "dtype": "int64",
         "name": "pixel186"
        },
        {
         "dtype": "int64",
         "name": "pixel187"
        },
        {
         "dtype": "int64",
         "name": "pixel188"
        },
        {
         "dtype": "int64",
         "name": "pixel189"
        },
        {
         "dtype": "int64",
         "name": "pixel190"
        },
        {
         "dtype": "int64",
         "name": "pixel191"
        },
        {
         "dtype": "int64",
         "name": "pixel192"
        },
        {
         "dtype": "int64",
         "name": "pixel193"
        },
        {
         "dtype": "int64",
         "name": "pixel194"
        },
        {
         "dtype": "int64",
         "name": "pixel195"
        },
        {
         "dtype": "int64",
         "name": "pixel196"
        },
        {
         "dtype": "int64",
         "name": "pixel197"
        },
        {
         "dtype": "int64",
         "name": "pixel198"
        },
        {
         "dtype": "int64",
         "name": "pixel199"
        },
        {
         "dtype": "int64",
         "name": "pixel200"
        },
        {
         "dtype": "int64",
         "name": "pixel201"
        },
        {
         "dtype": "int64",
         "name": "pixel202"
        },
        {
         "dtype": "int64",
         "name": "pixel203"
        },
        {
         "dtype": "int64",
         "name": "pixel204"
        },
        {
         "dtype": "int64",
         "name": "pixel205"
        },
        {
         "dtype": "int64",
         "name": "pixel206"
        },
        {
         "dtype": "int64",
         "name": "pixel207"
        },
        {
         "dtype": "int64",
         "name": "pixel208"
        },
        {
         "dtype": "int64",
         "name": "pixel209"
        },
        {
         "dtype": "int64",
         "name": "pixel210"
        },
        {
         "dtype": "int64",
         "name": "pixel211"
        },
        {
         "dtype": "int64",
         "name": "pixel212"
        },
        {
         "dtype": "int64",
         "name": "pixel213"
        },
        {
         "dtype": "int64",
         "name": "pixel214"
        },
        {
         "dtype": "int64",
         "name": "pixel215"
        },
        {
         "dtype": "int64",
         "name": "pixel216"
        },
        {
         "dtype": "int64",
         "name": "pixel217"
        },
        {
         "dtype": "int64",
         "name": "pixel218"
        },
        {
         "dtype": "int64",
         "name": "pixel219"
        },
        {
         "dtype": "int64",
         "name": "pixel220"
        },
        {
         "dtype": "int64",
         "name": "pixel221"
        },
        {
         "dtype": "int64",
         "name": "pixel222"
        },
        {
         "dtype": "int64",
         "name": "pixel223"
        },
        {
         "dtype": "int64",
         "name": "pixel224"
        },
        {
         "dtype": "int64",
         "name": "pixel225"
        },
        {
         "dtype": "int64",
         "name": "pixel226"
        },
        {
         "dtype": "int64",
         "name": "pixel227"
        },
        {
         "dtype": "int64",
         "name": "pixel228"
        },
        {
         "dtype": "int64",
         "name": "pixel229"
        },
        {
         "dtype": "int64",
         "name": "pixel230"
        },
        {
         "dtype": "int64",
         "name": "pixel231"
        },
        {
         "dtype": "int64",
         "name": "pixel232"
        },
        {
         "dtype": "int64",
         "name": "pixel233"
        },
        {
         "dtype": "int64",
         "name": "pixel234"
        },
        {
         "dtype": "int64",
         "name": "pixel235"
        },
        {
         "dtype": "int64",
         "name": "pixel236"
        },
        {
         "dtype": "int64",
         "name": "pixel237"
        },
        {
         "dtype": "int64",
         "name": "pixel238"
        },
        {
         "dtype": "int64",
         "name": "pixel239"
        },
        {
         "dtype": "int64",
         "name": "pixel240"
        },
        {
         "dtype": "int64",
         "name": "pixel241"
        },
        {
         "dtype": "int64",
         "name": "pixel242"
        },
        {
         "dtype": "int64",
         "name": "pixel243"
        },
        {
         "dtype": "int64",
         "name": "pixel244"
        },
        {
         "dtype": "int64",
         "name": "pixel245"
        },
        {
         "dtype": "int64",
         "name": "pixel246"
        },
        {
         "dtype": "int64",
         "name": "pixel247"
        },
        {
         "dtype": "int64",
         "name": "pixel248"
        },
        {
         "dtype": "int64",
         "name": "pixel249"
        },
        {
         "dtype": "int64",
         "name": "pixel250"
        },
        {
         "dtype": "int64",
         "name": "pixel251"
        },
        {
         "dtype": "int64",
         "name": "pixel252"
        },
        {
         "dtype": "int64",
         "name": "pixel253"
        },
        {
         "dtype": "int64",
         "name": "pixel254"
        },
        {
         "dtype": "int64",
         "name": "pixel255"
        },
        {
         "dtype": "int64",
         "name": "pixel256"
        },
        {
         "dtype": "int64",
         "name": "pixel257"
        },
        {
         "dtype": "int64",
         "name": "pixel258"
        },
        {
         "dtype": "int64",
         "name": "pixel259"
        },
        {
         "dtype": "int64",
         "name": "pixel260"
        },
        {
         "dtype": "int64",
         "name": "pixel261"
        },
        {
         "dtype": "int64",
         "name": "pixel262"
        },
        {
         "dtype": "int64",
         "name": "pixel263"
        },
        {
         "dtype": "int64",
         "name": "pixel264"
        },
        {
         "dtype": "int64",
         "name": "pixel265"
        },
        {
         "dtype": "int64",
         "name": "pixel266"
        },
        {
         "dtype": "int64",
         "name": "pixel267"
        },
        {
         "dtype": "int64",
         "name": "pixel268"
        },
        {
         "dtype": "int64",
         "name": "pixel269"
        },
        {
         "dtype": "int64",
         "name": "pixel270"
        },
        {
         "dtype": "int64",
         "name": "pixel271"
        },
        {
         "dtype": "int64",
         "name": "pixel272"
        },
        {
         "dtype": "int64",
         "name": "pixel273"
        },
        {
         "dtype": "int64",
         "name": "pixel274"
        },
        {
         "dtype": "int64",
         "name": "pixel275"
        },
        {
         "dtype": "int64",
         "name": "pixel276"
        },
        {
         "dtype": "int64",
         "name": "pixel277"
        },
        {
         "dtype": "int64",
         "name": "pixel278"
        },
        {
         "dtype": "int64",
         "name": "pixel279"
        },
        {
         "dtype": "int64",
         "name": "pixel280"
        },
        {
         "dtype": "int64",
         "name": "pixel281"
        },
        {
         "dtype": "int64",
         "name": "pixel282"
        },
        {
         "dtype": "int64",
         "name": "pixel283"
        },
        {
         "dtype": "int64",
         "name": "pixel284"
        },
        {
         "dtype": "int64",
         "name": "pixel285"
        },
        {
         "dtype": "int64",
         "name": "pixel286"
        },
        {
         "dtype": "int64",
         "name": "pixel287"
        },
        {
         "dtype": "int64",
         "name": "pixel288"
        },
        {
         "dtype": "int64",
         "name": "pixel289"
        },
        {
         "dtype": "int64",
         "name": "pixel290"
        },
        {
         "dtype": "int64",
         "name": "pixel291"
        },
        {
         "dtype": "int64",
         "name": "pixel292"
        },
        {
         "dtype": "int64",
         "name": "pixel293"
        },
        {
         "dtype": "int64",
         "name": "pixel294"
        },
        {
         "dtype": "int64",
         "name": "pixel295"
        },
        {
         "dtype": "int64",
         "name": "pixel296"
        },
        {
         "dtype": "int64",
         "name": "pixel297"
        },
        {
         "dtype": "int64",
         "name": "pixel298"
        },
        {
         "dtype": "int64",
         "name": "pixel299"
        },
        {
         "dtype": "int64",
         "name": "pixel300"
        },
        {
         "dtype": "int64",
         "name": "pixel301"
        },
        {
         "dtype": "int64",
         "name": "pixel302"
        },
        {
         "dtype": "int64",
         "name": "pixel303"
        },
        {
         "dtype": "int64",
         "name": "pixel304"
        },
        {
         "dtype": "int64",
         "name": "pixel305"
        },
        {
         "dtype": "int64",
         "name": "pixel306"
        },
        {
         "dtype": "int64",
         "name": "pixel307"
        },
        {
         "dtype": "int64",
         "name": "pixel308"
        },
        {
         "dtype": "int64",
         "name": "pixel309"
        },
        {
         "dtype": "int64",
         "name": "pixel310"
        },
        {
         "dtype": "int64",
         "name": "pixel311"
        },
        {
         "dtype": "int64",
         "name": "pixel312"
        },
        {
         "dtype": "int64",
         "name": "pixel313"
        },
        {
         "dtype": "int64",
         "name": "pixel314"
        },
        {
         "dtype": "int64",
         "name": "pixel315"
        },
        {
         "dtype": "int64",
         "name": "pixel316"
        },
        {
         "dtype": "int64",
         "name": "pixel317"
        },
        {
         "dtype": "int64",
         "name": "pixel318"
        },
        {
         "dtype": "int64",
         "name": "pixel319"
        },
        {
         "dtype": "int64",
         "name": "pixel320"
        },
        {
         "dtype": "int64",
         "name": "pixel321"
        },
        {
         "dtype": "int64",
         "name": "pixel322"
        },
        {
         "dtype": "int64",
         "name": "pixel323"
        },
        {
         "dtype": "int64",
         "name": "pixel324"
        },
        {
         "dtype": "int64",
         "name": "pixel325"
        },
        {
         "dtype": "int64",
         "name": "pixel326"
        },
        {
         "dtype": "int64",
         "name": "pixel327"
        },
        {
         "dtype": "int64",
         "name": "pixel328"
        },
        {
         "dtype": "int64",
         "name": "pixel329"
        },
        {
         "dtype": "int64",
         "name": "pixel330"
        },
        {
         "dtype": "int64",
         "name": "pixel331"
        },
        {
         "dtype": "int64",
         "name": "pixel332"
        },
        {
         "dtype": "int64",
         "name": "pixel333"
        },
        {
         "dtype": "int64",
         "name": "pixel334"
        },
        {
         "dtype": "int64",
         "name": "pixel335"
        },
        {
         "dtype": "int64",
         "name": "pixel336"
        },
        {
         "dtype": "int64",
         "name": "pixel337"
        },
        {
         "dtype": "int64",
         "name": "pixel338"
        },
        {
         "dtype": "int64",
         "name": "pixel339"
        },
        {
         "dtype": "int64",
         "name": "pixel340"
        },
        {
         "dtype": "int64",
         "name": "pixel341"
        },
        {
         "dtype": "int64",
         "name": "pixel342"
        },
        {
         "dtype": "int64",
         "name": "pixel343"
        },
        {
         "dtype": "int64",
         "name": "pixel344"
        },
        {
         "dtype": "int64",
         "name": "pixel345"
        },
        {
         "dtype": "int64",
         "name": "pixel346"
        },
        {
         "dtype": "int64",
         "name": "pixel347"
        },
        {
         "dtype": "int64",
         "name": "pixel348"
        },
        {
         "dtype": "int64",
         "name": "pixel349"
        },
        {
         "dtype": "int64",
         "name": "pixel350"
        },
        {
         "dtype": "int64",
         "name": "pixel351"
        },
        {
         "dtype": "int64",
         "name": "pixel352"
        },
        {
         "dtype": "int64",
         "name": "pixel353"
        },
        {
         "dtype": "int64",
         "name": "pixel354"
        },
        {
         "dtype": "int64",
         "name": "pixel355"
        },
        {
         "dtype": "int64",
         "name": "pixel356"
        },
        {
         "dtype": "int64",
         "name": "pixel357"
        },
        {
         "dtype": "int64",
         "name": "pixel358"
        },
        {
         "dtype": "int64",
         "name": "pixel359"
        },
        {
         "dtype": "int64",
         "name": "pixel360"
        },
        {
         "dtype": "int64",
         "name": "pixel361"
        },
        {
         "dtype": "int64",
         "name": "pixel362"
        },
        {
         "dtype": "int64",
         "name": "pixel363"
        },
        {
         "dtype": "int64",
         "name": "pixel364"
        },
        {
         "dtype": "int64",
         "name": "pixel365"
        },
        {
         "dtype": "int64",
         "name": "pixel366"
        },
        {
         "dtype": "int64",
         "name": "pixel367"
        },
        {
         "dtype": "int64",
         "name": "pixel368"
        },
        {
         "dtype": "int64",
         "name": "pixel369"
        },
        {
         "dtype": "int64",
         "name": "pixel370"
        },
        {
         "dtype": "int64",
         "name": "pixel371"
        },
        {
         "dtype": "int64",
         "name": "pixel372"
        },
        {
         "dtype": "int64",
         "name": "pixel373"
        },
        {
         "dtype": "int64",
         "name": "pixel374"
        },
        {
         "dtype": "int64",
         "name": "pixel375"
        },
        {
         "dtype": "int64",
         "name": "pixel376"
        },
        {
         "dtype": "int64",
         "name": "pixel377"
        },
        {
         "dtype": "int64",
         "name": "pixel378"
        },
        {
         "dtype": "int64",
         "name": "pixel379"
        },
        {
         "dtype": "int64",
         "name": "pixel380"
        },
        {
         "dtype": "int64",
         "name": "pixel381"
        },
        {
         "dtype": "int64",
         "name": "pixel382"
        },
        {
         "dtype": "int64",
         "name": "pixel383"
        },
        {
         "dtype": "int64",
         "name": "pixel384"
        },
        {
         "dtype": "int64",
         "name": "pixel385"
        },
        {
         "dtype": "int64",
         "name": "pixel386"
        },
        {
         "dtype": "int64",
         "name": "pixel387"
        },
        {
         "dtype": "int64",
         "name": "pixel388"
        },
        {
         "dtype": "int64",
         "name": "pixel389"
        },
        {
         "dtype": "int64",
         "name": "pixel390"
        },
        {
         "dtype": "int64",
         "name": "pixel391"
        },
        {
         "dtype": "int64",
         "name": "pixel392"
        },
        {
         "dtype": "int64",
         "name": "pixel393"
        },
        {
         "dtype": "int64",
         "name": "pixel394"
        },
        {
         "dtype": "int64",
         "name": "pixel395"
        },
        {
         "dtype": "int64",
         "name": "pixel396"
        },
        {
         "dtype": "int64",
         "name": "pixel397"
        },
        {
         "dtype": "int64",
         "name": "pixel398"
        },
        {
         "dtype": "int64",
         "name": "pixel399"
        },
        {
         "dtype": "int64",
         "name": "pixel400"
        },
        {
         "dtype": "int64",
         "name": "pixel401"
        },
        {
         "dtype": "int64",
         "name": "pixel402"
        },
        {
         "dtype": "int64",
         "name": "pixel403"
        },
        {
         "dtype": "int64",
         "name": "pixel404"
        },
        {
         "dtype": "int64",
         "name": "pixel405"
        },
        {
         "dtype": "int64",
         "name": "pixel406"
        },
        {
         "dtype": "int64",
         "name": "pixel407"
        },
        {
         "dtype": "int64",
         "name": "pixel408"
        },
        {
         "dtype": "int64",
         "name": "pixel409"
        },
        {
         "dtype": "int64",
         "name": "pixel410"
        },
        {
         "dtype": "int64",
         "name": "pixel411"
        },
        {
         "dtype": "int64",
         "name": "pixel412"
        },
        {
         "dtype": "int64",
         "name": "pixel413"
        },
        {
         "dtype": "int64",
         "name": "pixel414"
        },
        {
         "dtype": "int64",
         "name": "pixel415"
        },
        {
         "dtype": "int64",
         "name": "pixel416"
        },
        {
         "dtype": "int64",
         "name": "pixel417"
        },
        {
         "dtype": "int64",
         "name": "pixel418"
        },
        {
         "dtype": "int64",
         "name": "pixel419"
        },
        {
         "dtype": "int64",
         "name": "pixel420"
        },
        {
         "dtype": "int64",
         "name": "pixel421"
        },
        {
         "dtype": "int64",
         "name": "pixel422"
        },
        {
         "dtype": "int64",
         "name": "pixel423"
        },
        {
         "dtype": "int64",
         "name": "pixel424"
        },
        {
         "dtype": "int64",
         "name": "pixel425"
        },
        {
         "dtype": "int64",
         "name": "pixel426"
        },
        {
         "dtype": "int64",
         "name": "pixel427"
        },
        {
         "dtype": "int64",
         "name": "pixel428"
        },
        {
         "dtype": "int64",
         "name": "pixel429"
        },
        {
         "dtype": "int64",
         "name": "pixel430"
        },
        {
         "dtype": "int64",
         "name": "pixel431"
        },
        {
         "dtype": "int64",
         "name": "pixel432"
        },
        {
         "dtype": "int64",
         "name": "pixel433"
        },
        {
         "dtype": "int64",
         "name": "pixel434"
        },
        {
         "dtype": "int64",
         "name": "pixel435"
        },
        {
         "dtype": "int64",
         "name": "pixel436"
        },
        {
         "dtype": "int64",
         "name": "pixel437"
        },
        {
         "dtype": "int64",
         "name": "pixel438"
        },
        {
         "dtype": "int64",
         "name": "pixel439"
        },
        {
         "dtype": "int64",
         "name": "pixel440"
        },
        {
         "dtype": "int64",
         "name": "pixel441"
        },
        {
         "dtype": "int64",
         "name": "pixel442"
        },
        {
         "dtype": "int64",
         "name": "pixel443"
        },
        {
         "dtype": "int64",
         "name": "pixel444"
        },
        {
         "dtype": "int64",
         "name": "pixel445"
        },
        {
         "dtype": "int64",
         "name": "pixel446"
        },
        {
         "dtype": "int64",
         "name": "pixel447"
        },
        {
         "dtype": "int64",
         "name": "pixel448"
        },
        {
         "dtype": "int64",
         "name": "pixel449"
        },
        {
         "dtype": "int64",
         "name": "pixel450"
        },
        {
         "dtype": "int64",
         "name": "pixel451"
        },
        {
         "dtype": "int64",
         "name": "pixel452"
        },
        {
         "dtype": "int64",
         "name": "pixel453"
        },
        {
         "dtype": "int64",
         "name": "pixel454"
        },
        {
         "dtype": "int64",
         "name": "pixel455"
        },
        {
         "dtype": "int64",
         "name": "pixel456"
        },
        {
         "dtype": "int64",
         "name": "pixel457"
        },
        {
         "dtype": "int64",
         "name": "pixel458"
        },
        {
         "dtype": "int64",
         "name": "pixel459"
        },
        {
         "dtype": "int64",
         "name": "pixel460"
        },
        {
         "dtype": "int64",
         "name": "pixel461"
        },
        {
         "dtype": "int64",
         "name": "pixel462"
        },
        {
         "dtype": "int64",
         "name": "pixel463"
        },
        {
         "dtype": "int64",
         "name": "pixel464"
        },
        {
         "dtype": "int64",
         "name": "pixel465"
        },
        {
         "dtype": "int64",
         "name": "pixel466"
        },
        {
         "dtype": "int64",
         "name": "pixel467"
        },
        {
         "dtype": "int64",
         "name": "pixel468"
        },
        {
         "dtype": "int64",
         "name": "pixel469"
        },
        {
         "dtype": "int64",
         "name": "pixel470"
        },
        {
         "dtype": "int64",
         "name": "pixel471"
        },
        {
         "dtype": "int64",
         "name": "pixel472"
        },
        {
         "dtype": "int64",
         "name": "pixel473"
        },
        {
         "dtype": "int64",
         "name": "pixel474"
        },
        {
         "dtype": "int64",
         "name": "pixel475"
        },
        {
         "dtype": "int64",
         "name": "pixel476"
        },
        {
         "dtype": "int64",
         "name": "pixel477"
        },
        {
         "dtype": "int64",
         "name": "pixel478"
        },
        {
         "dtype": "int64",
         "name": "pixel479"
        },
        {
         "dtype": "int64",
         "name": "pixel480"
        },
        {
         "dtype": "int64",
         "name": "pixel481"
        },
        {
         "dtype": "int64",
         "name": "pixel482"
        },
        {
         "dtype": "int64",
         "name": "pixel483"
        },
        {
         "dtype": "int64",
         "name": "pixel484"
        },
        {
         "dtype": "int64",
         "name": "pixel485"
        },
        {
         "dtype": "int64",
         "name": "pixel486"
        },
        {
         "dtype": "int64",
         "name": "pixel487"
        },
        {
         "dtype": "int64",
         "name": "pixel488"
        },
        {
         "dtype": "int64",
         "name": "pixel489"
        },
        {
         "dtype": "int64",
         "name": "pixel490"
        },
        {
         "dtype": "int64",
         "name": "pixel491"
        },
        {
         "dtype": "int64",
         "name": "pixel492"
        },
        {
         "dtype": "int64",
         "name": "pixel493"
        },
        {
         "dtype": "int64",
         "name": "pixel494"
        },
        {
         "dtype": "int64",
         "name": "pixel495"
        },
        {
         "dtype": "int64",
         "name": "pixel496"
        },
        {
         "dtype": "int64",
         "name": "pixel497"
        },
        {
         "dtype": "int64",
         "name": "pixel498"
        },
        {
         "dtype": "int64",
         "name": "pixel499"
        },
        {
         "dtype": "int64",
         "name": "pixel500"
        },
        {
         "dtype": "int64",
         "name": "pixel501"
        },
        {
         "dtype": "int64",
         "name": "pixel502"
        },
        {
         "dtype": "int64",
         "name": "pixel503"
        },
        {
         "dtype": "int64",
         "name": "pixel504"
        },
        {
         "dtype": "int64",
         "name": "pixel505"
        },
        {
         "dtype": "int64",
         "name": "pixel506"
        },
        {
         "dtype": "int64",
         "name": "pixel507"
        },
        {
         "dtype": "int64",
         "name": "pixel508"
        },
        {
         "dtype": "int64",
         "name": "pixel509"
        },
        {
         "dtype": "int64",
         "name": "pixel510"
        },
        {
         "dtype": "int64",
         "name": "pixel511"
        },
        {
         "dtype": "int64",
         "name": "pixel512"
        },
        {
         "dtype": "int64",
         "name": "pixel513"
        },
        {
         "dtype": "int64",
         "name": "pixel514"
        },
        {
         "dtype": "int64",
         "name": "pixel515"
        },
        {
         "dtype": "int64",
         "name": "pixel516"
        },
        {
         "dtype": "int64",
         "name": "pixel517"
        },
        {
         "dtype": "int64",
         "name": "pixel518"
        },
        {
         "dtype": "int64",
         "name": "pixel519"
        },
        {
         "dtype": "int64",
         "name": "pixel520"
        },
        {
         "dtype": "int64",
         "name": "pixel521"
        },
        {
         "dtype": "int64",
         "name": "pixel522"
        },
        {
         "dtype": "int64",
         "name": "pixel523"
        },
        {
         "dtype": "int64",
         "name": "pixel524"
        },
        {
         "dtype": "int64",
         "name": "pixel525"
        },
        {
         "dtype": "int64",
         "name": "pixel526"
        },
        {
         "dtype": "int64",
         "name": "pixel527"
        },
        {
         "dtype": "int64",
         "name": "pixel528"
        },
        {
         "dtype": "int64",
         "name": "pixel529"
        },
        {
         "dtype": "int64",
         "name": "pixel530"
        },
        {
         "dtype": "int64",
         "name": "pixel531"
        },
        {
         "dtype": "int64",
         "name": "pixel532"
        },
        {
         "dtype": "int64",
         "name": "pixel533"
        },
        {
         "dtype": "int64",
         "name": "pixel534"
        },
        {
         "dtype": "int64",
         "name": "pixel535"
        },
        {
         "dtype": "int64",
         "name": "pixel536"
        },
        {
         "dtype": "int64",
         "name": "pixel537"
        },
        {
         "dtype": "int64",
         "name": "pixel538"
        },
        {
         "dtype": "int64",
         "name": "pixel539"
        },
        {
         "dtype": "int64",
         "name": "pixel540"
        },
        {
         "dtype": "int64",
         "name": "pixel541"
        },
        {
         "dtype": "int64",
         "name": "pixel542"
        },
        {
         "dtype": "int64",
         "name": "pixel543"
        },
        {
         "dtype": "int64",
         "name": "pixel544"
        },
        {
         "dtype": "int64",
         "name": "pixel545"
        },
        {
         "dtype": "int64",
         "name": "pixel546"
        },
        {
         "dtype": "int64",
         "name": "pixel547"
        },
        {
         "dtype": "int64",
         "name": "pixel548"
        },
        {
         "dtype": "int64",
         "name": "pixel549"
        },
        {
         "dtype": "int64",
         "name": "pixel550"
        },
        {
         "dtype": "int64",
         "name": "pixel551"
        },
        {
         "dtype": "int64",
         "name": "pixel552"
        },
        {
         "dtype": "int64",
         "name": "pixel553"
        },
        {
         "dtype": "int64",
         "name": "pixel554"
        },
        {
         "dtype": "int64",
         "name": "pixel555"
        },
        {
         "dtype": "int64",
         "name": "pixel556"
        },
        {
         "dtype": "int64",
         "name": "pixel557"
        },
        {
         "dtype": "int64",
         "name": "pixel558"
        },
        {
         "dtype": "int64",
         "name": "pixel559"
        },
        {
         "dtype": "int64",
         "name": "pixel560"
        },
        {
         "dtype": "int64",
         "name": "pixel561"
        },
        {
         "dtype": "int64",
         "name": "pixel562"
        },
        {
         "dtype": "int64",
         "name": "pixel563"
        },
        {
         "dtype": "int64",
         "name": "pixel564"
        },
        {
         "dtype": "int64",
         "name": "pixel565"
        },
        {
         "dtype": "int64",
         "name": "pixel566"
        },
        {
         "dtype": "int64",
         "name": "pixel567"
        },
        {
         "dtype": "int64",
         "name": "pixel568"
        },
        {
         "dtype": "int64",
         "name": "pixel569"
        },
        {
         "dtype": "int64",
         "name": "pixel570"
        },
        {
         "dtype": "int64",
         "name": "pixel571"
        },
        {
         "dtype": "int64",
         "name": "pixel572"
        },
        {
         "dtype": "int64",
         "name": "pixel573"
        },
        {
         "dtype": "int64",
         "name": "pixel574"
        },
        {
         "dtype": "int64",
         "name": "pixel575"
        },
        {
         "dtype": "int64",
         "name": "pixel576"
        },
        {
         "dtype": "int64",
         "name": "pixel577"
        },
        {
         "dtype": "int64",
         "name": "pixel578"
        },
        {
         "dtype": "int64",
         "name": "pixel579"
        },
        {
         "dtype": "int64",
         "name": "pixel580"
        },
        {
         "dtype": "int64",
         "name": "pixel581"
        },
        {
         "dtype": "int64",
         "name": "pixel582"
        },
        {
         "dtype": "int64",
         "name": "pixel583"
        },
        {
         "dtype": "int64",
         "name": "pixel584"
        },
        {
         "dtype": "int64",
         "name": "pixel585"
        },
        {
         "dtype": "int64",
         "name": "pixel586"
        },
        {
         "dtype": "int64",
         "name": "pixel587"
        },
        {
         "dtype": "int64",
         "name": "pixel588"
        },
        {
         "dtype": "int64",
         "name": "pixel589"
        },
        {
         "dtype": "int64",
         "name": "pixel590"
        },
        {
         "dtype": "int64",
         "name": "pixel591"
        },
        {
         "dtype": "int64",
         "name": "pixel592"
        },
        {
         "dtype": "int64",
         "name": "pixel593"
        },
        {
         "dtype": "int64",
         "name": "pixel594"
        },
        {
         "dtype": "int64",
         "name": "pixel595"
        },
        {
         "dtype": "int64",
         "name": "pixel596"
        },
        {
         "dtype": "int64",
         "name": "pixel597"
        },
        {
         "dtype": "int64",
         "name": "pixel598"
        },
        {
         "dtype": "int64",
         "name": "pixel599"
        },
        {
         "dtype": "int64",
         "name": "pixel600"
        },
        {
         "dtype": "int64",
         "name": "pixel601"
        },
        {
         "dtype": "int64",
         "name": "pixel602"
        },
        {
         "dtype": "int64",
         "name": "pixel603"
        },
        {
         "dtype": "int64",
         "name": "pixel604"
        },
        {
         "dtype": "int64",
         "name": "pixel605"
        },
        {
         "dtype": "int64",
         "name": "pixel606"
        },
        {
         "dtype": "int64",
         "name": "pixel607"
        },
        {
         "dtype": "int64",
         "name": "pixel608"
        },
        {
         "dtype": "int64",
         "name": "pixel609"
        },
        {
         "dtype": "int64",
         "name": "pixel610"
        },
        {
         "dtype": "int64",
         "name": "pixel611"
        },
        {
         "dtype": "int64",
         "name": "pixel612"
        },
        {
         "dtype": "int64",
         "name": "pixel613"
        },
        {
         "dtype": "int64",
         "name": "pixel614"
        },
        {
         "dtype": "int64",
         "name": "pixel615"
        },
        {
         "dtype": "int64",
         "name": "pixel616"
        },
        {
         "dtype": "int64",
         "name": "pixel617"
        },
        {
         "dtype": "int64",
         "name": "pixel618"
        },
        {
         "dtype": "int64",
         "name": "pixel619"
        },
        {
         "dtype": "int64",
         "name": "pixel620"
        },
        {
         "dtype": "int64",
         "name": "pixel621"
        },
        {
         "dtype": "int64",
         "name": "pixel622"
        },
        {
         "dtype": "int64",
         "name": "pixel623"
        },
        {
         "dtype": "int64",
         "name": "pixel624"
        },
        {
         "dtype": "int64",
         "name": "pixel625"
        },
        {
         "dtype": "int64",
         "name": "pixel626"
        },
        {
         "dtype": "int64",
         "name": "pixel627"
        },
        {
         "dtype": "int64",
         "name": "pixel628"
        },
        {
         "dtype": "int64",
         "name": "pixel629"
        },
        {
         "dtype": "int64",
         "name": "pixel630"
        },
        {
         "dtype": "int64",
         "name": "pixel631"
        },
        {
         "dtype": "int64",
         "name": "pixel632"
        },
        {
         "dtype": "int64",
         "name": "pixel633"
        },
        {
         "dtype": "int64",
         "name": "pixel634"
        },
        {
         "dtype": "int64",
         "name": "pixel635"
        },
        {
         "dtype": "int64",
         "name": "pixel636"
        },
        {
         "dtype": "int64",
         "name": "pixel637"
        },
        {
         "dtype": "int64",
         "name": "pixel638"
        },
        {
         "dtype": "int64",
         "name": "pixel639"
        },
        {
         "dtype": "int64",
         "name": "pixel640"
        },
        {
         "dtype": "int64",
         "name": "pixel641"
        },
        {
         "dtype": "int64",
         "name": "pixel642"
        },
        {
         "dtype": "int64",
         "name": "pixel643"
        },
        {
         "dtype": "int64",
         "name": "pixel644"
        },
        {
         "dtype": "int64",
         "name": "pixel645"
        },
        {
         "dtype": "int64",
         "name": "pixel646"
        },
        {
         "dtype": "int64",
         "name": "pixel647"
        },
        {
         "dtype": "int64",
         "name": "pixel648"
        },
        {
         "dtype": "int64",
         "name": "pixel649"
        },
        {
         "dtype": "int64",
         "name": "pixel650"
        },
        {
         "dtype": "int64",
         "name": "pixel651"
        },
        {
         "dtype": "int64",
         "name": "pixel652"
        },
        {
         "dtype": "int64",
         "name": "pixel653"
        },
        {
         "dtype": "int64",
         "name": "pixel654"
        },
        {
         "dtype": "int64",
         "name": "pixel655"
        },
        {
         "dtype": "int64",
         "name": "pixel656"
        },
        {
         "dtype": "int64",
         "name": "pixel657"
        },
        {
         "dtype": "int64",
         "name": "pixel658"
        },
        {
         "dtype": "int64",
         "name": "pixel659"
        },
        {
         "dtype": "int64",
         "name": "pixel660"
        },
        {
         "dtype": "int64",
         "name": "pixel661"
        },
        {
         "dtype": "int64",
         "name": "pixel662"
        },
        {
         "dtype": "int64",
         "name": "pixel663"
        },
        {
         "dtype": "int64",
         "name": "pixel664"
        },
        {
         "dtype": "int64",
         "name": "pixel665"
        },
        {
         "dtype": "int64",
         "name": "pixel666"
        },
        {
         "dtype": "int64",
         "name": "pixel667"
        },
        {
         "dtype": "int64",
         "name": "pixel668"
        },
        {
         "dtype": "int64",
         "name": "pixel669"
        },
        {
         "dtype": "int64",
         "name": "pixel670"
        },
        {
         "dtype": "int64",
         "name": "pixel671"
        },
        {
         "dtype": "int64",
         "name": "pixel672"
        },
        {
         "dtype": "int64",
         "name": "pixel673"
        },
        {
         "dtype": "int64",
         "name": "pixel674"
        },
        {
         "dtype": "int64",
         "name": "pixel675"
        },
        {
         "dtype": "int64",
         "name": "pixel676"
        },
        {
         "dtype": "int64",
         "name": "pixel677"
        },
        {
         "dtype": "int64",
         "name": "pixel678"
        },
        {
         "dtype": "int64",
         "name": "pixel679"
        },
        {
         "dtype": "int64",
         "name": "pixel680"
        },
        {
         "dtype": "int64",
         "name": "pixel681"
        },
        {
         "dtype": "int64",
         "name": "pixel682"
        },
        {
         "dtype": "int64",
         "name": "pixel683"
        },
        {
         "dtype": "int64",
         "name": "pixel684"
        },
        {
         "dtype": "int64",
         "name": "pixel685"
        },
        {
         "dtype": "int64",
         "name": "pixel686"
        },
        {
         "dtype": "int64",
         "name": "pixel687"
        },
        {
         "dtype": "int64",
         "name": "pixel688"
        },
        {
         "dtype": "int64",
         "name": "pixel689"
        },
        {
         "dtype": "int64",
         "name": "pixel690"
        },
        {
         "dtype": "int64",
         "name": "pixel691"
        },
        {
         "dtype": "int64",
         "name": "pixel692"
        },
        {
         "dtype": "int64",
         "name": "pixel693"
        },
        {
         "dtype": "int64",
         "name": "pixel694"
        },
        {
         "dtype": "int64",
         "name": "pixel695"
        },
        {
         "dtype": "int64",
         "name": "pixel696"
        },
        {
         "dtype": "int64",
         "name": "pixel697"
        },
        {
         "dtype": "int64",
         "name": "pixel698"
        },
        {
         "dtype": "int64",
         "name": "pixel699"
        },
        {
         "dtype": "int64",
         "name": "pixel700"
        },
        {
         "dtype": "int64",
         "name": "pixel701"
        },
        {
         "dtype": "int64",
         "name": "pixel702"
        },
        {
         "dtype": "int64",
         "name": "pixel703"
        },
        {
         "dtype": "int64",
         "name": "pixel704"
        },
        {
         "dtype": "int64",
         "name": "pixel705"
        },
        {
         "dtype": "int64",
         "name": "pixel706"
        },
        {
         "dtype": "int64",
         "name": "pixel707"
        },
        {
         "dtype": "int64",
         "name": "pixel708"
        },
        {
         "dtype": "int64",
         "name": "pixel709"
        },
        {
         "dtype": "int64",
         "name": "pixel710"
        },
        {
         "dtype": "int64",
         "name": "pixel711"
        },
        {
         "dtype": "int64",
         "name": "pixel712"
        },
        {
         "dtype": "int64",
         "name": "pixel713"
        },
        {
         "dtype": "int64",
         "name": "pixel714"
        },
        {
         "dtype": "int64",
         "name": "pixel715"
        },
        {
         "dtype": "int64",
         "name": "pixel716"
        },
        {
         "dtype": "int64",
         "name": "pixel717"
        },
        {
         "dtype": "int64",
         "name": "pixel718"
        },
        {
         "dtype": "int64",
         "name": "pixel719"
        },
        {
         "dtype": "int64",
         "name": "pixel720"
        },
        {
         "dtype": "int64",
         "name": "pixel721"
        },
        {
         "dtype": "int64",
         "name": "pixel722"
        },
        {
         "dtype": "int64",
         "name": "pixel723"
        },
        {
         "dtype": "int64",
         "name": "pixel724"
        },
        {
         "dtype": "int64",
         "name": "pixel725"
        },
        {
         "dtype": "int64",
         "name": "pixel726"
        },
        {
         "dtype": "int64",
         "name": "pixel727"
        },
        {
         "dtype": "int64",
         "name": "pixel728"
        },
        {
         "dtype": "int64",
         "name": "pixel729"
        },
        {
         "dtype": "int64",
         "name": "pixel730"
        },
        {
         "dtype": "int64",
         "name": "pixel731"
        },
        {
         "dtype": "int64",
         "name": "pixel732"
        },
        {
         "dtype": "int64",
         "name": "pixel733"
        },
        {
         "dtype": "int64",
         "name": "pixel734"
        },
        {
         "dtype": "int64",
         "name": "pixel735"
        },
        {
         "dtype": "int64",
         "name": "pixel736"
        },
        {
         "dtype": "int64",
         "name": "pixel737"
        },
        {
         "dtype": "int64",
         "name": "pixel738"
        },
        {
         "dtype": "int64",
         "name": "pixel739"
        },
        {
         "dtype": "int64",
         "name": "pixel740"
        },
        {
         "dtype": "int64",
         "name": "pixel741"
        },
        {
         "dtype": "int64",
         "name": "pixel742"
        },
        {
         "dtype": "int64",
         "name": "pixel743"
        },
        {
         "dtype": "int64",
         "name": "pixel744"
        },
        {
         "dtype": "int64",
         "name": "pixel745"
        },
        {
         "dtype": "int64",
         "name": "pixel746"
        },
        {
         "dtype": "int64",
         "name": "pixel747"
        },
        {
         "dtype": "int64",
         "name": "pixel748"
        },
        {
         "dtype": "int64",
         "name": "pixel749"
        },
        {
         "dtype": "int64",
         "name": "pixel750"
        },
        {
         "dtype": "int64",
         "name": "pixel751"
        },
        {
         "dtype": "int64",
         "name": "pixel752"
        },
        {
         "dtype": "int64",
         "name": "pixel753"
        },
        {
         "dtype": "int64",
         "name": "pixel754"
        },
        {
         "dtype": "int64",
         "name": "pixel755"
        },
        {
         "dtype": "int64",
         "name": "pixel756"
        },
        {
         "dtype": "int64",
         "name": "pixel757"
        },
        {
         "dtype": "int64",
         "name": "pixel758"
        },
        {
         "dtype": "int64",
         "name": "pixel759"
        },
        {
         "dtype": "int64",
         "name": "pixel760"
        },
        {
         "dtype": "int64",
         "name": "pixel761"
        },
        {
         "dtype": "int64",
         "name": "pixel762"
        },
        {
         "dtype": "int64",
         "name": "pixel763"
        },
        {
         "dtype": "int64",
         "name": "pixel764"
        },
        {
         "dtype": "int64",
         "name": "pixel765"
        },
        {
         "dtype": "int64",
         "name": "pixel766"
        },
        {
         "dtype": "int64",
         "name": "pixel767"
        },
        {
         "dtype": "int64",
         "name": "pixel768"
        },
        {
         "dtype": "int64",
         "name": "pixel769"
        },
        {
         "dtype": "int64",
         "name": "pixel770"
        },
        {
         "dtype": "int64",
         "name": "pixel771"
        },
        {
         "dtype": "int64",
         "name": "pixel772"
        },
        {
         "dtype": "int64",
         "name": "pixel773"
        },
        {
         "dtype": "int64",
         "name": "pixel774"
        },
        {
         "dtype": "int64",
         "name": "pixel775"
        },
        {
         "dtype": "int64",
         "name": "pixel776"
        },
        {
         "dtype": "int64",
         "name": "pixel777"
        },
        {
         "dtype": "int64",
         "name": "pixel778"
        },
        {
         "dtype": "int64",
         "name": "pixel779"
        },
        {
         "dtype": "int64",
         "name": "pixel780"
        },
        {
         "dtype": "int64",
         "name": "pixel781"
        },
        {
         "dtype": "int64",
         "name": "pixel782"
        },
        {
         "dtype": "int64",
         "name": "pixel783"
        },
        {
         "dtype": "int64",
         "name": "_deepnote_index_column"
        }
       ],
       "row_count": 10000,
       "rows_bottom": [
        {
         "_deepnote_index_column": 13153,
         "pixel0": 0,
         "pixel1": 0,
         "pixel10": 0,
         "pixel100": 0,
         "pixel101": 0,
         "pixel102": 0,
         "pixel103": 0,
         "pixel104": 0,
         "pixel105": 0,
         "pixel106": 0,
         "pixel107": 0,
         "pixel108": 0,
         "pixel109": 0,
         "pixel11": 0,
         "pixel110": 0,
         "pixel111": 0,
         "pixel112": 0,
         "pixel113": 0,
         "pixel114": 0,
         "pixel115": 0,
         "pixel116": 0,
         "pixel117": 0,
         "pixel118": 0,
         "pixel119": 0,
         "pixel12": 0,
         "pixel120": 0,
         "pixel121": 0,
         "pixel122": 0,
         "pixel123": 0,
         "pixel124": 0,
         "pixel125": 0,
         "pixel126": 0,
         "pixel127": 0,
         "pixel128": 0,
         "pixel129": 0,
         "pixel13": 0,
         "pixel130": 0,
         "pixel131": 0,
         "pixel132": 0,
         "pixel133": 0,
         "pixel134": 83,
         "pixel135": 118,
         "pixel136": 54,
         "pixel137": 0,
         "pixel138": 0,
         "pixel139": 0,
         "pixel14": 0,
         "pixel140": 0,
         "pixel141": 0,
         "pixel142": 0,
         "pixel143": 0,
         "pixel144": 0,
         "pixel145": 0,
         "pixel146": 0,
         "pixel147": 0,
         "pixel148": 0,
         "pixel149": 0,
         "pixel15": 0,
         "pixel150": 0,
         "pixel151": 0,
         "pixel152": 0,
         "pixel153": 0,
         "pixel154": 0,
         "pixel155": 0,
         "pixel156": 0,
         "pixel157": 0,
         "pixel158": 0,
         "pixel159": 0,
         "pixel16": 0,
         "pixel160": 0,
         "pixel161": 110,
         "pixel162": 255,
         "pixel163": 255,
         "pixel164": 255,
         "pixel165": 0,
         "pixel166": 0,
         "pixel167": 0,
         "pixel168": 0,
         "pixel169": 0,
         "pixel17": 0,
         "pixel170": 0,
         "pixel171": 0,
         "pixel172": 0,
         "pixel173": 0,
         "pixel174": 0,
         "pixel175": 0,
         "pixel176": 0,
         "pixel177": 0,
         "pixel178": 0,
         "pixel179": 0,
         "pixel18": 0,
         "pixel180": 0,
         "pixel181": 0,
         "pixel182": 0,
         "pixel183": 0,
         "pixel184": 0,
         "pixel185": 0,
         "pixel186": 0,
         "pixel187": 0,
         "pixel188": 255,
         "pixel189": 255,
         "pixel19": 0,
         "pixel190": 255,
         "pixel191": 255,
         "pixel192": 255,
         "pixel193": 0,
         "pixel194": 0,
         "pixel195": 0,
         "pixel196": 0,
         "pixel197": 0,
         "pixel198": 0,
         "pixel199": 0,
         "pixel2": 0,
         "pixel20": 0,
         "pixel200": 0,
         "pixel201": 0,
         "pixel202": 0,
         "pixel203": 0,
         "pixel204": 0,
         "pixel205": 0,
         "pixel206": 0,
         "pixel207": 0,
         "pixel208": 0,
         "pixel209": 0,
         "pixel21": 0,
         "pixel210": 0,
         "pixel211": 0,
         "pixel212": 0,
         "pixel213": 0,
         "pixel214": 0,
         "pixel215": 109,
         "pixel216": 255,
         "pixel217": 255,
         "pixel218": 255,
         "pixel219": 255,
         "pixel22": 0,
         "pixel220": 124,
         "pixel221": 0,
         "pixel222": 0,
         "pixel223": 0,
         "pixel224": 0,
         "pixel225": 0,
         "pixel226": 0,
         "pixel227": 0,
         "pixel228": 0,
         "pixel229": 0,
         "pixel23": 0,
         "pixel230": 0,
         "pixel231": 0,
         "pixel232": 0,
         "pixel233": 0,
         "pixel234": 0,
         "pixel235": 0,
         "pixel236": 0,
         "pixel237": 0,
         "pixel238": 0,
         "pixel239": 0,
         "pixel24": 0,
         "pixel240": 4,
         "pixel241": 39,
         "pixel242": 255,
         "pixel243": 255,
         "pixel244": 255,
         "pixel245": 255,
         "pixel246": 255,
         "pixel247": 31,
         "pixel248": 0,
         "pixel249": 0,
         "pixel25": 0,
         "pixel250": 0,
         "pixel251": 0,
         "pixel252": 0,
         "pixel253": 0,
         "pixel254": 0,
         "pixel255": 0,
         "pixel256": 0,
         "pixel257": 0,
         "pixel258": 0,
         "pixel259": 0,
         "pixel26": 0,
         "pixel260": 0,
         "pixel261": 0,
         "pixel262": 0,
         "pixel263": 0,
         "pixel264": 0,
         "pixel265": 0,
         "pixel266": 0,
         "pixel267": 37,
         "pixel268": 255,
         "pixel269": 255,
         "pixel27": 0,
         "pixel270": 255,
         "pixel271": 255,
         "pixel272": 255,
         "pixel273": 255,
         "pixel274": 129,
         "pixel275": 0,
         "pixel276": 0,
         "pixel277": 0,
         "pixel278": 0,
         "pixel279": 0,
         "pixel28": 0,
         "pixel280": 0,
         "pixel281": 0,
         "pixel282": 0,
         "pixel283": 0,
         "pixel284": 0,
         "pixel285": 0,
         "pixel286": 0,
         "pixel287": 0,
         "pixel288": 0,
         "pixel289": 0,
         "pixel29": 0,
         "pixel290": 0,
         "pixel291": 0,
         "pixel292": 0,
         "pixel293": 0,
         "pixel294": 36,
         "pixel295": 255,
         "pixel296": 255,
         "pixel297": 255,
         "pixel298": 255,
         "pixel299": 255,
         "pixel3": 0,
         "pixel30": 0,
         "pixel300": 255,
         "pixel301": 255,
         "pixel302": 37,
         "pixel303": 0,
         "pixel304": 0,
         "pixel305": 0,
         "pixel306": 0,
         "pixel307": 0,
         "pixel308": 0,
         "pixel309": 0,
         "pixel31": 0,
         "pixel310": 0,
         "pixel311": 0,
         "pixel312": 0,
         "pixel313": 0,
         "pixel314": 0,
         "pixel315": 0,
         "pixel316": 0,
         "pixel317": 0,
         "pixel318": 0,
         "pixel319": 0,
         "pixel32": 0,
         "pixel320": 0,
         "pixel321": 147,
         "pixel322": 255,
         "pixel323": 255,
         "pixel324": 255,
         "pixel325": 255,
         "pixel326": 255,
         "pixel327": 255,
         "pixel328": 255,
         "pixel329": 255,
         "pixel33": 0,
         "pixel330": 0,
         "pixel331": 0,
         "pixel332": 0,
         "pixel333": 0,
         "pixel334": 0,
         "pixel335": 0,
         "pixel336": 0,
         "pixel337": 0,
         "pixel338": 0,
         "pixel339": 0,
         "pixel34": 0,
         "pixel340": 0,
         "pixel341": 0,
         "pixel342": 0,
         "pixel343": 0,
         "pixel344": 0,
         "pixel345": 0,
         "pixel346": 5,
         "pixel347": 90,
         "pixel348": 255,
         "pixel349": 255,
         "pixel35": 0,
         "pixel350": 255,
         "pixel351": 255,
         "pixel352": 255,
         "pixel353": 255,
         "pixel354": 137,
         "pixel355": 255,
         "pixel356": 255,
         "pixel357": 255,
         "pixel358": 0,
         "pixel359": 0,
         "pixel36": 0,
         "pixel360": 0,
         "pixel361": 0,
         "pixel362": 0,
         "pixel363": 0,
         "pixel364": 0,
         "pixel365": 0,
         "pixel366": 0,
         "pixel367": 0,
         "pixel368": 0,
         "pixel369": 0,
         "pixel37": 0,
         "pixel370": 0,
         "pixel371": 0,
         "pixel372": 0,
         "pixel373": 10,
         "pixel374": 255,
         "pixel375": 255,
         "pixel376": 255,
         "pixel377": 255,
         "pixel378": 255,
         "pixel379": 255,
         "pixel38": 0,
         "pixel380": 42,
         "pixel381": 44,
         "pixel382": 255,
         "pixel383": 255,
         "pixel384": 255,
         "pixel385": 65,
         "pixel386": 0,
         "pixel387": 0,
         "pixel388": 0,
         "pixel389": 0,
         "pixel39": 0,
         "pixel390": 0,
         "pixel391": 0,
         "pixel392": 0,
         "pixel393": 0,
         "pixel394": 0,
         "pixel395": 0,
         "pixel396": 0,
         "pixel397": 0,
         "pixel398": 0,
         "pixel399": 0,
         "pixel4": 0,
         "pixel40": 0,
         "pixel400": 41,
         "pixel401": 255,
         "pixel402": 255,
         "pixel403": 255,
         "pixel404": 255,
         "pixel405": 255,
         "pixel406": 68,
         "pixel407": 18,
         "pixel408": 21,
         "pixel409": 255,
         "pixel41": 0,
         "pixel410": 255,
         "pixel411": 255,
         "pixel412": 70,
         "pixel413": 0,
         "pixel414": 0,
         "pixel415": 0,
         "pixel416": 0,
         "pixel417": 0,
         "pixel418": 0,
         "pixel419": 0,
         "pixel42": 0,
         "pixel420": 0,
         "pixel421": 0,
         "pixel422": 0,
         "pixel423": 0,
         "pixel424": 0,
         "pixel425": 0,
         "pixel426": 0,
         "pixel427": 24,
         "pixel428": 255,
         "pixel429": 255,
         "pixel43": 0,
         "pixel430": 255,
         "pixel431": 255,
         "pixel432": 255,
         "pixel433": 58,
         "pixel434": 0,
         "pixel435": 0,
         "pixel436": 28,
         "pixel437": 255,
         "pixel438": 255,
         "pixel439": 255,
         "pixel44": 0,
         "pixel440": 30,
         "pixel441": 0,
         "pixel442": 0,
         "pixel443": 0,
         "pixel444": 0,
         "pixel445": 0,
         "pixel446": 0,
         "pixel447": 0,
         "pixel448": 0,
         "pixel449": 0,
         "pixel45": 0,
         "pixel450": 0,
         "pixel451": 0,
         "pixel452": 0,
         "pixel453": 4,
         "pixel454": 60,
         "pixel455": 255,
         "pixel456": 255,
         "pixel457": 255,
         "pixel458": 255,
         "pixel459": 255,
         "pixel46": 0,
         "pixel460": 3,
         "pixel461": 0,
         "pixel462": 0,
         "pixel463": 6,
         "pixel464": 109,
         "pixel465": 255,
         "pixel466": 255,
         "pixel467": 65,
         "pixel468": 0,
         "pixel469": 0,
         "pixel47": 0,
         "pixel470": 0,
         "pixel471": 0,
         "pixel472": 0,
         "pixel473": 0,
         "pixel474": 0,
         "pixel475": 0,
         "pixel476": 0,
         "pixel477": 0,
         "pixel478": 0,
         "pixel479": 0,
         "pixel48": 0,
         "pixel480": 0,
         "pixel481": 118,
         "pixel482": 255,
         "pixel483": 255,
         "pixel484": 255,
         "pixel485": 255,
         "pixel486": 103,
         "pixel487": 0,
         "pixel488": 0,
         "pixel489": 0,
         "pixel49": 0,
         "pixel490": 34,
         "pixel491": 255,
         "pixel492": 255,
         "pixel493": 255,
         "pixel494": 255,
         "pixel495": 13,
         "pixel496": 0,
         "pixel497": 0,
         "pixel498": 0,
         "pixel499": 0,
         "pixel5": 0,
         "pixel50": 0,
         "pixel500": 0,
         "pixel501": 0,
         "pixel502": 0,
         "pixel503": 0,
         "pixel504": 0,
         "pixel505": 0,
         "pixel506": 0,
         "pixel507": 0,
         "pixel508": 0,
         "pixel509": 255,
         "pixel51": 0,
         "pixel510": 255,
         "pixel511": 255,
         "pixel512": 255,
         "pixel513": 255,
         "pixel514": 5,
         "pixel515": 0,
         "pixel516": 0,
         "pixel517": 141,
         "pixel518": 255,
         "pixel519": 255,
         "pixel52": 0,
         "pixel520": 255,
         "pixel521": 255,
         "pixel522": 150,
         "pixel523": 8,
         "pixel524": 0,
         "pixel525": 0,
         "pixel526": 0,
         "pixel527": 0,
         "pixel528": 0,
         "pixel529": 0,
         "pixel53": 0,
         "pixel530": 0,
         "pixel531": 0,
         "pixel532": 0,
         "pixel533": 0,
         "pixel534": 0,
         "pixel535": 0,
         "pixel536": 0,
         "pixel537": 255,
         "pixel538": 255,
         "pixel539": 255,
         "pixel54": 0,
         "pixel540": 255,
         "pixel541": 94,
         "pixel542": 83,
         "pixel543": 83,
         "pixel544": 255,
         "pixel545": 255,
         "pixel546": 255,
         "pixel547": 255,
         "pixel548": 255,
         "pixel549": 33,
         "pixel55": 0,
         "pixel550": 0,
         "pixel551": 0,
         "pixel552": 0,
         "pixel553": 0,
         "pixel554": 0,
         "pixel555": 0,
         "pixel556": 0,
         "pixel557": 0,
         "pixel558": 0,
         "pixel559": 0,
         "pixel56": 0,
         "pixel560": 0,
         "pixel561": 0,
         "pixel562": 0,
         "pixel563": 0,
         "pixel564": 0,
         "pixel565": 255,
         "pixel566": 255,
         "pixel567": 255,
         "pixel568": 255,
         "pixel569": 255,
         "pixel57": 0,
         "pixel570": 255,
         "pixel571": 255,
         "pixel572": 255,
         "pixel573": 255,
         "pixel574": 255,
         "pixel575": 91,
         "pixel576": 48,
         "pixel577": 0,
         "pixel578": 0,
         "pixel579": 0,
         "pixel58": 0,
         "pixel580": 0,
         "pixel581": 0,
         "pixel582": 0,
         "pixel583": 0,
         "pixel584": 0,
         "pixel585": 0,
         "pixel586": 0,
         "pixel587": 0,
         "pixel588": 0,
         "pixel589": 0,
         "pixel59": 0,
         "pixel590": 0,
         "pixel591": 0,
         "pixel592": 0,
         "pixel593": 255,
         "pixel594": 255,
         "pixel595": 255,
         "pixel596": 255,
         "pixel597": 255,
         "pixel598": 255,
         "pixel599": 255,
         "pixel6": 0,
         "pixel60": 0,
         "pixel600": 255,
         "pixel601": 255,
         "pixel602": 14,
         "pixel603": 0,
         "pixel604": 0,
         "pixel605": 0,
         "pixel606": 0,
         "pixel607": 0,
         "pixel608": 0,
         "pixel609": 0,
         "pixel61": 0,
         "pixel610": 0,
         "pixel611": 0,
         "pixel612": 0,
         "pixel613": 0,
         "pixel614": 0,
         "pixel615": 0,
         "pixel616": 0,
         "pixel617": 0,
         "pixel618": 0,
         "pixel619": 0,
         "pixel62": 0,
         "pixel620": 0,
         "pixel621": 44,
         "pixel622": 96,
         "pixel623": 255,
         "pixel624": 255,
         "pixel625": 255,
         "pixel626": 96,
         "pixel627": 96,
         "pixel628": 54,
         "pixel629": 0,
         "pixel63": 0,
         "pixel630": 0,
         "pixel631": 0,
         "pixel632": 0,
         "pixel633": 0,
         "pixel634": 0,
         "pixel635": 0,
         "pixel636": 0,
         "pixel637": 0,
         "pixel638": 0,
         "pixel639": 0,
         "pixel64": 0,
         "pixel640": 0,
         "pixel641": 0,
         "pixel642": 0,
         "pixel643": 0,
         "pixel644": 0,
         "pixel645": 0,
         "pixel646": 0,
         "pixel647": 0,
         "pixel648": 0,
         "pixel649": 0,
         "pixel65": 0,
         "pixel650": 0,
         "pixel651": 0,
         "pixel652": 0,
         "pixel653": 0,
         "pixel654": 0,
         "pixel655": 0,
         "pixel656": 0,
         "pixel657": 0,
         "pixel658": 0,
         "pixel659": 0,
         "pixel66": 0,
         "pixel660": 0,
         "pixel661": 0,
         "pixel662": 0,
         "pixel663": 0,
         "pixel664": 0,
         "pixel665": 0,
         "pixel666": 0,
         "pixel667": 0,
         "pixel668": 0,
         "pixel669": 0,
         "pixel67": 0,
         "pixel670": 0,
         "pixel671": 0,
         "pixel672": 0,
         "pixel673": 0,
         "pixel674": 0,
         "pixel675": 0,
         "pixel676": 0,
         "pixel677": 0,
         "pixel678": 0,
         "pixel679": 0,
         "pixel68": 0,
         "pixel680": 0,
         "pixel681": 0,
         "pixel682": 0,
         "pixel683": 0,
         "pixel684": 0,
         "pixel685": 0,
         "pixel686": 0,
         "pixel687": 0,
         "pixel688": 0,
         "pixel689": 0,
         "pixel69": 0,
         "pixel690": 0,
         "pixel691": 0,
         "pixel692": 0,
         "pixel693": 0,
         "pixel694": 0,
         "pixel695": 0,
         "pixel696": 0,
         "pixel697": 0,
         "pixel698": 0,
         "pixel699": 0,
         "pixel7": 0,
         "pixel70": 0,
         "pixel700": 0,
         "pixel701": 0,
         "pixel702": 0,
         "pixel703": 0,
         "pixel704": 0,
         "pixel705": 0,
         "pixel706": 0,
         "pixel707": 0,
         "pixel708": 0,
         "pixel709": 0,
         "pixel71": 0,
         "pixel710": 0,
         "pixel711": 0,
         "pixel712": 0,
         "pixel713": 0,
         "pixel714": 0,
         "pixel715": 0,
         "pixel716": 0,
         "pixel717": 0,
         "pixel718": 0,
         "pixel719": 0,
         "pixel72": 0,
         "pixel720": 0,
         "pixel721": 0,
         "pixel722": 0,
         "pixel723": 0,
         "pixel724": 0,
         "pixel725": 0,
         "pixel726": 0,
         "pixel727": 0,
         "pixel728": 0,
         "pixel729": 0,
         "pixel73": 0,
         "pixel730": 0,
         "pixel731": 0,
         "pixel732": 0,
         "pixel733": 0,
         "pixel734": 0,
         "pixel735": 0,
         "pixel736": 0,
         "pixel737": 0,
         "pixel738": 0,
         "pixel739": 0,
         "pixel74": 0,
         "pixel740": 0,
         "pixel741": 0,
         "pixel742": 0,
         "pixel743": 0,
         "pixel744": 0,
         "pixel745": 0,
         "pixel746": 0,
         "pixel747": 0,
         "pixel748": 0,
         "pixel749": 0,
         "pixel75": 0,
         "pixel750": 0,
         "pixel751": 0,
         "pixel752": 0,
         "pixel753": 0,
         "pixel754": 0,
         "pixel755": 0,
         "pixel756": 0,
         "pixel757": 0,
         "pixel758": 0,
         "pixel759": 0,
         "pixel76": 0,
         "pixel760": 0,
         "pixel761": 0,
         "pixel762": 0,
         "pixel763": 0,
         "pixel764": 0,
         "pixel765": 0,
         "pixel766": 0,
         "pixel767": 0,
         "pixel768": 0,
         "pixel769": 0,
         "pixel77": 0,
         "pixel770": 0,
         "pixel771": 0,
         "pixel772": 0,
         "pixel773": 0,
         "pixel774": 0,
         "pixel775": 0,
         "pixel776": 0,
         "pixel777": 0,
         "pixel778": 0,
         "pixel779": 0,
         "pixel78": 0,
         "pixel780": 0,
         "pixel781": 0,
         "pixel782": 0,
         "pixel783": 0,
         "pixel79": 0,
         "pixel8": 0,
         "pixel80": 0,
         "pixel81": 0,
         "pixel82": 0,
         "pixel83": 0,
         "pixel84": 0,
         "pixel85": 0,
         "pixel86": 0,
         "pixel87": 0,
         "pixel88": 0,
         "pixel89": 0,
         "pixel9": 0,
         "pixel90": 0,
         "pixel91": 0,
         "pixel92": 0,
         "pixel93": 0,
         "pixel94": 0,
         "pixel95": 0,
         "pixel96": 0,
         "pixel97": 0,
         "pixel98": 0,
         "pixel99": 0
        }
       ],
       "rows_top": []
      },
      "text/html": [
       "<div>\n",
       "<style scoped>\n",
       "    .dataframe tbody tr th:only-of-type {\n",
       "        vertical-align: middle;\n",
       "    }\n",
       "\n",
       "    .dataframe tbody tr th {\n",
       "        vertical-align: top;\n",
       "    }\n",
       "\n",
       "    .dataframe thead th {\n",
       "        text-align: right;\n",
       "    }\n",
       "</style>\n",
       "<table border=\"1\" class=\"dataframe\">\n",
       "  <thead>\n",
       "    <tr style=\"text-align: right;\">\n",
       "      <th></th>\n",
       "      <th>pixel0</th>\n",
       "      <th>pixel1</th>\n",
       "      <th>pixel2</th>\n",
       "      <th>pixel3</th>\n",
       "      <th>pixel4</th>\n",
       "      <th>pixel5</th>\n",
       "      <th>pixel6</th>\n",
       "      <th>pixel7</th>\n",
       "      <th>pixel8</th>\n",
       "      <th>pixel9</th>\n",
       "      <th>...</th>\n",
       "      <th>pixel774</th>\n",
       "      <th>pixel775</th>\n",
       "      <th>pixel776</th>\n",
       "      <th>pixel777</th>\n",
       "      <th>pixel778</th>\n",
       "      <th>pixel779</th>\n",
       "      <th>pixel780</th>\n",
       "      <th>pixel781</th>\n",
       "      <th>pixel782</th>\n",
       "      <th>pixel783</th>\n",
       "    </tr>\n",
       "  </thead>\n",
       "  <tbody>\n",
       "    <tr>\n",
       "      <th>25420</th>\n",
       "      <td>0</td>\n",
       "      <td>0</td>\n",
       "      <td>0</td>\n",
       "      <td>0</td>\n",
       "      <td>0</td>\n",
       "      <td>0</td>\n",
       "      <td>0</td>\n",
       "      <td>0</td>\n",
       "      <td>0</td>\n",
       "      <td>0</td>\n",
       "      <td>...</td>\n",
       "      <td>0</td>\n",
       "      <td>0</td>\n",
       "      <td>0</td>\n",
       "      <td>0</td>\n",
       "      <td>0</td>\n",
       "      <td>0</td>\n",
       "      <td>0</td>\n",
       "      <td>0</td>\n",
       "      <td>0</td>\n",
       "      <td>0</td>\n",
       "    </tr>\n",
       "    <tr>\n",
       "      <th>33967</th>\n",
       "      <td>0</td>\n",
       "      <td>0</td>\n",
       "      <td>0</td>\n",
       "      <td>0</td>\n",
       "      <td>0</td>\n",
       "      <td>0</td>\n",
       "      <td>0</td>\n",
       "      <td>0</td>\n",
       "      <td>0</td>\n",
       "      <td>0</td>\n",
       "      <td>...</td>\n",
       "      <td>0</td>\n",
       "      <td>0</td>\n",
       "      <td>0</td>\n",
       "      <td>0</td>\n",
       "      <td>0</td>\n",
       "      <td>0</td>\n",
       "      <td>0</td>\n",
       "      <td>0</td>\n",
       "      <td>0</td>\n",
       "      <td>0</td>\n",
       "    </tr>\n",
       "    <tr>\n",
       "      <th>18894</th>\n",
       "      <td>0</td>\n",
       "      <td>0</td>\n",
       "      <td>0</td>\n",
       "      <td>0</td>\n",
       "      <td>0</td>\n",
       "      <td>0</td>\n",
       "      <td>0</td>\n",
       "      <td>0</td>\n",
       "      <td>0</td>\n",
       "      <td>0</td>\n",
       "      <td>...</td>\n",
       "      <td>0</td>\n",
       "      <td>0</td>\n",
       "      <td>0</td>\n",
       "      <td>0</td>\n",
       "      <td>0</td>\n",
       "      <td>0</td>\n",
       "      <td>0</td>\n",
       "      <td>0</td>\n",
       "      <td>0</td>\n",
       "      <td>0</td>\n",
       "    </tr>\n",
       "    <tr>\n",
       "      <th>18206</th>\n",
       "      <td>0</td>\n",
       "      <td>0</td>\n",
       "      <td>0</td>\n",
       "      <td>0</td>\n",
       "      <td>0</td>\n",
       "      <td>0</td>\n",
       "      <td>0</td>\n",
       "      <td>0</td>\n",
       "      <td>0</td>\n",
       "      <td>0</td>\n",
       "      <td>...</td>\n",
       "      <td>0</td>\n",
       "      <td>0</td>\n",
       "      <td>0</td>\n",
       "      <td>0</td>\n",
       "      <td>0</td>\n",
       "      <td>0</td>\n",
       "      <td>0</td>\n",
       "      <td>0</td>\n",
       "      <td>0</td>\n",
       "      <td>0</td>\n",
       "    </tr>\n",
       "    <tr>\n",
       "      <th>39566</th>\n",
       "      <td>0</td>\n",
       "      <td>0</td>\n",
       "      <td>0</td>\n",
       "      <td>0</td>\n",
       "      <td>0</td>\n",
       "      <td>0</td>\n",
       "      <td>0</td>\n",
       "      <td>0</td>\n",
       "      <td>0</td>\n",
       "      <td>0</td>\n",
       "      <td>...</td>\n",
       "      <td>0</td>\n",
       "      <td>0</td>\n",
       "      <td>0</td>\n",
       "      <td>0</td>\n",
       "      <td>0</td>\n",
       "      <td>0</td>\n",
       "      <td>0</td>\n",
       "      <td>0</td>\n",
       "      <td>0</td>\n",
       "      <td>0</td>\n",
       "    </tr>\n",
       "    <tr>\n",
       "      <th>...</th>\n",
       "      <td>...</td>\n",
       "      <td>...</td>\n",
       "      <td>...</td>\n",
       "      <td>...</td>\n",
       "      <td>...</td>\n",
       "      <td>...</td>\n",
       "      <td>...</td>\n",
       "      <td>...</td>\n",
       "      <td>...</td>\n",
       "      <td>...</td>\n",
       "      <td>...</td>\n",
       "      <td>...</td>\n",
       "      <td>...</td>\n",
       "      <td>...</td>\n",
       "      <td>...</td>\n",
       "      <td>...</td>\n",
       "      <td>...</td>\n",
       "      <td>...</td>\n",
       "      <td>...</td>\n",
       "      <td>...</td>\n",
       "      <td>...</td>\n",
       "    </tr>\n",
       "    <tr>\n",
       "      <th>21733</th>\n",
       "      <td>0</td>\n",
       "      <td>0</td>\n",
       "      <td>0</td>\n",
       "      <td>0</td>\n",
       "      <td>0</td>\n",
       "      <td>0</td>\n",
       "      <td>0</td>\n",
       "      <td>0</td>\n",
       "      <td>0</td>\n",
       "      <td>0</td>\n",
       "      <td>...</td>\n",
       "      <td>0</td>\n",
       "      <td>0</td>\n",
       "      <td>0</td>\n",
       "      <td>0</td>\n",
       "      <td>0</td>\n",
       "      <td>0</td>\n",
       "      <td>0</td>\n",
       "      <td>0</td>\n",
       "      <td>0</td>\n",
       "      <td>0</td>\n",
       "    </tr>\n",
       "    <tr>\n",
       "      <th>8285</th>\n",
       "      <td>0</td>\n",
       "      <td>0</td>\n",
       "      <td>0</td>\n",
       "      <td>0</td>\n",
       "      <td>0</td>\n",
       "      <td>0</td>\n",
       "      <td>0</td>\n",
       "      <td>0</td>\n",
       "      <td>0</td>\n",
       "      <td>0</td>\n",
       "      <td>...</td>\n",
       "      <td>0</td>\n",
       "      <td>0</td>\n",
       "      <td>0</td>\n",
       "      <td>0</td>\n",
       "      <td>0</td>\n",
       "      <td>0</td>\n",
       "      <td>0</td>\n",
       "      <td>0</td>\n",
       "      <td>0</td>\n",
       "      <td>0</td>\n",
       "    </tr>\n",
       "    <tr>\n",
       "      <th>40444</th>\n",
       "      <td>0</td>\n",
       "      <td>0</td>\n",
       "      <td>0</td>\n",
       "      <td>0</td>\n",
       "      <td>0</td>\n",
       "      <td>0</td>\n",
       "      <td>0</td>\n",
       "      <td>0</td>\n",
       "      <td>0</td>\n",
       "      <td>0</td>\n",
       "      <td>...</td>\n",
       "      <td>0</td>\n",
       "      <td>0</td>\n",
       "      <td>0</td>\n",
       "      <td>0</td>\n",
       "      <td>0</td>\n",
       "      <td>0</td>\n",
       "      <td>0</td>\n",
       "      <td>0</td>\n",
       "      <td>0</td>\n",
       "      <td>0</td>\n",
       "    </tr>\n",
       "    <tr>\n",
       "      <th>13041</th>\n",
       "      <td>0</td>\n",
       "      <td>0</td>\n",
       "      <td>0</td>\n",
       "      <td>0</td>\n",
       "      <td>0</td>\n",
       "      <td>0</td>\n",
       "      <td>0</td>\n",
       "      <td>0</td>\n",
       "      <td>0</td>\n",
       "      <td>0</td>\n",
       "      <td>...</td>\n",
       "      <td>0</td>\n",
       "      <td>0</td>\n",
       "      <td>0</td>\n",
       "      <td>0</td>\n",
       "      <td>0</td>\n",
       "      <td>0</td>\n",
       "      <td>0</td>\n",
       "      <td>0</td>\n",
       "      <td>0</td>\n",
       "      <td>0</td>\n",
       "    </tr>\n",
       "    <tr>\n",
       "      <th>13153</th>\n",
       "      <td>0</td>\n",
       "      <td>0</td>\n",
       "      <td>0</td>\n",
       "      <td>0</td>\n",
       "      <td>0</td>\n",
       "      <td>0</td>\n",
       "      <td>0</td>\n",
       "      <td>0</td>\n",
       "      <td>0</td>\n",
       "      <td>0</td>\n",
       "      <td>...</td>\n",
       "      <td>0</td>\n",
       "      <td>0</td>\n",
       "      <td>0</td>\n",
       "      <td>0</td>\n",
       "      <td>0</td>\n",
       "      <td>0</td>\n",
       "      <td>0</td>\n",
       "      <td>0</td>\n",
       "      <td>0</td>\n",
       "      <td>0</td>\n",
       "    </tr>\n",
       "  </tbody>\n",
       "</table>\n",
       "<p>10000 rows × 784 columns</p>\n",
       "</div>"
      ],
      "text/plain": [
       "       pixel0  pixel1  pixel2  pixel3  pixel4  pixel5  pixel6  pixel7  pixel8  \\\n",
       "25420       0       0       0       0       0       0       0       0       0   \n",
       "33967       0       0       0       0       0       0       0       0       0   \n",
       "18894       0       0       0       0       0       0       0       0       0   \n",
       "18206       0       0       0       0       0       0       0       0       0   \n",
       "39566       0       0       0       0       0       0       0       0       0   \n",
       "...       ...     ...     ...     ...     ...     ...     ...     ...     ...   \n",
       "21733       0       0       0       0       0       0       0       0       0   \n",
       "8285        0       0       0       0       0       0       0       0       0   \n",
       "40444       0       0       0       0       0       0       0       0       0   \n",
       "13041       0       0       0       0       0       0       0       0       0   \n",
       "13153       0       0       0       0       0       0       0       0       0   \n",
       "\n",
       "       pixel9  ...  pixel774  pixel775  pixel776  pixel777  pixel778  \\\n",
       "25420       0  ...         0         0         0         0         0   \n",
       "33967       0  ...         0         0         0         0         0   \n",
       "18894       0  ...         0         0         0         0         0   \n",
       "18206       0  ...         0         0         0         0         0   \n",
       "39566       0  ...         0         0         0         0         0   \n",
       "...       ...  ...       ...       ...       ...       ...       ...   \n",
       "21733       0  ...         0         0         0         0         0   \n",
       "8285        0  ...         0         0         0         0         0   \n",
       "40444       0  ...         0         0         0         0         0   \n",
       "13041       0  ...         0         0         0         0         0   \n",
       "13153       0  ...         0         0         0         0         0   \n",
       "\n",
       "       pixel779  pixel780  pixel781  pixel782  pixel783  \n",
       "25420         0         0         0         0         0  \n",
       "33967         0         0         0         0         0  \n",
       "18894         0         0         0         0         0  \n",
       "18206         0         0         0         0         0  \n",
       "39566         0         0         0         0         0  \n",
       "...         ...       ...       ...       ...       ...  \n",
       "21733         0         0         0         0         0  \n",
       "8285          0         0         0         0         0  \n",
       "40444         0         0         0         0         0  \n",
       "13041         0         0         0         0         0  \n",
       "13153         0         0         0         0         0  \n",
       "\n",
       "[10000 rows x 784 columns]"
      ]
     },
     "execution_count": 18,
     "metadata": {},
     "output_type": "execute_result"
    }
   ],
   "source": [
    "# Remplacement des valeurs pixel > à 150 en 255\n",
    "XSup150[XSup150.iloc[:,0:] > 150]  = 255\n",
    "XSup150"
   ]
  },
  {
   "cell_type": "code",
   "execution_count": null,
   "metadata": {
    "cell_id": "00034-12e6b3b0-fb07-49d5-8190-ae1c04db979d",
    "deepnote_cell_type": "code",
    "deepnote_to_be_reexecuted": false,
    "execution_millis": 1515,
    "execution_start": 1613731907709,
    "source_hash": "702685c8",
    "tags": []
   },
   "outputs": [
    {
     "data": {
      "application/vnd.deepnote.dataframe.v2+json": {
       "column_count": 784,
       "columns": [
        {
         "dtype": "int64",
         "name": "pixel0",
         "stats": {
          "histogram": [
           {
            "bin_end": -0.4,
            "bin_start": -0.5,
            "count": 0
           },
           {
            "bin_end": -0.3,
            "bin_start": -0.4,
            "count": 0
           },
           {
            "bin_end": -0.19999999999999996,
            "bin_start": -0.3,
            "count": 0
           },
           {
            "bin_end": -0.09999999999999998,
            "bin_start": -0.19999999999999996,
            "count": 0
           },
           {
            "bin_end": 0,
            "bin_start": -0.09999999999999998,
            "count": 0
           },
           {
            "bin_end": 0.10000000000000009,
            "bin_start": 0,
            "count": 10000
           },
           {
            "bin_end": 0.20000000000000007,
            "bin_start": 0.10000000000000009,
            "count": 0
           },
           {
            "bin_end": 0.30000000000000004,
            "bin_start": 0.20000000000000007,
            "count": 0
           },
           {
            "bin_end": 0.4,
            "bin_start": 0.30000000000000004,
            "count": 0
           },
           {
            "bin_end": 0.5,
            "bin_start": 0.4,
            "count": 0
           }
          ],
          "max": 0,
          "min": 0,
          "nan_count": 0,
          "unique_count": 1
         }
        },
        {
         "dtype": "int64",
         "name": "pixel1",
         "stats": {
          "histogram": [
           {
            "bin_end": -0.4,
            "bin_start": -0.5,
            "count": 0
           },
           {
            "bin_end": -0.3,
            "bin_start": -0.4,
            "count": 0
           },
           {
            "bin_end": -0.19999999999999996,
            "bin_start": -0.3,
            "count": 0
           },
           {
            "bin_end": -0.09999999999999998,
            "bin_start": -0.19999999999999996,
            "count": 0
           },
           {
            "bin_end": 0,
            "bin_start": -0.09999999999999998,
            "count": 0
           },
           {
            "bin_end": 0.10000000000000009,
            "bin_start": 0,
            "count": 10000
           },
           {
            "bin_end": 0.20000000000000007,
            "bin_start": 0.10000000000000009,
            "count": 0
           },
           {
            "bin_end": 0.30000000000000004,
            "bin_start": 0.20000000000000007,
            "count": 0
           },
           {
            "bin_end": 0.4,
            "bin_start": 0.30000000000000004,
            "count": 0
           },
           {
            "bin_end": 0.5,
            "bin_start": 0.4,
            "count": 0
           }
          ],
          "max": 0,
          "min": 0,
          "nan_count": 0,
          "unique_count": 1
         }
        },
        {
         "dtype": "int64",
         "name": "pixel2",
         "stats": {
          "histogram": [
           {
            "bin_end": -0.4,
            "bin_start": -0.5,
            "count": 0
           },
           {
            "bin_end": -0.3,
            "bin_start": -0.4,
            "count": 0
           },
           {
            "bin_end": -0.19999999999999996,
            "bin_start": -0.3,
            "count": 0
           },
           {
            "bin_end": -0.09999999999999998,
            "bin_start": -0.19999999999999996,
            "count": 0
           },
           {
            "bin_end": 0,
            "bin_start": -0.09999999999999998,
            "count": 0
           },
           {
            "bin_end": 0.10000000000000009,
            "bin_start": 0,
            "count": 10000
           },
           {
            "bin_end": 0.20000000000000007,
            "bin_start": 0.10000000000000009,
            "count": 0
           },
           {
            "bin_end": 0.30000000000000004,
            "bin_start": 0.20000000000000007,
            "count": 0
           },
           {
            "bin_end": 0.4,
            "bin_start": 0.30000000000000004,
            "count": 0
           },
           {
            "bin_end": 0.5,
            "bin_start": 0.4,
            "count": 0
           }
          ],
          "max": 0,
          "min": 0,
          "nan_count": 0,
          "unique_count": 1
         }
        },
        {
         "dtype": "int64",
         "name": "pixel3",
         "stats": {
          "histogram": [
           {
            "bin_end": -0.4,
            "bin_start": -0.5,
            "count": 0
           },
           {
            "bin_end": -0.3,
            "bin_start": -0.4,
            "count": 0
           },
           {
            "bin_end": -0.19999999999999996,
            "bin_start": -0.3,
            "count": 0
           },
           {
            "bin_end": -0.09999999999999998,
            "bin_start": -0.19999999999999996,
            "count": 0
           },
           {
            "bin_end": 0,
            "bin_start": -0.09999999999999998,
            "count": 0
           },
           {
            "bin_end": 0.10000000000000009,
            "bin_start": 0,
            "count": 10000
           },
           {
            "bin_end": 0.20000000000000007,
            "bin_start": 0.10000000000000009,
            "count": 0
           },
           {
            "bin_end": 0.30000000000000004,
            "bin_start": 0.20000000000000007,
            "count": 0
           },
           {
            "bin_end": 0.4,
            "bin_start": 0.30000000000000004,
            "count": 0
           },
           {
            "bin_end": 0.5,
            "bin_start": 0.4,
            "count": 0
           }
          ],
          "max": 0,
          "min": 0,
          "nan_count": 0,
          "unique_count": 1
         }
        },
        {
         "dtype": "int64",
         "name": "pixel4",
         "stats": {
          "histogram": [
           {
            "bin_end": -0.4,
            "bin_start": -0.5,
            "count": 0
           },
           {
            "bin_end": -0.3,
            "bin_start": -0.4,
            "count": 0
           },
           {
            "bin_end": -0.19999999999999996,
            "bin_start": -0.3,
            "count": 0
           },
           {
            "bin_end": -0.09999999999999998,
            "bin_start": -0.19999999999999996,
            "count": 0
           },
           {
            "bin_end": 0,
            "bin_start": -0.09999999999999998,
            "count": 0
           },
           {
            "bin_end": 0.10000000000000009,
            "bin_start": 0,
            "count": 10000
           },
           {
            "bin_end": 0.20000000000000007,
            "bin_start": 0.10000000000000009,
            "count": 0
           },
           {
            "bin_end": 0.30000000000000004,
            "bin_start": 0.20000000000000007,
            "count": 0
           },
           {
            "bin_end": 0.4,
            "bin_start": 0.30000000000000004,
            "count": 0
           },
           {
            "bin_end": 0.5,
            "bin_start": 0.4,
            "count": 0
           }
          ],
          "max": 0,
          "min": 0,
          "nan_count": 0,
          "unique_count": 1
         }
        },
        {
         "dtype": "int64",
         "name": "pixel5",
         "stats": {
          "histogram": [
           {
            "bin_end": -0.4,
            "bin_start": -0.5,
            "count": 0
           },
           {
            "bin_end": -0.3,
            "bin_start": -0.4,
            "count": 0
           },
           {
            "bin_end": -0.19999999999999996,
            "bin_start": -0.3,
            "count": 0
           },
           {
            "bin_end": -0.09999999999999998,
            "bin_start": -0.19999999999999996,
            "count": 0
           },
           {
            "bin_end": 0,
            "bin_start": -0.09999999999999998,
            "count": 0
           },
           {
            "bin_end": 0.10000000000000009,
            "bin_start": 0,
            "count": 10000
           },
           {
            "bin_end": 0.20000000000000007,
            "bin_start": 0.10000000000000009,
            "count": 0
           },
           {
            "bin_end": 0.30000000000000004,
            "bin_start": 0.20000000000000007,
            "count": 0
           },
           {
            "bin_end": 0.4,
            "bin_start": 0.30000000000000004,
            "count": 0
           },
           {
            "bin_end": 0.5,
            "bin_start": 0.4,
            "count": 0
           }
          ],
          "max": 0,
          "min": 0,
          "nan_count": 0,
          "unique_count": 1
         }
        },
        {
         "dtype": "int64",
         "name": "pixel6",
         "stats": {
          "histogram": [
           {
            "bin_end": -0.4,
            "bin_start": -0.5,
            "count": 0
           },
           {
            "bin_end": -0.3,
            "bin_start": -0.4,
            "count": 0
           },
           {
            "bin_end": -0.19999999999999996,
            "bin_start": -0.3,
            "count": 0
           },
           {
            "bin_end": -0.09999999999999998,
            "bin_start": -0.19999999999999996,
            "count": 0
           },
           {
            "bin_end": 0,
            "bin_start": -0.09999999999999998,
            "count": 0
           },
           {
            "bin_end": 0.10000000000000009,
            "bin_start": 0,
            "count": 10000
           },
           {
            "bin_end": 0.20000000000000007,
            "bin_start": 0.10000000000000009,
            "count": 0
           },
           {
            "bin_end": 0.30000000000000004,
            "bin_start": 0.20000000000000007,
            "count": 0
           },
           {
            "bin_end": 0.4,
            "bin_start": 0.30000000000000004,
            "count": 0
           },
           {
            "bin_end": 0.5,
            "bin_start": 0.4,
            "count": 0
           }
          ],
          "max": 0,
          "min": 0,
          "nan_count": 0,
          "unique_count": 1
         }
        },
        {
         "dtype": "int64",
         "name": "pixel7",
         "stats": {
          "histogram": [
           {
            "bin_end": -0.4,
            "bin_start": -0.5,
            "count": 0
           },
           {
            "bin_end": -0.3,
            "bin_start": -0.4,
            "count": 0
           },
           {
            "bin_end": -0.19999999999999996,
            "bin_start": -0.3,
            "count": 0
           },
           {
            "bin_end": -0.09999999999999998,
            "bin_start": -0.19999999999999996,
            "count": 0
           },
           {
            "bin_end": 0,
            "bin_start": -0.09999999999999998,
            "count": 0
           },
           {
            "bin_end": 0.10000000000000009,
            "bin_start": 0,
            "count": 10000
           },
           {
            "bin_end": 0.20000000000000007,
            "bin_start": 0.10000000000000009,
            "count": 0
           },
           {
            "bin_end": 0.30000000000000004,
            "bin_start": 0.20000000000000007,
            "count": 0
           },
           {
            "bin_end": 0.4,
            "bin_start": 0.30000000000000004,
            "count": 0
           },
           {
            "bin_end": 0.5,
            "bin_start": 0.4,
            "count": 0
           }
          ],
          "max": 0,
          "min": 0,
          "nan_count": 0,
          "unique_count": 1
         }
        },
        {
         "dtype": "int64",
         "name": "pixel8",
         "stats": {
          "histogram": [
           {
            "bin_end": -0.4,
            "bin_start": -0.5,
            "count": 0
           },
           {
            "bin_end": -0.3,
            "bin_start": -0.4,
            "count": 0
           },
           {
            "bin_end": -0.19999999999999996,
            "bin_start": -0.3,
            "count": 0
           },
           {
            "bin_end": -0.09999999999999998,
            "bin_start": -0.19999999999999996,
            "count": 0
           },
           {
            "bin_end": 0,
            "bin_start": -0.09999999999999998,
            "count": 0
           },
           {
            "bin_end": 0.10000000000000009,
            "bin_start": 0,
            "count": 10000
           },
           {
            "bin_end": 0.20000000000000007,
            "bin_start": 0.10000000000000009,
            "count": 0
           },
           {
            "bin_end": 0.30000000000000004,
            "bin_start": 0.20000000000000007,
            "count": 0
           },
           {
            "bin_end": 0.4,
            "bin_start": 0.30000000000000004,
            "count": 0
           },
           {
            "bin_end": 0.5,
            "bin_start": 0.4,
            "count": 0
           }
          ],
          "max": 0,
          "min": 0,
          "nan_count": 0,
          "unique_count": 1
         }
        },
        {
         "dtype": "int64",
         "name": "pixel9",
         "stats": {
          "histogram": [
           {
            "bin_end": -0.4,
            "bin_start": -0.5,
            "count": 0
           },
           {
            "bin_end": -0.3,
            "bin_start": -0.4,
            "count": 0
           },
           {
            "bin_end": -0.19999999999999996,
            "bin_start": -0.3,
            "count": 0
           },
           {
            "bin_end": -0.09999999999999998,
            "bin_start": -0.19999999999999996,
            "count": 0
           },
           {
            "bin_end": 0,
            "bin_start": -0.09999999999999998,
            "count": 0
           },
           {
            "bin_end": 0.10000000000000009,
            "bin_start": 0,
            "count": 10000
           },
           {
            "bin_end": 0.20000000000000007,
            "bin_start": 0.10000000000000009,
            "count": 0
           },
           {
            "bin_end": 0.30000000000000004,
            "bin_start": 0.20000000000000007,
            "count": 0
           },
           {
            "bin_end": 0.4,
            "bin_start": 0.30000000000000004,
            "count": 0
           },
           {
            "bin_end": 0.5,
            "bin_start": 0.4,
            "count": 0
           }
          ],
          "max": 0,
          "min": 0,
          "nan_count": 0,
          "unique_count": 1
         }
        },
        {
         "dtype": "int64",
         "name": "pixel10"
        },
        {
         "dtype": "int64",
         "name": "pixel11"
        },
        {
         "dtype": "int64",
         "name": "pixel12"
        },
        {
         "dtype": "int64",
         "name": "pixel13"
        },
        {
         "dtype": "int64",
         "name": "pixel14"
        },
        {
         "dtype": "int64",
         "name": "pixel15"
        },
        {
         "dtype": "int64",
         "name": "pixel16"
        },
        {
         "dtype": "int64",
         "name": "pixel17"
        },
        {
         "dtype": "int64",
         "name": "pixel18"
        },
        {
         "dtype": "int64",
         "name": "pixel19"
        },
        {
         "dtype": "int64",
         "name": "pixel20"
        },
        {
         "dtype": "int64",
         "name": "pixel21"
        },
        {
         "dtype": "int64",
         "name": "pixel22"
        },
        {
         "dtype": "int64",
         "name": "pixel23"
        },
        {
         "dtype": "int64",
         "name": "pixel24"
        },
        {
         "dtype": "int64",
         "name": "pixel25"
        },
        {
         "dtype": "int64",
         "name": "pixel26"
        },
        {
         "dtype": "int64",
         "name": "pixel27"
        },
        {
         "dtype": "int64",
         "name": "pixel28"
        },
        {
         "dtype": "int64",
         "name": "pixel29"
        },
        {
         "dtype": "int64",
         "name": "pixel30"
        },
        {
         "dtype": "int64",
         "name": "pixel31"
        },
        {
         "dtype": "int64",
         "name": "pixel32"
        },
        {
         "dtype": "int64",
         "name": "pixel33"
        },
        {
         "dtype": "int64",
         "name": "pixel34"
        },
        {
         "dtype": "int64",
         "name": "pixel35"
        },
        {
         "dtype": "int64",
         "name": "pixel36"
        },
        {
         "dtype": "int64",
         "name": "pixel37"
        },
        {
         "dtype": "int64",
         "name": "pixel38"
        },
        {
         "dtype": "int64",
         "name": "pixel39"
        },
        {
         "dtype": "int64",
         "name": "pixel40"
        },
        {
         "dtype": "int64",
         "name": "pixel41"
        },
        {
         "dtype": "int64",
         "name": "pixel42"
        },
        {
         "dtype": "int64",
         "name": "pixel43"
        },
        {
         "dtype": "int64",
         "name": "pixel44"
        },
        {
         "dtype": "int64",
         "name": "pixel45"
        },
        {
         "dtype": "int64",
         "name": "pixel46"
        },
        {
         "dtype": "int64",
         "name": "pixel47"
        },
        {
         "dtype": "int64",
         "name": "pixel48"
        },
        {
         "dtype": "int64",
         "name": "pixel49"
        },
        {
         "dtype": "int64",
         "name": "pixel50"
        },
        {
         "dtype": "int64",
         "name": "pixel51"
        },
        {
         "dtype": "int64",
         "name": "pixel52"
        },
        {
         "dtype": "int64",
         "name": "pixel53"
        },
        {
         "dtype": "int64",
         "name": "pixel54"
        },
        {
         "dtype": "int64",
         "name": "pixel55"
        },
        {
         "dtype": "int64",
         "name": "pixel56"
        },
        {
         "dtype": "int64",
         "name": "pixel57"
        },
        {
         "dtype": "int64",
         "name": "pixel58"
        },
        {
         "dtype": "int64",
         "name": "pixel59"
        },
        {
         "dtype": "int64",
         "name": "pixel60"
        },
        {
         "dtype": "int64",
         "name": "pixel61"
        },
        {
         "dtype": "int64",
         "name": "pixel62"
        },
        {
         "dtype": "int64",
         "name": "pixel63"
        },
        {
         "dtype": "int64",
         "name": "pixel64"
        },
        {
         "dtype": "int64",
         "name": "pixel65"
        },
        {
         "dtype": "int64",
         "name": "pixel66"
        },
        {
         "dtype": "int64",
         "name": "pixel67"
        },
        {
         "dtype": "int64",
         "name": "pixel68"
        },
        {
         "dtype": "int64",
         "name": "pixel69"
        },
        {
         "dtype": "int64",
         "name": "pixel70"
        },
        {
         "dtype": "int64",
         "name": "pixel71"
        },
        {
         "dtype": "int64",
         "name": "pixel72"
        },
        {
         "dtype": "int64",
         "name": "pixel73"
        },
        {
         "dtype": "int64",
         "name": "pixel74"
        },
        {
         "dtype": "int64",
         "name": "pixel75"
        },
        {
         "dtype": "int64",
         "name": "pixel76"
        },
        {
         "dtype": "int64",
         "name": "pixel77"
        },
        {
         "dtype": "int64",
         "name": "pixel78"
        },
        {
         "dtype": "int64",
         "name": "pixel79"
        },
        {
         "dtype": "int64",
         "name": "pixel80"
        },
        {
         "dtype": "int64",
         "name": "pixel81"
        },
        {
         "dtype": "int64",
         "name": "pixel82"
        },
        {
         "dtype": "int64",
         "name": "pixel83"
        },
        {
         "dtype": "int64",
         "name": "pixel84"
        },
        {
         "dtype": "int64",
         "name": "pixel85"
        },
        {
         "dtype": "int64",
         "name": "pixel86"
        },
        {
         "dtype": "int64",
         "name": "pixel87"
        },
        {
         "dtype": "int64",
         "name": "pixel88"
        },
        {
         "dtype": "int64",
         "name": "pixel89"
        },
        {
         "dtype": "int64",
         "name": "pixel90"
        },
        {
         "dtype": "int64",
         "name": "pixel91"
        },
        {
         "dtype": "int64",
         "name": "pixel92"
        },
        {
         "dtype": "int64",
         "name": "pixel93"
        },
        {
         "dtype": "int64",
         "name": "pixel94"
        },
        {
         "dtype": "int64",
         "name": "pixel95"
        },
        {
         "dtype": "int64",
         "name": "pixel96"
        },
        {
         "dtype": "int64",
         "name": "pixel97"
        },
        {
         "dtype": "int64",
         "name": "pixel98"
        },
        {
         "dtype": "int64",
         "name": "pixel99"
        },
        {
         "dtype": "int64",
         "name": "pixel100"
        },
        {
         "dtype": "int64",
         "name": "pixel101"
        },
        {
         "dtype": "int64",
         "name": "pixel102"
        },
        {
         "dtype": "int64",
         "name": "pixel103"
        },
        {
         "dtype": "int64",
         "name": "pixel104"
        },
        {
         "dtype": "int64",
         "name": "pixel105"
        },
        {
         "dtype": "int64",
         "name": "pixel106"
        },
        {
         "dtype": "int64",
         "name": "pixel107"
        },
        {
         "dtype": "int64",
         "name": "pixel108"
        },
        {
         "dtype": "int64",
         "name": "pixel109"
        },
        {
         "dtype": "int64",
         "name": "pixel110"
        },
        {
         "dtype": "int64",
         "name": "pixel111"
        },
        {
         "dtype": "int64",
         "name": "pixel112"
        },
        {
         "dtype": "int64",
         "name": "pixel113"
        },
        {
         "dtype": "int64",
         "name": "pixel114"
        },
        {
         "dtype": "int64",
         "name": "pixel115"
        },
        {
         "dtype": "int64",
         "name": "pixel116"
        },
        {
         "dtype": "int64",
         "name": "pixel117"
        },
        {
         "dtype": "int64",
         "name": "pixel118"
        },
        {
         "dtype": "int64",
         "name": "pixel119"
        },
        {
         "dtype": "int64",
         "name": "pixel120"
        },
        {
         "dtype": "int64",
         "name": "pixel121"
        },
        {
         "dtype": "int64",
         "name": "pixel122"
        },
        {
         "dtype": "int64",
         "name": "pixel123"
        },
        {
         "dtype": "int64",
         "name": "pixel124"
        },
        {
         "dtype": "int64",
         "name": "pixel125"
        },
        {
         "dtype": "int64",
         "name": "pixel126"
        },
        {
         "dtype": "int64",
         "name": "pixel127"
        },
        {
         "dtype": "int64",
         "name": "pixel128"
        },
        {
         "dtype": "int64",
         "name": "pixel129"
        },
        {
         "dtype": "int64",
         "name": "pixel130"
        },
        {
         "dtype": "int64",
         "name": "pixel131"
        },
        {
         "dtype": "int64",
         "name": "pixel132"
        },
        {
         "dtype": "int64",
         "name": "pixel133"
        },
        {
         "dtype": "int64",
         "name": "pixel134"
        },
        {
         "dtype": "int64",
         "name": "pixel135"
        },
        {
         "dtype": "int64",
         "name": "pixel136"
        },
        {
         "dtype": "int64",
         "name": "pixel137"
        },
        {
         "dtype": "int64",
         "name": "pixel138"
        },
        {
         "dtype": "int64",
         "name": "pixel139"
        },
        {
         "dtype": "int64",
         "name": "pixel140"
        },
        {
         "dtype": "int64",
         "name": "pixel141"
        },
        {
         "dtype": "int64",
         "name": "pixel142"
        },
        {
         "dtype": "int64",
         "name": "pixel143"
        },
        {
         "dtype": "int64",
         "name": "pixel144"
        },
        {
         "dtype": "int64",
         "name": "pixel145"
        },
        {
         "dtype": "int64",
         "name": "pixel146"
        },
        {
         "dtype": "int64",
         "name": "pixel147"
        },
        {
         "dtype": "int64",
         "name": "pixel148"
        },
        {
         "dtype": "int64",
         "name": "pixel149"
        },
        {
         "dtype": "int64",
         "name": "pixel150"
        },
        {
         "dtype": "int64",
         "name": "pixel151"
        },
        {
         "dtype": "int64",
         "name": "pixel152"
        },
        {
         "dtype": "int64",
         "name": "pixel153"
        },
        {
         "dtype": "int64",
         "name": "pixel154"
        },
        {
         "dtype": "int64",
         "name": "pixel155"
        },
        {
         "dtype": "int64",
         "name": "pixel156"
        },
        {
         "dtype": "int64",
         "name": "pixel157"
        },
        {
         "dtype": "int64",
         "name": "pixel158"
        },
        {
         "dtype": "int64",
         "name": "pixel159"
        },
        {
         "dtype": "int64",
         "name": "pixel160"
        },
        {
         "dtype": "int64",
         "name": "pixel161"
        },
        {
         "dtype": "int64",
         "name": "pixel162"
        },
        {
         "dtype": "int64",
         "name": "pixel163"
        },
        {
         "dtype": "int64",
         "name": "pixel164"
        },
        {
         "dtype": "int64",
         "name": "pixel165"
        },
        {
         "dtype": "int64",
         "name": "pixel166"
        },
        {
         "dtype": "int64",
         "name": "pixel167"
        },
        {
         "dtype": "int64",
         "name": "pixel168"
        },
        {
         "dtype": "int64",
         "name": "pixel169"
        },
        {
         "dtype": "int64",
         "name": "pixel170"
        },
        {
         "dtype": "int64",
         "name": "pixel171"
        },
        {
         "dtype": "int64",
         "name": "pixel172"
        },
        {
         "dtype": "int64",
         "name": "pixel173"
        },
        {
         "dtype": "int64",
         "name": "pixel174"
        },
        {
         "dtype": "int64",
         "name": "pixel175"
        },
        {
         "dtype": "int64",
         "name": "pixel176"
        },
        {
         "dtype": "int64",
         "name": "pixel177"
        },
        {
         "dtype": "int64",
         "name": "pixel178"
        },
        {
         "dtype": "int64",
         "name": "pixel179"
        },
        {
         "dtype": "int64",
         "name": "pixel180"
        },
        {
         "dtype": "int64",
         "name": "pixel181"
        },
        {
         "dtype": "int64",
         "name": "pixel182"
        },
        {
         "dtype": "int64",
         "name": "pixel183"
        },
        {
         "dtype": "int64",
         "name": "pixel184"
        },
        {
         "dtype": "int64",
         "name": "pixel185"
        },
        {
         "dtype": "int64",
         "name": "pixel186"
        },
        {
         "dtype": "int64",
         "name": "pixel187"
        },
        {
         "dtype": "int64",
         "name": "pixel188"
        },
        {
         "dtype": "int64",
         "name": "pixel189"
        },
        {
         "dtype": "int64",
         "name": "pixel190"
        },
        {
         "dtype": "int64",
         "name": "pixel191"
        },
        {
         "dtype": "int64",
         "name": "pixel192"
        },
        {
         "dtype": "int64",
         "name": "pixel193"
        },
        {
         "dtype": "int64",
         "name": "pixel194"
        },
        {
         "dtype": "int64",
         "name": "pixel195"
        },
        {
         "dtype": "int64",
         "name": "pixel196"
        },
        {
         "dtype": "int64",
         "name": "pixel197"
        },
        {
         "dtype": "int64",
         "name": "pixel198"
        },
        {
         "dtype": "int64",
         "name": "pixel199"
        },
        {
         "dtype": "int64",
         "name": "pixel200"
        },
        {
         "dtype": "int64",
         "name": "pixel201"
        },
        {
         "dtype": "int64",
         "name": "pixel202"
        },
        {
         "dtype": "int64",
         "name": "pixel203"
        },
        {
         "dtype": "int64",
         "name": "pixel204"
        },
        {
         "dtype": "int64",
         "name": "pixel205"
        },
        {
         "dtype": "int64",
         "name": "pixel206"
        },
        {
         "dtype": "int64",
         "name": "pixel207"
        },
        {
         "dtype": "int64",
         "name": "pixel208"
        },
        {
         "dtype": "int64",
         "name": "pixel209"
        },
        {
         "dtype": "int64",
         "name": "pixel210"
        },
        {
         "dtype": "int64",
         "name": "pixel211"
        },
        {
         "dtype": "int64",
         "name": "pixel212"
        },
        {
         "dtype": "int64",
         "name": "pixel213"
        },
        {
         "dtype": "int64",
         "name": "pixel214"
        },
        {
         "dtype": "int64",
         "name": "pixel215"
        },
        {
         "dtype": "int64",
         "name": "pixel216"
        },
        {
         "dtype": "int64",
         "name": "pixel217"
        },
        {
         "dtype": "int64",
         "name": "pixel218"
        },
        {
         "dtype": "int64",
         "name": "pixel219"
        },
        {
         "dtype": "int64",
         "name": "pixel220"
        },
        {
         "dtype": "int64",
         "name": "pixel221"
        },
        {
         "dtype": "int64",
         "name": "pixel222"
        },
        {
         "dtype": "int64",
         "name": "pixel223"
        },
        {
         "dtype": "int64",
         "name": "pixel224"
        },
        {
         "dtype": "int64",
         "name": "pixel225"
        },
        {
         "dtype": "int64",
         "name": "pixel226"
        },
        {
         "dtype": "int64",
         "name": "pixel227"
        },
        {
         "dtype": "int64",
         "name": "pixel228"
        },
        {
         "dtype": "int64",
         "name": "pixel229"
        },
        {
         "dtype": "int64",
         "name": "pixel230"
        },
        {
         "dtype": "int64",
         "name": "pixel231"
        },
        {
         "dtype": "int64",
         "name": "pixel232"
        },
        {
         "dtype": "int64",
         "name": "pixel233"
        },
        {
         "dtype": "int64",
         "name": "pixel234"
        },
        {
         "dtype": "int64",
         "name": "pixel235"
        },
        {
         "dtype": "int64",
         "name": "pixel236"
        },
        {
         "dtype": "int64",
         "name": "pixel237"
        },
        {
         "dtype": "int64",
         "name": "pixel238"
        },
        {
         "dtype": "int64",
         "name": "pixel239"
        },
        {
         "dtype": "int64",
         "name": "pixel240"
        },
        {
         "dtype": "int64",
         "name": "pixel241"
        },
        {
         "dtype": "int64",
         "name": "pixel242"
        },
        {
         "dtype": "int64",
         "name": "pixel243"
        },
        {
         "dtype": "int64",
         "name": "pixel244"
        },
        {
         "dtype": "int64",
         "name": "pixel245"
        },
        {
         "dtype": "int64",
         "name": "pixel246"
        },
        {
         "dtype": "int64",
         "name": "pixel247"
        },
        {
         "dtype": "int64",
         "name": "pixel248"
        },
        {
         "dtype": "int64",
         "name": "pixel249"
        },
        {
         "dtype": "int64",
         "name": "pixel250"
        },
        {
         "dtype": "int64",
         "name": "pixel251"
        },
        {
         "dtype": "int64",
         "name": "pixel252"
        },
        {
         "dtype": "int64",
         "name": "pixel253"
        },
        {
         "dtype": "int64",
         "name": "pixel254"
        },
        {
         "dtype": "int64",
         "name": "pixel255"
        },
        {
         "dtype": "int64",
         "name": "pixel256"
        },
        {
         "dtype": "int64",
         "name": "pixel257"
        },
        {
         "dtype": "int64",
         "name": "pixel258"
        },
        {
         "dtype": "int64",
         "name": "pixel259"
        },
        {
         "dtype": "int64",
         "name": "pixel260"
        },
        {
         "dtype": "int64",
         "name": "pixel261"
        },
        {
         "dtype": "int64",
         "name": "pixel262"
        },
        {
         "dtype": "int64",
         "name": "pixel263"
        },
        {
         "dtype": "int64",
         "name": "pixel264"
        },
        {
         "dtype": "int64",
         "name": "pixel265"
        },
        {
         "dtype": "int64",
         "name": "pixel266"
        },
        {
         "dtype": "int64",
         "name": "pixel267"
        },
        {
         "dtype": "int64",
         "name": "pixel268"
        },
        {
         "dtype": "int64",
         "name": "pixel269"
        },
        {
         "dtype": "int64",
         "name": "pixel270"
        },
        {
         "dtype": "int64",
         "name": "pixel271"
        },
        {
         "dtype": "int64",
         "name": "pixel272"
        },
        {
         "dtype": "int64",
         "name": "pixel273"
        },
        {
         "dtype": "int64",
         "name": "pixel274"
        },
        {
         "dtype": "int64",
         "name": "pixel275"
        },
        {
         "dtype": "int64",
         "name": "pixel276"
        },
        {
         "dtype": "int64",
         "name": "pixel277"
        },
        {
         "dtype": "int64",
         "name": "pixel278"
        },
        {
         "dtype": "int64",
         "name": "pixel279"
        },
        {
         "dtype": "int64",
         "name": "pixel280"
        },
        {
         "dtype": "int64",
         "name": "pixel281"
        },
        {
         "dtype": "int64",
         "name": "pixel282"
        },
        {
         "dtype": "int64",
         "name": "pixel283"
        },
        {
         "dtype": "int64",
         "name": "pixel284"
        },
        {
         "dtype": "int64",
         "name": "pixel285"
        },
        {
         "dtype": "int64",
         "name": "pixel286"
        },
        {
         "dtype": "int64",
         "name": "pixel287"
        },
        {
         "dtype": "int64",
         "name": "pixel288"
        },
        {
         "dtype": "int64",
         "name": "pixel289"
        },
        {
         "dtype": "int64",
         "name": "pixel290"
        },
        {
         "dtype": "int64",
         "name": "pixel291"
        },
        {
         "dtype": "int64",
         "name": "pixel292"
        },
        {
         "dtype": "int64",
         "name": "pixel293"
        },
        {
         "dtype": "int64",
         "name": "pixel294"
        },
        {
         "dtype": "int64",
         "name": "pixel295"
        },
        {
         "dtype": "int64",
         "name": "pixel296"
        },
        {
         "dtype": "int64",
         "name": "pixel297"
        },
        {
         "dtype": "int64",
         "name": "pixel298"
        },
        {
         "dtype": "int64",
         "name": "pixel299"
        },
        {
         "dtype": "int64",
         "name": "pixel300"
        },
        {
         "dtype": "int64",
         "name": "pixel301"
        },
        {
         "dtype": "int64",
         "name": "pixel302"
        },
        {
         "dtype": "int64",
         "name": "pixel303"
        },
        {
         "dtype": "int64",
         "name": "pixel304"
        },
        {
         "dtype": "int64",
         "name": "pixel305"
        },
        {
         "dtype": "int64",
         "name": "pixel306"
        },
        {
         "dtype": "int64",
         "name": "pixel307"
        },
        {
         "dtype": "int64",
         "name": "pixel308"
        },
        {
         "dtype": "int64",
         "name": "pixel309"
        },
        {
         "dtype": "int64",
         "name": "pixel310"
        },
        {
         "dtype": "int64",
         "name": "pixel311"
        },
        {
         "dtype": "int64",
         "name": "pixel312"
        },
        {
         "dtype": "int64",
         "name": "pixel313"
        },
        {
         "dtype": "int64",
         "name": "pixel314"
        },
        {
         "dtype": "int64",
         "name": "pixel315"
        },
        {
         "dtype": "int64",
         "name": "pixel316"
        },
        {
         "dtype": "int64",
         "name": "pixel317"
        },
        {
         "dtype": "int64",
         "name": "pixel318"
        },
        {
         "dtype": "int64",
         "name": "pixel319"
        },
        {
         "dtype": "int64",
         "name": "pixel320"
        },
        {
         "dtype": "int64",
         "name": "pixel321"
        },
        {
         "dtype": "int64",
         "name": "pixel322"
        },
        {
         "dtype": "int64",
         "name": "pixel323"
        },
        {
         "dtype": "int64",
         "name": "pixel324"
        },
        {
         "dtype": "int64",
         "name": "pixel325"
        },
        {
         "dtype": "int64",
         "name": "pixel326"
        },
        {
         "dtype": "int64",
         "name": "pixel327"
        },
        {
         "dtype": "int64",
         "name": "pixel328"
        },
        {
         "dtype": "int64",
         "name": "pixel329"
        },
        {
         "dtype": "int64",
         "name": "pixel330"
        },
        {
         "dtype": "int64",
         "name": "pixel331"
        },
        {
         "dtype": "int64",
         "name": "pixel332"
        },
        {
         "dtype": "int64",
         "name": "pixel333"
        },
        {
         "dtype": "int64",
         "name": "pixel334"
        },
        {
         "dtype": "int64",
         "name": "pixel335"
        },
        {
         "dtype": "int64",
         "name": "pixel336"
        },
        {
         "dtype": "int64",
         "name": "pixel337"
        },
        {
         "dtype": "int64",
         "name": "pixel338"
        },
        {
         "dtype": "int64",
         "name": "pixel339"
        },
        {
         "dtype": "int64",
         "name": "pixel340"
        },
        {
         "dtype": "int64",
         "name": "pixel341"
        },
        {
         "dtype": "int64",
         "name": "pixel342"
        },
        {
         "dtype": "int64",
         "name": "pixel343"
        },
        {
         "dtype": "int64",
         "name": "pixel344"
        },
        {
         "dtype": "int64",
         "name": "pixel345"
        },
        {
         "dtype": "int64",
         "name": "pixel346"
        },
        {
         "dtype": "int64",
         "name": "pixel347"
        },
        {
         "dtype": "int64",
         "name": "pixel348"
        },
        {
         "dtype": "int64",
         "name": "pixel349"
        },
        {
         "dtype": "int64",
         "name": "pixel350"
        },
        {
         "dtype": "int64",
         "name": "pixel351"
        },
        {
         "dtype": "int64",
         "name": "pixel352"
        },
        {
         "dtype": "int64",
         "name": "pixel353"
        },
        {
         "dtype": "int64",
         "name": "pixel354"
        },
        {
         "dtype": "int64",
         "name": "pixel355"
        },
        {
         "dtype": "int64",
         "name": "pixel356"
        },
        {
         "dtype": "int64",
         "name": "pixel357"
        },
        {
         "dtype": "int64",
         "name": "pixel358"
        },
        {
         "dtype": "int64",
         "name": "pixel359"
        },
        {
         "dtype": "int64",
         "name": "pixel360"
        },
        {
         "dtype": "int64",
         "name": "pixel361"
        },
        {
         "dtype": "int64",
         "name": "pixel362"
        },
        {
         "dtype": "int64",
         "name": "pixel363"
        },
        {
         "dtype": "int64",
         "name": "pixel364"
        },
        {
         "dtype": "int64",
         "name": "pixel365"
        },
        {
         "dtype": "int64",
         "name": "pixel366"
        },
        {
         "dtype": "int64",
         "name": "pixel367"
        },
        {
         "dtype": "int64",
         "name": "pixel368"
        },
        {
         "dtype": "int64",
         "name": "pixel369"
        },
        {
         "dtype": "int64",
         "name": "pixel370"
        },
        {
         "dtype": "int64",
         "name": "pixel371"
        },
        {
         "dtype": "int64",
         "name": "pixel372"
        },
        {
         "dtype": "int64",
         "name": "pixel373"
        },
        {
         "dtype": "int64",
         "name": "pixel374"
        },
        {
         "dtype": "int64",
         "name": "pixel375"
        },
        {
         "dtype": "int64",
         "name": "pixel376"
        },
        {
         "dtype": "int64",
         "name": "pixel377"
        },
        {
         "dtype": "int64",
         "name": "pixel378"
        },
        {
         "dtype": "int64",
         "name": "pixel379"
        },
        {
         "dtype": "int64",
         "name": "pixel380"
        },
        {
         "dtype": "int64",
         "name": "pixel381"
        },
        {
         "dtype": "int64",
         "name": "pixel382"
        },
        {
         "dtype": "int64",
         "name": "pixel383"
        },
        {
         "dtype": "int64",
         "name": "pixel384"
        },
        {
         "dtype": "int64",
         "name": "pixel385"
        },
        {
         "dtype": "int64",
         "name": "pixel386"
        },
        {
         "dtype": "int64",
         "name": "pixel387"
        },
        {
         "dtype": "int64",
         "name": "pixel388"
        },
        {
         "dtype": "int64",
         "name": "pixel389"
        },
        {
         "dtype": "int64",
         "name": "pixel390"
        },
        {
         "dtype": "int64",
         "name": "pixel391"
        },
        {
         "dtype": "int64",
         "name": "pixel392"
        },
        {
         "dtype": "int64",
         "name": "pixel393"
        },
        {
         "dtype": "int64",
         "name": "pixel394"
        },
        {
         "dtype": "int64",
         "name": "pixel395"
        },
        {
         "dtype": "int64",
         "name": "pixel396"
        },
        {
         "dtype": "int64",
         "name": "pixel397"
        },
        {
         "dtype": "int64",
         "name": "pixel398"
        },
        {
         "dtype": "int64",
         "name": "pixel399"
        },
        {
         "dtype": "int64",
         "name": "pixel400"
        },
        {
         "dtype": "int64",
         "name": "pixel401"
        },
        {
         "dtype": "int64",
         "name": "pixel402"
        },
        {
         "dtype": "int64",
         "name": "pixel403"
        },
        {
         "dtype": "int64",
         "name": "pixel404"
        },
        {
         "dtype": "int64",
         "name": "pixel405"
        },
        {
         "dtype": "int64",
         "name": "pixel406"
        },
        {
         "dtype": "int64",
         "name": "pixel407"
        },
        {
         "dtype": "int64",
         "name": "pixel408"
        },
        {
         "dtype": "int64",
         "name": "pixel409"
        },
        {
         "dtype": "int64",
         "name": "pixel410"
        },
        {
         "dtype": "int64",
         "name": "pixel411"
        },
        {
         "dtype": "int64",
         "name": "pixel412"
        },
        {
         "dtype": "int64",
         "name": "pixel413"
        },
        {
         "dtype": "int64",
         "name": "pixel414"
        },
        {
         "dtype": "int64",
         "name": "pixel415"
        },
        {
         "dtype": "int64",
         "name": "pixel416"
        },
        {
         "dtype": "int64",
         "name": "pixel417"
        },
        {
         "dtype": "int64",
         "name": "pixel418"
        },
        {
         "dtype": "int64",
         "name": "pixel419"
        },
        {
         "dtype": "int64",
         "name": "pixel420"
        },
        {
         "dtype": "int64",
         "name": "pixel421"
        },
        {
         "dtype": "int64",
         "name": "pixel422"
        },
        {
         "dtype": "int64",
         "name": "pixel423"
        },
        {
         "dtype": "int64",
         "name": "pixel424"
        },
        {
         "dtype": "int64",
         "name": "pixel425"
        },
        {
         "dtype": "int64",
         "name": "pixel426"
        },
        {
         "dtype": "int64",
         "name": "pixel427"
        },
        {
         "dtype": "int64",
         "name": "pixel428"
        },
        {
         "dtype": "int64",
         "name": "pixel429"
        },
        {
         "dtype": "int64",
         "name": "pixel430"
        },
        {
         "dtype": "int64",
         "name": "pixel431"
        },
        {
         "dtype": "int64",
         "name": "pixel432"
        },
        {
         "dtype": "int64",
         "name": "pixel433"
        },
        {
         "dtype": "int64",
         "name": "pixel434"
        },
        {
         "dtype": "int64",
         "name": "pixel435"
        },
        {
         "dtype": "int64",
         "name": "pixel436"
        },
        {
         "dtype": "int64",
         "name": "pixel437"
        },
        {
         "dtype": "int64",
         "name": "pixel438"
        },
        {
         "dtype": "int64",
         "name": "pixel439"
        },
        {
         "dtype": "int64",
         "name": "pixel440"
        },
        {
         "dtype": "int64",
         "name": "pixel441"
        },
        {
         "dtype": "int64",
         "name": "pixel442"
        },
        {
         "dtype": "int64",
         "name": "pixel443"
        },
        {
         "dtype": "int64",
         "name": "pixel444"
        },
        {
         "dtype": "int64",
         "name": "pixel445"
        },
        {
         "dtype": "int64",
         "name": "pixel446"
        },
        {
         "dtype": "int64",
         "name": "pixel447"
        },
        {
         "dtype": "int64",
         "name": "pixel448"
        },
        {
         "dtype": "int64",
         "name": "pixel449"
        },
        {
         "dtype": "int64",
         "name": "pixel450"
        },
        {
         "dtype": "int64",
         "name": "pixel451"
        },
        {
         "dtype": "int64",
         "name": "pixel452"
        },
        {
         "dtype": "int64",
         "name": "pixel453"
        },
        {
         "dtype": "int64",
         "name": "pixel454"
        },
        {
         "dtype": "int64",
         "name": "pixel455"
        },
        {
         "dtype": "int64",
         "name": "pixel456"
        },
        {
         "dtype": "int64",
         "name": "pixel457"
        },
        {
         "dtype": "int64",
         "name": "pixel458"
        },
        {
         "dtype": "int64",
         "name": "pixel459"
        },
        {
         "dtype": "int64",
         "name": "pixel460"
        },
        {
         "dtype": "int64",
         "name": "pixel461"
        },
        {
         "dtype": "int64",
         "name": "pixel462"
        },
        {
         "dtype": "int64",
         "name": "pixel463"
        },
        {
         "dtype": "int64",
         "name": "pixel464"
        },
        {
         "dtype": "int64",
         "name": "pixel465"
        },
        {
         "dtype": "int64",
         "name": "pixel466"
        },
        {
         "dtype": "int64",
         "name": "pixel467"
        },
        {
         "dtype": "int64",
         "name": "pixel468"
        },
        {
         "dtype": "int64",
         "name": "pixel469"
        },
        {
         "dtype": "int64",
         "name": "pixel470"
        },
        {
         "dtype": "int64",
         "name": "pixel471"
        },
        {
         "dtype": "int64",
         "name": "pixel472"
        },
        {
         "dtype": "int64",
         "name": "pixel473"
        },
        {
         "dtype": "int64",
         "name": "pixel474"
        },
        {
         "dtype": "int64",
         "name": "pixel475"
        },
        {
         "dtype": "int64",
         "name": "pixel476"
        },
        {
         "dtype": "int64",
         "name": "pixel477"
        },
        {
         "dtype": "int64",
         "name": "pixel478"
        },
        {
         "dtype": "int64",
         "name": "pixel479"
        },
        {
         "dtype": "int64",
         "name": "pixel480"
        },
        {
         "dtype": "int64",
         "name": "pixel481"
        },
        {
         "dtype": "int64",
         "name": "pixel482"
        },
        {
         "dtype": "int64",
         "name": "pixel483"
        },
        {
         "dtype": "int64",
         "name": "pixel484"
        },
        {
         "dtype": "int64",
         "name": "pixel485"
        },
        {
         "dtype": "int64",
         "name": "pixel486"
        },
        {
         "dtype": "int64",
         "name": "pixel487"
        },
        {
         "dtype": "int64",
         "name": "pixel488"
        },
        {
         "dtype": "int64",
         "name": "pixel489"
        },
        {
         "dtype": "int64",
         "name": "pixel490"
        },
        {
         "dtype": "int64",
         "name": "pixel491"
        },
        {
         "dtype": "int64",
         "name": "pixel492"
        },
        {
         "dtype": "int64",
         "name": "pixel493"
        },
        {
         "dtype": "int64",
         "name": "pixel494"
        },
        {
         "dtype": "int64",
         "name": "pixel495"
        },
        {
         "dtype": "int64",
         "name": "pixel496"
        },
        {
         "dtype": "int64",
         "name": "pixel497"
        },
        {
         "dtype": "int64",
         "name": "pixel498"
        },
        {
         "dtype": "int64",
         "name": "pixel499"
        },
        {
         "dtype": "int64",
         "name": "pixel500"
        },
        {
         "dtype": "int64",
         "name": "pixel501"
        },
        {
         "dtype": "int64",
         "name": "pixel502"
        },
        {
         "dtype": "int64",
         "name": "pixel503"
        },
        {
         "dtype": "int64",
         "name": "pixel504"
        },
        {
         "dtype": "int64",
         "name": "pixel505"
        },
        {
         "dtype": "int64",
         "name": "pixel506"
        },
        {
         "dtype": "int64",
         "name": "pixel507"
        },
        {
         "dtype": "int64",
         "name": "pixel508"
        },
        {
         "dtype": "int64",
         "name": "pixel509"
        },
        {
         "dtype": "int64",
         "name": "pixel510"
        },
        {
         "dtype": "int64",
         "name": "pixel511"
        },
        {
         "dtype": "int64",
         "name": "pixel512"
        },
        {
         "dtype": "int64",
         "name": "pixel513"
        },
        {
         "dtype": "int64",
         "name": "pixel514"
        },
        {
         "dtype": "int64",
         "name": "pixel515"
        },
        {
         "dtype": "int64",
         "name": "pixel516"
        },
        {
         "dtype": "int64",
         "name": "pixel517"
        },
        {
         "dtype": "int64",
         "name": "pixel518"
        },
        {
         "dtype": "int64",
         "name": "pixel519"
        },
        {
         "dtype": "int64",
         "name": "pixel520"
        },
        {
         "dtype": "int64",
         "name": "pixel521"
        },
        {
         "dtype": "int64",
         "name": "pixel522"
        },
        {
         "dtype": "int64",
         "name": "pixel523"
        },
        {
         "dtype": "int64",
         "name": "pixel524"
        },
        {
         "dtype": "int64",
         "name": "pixel525"
        },
        {
         "dtype": "int64",
         "name": "pixel526"
        },
        {
         "dtype": "int64",
         "name": "pixel527"
        },
        {
         "dtype": "int64",
         "name": "pixel528"
        },
        {
         "dtype": "int64",
         "name": "pixel529"
        },
        {
         "dtype": "int64",
         "name": "pixel530"
        },
        {
         "dtype": "int64",
         "name": "pixel531"
        },
        {
         "dtype": "int64",
         "name": "pixel532"
        },
        {
         "dtype": "int64",
         "name": "pixel533"
        },
        {
         "dtype": "int64",
         "name": "pixel534"
        },
        {
         "dtype": "int64",
         "name": "pixel535"
        },
        {
         "dtype": "int64",
         "name": "pixel536"
        },
        {
         "dtype": "int64",
         "name": "pixel537"
        },
        {
         "dtype": "int64",
         "name": "pixel538"
        },
        {
         "dtype": "int64",
         "name": "pixel539"
        },
        {
         "dtype": "int64",
         "name": "pixel540"
        },
        {
         "dtype": "int64",
         "name": "pixel541"
        },
        {
         "dtype": "int64",
         "name": "pixel542"
        },
        {
         "dtype": "int64",
         "name": "pixel543"
        },
        {
         "dtype": "int64",
         "name": "pixel544"
        },
        {
         "dtype": "int64",
         "name": "pixel545"
        },
        {
         "dtype": "int64",
         "name": "pixel546"
        },
        {
         "dtype": "int64",
         "name": "pixel547"
        },
        {
         "dtype": "int64",
         "name": "pixel548"
        },
        {
         "dtype": "int64",
         "name": "pixel549"
        },
        {
         "dtype": "int64",
         "name": "pixel550"
        },
        {
         "dtype": "int64",
         "name": "pixel551"
        },
        {
         "dtype": "int64",
         "name": "pixel552"
        },
        {
         "dtype": "int64",
         "name": "pixel553"
        },
        {
         "dtype": "int64",
         "name": "pixel554"
        },
        {
         "dtype": "int64",
         "name": "pixel555"
        },
        {
         "dtype": "int64",
         "name": "pixel556"
        },
        {
         "dtype": "int64",
         "name": "pixel557"
        },
        {
         "dtype": "int64",
         "name": "pixel558"
        },
        {
         "dtype": "int64",
         "name": "pixel559"
        },
        {
         "dtype": "int64",
         "name": "pixel560"
        },
        {
         "dtype": "int64",
         "name": "pixel561"
        },
        {
         "dtype": "int64",
         "name": "pixel562"
        },
        {
         "dtype": "int64",
         "name": "pixel563"
        },
        {
         "dtype": "int64",
         "name": "pixel564"
        },
        {
         "dtype": "int64",
         "name": "pixel565"
        },
        {
         "dtype": "int64",
         "name": "pixel566"
        },
        {
         "dtype": "int64",
         "name": "pixel567"
        },
        {
         "dtype": "int64",
         "name": "pixel568"
        },
        {
         "dtype": "int64",
         "name": "pixel569"
        },
        {
         "dtype": "int64",
         "name": "pixel570"
        },
        {
         "dtype": "int64",
         "name": "pixel571"
        },
        {
         "dtype": "int64",
         "name": "pixel572"
        },
        {
         "dtype": "int64",
         "name": "pixel573"
        },
        {
         "dtype": "int64",
         "name": "pixel574"
        },
        {
         "dtype": "int64",
         "name": "pixel575"
        },
        {
         "dtype": "int64",
         "name": "pixel576"
        },
        {
         "dtype": "int64",
         "name": "pixel577"
        },
        {
         "dtype": "int64",
         "name": "pixel578"
        },
        {
         "dtype": "int64",
         "name": "pixel579"
        },
        {
         "dtype": "int64",
         "name": "pixel580"
        },
        {
         "dtype": "int64",
         "name": "pixel581"
        },
        {
         "dtype": "int64",
         "name": "pixel582"
        },
        {
         "dtype": "int64",
         "name": "pixel583"
        },
        {
         "dtype": "int64",
         "name": "pixel584"
        },
        {
         "dtype": "int64",
         "name": "pixel585"
        },
        {
         "dtype": "int64",
         "name": "pixel586"
        },
        {
         "dtype": "int64",
         "name": "pixel587"
        },
        {
         "dtype": "int64",
         "name": "pixel588"
        },
        {
         "dtype": "int64",
         "name": "pixel589"
        },
        {
         "dtype": "int64",
         "name": "pixel590"
        },
        {
         "dtype": "int64",
         "name": "pixel591"
        },
        {
         "dtype": "int64",
         "name": "pixel592"
        },
        {
         "dtype": "int64",
         "name": "pixel593"
        },
        {
         "dtype": "int64",
         "name": "pixel594"
        },
        {
         "dtype": "int64",
         "name": "pixel595"
        },
        {
         "dtype": "int64",
         "name": "pixel596"
        },
        {
         "dtype": "int64",
         "name": "pixel597"
        },
        {
         "dtype": "int64",
         "name": "pixel598"
        },
        {
         "dtype": "int64",
         "name": "pixel599"
        },
        {
         "dtype": "int64",
         "name": "pixel600"
        },
        {
         "dtype": "int64",
         "name": "pixel601"
        },
        {
         "dtype": "int64",
         "name": "pixel602"
        },
        {
         "dtype": "int64",
         "name": "pixel603"
        },
        {
         "dtype": "int64",
         "name": "pixel604"
        },
        {
         "dtype": "int64",
         "name": "pixel605"
        },
        {
         "dtype": "int64",
         "name": "pixel606"
        },
        {
         "dtype": "int64",
         "name": "pixel607"
        },
        {
         "dtype": "int64",
         "name": "pixel608"
        },
        {
         "dtype": "int64",
         "name": "pixel609"
        },
        {
         "dtype": "int64",
         "name": "pixel610"
        },
        {
         "dtype": "int64",
         "name": "pixel611"
        },
        {
         "dtype": "int64",
         "name": "pixel612"
        },
        {
         "dtype": "int64",
         "name": "pixel613"
        },
        {
         "dtype": "int64",
         "name": "pixel614"
        },
        {
         "dtype": "int64",
         "name": "pixel615"
        },
        {
         "dtype": "int64",
         "name": "pixel616"
        },
        {
         "dtype": "int64",
         "name": "pixel617"
        },
        {
         "dtype": "int64",
         "name": "pixel618"
        },
        {
         "dtype": "int64",
         "name": "pixel619"
        },
        {
         "dtype": "int64",
         "name": "pixel620"
        },
        {
         "dtype": "int64",
         "name": "pixel621"
        },
        {
         "dtype": "int64",
         "name": "pixel622"
        },
        {
         "dtype": "int64",
         "name": "pixel623"
        },
        {
         "dtype": "int64",
         "name": "pixel624"
        },
        {
         "dtype": "int64",
         "name": "pixel625"
        },
        {
         "dtype": "int64",
         "name": "pixel626"
        },
        {
         "dtype": "int64",
         "name": "pixel627"
        },
        {
         "dtype": "int64",
         "name": "pixel628"
        },
        {
         "dtype": "int64",
         "name": "pixel629"
        },
        {
         "dtype": "int64",
         "name": "pixel630"
        },
        {
         "dtype": "int64",
         "name": "pixel631"
        },
        {
         "dtype": "int64",
         "name": "pixel632"
        },
        {
         "dtype": "int64",
         "name": "pixel633"
        },
        {
         "dtype": "int64",
         "name": "pixel634"
        },
        {
         "dtype": "int64",
         "name": "pixel635"
        },
        {
         "dtype": "int64",
         "name": "pixel636"
        },
        {
         "dtype": "int64",
         "name": "pixel637"
        },
        {
         "dtype": "int64",
         "name": "pixel638"
        },
        {
         "dtype": "int64",
         "name": "pixel639"
        },
        {
         "dtype": "int64",
         "name": "pixel640"
        },
        {
         "dtype": "int64",
         "name": "pixel641"
        },
        {
         "dtype": "int64",
         "name": "pixel642"
        },
        {
         "dtype": "int64",
         "name": "pixel643"
        },
        {
         "dtype": "int64",
         "name": "pixel644"
        },
        {
         "dtype": "int64",
         "name": "pixel645"
        },
        {
         "dtype": "int64",
         "name": "pixel646"
        },
        {
         "dtype": "int64",
         "name": "pixel647"
        },
        {
         "dtype": "int64",
         "name": "pixel648"
        },
        {
         "dtype": "int64",
         "name": "pixel649"
        },
        {
         "dtype": "int64",
         "name": "pixel650"
        },
        {
         "dtype": "int64",
         "name": "pixel651"
        },
        {
         "dtype": "int64",
         "name": "pixel652"
        },
        {
         "dtype": "int64",
         "name": "pixel653"
        },
        {
         "dtype": "int64",
         "name": "pixel654"
        },
        {
         "dtype": "int64",
         "name": "pixel655"
        },
        {
         "dtype": "int64",
         "name": "pixel656"
        },
        {
         "dtype": "int64",
         "name": "pixel657"
        },
        {
         "dtype": "int64",
         "name": "pixel658"
        },
        {
         "dtype": "int64",
         "name": "pixel659"
        },
        {
         "dtype": "int64",
         "name": "pixel660"
        },
        {
         "dtype": "int64",
         "name": "pixel661"
        },
        {
         "dtype": "int64",
         "name": "pixel662"
        },
        {
         "dtype": "int64",
         "name": "pixel663"
        },
        {
         "dtype": "int64",
         "name": "pixel664"
        },
        {
         "dtype": "int64",
         "name": "pixel665"
        },
        {
         "dtype": "int64",
         "name": "pixel666"
        },
        {
         "dtype": "int64",
         "name": "pixel667"
        },
        {
         "dtype": "int64",
         "name": "pixel668"
        },
        {
         "dtype": "int64",
         "name": "pixel669"
        },
        {
         "dtype": "int64",
         "name": "pixel670"
        },
        {
         "dtype": "int64",
         "name": "pixel671"
        },
        {
         "dtype": "int64",
         "name": "pixel672"
        },
        {
         "dtype": "int64",
         "name": "pixel673"
        },
        {
         "dtype": "int64",
         "name": "pixel674"
        },
        {
         "dtype": "int64",
         "name": "pixel675"
        },
        {
         "dtype": "int64",
         "name": "pixel676"
        },
        {
         "dtype": "int64",
         "name": "pixel677"
        },
        {
         "dtype": "int64",
         "name": "pixel678"
        },
        {
         "dtype": "int64",
         "name": "pixel679"
        },
        {
         "dtype": "int64",
         "name": "pixel680"
        },
        {
         "dtype": "int64",
         "name": "pixel681"
        },
        {
         "dtype": "int64",
         "name": "pixel682"
        },
        {
         "dtype": "int64",
         "name": "pixel683"
        },
        {
         "dtype": "int64",
         "name": "pixel684"
        },
        {
         "dtype": "int64",
         "name": "pixel685"
        },
        {
         "dtype": "int64",
         "name": "pixel686"
        },
        {
         "dtype": "int64",
         "name": "pixel687"
        },
        {
         "dtype": "int64",
         "name": "pixel688"
        },
        {
         "dtype": "int64",
         "name": "pixel689"
        },
        {
         "dtype": "int64",
         "name": "pixel690"
        },
        {
         "dtype": "int64",
         "name": "pixel691"
        },
        {
         "dtype": "int64",
         "name": "pixel692"
        },
        {
         "dtype": "int64",
         "name": "pixel693"
        },
        {
         "dtype": "int64",
         "name": "pixel694"
        },
        {
         "dtype": "int64",
         "name": "pixel695"
        },
        {
         "dtype": "int64",
         "name": "pixel696"
        },
        {
         "dtype": "int64",
         "name": "pixel697"
        },
        {
         "dtype": "int64",
         "name": "pixel698"
        },
        {
         "dtype": "int64",
         "name": "pixel699"
        },
        {
         "dtype": "int64",
         "name": "pixel700"
        },
        {
         "dtype": "int64",
         "name": "pixel701"
        },
        {
         "dtype": "int64",
         "name": "pixel702"
        },
        {
         "dtype": "int64",
         "name": "pixel703"
        },
        {
         "dtype": "int64",
         "name": "pixel704"
        },
        {
         "dtype": "int64",
         "name": "pixel705"
        },
        {
         "dtype": "int64",
         "name": "pixel706"
        },
        {
         "dtype": "int64",
         "name": "pixel707"
        },
        {
         "dtype": "int64",
         "name": "pixel708"
        },
        {
         "dtype": "int64",
         "name": "pixel709"
        },
        {
         "dtype": "int64",
         "name": "pixel710"
        },
        {
         "dtype": "int64",
         "name": "pixel711"
        },
        {
         "dtype": "int64",
         "name": "pixel712"
        },
        {
         "dtype": "int64",
         "name": "pixel713"
        },
        {
         "dtype": "int64",
         "name": "pixel714"
        },
        {
         "dtype": "int64",
         "name": "pixel715"
        },
        {
         "dtype": "int64",
         "name": "pixel716"
        },
        {
         "dtype": "int64",
         "name": "pixel717"
        },
        {
         "dtype": "int64",
         "name": "pixel718"
        },
        {
         "dtype": "int64",
         "name": "pixel719"
        },
        {
         "dtype": "int64",
         "name": "pixel720"
        },
        {
         "dtype": "int64",
         "name": "pixel721"
        },
        {
         "dtype": "int64",
         "name": "pixel722"
        },
        {
         "dtype": "int64",
         "name": "pixel723"
        },
        {
         "dtype": "int64",
         "name": "pixel724"
        },
        {
         "dtype": "int64",
         "name": "pixel725"
        },
        {
         "dtype": "int64",
         "name": "pixel726"
        },
        {
         "dtype": "int64",
         "name": "pixel727"
        },
        {
         "dtype": "int64",
         "name": "pixel728"
        },
        {
         "dtype": "int64",
         "name": "pixel729"
        },
        {
         "dtype": "int64",
         "name": "pixel730"
        },
        {
         "dtype": "int64",
         "name": "pixel731"
        },
        {
         "dtype": "int64",
         "name": "pixel732"
        },
        {
         "dtype": "int64",
         "name": "pixel733"
        },
        {
         "dtype": "int64",
         "name": "pixel734"
        },
        {
         "dtype": "int64",
         "name": "pixel735"
        },
        {
         "dtype": "int64",
         "name": "pixel736"
        },
        {
         "dtype": "int64",
         "name": "pixel737"
        },
        {
         "dtype": "int64",
         "name": "pixel738"
        },
        {
         "dtype": "int64",
         "name": "pixel739"
        },
        {
         "dtype": "int64",
         "name": "pixel740"
        },
        {
         "dtype": "int64",
         "name": "pixel741"
        },
        {
         "dtype": "int64",
         "name": "pixel742"
        },
        {
         "dtype": "int64",
         "name": "pixel743"
        },
        {
         "dtype": "int64",
         "name": "pixel744"
        },
        {
         "dtype": "int64",
         "name": "pixel745"
        },
        {
         "dtype": "int64",
         "name": "pixel746"
        },
        {
         "dtype": "int64",
         "name": "pixel747"
        },
        {
         "dtype": "int64",
         "name": "pixel748"
        },
        {
         "dtype": "int64",
         "name": "pixel749"
        },
        {
         "dtype": "int64",
         "name": "pixel750"
        },
        {
         "dtype": "int64",
         "name": "pixel751"
        },
        {
         "dtype": "int64",
         "name": "pixel752"
        },
        {
         "dtype": "int64",
         "name": "pixel753"
        },
        {
         "dtype": "int64",
         "name": "pixel754"
        },
        {
         "dtype": "int64",
         "name": "pixel755"
        },
        {
         "dtype": "int64",
         "name": "pixel756"
        },
        {
         "dtype": "int64",
         "name": "pixel757"
        },
        {
         "dtype": "int64",
         "name": "pixel758"
        },
        {
         "dtype": "int64",
         "name": "pixel759"
        },
        {
         "dtype": "int64",
         "name": "pixel760"
        },
        {
         "dtype": "int64",
         "name": "pixel761"
        },
        {
         "dtype": "int64",
         "name": "pixel762"
        },
        {
         "dtype": "int64",
         "name": "pixel763"
        },
        {
         "dtype": "int64",
         "name": "pixel764"
        },
        {
         "dtype": "int64",
         "name": "pixel765"
        },
        {
         "dtype": "int64",
         "name": "pixel766"
        },
        {
         "dtype": "int64",
         "name": "pixel767"
        },
        {
         "dtype": "int64",
         "name": "pixel768"
        },
        {
         "dtype": "int64",
         "name": "pixel769"
        },
        {
         "dtype": "int64",
         "name": "pixel770"
        },
        {
         "dtype": "int64",
         "name": "pixel771"
        },
        {
         "dtype": "int64",
         "name": "pixel772"
        },
        {
         "dtype": "int64",
         "name": "pixel773"
        },
        {
         "dtype": "int64",
         "name": "pixel774"
        },
        {
         "dtype": "int64",
         "name": "pixel775"
        },
        {
         "dtype": "int64",
         "name": "pixel776"
        },
        {
         "dtype": "int64",
         "name": "pixel777"
        },
        {
         "dtype": "int64",
         "name": "pixel778"
        },
        {
         "dtype": "int64",
         "name": "pixel779"
        },
        {
         "dtype": "int64",
         "name": "pixel780"
        },
        {
         "dtype": "int64",
         "name": "pixel781"
        },
        {
         "dtype": "int64",
         "name": "pixel782"
        },
        {
         "dtype": "int64",
         "name": "pixel783"
        },
        {
         "dtype": "int64",
         "name": "_deepnote_index_column"
        }
       ],
       "row_count": 10000,
       "rows_bottom": [
        {
         "_deepnote_index_column": 13153,
         "pixel0": 0,
         "pixel1": 0,
         "pixel10": 0,
         "pixel100": 0,
         "pixel101": 0,
         "pixel102": 0,
         "pixel103": 0,
         "pixel104": 0,
         "pixel105": 0,
         "pixel106": 0,
         "pixel107": 0,
         "pixel108": 0,
         "pixel109": 0,
         "pixel11": 0,
         "pixel110": 0,
         "pixel111": 0,
         "pixel112": 0,
         "pixel113": 0,
         "pixel114": 0,
         "pixel115": 0,
         "pixel116": 0,
         "pixel117": 0,
         "pixel118": 0,
         "pixel119": 0,
         "pixel12": 0,
         "pixel120": 0,
         "pixel121": 0,
         "pixel122": 0,
         "pixel123": 0,
         "pixel124": 0,
         "pixel125": 0,
         "pixel126": 0,
         "pixel127": 0,
         "pixel128": 0,
         "pixel129": 0,
         "pixel13": 0,
         "pixel130": 0,
         "pixel131": 0,
         "pixel132": 0,
         "pixel133": 0,
         "pixel134": 0,
         "pixel135": 118,
         "pixel136": 0,
         "pixel137": 0,
         "pixel138": 0,
         "pixel139": 0,
         "pixel14": 0,
         "pixel140": 0,
         "pixel141": 0,
         "pixel142": 0,
         "pixel143": 0,
         "pixel144": 0,
         "pixel145": 0,
         "pixel146": 0,
         "pixel147": 0,
         "pixel148": 0,
         "pixel149": 0,
         "pixel15": 0,
         "pixel150": 0,
         "pixel151": 0,
         "pixel152": 0,
         "pixel153": 0,
         "pixel154": 0,
         "pixel155": 0,
         "pixel156": 0,
         "pixel157": 0,
         "pixel158": 0,
         "pixel159": 0,
         "pixel16": 0,
         "pixel160": 0,
         "pixel161": 110,
         "pixel162": 255,
         "pixel163": 255,
         "pixel164": 255,
         "pixel165": 0,
         "pixel166": 0,
         "pixel167": 0,
         "pixel168": 0,
         "pixel169": 0,
         "pixel17": 0,
         "pixel170": 0,
         "pixel171": 0,
         "pixel172": 0,
         "pixel173": 0,
         "pixel174": 0,
         "pixel175": 0,
         "pixel176": 0,
         "pixel177": 0,
         "pixel178": 0,
         "pixel179": 0,
         "pixel18": 0,
         "pixel180": 0,
         "pixel181": 0,
         "pixel182": 0,
         "pixel183": 0,
         "pixel184": 0,
         "pixel185": 0,
         "pixel186": 0,
         "pixel187": 0,
         "pixel188": 255,
         "pixel189": 255,
         "pixel19": 0,
         "pixel190": 255,
         "pixel191": 255,
         "pixel192": 255,
         "pixel193": 0,
         "pixel194": 0,
         "pixel195": 0,
         "pixel196": 0,
         "pixel197": 0,
         "pixel198": 0,
         "pixel199": 0,
         "pixel2": 0,
         "pixel20": 0,
         "pixel200": 0,
         "pixel201": 0,
         "pixel202": 0,
         "pixel203": 0,
         "pixel204": 0,
         "pixel205": 0,
         "pixel206": 0,
         "pixel207": 0,
         "pixel208": 0,
         "pixel209": 0,
         "pixel21": 0,
         "pixel210": 0,
         "pixel211": 0,
         "pixel212": 0,
         "pixel213": 0,
         "pixel214": 0,
         "pixel215": 109,
         "pixel216": 255,
         "pixel217": 255,
         "pixel218": 255,
         "pixel219": 255,
         "pixel22": 0,
         "pixel220": 124,
         "pixel221": 0,
         "pixel222": 0,
         "pixel223": 0,
         "pixel224": 0,
         "pixel225": 0,
         "pixel226": 0,
         "pixel227": 0,
         "pixel228": 0,
         "pixel229": 0,
         "pixel23": 0,
         "pixel230": 0,
         "pixel231": 0,
         "pixel232": 0,
         "pixel233": 0,
         "pixel234": 0,
         "pixel235": 0,
         "pixel236": 0,
         "pixel237": 0,
         "pixel238": 0,
         "pixel239": 0,
         "pixel24": 0,
         "pixel240": 0,
         "pixel241": 0,
         "pixel242": 255,
         "pixel243": 255,
         "pixel244": 255,
         "pixel245": 255,
         "pixel246": 255,
         "pixel247": 0,
         "pixel248": 0,
         "pixel249": 0,
         "pixel25": 0,
         "pixel250": 0,
         "pixel251": 0,
         "pixel252": 0,
         "pixel253": 0,
         "pixel254": 0,
         "pixel255": 0,
         "pixel256": 0,
         "pixel257": 0,
         "pixel258": 0,
         "pixel259": 0,
         "pixel26": 0,
         "pixel260": 0,
         "pixel261": 0,
         "pixel262": 0,
         "pixel263": 0,
         "pixel264": 0,
         "pixel265": 0,
         "pixel266": 0,
         "pixel267": 0,
         "pixel268": 255,
         "pixel269": 255,
         "pixel27": 0,
         "pixel270": 255,
         "pixel271": 255,
         "pixel272": 255,
         "pixel273": 255,
         "pixel274": 129,
         "pixel275": 0,
         "pixel276": 0,
         "pixel277": 0,
         "pixel278": 0,
         "pixel279": 0,
         "pixel28": 0,
         "pixel280": 0,
         "pixel281": 0,
         "pixel282": 0,
         "pixel283": 0,
         "pixel284": 0,
         "pixel285": 0,
         "pixel286": 0,
         "pixel287": 0,
         "pixel288": 0,
         "pixel289": 0,
         "pixel29": 0,
         "pixel290": 0,
         "pixel291": 0,
         "pixel292": 0,
         "pixel293": 0,
         "pixel294": 0,
         "pixel295": 255,
         "pixel296": 255,
         "pixel297": 255,
         "pixel298": 255,
         "pixel299": 255,
         "pixel3": 0,
         "pixel30": 0,
         "pixel300": 255,
         "pixel301": 255,
         "pixel302": 0,
         "pixel303": 0,
         "pixel304": 0,
         "pixel305": 0,
         "pixel306": 0,
         "pixel307": 0,
         "pixel308": 0,
         "pixel309": 0,
         "pixel31": 0,
         "pixel310": 0,
         "pixel311": 0,
         "pixel312": 0,
         "pixel313": 0,
         "pixel314": 0,
         "pixel315": 0,
         "pixel316": 0,
         "pixel317": 0,
         "pixel318": 0,
         "pixel319": 0,
         "pixel32": 0,
         "pixel320": 0,
         "pixel321": 147,
         "pixel322": 255,
         "pixel323": 255,
         "pixel324": 255,
         "pixel325": 255,
         "pixel326": 255,
         "pixel327": 255,
         "pixel328": 255,
         "pixel329": 255,
         "pixel33": 0,
         "pixel330": 0,
         "pixel331": 0,
         "pixel332": 0,
         "pixel333": 0,
         "pixel334": 0,
         "pixel335": 0,
         "pixel336": 0,
         "pixel337": 0,
         "pixel338": 0,
         "pixel339": 0,
         "pixel34": 0,
         "pixel340": 0,
         "pixel341": 0,
         "pixel342": 0,
         "pixel343": 0,
         "pixel344": 0,
         "pixel345": 0,
         "pixel346": 0,
         "pixel347": 0,
         "pixel348": 255,
         "pixel349": 255,
         "pixel35": 0,
         "pixel350": 255,
         "pixel351": 255,
         "pixel352": 255,
         "pixel353": 255,
         "pixel354": 137,
         "pixel355": 255,
         "pixel356": 255,
         "pixel357": 255,
         "pixel358": 0,
         "pixel359": 0,
         "pixel36": 0,
         "pixel360": 0,
         "pixel361": 0,
         "pixel362": 0,
         "pixel363": 0,
         "pixel364": 0,
         "pixel365": 0,
         "pixel366": 0,
         "pixel367": 0,
         "pixel368": 0,
         "pixel369": 0,
         "pixel37": 0,
         "pixel370": 0,
         "pixel371": 0,
         "pixel372": 0,
         "pixel373": 0,
         "pixel374": 255,
         "pixel375": 255,
         "pixel376": 255,
         "pixel377": 255,
         "pixel378": 255,
         "pixel379": 255,
         "pixel38": 0,
         "pixel380": 0,
         "pixel381": 0,
         "pixel382": 255,
         "pixel383": 255,
         "pixel384": 255,
         "pixel385": 0,
         "pixel386": 0,
         "pixel387": 0,
         "pixel388": 0,
         "pixel389": 0,
         "pixel39": 0,
         "pixel390": 0,
         "pixel391": 0,
         "pixel392": 0,
         "pixel393": 0,
         "pixel394": 0,
         "pixel395": 0,
         "pixel396": 0,
         "pixel397": 0,
         "pixel398": 0,
         "pixel399": 0,
         "pixel4": 0,
         "pixel40": 0,
         "pixel400": 0,
         "pixel401": 255,
         "pixel402": 255,
         "pixel403": 255,
         "pixel404": 255,
         "pixel405": 255,
         "pixel406": 0,
         "pixel407": 0,
         "pixel408": 0,
         "pixel409": 255,
         "pixel41": 0,
         "pixel410": 255,
         "pixel411": 255,
         "pixel412": 0,
         "pixel413": 0,
         "pixel414": 0,
         "pixel415": 0,
         "pixel416": 0,
         "pixel417": 0,
         "pixel418": 0,
         "pixel419": 0,
         "pixel42": 0,
         "pixel420": 0,
         "pixel421": 0,
         "pixel422": 0,
         "pixel423": 0,
         "pixel424": 0,
         "pixel425": 0,
         "pixel426": 0,
         "pixel427": 0,
         "pixel428": 255,
         "pixel429": 255,
         "pixel43": 0,
         "pixel430": 255,
         "pixel431": 255,
         "pixel432": 255,
         "pixel433": 0,
         "pixel434": 0,
         "pixel435": 0,
         "pixel436": 0,
         "pixel437": 255,
         "pixel438": 255,
         "pixel439": 255,
         "pixel44": 0,
         "pixel440": 0,
         "pixel441": 0,
         "pixel442": 0,
         "pixel443": 0,
         "pixel444": 0,
         "pixel445": 0,
         "pixel446": 0,
         "pixel447": 0,
         "pixel448": 0,
         "pixel449": 0,
         "pixel45": 0,
         "pixel450": 0,
         "pixel451": 0,
         "pixel452": 0,
         "pixel453": 0,
         "pixel454": 0,
         "pixel455": 255,
         "pixel456": 255,
         "pixel457": 255,
         "pixel458": 255,
         "pixel459": 255,
         "pixel46": 0,
         "pixel460": 0,
         "pixel461": 0,
         "pixel462": 0,
         "pixel463": 0,
         "pixel464": 109,
         "pixel465": 255,
         "pixel466": 255,
         "pixel467": 0,
         "pixel468": 0,
         "pixel469": 0,
         "pixel47": 0,
         "pixel470": 0,
         "pixel471": 0,
         "pixel472": 0,
         "pixel473": 0,
         "pixel474": 0,
         "pixel475": 0,
         "pixel476": 0,
         "pixel477": 0,
         "pixel478": 0,
         "pixel479": 0,
         "pixel48": 0,
         "pixel480": 0,
         "pixel481": 118,
         "pixel482": 255,
         "pixel483": 255,
         "pixel484": 255,
         "pixel485": 255,
         "pixel486": 103,
         "pixel487": 0,
         "pixel488": 0,
         "pixel489": 0,
         "pixel49": 0,
         "pixel490": 0,
         "pixel491": 255,
         "pixel492": 255,
         "pixel493": 255,
         "pixel494": 255,
         "pixel495": 0,
         "pixel496": 0,
         "pixel497": 0,
         "pixel498": 0,
         "pixel499": 0,
         "pixel5": 0,
         "pixel50": 0,
         "pixel500": 0,
         "pixel501": 0,
         "pixel502": 0,
         "pixel503": 0,
         "pixel504": 0,
         "pixel505": 0,
         "pixel506": 0,
         "pixel507": 0,
         "pixel508": 0,
         "pixel509": 255,
         "pixel51": 0,
         "pixel510": 255,
         "pixel511": 255,
         "pixel512": 255,
         "pixel513": 255,
         "pixel514": 0,
         "pixel515": 0,
         "pixel516": 0,
         "pixel517": 141,
         "pixel518": 255,
         "pixel519": 255,
         "pixel52": 0,
         "pixel520": 255,
         "pixel521": 255,
         "pixel522": 150,
         "pixel523": 0,
         "pixel524": 0,
         "pixel525": 0,
         "pixel526": 0,
         "pixel527": 0,
         "pixel528": 0,
         "pixel529": 0,
         "pixel53": 0,
         "pixel530": 0,
         "pixel531": 0,
         "pixel532": 0,
         "pixel533": 0,
         "pixel534": 0,
         "pixel535": 0,
         "pixel536": 0,
         "pixel537": 255,
         "pixel538": 255,
         "pixel539": 255,
         "pixel54": 0,
         "pixel540": 255,
         "pixel541": 0,
         "pixel542": 0,
         "pixel543": 0,
         "pixel544": 255,
         "pixel545": 255,
         "pixel546": 255,
         "pixel547": 255,
         "pixel548": 255,
         "pixel549": 0,
         "pixel55": 0,
         "pixel550": 0,
         "pixel551": 0,
         "pixel552": 0,
         "pixel553": 0,
         "pixel554": 0,
         "pixel555": 0,
         "pixel556": 0,
         "pixel557": 0,
         "pixel558": 0,
         "pixel559": 0,
         "pixel56": 0,
         "pixel560": 0,
         "pixel561": 0,
         "pixel562": 0,
         "pixel563": 0,
         "pixel564": 0,
         "pixel565": 255,
         "pixel566": 255,
         "pixel567": 255,
         "pixel568": 255,
         "pixel569": 255,
         "pixel57": 0,
         "pixel570": 255,
         "pixel571": 255,
         "pixel572": 255,
         "pixel573": 255,
         "pixel574": 255,
         "pixel575": 0,
         "pixel576": 0,
         "pixel577": 0,
         "pixel578": 0,
         "pixel579": 0,
         "pixel58": 0,
         "pixel580": 0,
         "pixel581": 0,
         "pixel582": 0,
         "pixel583": 0,
         "pixel584": 0,
         "pixel585": 0,
         "pixel586": 0,
         "pixel587": 0,
         "pixel588": 0,
         "pixel589": 0,
         "pixel59": 0,
         "pixel590": 0,
         "pixel591": 0,
         "pixel592": 0,
         "pixel593": 255,
         "pixel594": 255,
         "pixel595": 255,
         "pixel596": 255,
         "pixel597": 255,
         "pixel598": 255,
         "pixel599": 255,
         "pixel6": 0,
         "pixel60": 0,
         "pixel600": 255,
         "pixel601": 255,
         "pixel602": 0,
         "pixel603": 0,
         "pixel604": 0,
         "pixel605": 0,
         "pixel606": 0,
         "pixel607": 0,
         "pixel608": 0,
         "pixel609": 0,
         "pixel61": 0,
         "pixel610": 0,
         "pixel611": 0,
         "pixel612": 0,
         "pixel613": 0,
         "pixel614": 0,
         "pixel615": 0,
         "pixel616": 0,
         "pixel617": 0,
         "pixel618": 0,
         "pixel619": 0,
         "pixel62": 0,
         "pixel620": 0,
         "pixel621": 0,
         "pixel622": 0,
         "pixel623": 255,
         "pixel624": 255,
         "pixel625": 255,
         "pixel626": 0,
         "pixel627": 0,
         "pixel628": 0,
         "pixel629": 0,
         "pixel63": 0,
         "pixel630": 0,
         "pixel631": 0,
         "pixel632": 0,
         "pixel633": 0,
         "pixel634": 0,
         "pixel635": 0,
         "pixel636": 0,
         "pixel637": 0,
         "pixel638": 0,
         "pixel639": 0,
         "pixel64": 0,
         "pixel640": 0,
         "pixel641": 0,
         "pixel642": 0,
         "pixel643": 0,
         "pixel644": 0,
         "pixel645": 0,
         "pixel646": 0,
         "pixel647": 0,
         "pixel648": 0,
         "pixel649": 0,
         "pixel65": 0,
         "pixel650": 0,
         "pixel651": 0,
         "pixel652": 0,
         "pixel653": 0,
         "pixel654": 0,
         "pixel655": 0,
         "pixel656": 0,
         "pixel657": 0,
         "pixel658": 0,
         "pixel659": 0,
         "pixel66": 0,
         "pixel660": 0,
         "pixel661": 0,
         "pixel662": 0,
         "pixel663": 0,
         "pixel664": 0,
         "pixel665": 0,
         "pixel666": 0,
         "pixel667": 0,
         "pixel668": 0,
         "pixel669": 0,
         "pixel67": 0,
         "pixel670": 0,
         "pixel671": 0,
         "pixel672": 0,
         "pixel673": 0,
         "pixel674": 0,
         "pixel675": 0,
         "pixel676": 0,
         "pixel677": 0,
         "pixel678": 0,
         "pixel679": 0,
         "pixel68": 0,
         "pixel680": 0,
         "pixel681": 0,
         "pixel682": 0,
         "pixel683": 0,
         "pixel684": 0,
         "pixel685": 0,
         "pixel686": 0,
         "pixel687": 0,
         "pixel688": 0,
         "pixel689": 0,
         "pixel69": 0,
         "pixel690": 0,
         "pixel691": 0,
         "pixel692": 0,
         "pixel693": 0,
         "pixel694": 0,
         "pixel695": 0,
         "pixel696": 0,
         "pixel697": 0,
         "pixel698": 0,
         "pixel699": 0,
         "pixel7": 0,
         "pixel70": 0,
         "pixel700": 0,
         "pixel701": 0,
         "pixel702": 0,
         "pixel703": 0,
         "pixel704": 0,
         "pixel705": 0,
         "pixel706": 0,
         "pixel707": 0,
         "pixel708": 0,
         "pixel709": 0,
         "pixel71": 0,
         "pixel710": 0,
         "pixel711": 0,
         "pixel712": 0,
         "pixel713": 0,
         "pixel714": 0,
         "pixel715": 0,
         "pixel716": 0,
         "pixel717": 0,
         "pixel718": 0,
         "pixel719": 0,
         "pixel72": 0,
         "pixel720": 0,
         "pixel721": 0,
         "pixel722": 0,
         "pixel723": 0,
         "pixel724": 0,
         "pixel725": 0,
         "pixel726": 0,
         "pixel727": 0,
         "pixel728": 0,
         "pixel729": 0,
         "pixel73": 0,
         "pixel730": 0,
         "pixel731": 0,
         "pixel732": 0,
         "pixel733": 0,
         "pixel734": 0,
         "pixel735": 0,
         "pixel736": 0,
         "pixel737": 0,
         "pixel738": 0,
         "pixel739": 0,
         "pixel74": 0,
         "pixel740": 0,
         "pixel741": 0,
         "pixel742": 0,
         "pixel743": 0,
         "pixel744": 0,
         "pixel745": 0,
         "pixel746": 0,
         "pixel747": 0,
         "pixel748": 0,
         "pixel749": 0,
         "pixel75": 0,
         "pixel750": 0,
         "pixel751": 0,
         "pixel752": 0,
         "pixel753": 0,
         "pixel754": 0,
         "pixel755": 0,
         "pixel756": 0,
         "pixel757": 0,
         "pixel758": 0,
         "pixel759": 0,
         "pixel76": 0,
         "pixel760": 0,
         "pixel761": 0,
         "pixel762": 0,
         "pixel763": 0,
         "pixel764": 0,
         "pixel765": 0,
         "pixel766": 0,
         "pixel767": 0,
         "pixel768": 0,
         "pixel769": 0,
         "pixel77": 0,
         "pixel770": 0,
         "pixel771": 0,
         "pixel772": 0,
         "pixel773": 0,
         "pixel774": 0,
         "pixel775": 0,
         "pixel776": 0,
         "pixel777": 0,
         "pixel778": 0,
         "pixel779": 0,
         "pixel78": 0,
         "pixel780": 0,
         "pixel781": 0,
         "pixel782": 0,
         "pixel783": 0,
         "pixel79": 0,
         "pixel8": 0,
         "pixel80": 0,
         "pixel81": 0,
         "pixel82": 0,
         "pixel83": 0,
         "pixel84": 0,
         "pixel85": 0,
         "pixel86": 0,
         "pixel87": 0,
         "pixel88": 0,
         "pixel89": 0,
         "pixel9": 0,
         "pixel90": 0,
         "pixel91": 0,
         "pixel92": 0,
         "pixel93": 0,
         "pixel94": 0,
         "pixel95": 0,
         "pixel96": 0,
         "pixel97": 0,
         "pixel98": 0,
         "pixel99": 0
        }
       ],
       "rows_top": []
      },
      "text/html": [
       "<div>\n",
       "<style scoped>\n",
       "    .dataframe tbody tr th:only-of-type {\n",
       "        vertical-align: middle;\n",
       "    }\n",
       "\n",
       "    .dataframe tbody tr th {\n",
       "        vertical-align: top;\n",
       "    }\n",
       "\n",
       "    .dataframe thead th {\n",
       "        text-align: right;\n",
       "    }\n",
       "</style>\n",
       "<table border=\"1\" class=\"dataframe\">\n",
       "  <thead>\n",
       "    <tr style=\"text-align: right;\">\n",
       "      <th></th>\n",
       "      <th>pixel0</th>\n",
       "      <th>pixel1</th>\n",
       "      <th>pixel2</th>\n",
       "      <th>pixel3</th>\n",
       "      <th>pixel4</th>\n",
       "      <th>pixel5</th>\n",
       "      <th>pixel6</th>\n",
       "      <th>pixel7</th>\n",
       "      <th>pixel8</th>\n",
       "      <th>pixel9</th>\n",
       "      <th>...</th>\n",
       "      <th>pixel774</th>\n",
       "      <th>pixel775</th>\n",
       "      <th>pixel776</th>\n",
       "      <th>pixel777</th>\n",
       "      <th>pixel778</th>\n",
       "      <th>pixel779</th>\n",
       "      <th>pixel780</th>\n",
       "      <th>pixel781</th>\n",
       "      <th>pixel782</th>\n",
       "      <th>pixel783</th>\n",
       "    </tr>\n",
       "  </thead>\n",
       "  <tbody>\n",
       "    <tr>\n",
       "      <th>25420</th>\n",
       "      <td>0</td>\n",
       "      <td>0</td>\n",
       "      <td>0</td>\n",
       "      <td>0</td>\n",
       "      <td>0</td>\n",
       "      <td>0</td>\n",
       "      <td>0</td>\n",
       "      <td>0</td>\n",
       "      <td>0</td>\n",
       "      <td>0</td>\n",
       "      <td>...</td>\n",
       "      <td>0</td>\n",
       "      <td>0</td>\n",
       "      <td>0</td>\n",
       "      <td>0</td>\n",
       "      <td>0</td>\n",
       "      <td>0</td>\n",
       "      <td>0</td>\n",
       "      <td>0</td>\n",
       "      <td>0</td>\n",
       "      <td>0</td>\n",
       "    </tr>\n",
       "    <tr>\n",
       "      <th>33967</th>\n",
       "      <td>0</td>\n",
       "      <td>0</td>\n",
       "      <td>0</td>\n",
       "      <td>0</td>\n",
       "      <td>0</td>\n",
       "      <td>0</td>\n",
       "      <td>0</td>\n",
       "      <td>0</td>\n",
       "      <td>0</td>\n",
       "      <td>0</td>\n",
       "      <td>...</td>\n",
       "      <td>0</td>\n",
       "      <td>0</td>\n",
       "      <td>0</td>\n",
       "      <td>0</td>\n",
       "      <td>0</td>\n",
       "      <td>0</td>\n",
       "      <td>0</td>\n",
       "      <td>0</td>\n",
       "      <td>0</td>\n",
       "      <td>0</td>\n",
       "    </tr>\n",
       "    <tr>\n",
       "      <th>18894</th>\n",
       "      <td>0</td>\n",
       "      <td>0</td>\n",
       "      <td>0</td>\n",
       "      <td>0</td>\n",
       "      <td>0</td>\n",
       "      <td>0</td>\n",
       "      <td>0</td>\n",
       "      <td>0</td>\n",
       "      <td>0</td>\n",
       "      <td>0</td>\n",
       "      <td>...</td>\n",
       "      <td>0</td>\n",
       "      <td>0</td>\n",
       "      <td>0</td>\n",
       "      <td>0</td>\n",
       "      <td>0</td>\n",
       "      <td>0</td>\n",
       "      <td>0</td>\n",
       "      <td>0</td>\n",
       "      <td>0</td>\n",
       "      <td>0</td>\n",
       "    </tr>\n",
       "    <tr>\n",
       "      <th>18206</th>\n",
       "      <td>0</td>\n",
       "      <td>0</td>\n",
       "      <td>0</td>\n",
       "      <td>0</td>\n",
       "      <td>0</td>\n",
       "      <td>0</td>\n",
       "      <td>0</td>\n",
       "      <td>0</td>\n",
       "      <td>0</td>\n",
       "      <td>0</td>\n",
       "      <td>...</td>\n",
       "      <td>0</td>\n",
       "      <td>0</td>\n",
       "      <td>0</td>\n",
       "      <td>0</td>\n",
       "      <td>0</td>\n",
       "      <td>0</td>\n",
       "      <td>0</td>\n",
       "      <td>0</td>\n",
       "      <td>0</td>\n",
       "      <td>0</td>\n",
       "    </tr>\n",
       "    <tr>\n",
       "      <th>39566</th>\n",
       "      <td>0</td>\n",
       "      <td>0</td>\n",
       "      <td>0</td>\n",
       "      <td>0</td>\n",
       "      <td>0</td>\n",
       "      <td>0</td>\n",
       "      <td>0</td>\n",
       "      <td>0</td>\n",
       "      <td>0</td>\n",
       "      <td>0</td>\n",
       "      <td>...</td>\n",
       "      <td>0</td>\n",
       "      <td>0</td>\n",
       "      <td>0</td>\n",
       "      <td>0</td>\n",
       "      <td>0</td>\n",
       "      <td>0</td>\n",
       "      <td>0</td>\n",
       "      <td>0</td>\n",
       "      <td>0</td>\n",
       "      <td>0</td>\n",
       "    </tr>\n",
       "    <tr>\n",
       "      <th>...</th>\n",
       "      <td>...</td>\n",
       "      <td>...</td>\n",
       "      <td>...</td>\n",
       "      <td>...</td>\n",
       "      <td>...</td>\n",
       "      <td>...</td>\n",
       "      <td>...</td>\n",
       "      <td>...</td>\n",
       "      <td>...</td>\n",
       "      <td>...</td>\n",
       "      <td>...</td>\n",
       "      <td>...</td>\n",
       "      <td>...</td>\n",
       "      <td>...</td>\n",
       "      <td>...</td>\n",
       "      <td>...</td>\n",
       "      <td>...</td>\n",
       "      <td>...</td>\n",
       "      <td>...</td>\n",
       "      <td>...</td>\n",
       "      <td>...</td>\n",
       "    </tr>\n",
       "    <tr>\n",
       "      <th>21733</th>\n",
       "      <td>0</td>\n",
       "      <td>0</td>\n",
       "      <td>0</td>\n",
       "      <td>0</td>\n",
       "      <td>0</td>\n",
       "      <td>0</td>\n",
       "      <td>0</td>\n",
       "      <td>0</td>\n",
       "      <td>0</td>\n",
       "      <td>0</td>\n",
       "      <td>...</td>\n",
       "      <td>0</td>\n",
       "      <td>0</td>\n",
       "      <td>0</td>\n",
       "      <td>0</td>\n",
       "      <td>0</td>\n",
       "      <td>0</td>\n",
       "      <td>0</td>\n",
       "      <td>0</td>\n",
       "      <td>0</td>\n",
       "      <td>0</td>\n",
       "    </tr>\n",
       "    <tr>\n",
       "      <th>8285</th>\n",
       "      <td>0</td>\n",
       "      <td>0</td>\n",
       "      <td>0</td>\n",
       "      <td>0</td>\n",
       "      <td>0</td>\n",
       "      <td>0</td>\n",
       "      <td>0</td>\n",
       "      <td>0</td>\n",
       "      <td>0</td>\n",
       "      <td>0</td>\n",
       "      <td>...</td>\n",
       "      <td>0</td>\n",
       "      <td>0</td>\n",
       "      <td>0</td>\n",
       "      <td>0</td>\n",
       "      <td>0</td>\n",
       "      <td>0</td>\n",
       "      <td>0</td>\n",
       "      <td>0</td>\n",
       "      <td>0</td>\n",
       "      <td>0</td>\n",
       "    </tr>\n",
       "    <tr>\n",
       "      <th>40444</th>\n",
       "      <td>0</td>\n",
       "      <td>0</td>\n",
       "      <td>0</td>\n",
       "      <td>0</td>\n",
       "      <td>0</td>\n",
       "      <td>0</td>\n",
       "      <td>0</td>\n",
       "      <td>0</td>\n",
       "      <td>0</td>\n",
       "      <td>0</td>\n",
       "      <td>...</td>\n",
       "      <td>0</td>\n",
       "      <td>0</td>\n",
       "      <td>0</td>\n",
       "      <td>0</td>\n",
       "      <td>0</td>\n",
       "      <td>0</td>\n",
       "      <td>0</td>\n",
       "      <td>0</td>\n",
       "      <td>0</td>\n",
       "      <td>0</td>\n",
       "    </tr>\n",
       "    <tr>\n",
       "      <th>13041</th>\n",
       "      <td>0</td>\n",
       "      <td>0</td>\n",
       "      <td>0</td>\n",
       "      <td>0</td>\n",
       "      <td>0</td>\n",
       "      <td>0</td>\n",
       "      <td>0</td>\n",
       "      <td>0</td>\n",
       "      <td>0</td>\n",
       "      <td>0</td>\n",
       "      <td>...</td>\n",
       "      <td>0</td>\n",
       "      <td>0</td>\n",
       "      <td>0</td>\n",
       "      <td>0</td>\n",
       "      <td>0</td>\n",
       "      <td>0</td>\n",
       "      <td>0</td>\n",
       "      <td>0</td>\n",
       "      <td>0</td>\n",
       "      <td>0</td>\n",
       "    </tr>\n",
       "    <tr>\n",
       "      <th>13153</th>\n",
       "      <td>0</td>\n",
       "      <td>0</td>\n",
       "      <td>0</td>\n",
       "      <td>0</td>\n",
       "      <td>0</td>\n",
       "      <td>0</td>\n",
       "      <td>0</td>\n",
       "      <td>0</td>\n",
       "      <td>0</td>\n",
       "      <td>0</td>\n",
       "      <td>...</td>\n",
       "      <td>0</td>\n",
       "      <td>0</td>\n",
       "      <td>0</td>\n",
       "      <td>0</td>\n",
       "      <td>0</td>\n",
       "      <td>0</td>\n",
       "      <td>0</td>\n",
       "      <td>0</td>\n",
       "      <td>0</td>\n",
       "      <td>0</td>\n",
       "    </tr>\n",
       "  </tbody>\n",
       "</table>\n",
       "<p>10000 rows × 784 columns</p>\n",
       "</div>"
      ],
      "text/plain": [
       "       pixel0  pixel1  pixel2  pixel3  pixel4  pixel5  pixel6  pixel7  pixel8  \\\n",
       "25420       0       0       0       0       0       0       0       0       0   \n",
       "33967       0       0       0       0       0       0       0       0       0   \n",
       "18894       0       0       0       0       0       0       0       0       0   \n",
       "18206       0       0       0       0       0       0       0       0       0   \n",
       "39566       0       0       0       0       0       0       0       0       0   \n",
       "...       ...     ...     ...     ...     ...     ...     ...     ...     ...   \n",
       "21733       0       0       0       0       0       0       0       0       0   \n",
       "8285        0       0       0       0       0       0       0       0       0   \n",
       "40444       0       0       0       0       0       0       0       0       0   \n",
       "13041       0       0       0       0       0       0       0       0       0   \n",
       "13153       0       0       0       0       0       0       0       0       0   \n",
       "\n",
       "       pixel9  ...  pixel774  pixel775  pixel776  pixel777  pixel778  \\\n",
       "25420       0  ...         0         0         0         0         0   \n",
       "33967       0  ...         0         0         0         0         0   \n",
       "18894       0  ...         0         0         0         0         0   \n",
       "18206       0  ...         0         0         0         0         0   \n",
       "39566       0  ...         0         0         0         0         0   \n",
       "...       ...  ...       ...       ...       ...       ...       ...   \n",
       "21733       0  ...         0         0         0         0         0   \n",
       "8285        0  ...         0         0         0         0         0   \n",
       "40444       0  ...         0         0         0         0         0   \n",
       "13041       0  ...         0         0         0         0         0   \n",
       "13153       0  ...         0         0         0         0         0   \n",
       "\n",
       "       pixel779  pixel780  pixel781  pixel782  pixel783  \n",
       "25420         0         0         0         0         0  \n",
       "33967         0         0         0         0         0  \n",
       "18894         0         0         0         0         0  \n",
       "18206         0         0         0         0         0  \n",
       "39566         0         0         0         0         0  \n",
       "...         ...       ...       ...       ...       ...  \n",
       "21733         0         0         0         0         0  \n",
       "8285          0         0         0         0         0  \n",
       "40444         0         0         0         0         0  \n",
       "13041         0         0         0         0         0  \n",
       "13153         0         0         0         0         0  \n",
       "\n",
       "[10000 rows x 784 columns]"
      ]
     },
     "execution_count": 19,
     "metadata": {},
     "output_type": "execute_result"
    }
   ],
   "source": [
    "# Copie de XSup100 en XInf100 pour effectuer la transformation des gris inférieur à 100 en noir\n",
    "XInf100 = XSup150.copy()\n",
    "XInf100[XInf100.iloc[:,0:] < 100]  = 0\n",
    "XInf100"
   ]
  },
  {
   "cell_type": "code",
   "execution_count": null,
   "metadata": {
    "cell_id": "00035-d3afb099-0d89-4789-af2d-cad661c49d90",
    "deepnote_cell_type": "code",
    "deepnote_to_be_reexecuted": false,
    "execution_millis": 80,
    "execution_start": 1613731909144,
    "source_hash": "e913f838",
    "tags": []
   },
   "outputs": [
    {
     "data": {
      "application/vnd.deepnote.dataframe.v2+json": {
       "column_count": 784,
       "columns": [
        {
         "dtype": "int64",
         "name": "pixel0",
         "stats": {
          "histogram": [
           {
            "bin_end": -0.4,
            "bin_start": -0.5,
            "count": 0
           },
           {
            "bin_end": -0.3,
            "bin_start": -0.4,
            "count": 0
           },
           {
            "bin_end": -0.19999999999999996,
            "bin_start": -0.3,
            "count": 0
           },
           {
            "bin_end": -0.09999999999999998,
            "bin_start": -0.19999999999999996,
            "count": 0
           },
           {
            "bin_end": 0,
            "bin_start": -0.09999999999999998,
            "count": 0
           },
           {
            "bin_end": 0.10000000000000009,
            "bin_start": 0,
            "count": 10000
           },
           {
            "bin_end": 0.20000000000000007,
            "bin_start": 0.10000000000000009,
            "count": 0
           },
           {
            "bin_end": 0.30000000000000004,
            "bin_start": 0.20000000000000007,
            "count": 0
           },
           {
            "bin_end": 0.4,
            "bin_start": 0.30000000000000004,
            "count": 0
           },
           {
            "bin_end": 0.5,
            "bin_start": 0.4,
            "count": 0
           }
          ],
          "max": 0,
          "min": 0,
          "nan_count": 0,
          "unique_count": 1
         }
        },
        {
         "dtype": "int64",
         "name": "pixel1",
         "stats": {
          "histogram": [
           {
            "bin_end": -0.4,
            "bin_start": -0.5,
            "count": 0
           },
           {
            "bin_end": -0.3,
            "bin_start": -0.4,
            "count": 0
           },
           {
            "bin_end": -0.19999999999999996,
            "bin_start": -0.3,
            "count": 0
           },
           {
            "bin_end": -0.09999999999999998,
            "bin_start": -0.19999999999999996,
            "count": 0
           },
           {
            "bin_end": 0,
            "bin_start": -0.09999999999999998,
            "count": 0
           },
           {
            "bin_end": 0.10000000000000009,
            "bin_start": 0,
            "count": 10000
           },
           {
            "bin_end": 0.20000000000000007,
            "bin_start": 0.10000000000000009,
            "count": 0
           },
           {
            "bin_end": 0.30000000000000004,
            "bin_start": 0.20000000000000007,
            "count": 0
           },
           {
            "bin_end": 0.4,
            "bin_start": 0.30000000000000004,
            "count": 0
           },
           {
            "bin_end": 0.5,
            "bin_start": 0.4,
            "count": 0
           }
          ],
          "max": 0,
          "min": 0,
          "nan_count": 0,
          "unique_count": 1
         }
        },
        {
         "dtype": "int64",
         "name": "pixel2",
         "stats": {
          "histogram": [
           {
            "bin_end": -0.4,
            "bin_start": -0.5,
            "count": 0
           },
           {
            "bin_end": -0.3,
            "bin_start": -0.4,
            "count": 0
           },
           {
            "bin_end": -0.19999999999999996,
            "bin_start": -0.3,
            "count": 0
           },
           {
            "bin_end": -0.09999999999999998,
            "bin_start": -0.19999999999999996,
            "count": 0
           },
           {
            "bin_end": 0,
            "bin_start": -0.09999999999999998,
            "count": 0
           },
           {
            "bin_end": 0.10000000000000009,
            "bin_start": 0,
            "count": 10000
           },
           {
            "bin_end": 0.20000000000000007,
            "bin_start": 0.10000000000000009,
            "count": 0
           },
           {
            "bin_end": 0.30000000000000004,
            "bin_start": 0.20000000000000007,
            "count": 0
           },
           {
            "bin_end": 0.4,
            "bin_start": 0.30000000000000004,
            "count": 0
           },
           {
            "bin_end": 0.5,
            "bin_start": 0.4,
            "count": 0
           }
          ],
          "max": 0,
          "min": 0,
          "nan_count": 0,
          "unique_count": 1
         }
        },
        {
         "dtype": "int64",
         "name": "pixel3",
         "stats": {
          "histogram": [
           {
            "bin_end": -0.4,
            "bin_start": -0.5,
            "count": 0
           },
           {
            "bin_end": -0.3,
            "bin_start": -0.4,
            "count": 0
           },
           {
            "bin_end": -0.19999999999999996,
            "bin_start": -0.3,
            "count": 0
           },
           {
            "bin_end": -0.09999999999999998,
            "bin_start": -0.19999999999999996,
            "count": 0
           },
           {
            "bin_end": 0,
            "bin_start": -0.09999999999999998,
            "count": 0
           },
           {
            "bin_end": 0.10000000000000009,
            "bin_start": 0,
            "count": 10000
           },
           {
            "bin_end": 0.20000000000000007,
            "bin_start": 0.10000000000000009,
            "count": 0
           },
           {
            "bin_end": 0.30000000000000004,
            "bin_start": 0.20000000000000007,
            "count": 0
           },
           {
            "bin_end": 0.4,
            "bin_start": 0.30000000000000004,
            "count": 0
           },
           {
            "bin_end": 0.5,
            "bin_start": 0.4,
            "count": 0
           }
          ],
          "max": 0,
          "min": 0,
          "nan_count": 0,
          "unique_count": 1
         }
        },
        {
         "dtype": "int64",
         "name": "pixel4",
         "stats": {
          "histogram": [
           {
            "bin_end": -0.4,
            "bin_start": -0.5,
            "count": 0
           },
           {
            "bin_end": -0.3,
            "bin_start": -0.4,
            "count": 0
           },
           {
            "bin_end": -0.19999999999999996,
            "bin_start": -0.3,
            "count": 0
           },
           {
            "bin_end": -0.09999999999999998,
            "bin_start": -0.19999999999999996,
            "count": 0
           },
           {
            "bin_end": 0,
            "bin_start": -0.09999999999999998,
            "count": 0
           },
           {
            "bin_end": 0.10000000000000009,
            "bin_start": 0,
            "count": 10000
           },
           {
            "bin_end": 0.20000000000000007,
            "bin_start": 0.10000000000000009,
            "count": 0
           },
           {
            "bin_end": 0.30000000000000004,
            "bin_start": 0.20000000000000007,
            "count": 0
           },
           {
            "bin_end": 0.4,
            "bin_start": 0.30000000000000004,
            "count": 0
           },
           {
            "bin_end": 0.5,
            "bin_start": 0.4,
            "count": 0
           }
          ],
          "max": 0,
          "min": 0,
          "nan_count": 0,
          "unique_count": 1
         }
        },
        {
         "dtype": "int64",
         "name": "pixel5",
         "stats": {
          "histogram": [
           {
            "bin_end": -0.4,
            "bin_start": -0.5,
            "count": 0
           },
           {
            "bin_end": -0.3,
            "bin_start": -0.4,
            "count": 0
           },
           {
            "bin_end": -0.19999999999999996,
            "bin_start": -0.3,
            "count": 0
           },
           {
            "bin_end": -0.09999999999999998,
            "bin_start": -0.19999999999999996,
            "count": 0
           },
           {
            "bin_end": 0,
            "bin_start": -0.09999999999999998,
            "count": 0
           },
           {
            "bin_end": 0.10000000000000009,
            "bin_start": 0,
            "count": 10000
           },
           {
            "bin_end": 0.20000000000000007,
            "bin_start": 0.10000000000000009,
            "count": 0
           },
           {
            "bin_end": 0.30000000000000004,
            "bin_start": 0.20000000000000007,
            "count": 0
           },
           {
            "bin_end": 0.4,
            "bin_start": 0.30000000000000004,
            "count": 0
           },
           {
            "bin_end": 0.5,
            "bin_start": 0.4,
            "count": 0
           }
          ],
          "max": 0,
          "min": 0,
          "nan_count": 0,
          "unique_count": 1
         }
        },
        {
         "dtype": "int64",
         "name": "pixel6",
         "stats": {
          "histogram": [
           {
            "bin_end": -0.4,
            "bin_start": -0.5,
            "count": 0
           },
           {
            "bin_end": -0.3,
            "bin_start": -0.4,
            "count": 0
           },
           {
            "bin_end": -0.19999999999999996,
            "bin_start": -0.3,
            "count": 0
           },
           {
            "bin_end": -0.09999999999999998,
            "bin_start": -0.19999999999999996,
            "count": 0
           },
           {
            "bin_end": 0,
            "bin_start": -0.09999999999999998,
            "count": 0
           },
           {
            "bin_end": 0.10000000000000009,
            "bin_start": 0,
            "count": 10000
           },
           {
            "bin_end": 0.20000000000000007,
            "bin_start": 0.10000000000000009,
            "count": 0
           },
           {
            "bin_end": 0.30000000000000004,
            "bin_start": 0.20000000000000007,
            "count": 0
           },
           {
            "bin_end": 0.4,
            "bin_start": 0.30000000000000004,
            "count": 0
           },
           {
            "bin_end": 0.5,
            "bin_start": 0.4,
            "count": 0
           }
          ],
          "max": 0,
          "min": 0,
          "nan_count": 0,
          "unique_count": 1
         }
        },
        {
         "dtype": "int64",
         "name": "pixel7",
         "stats": {
          "histogram": [
           {
            "bin_end": -0.4,
            "bin_start": -0.5,
            "count": 0
           },
           {
            "bin_end": -0.3,
            "bin_start": -0.4,
            "count": 0
           },
           {
            "bin_end": -0.19999999999999996,
            "bin_start": -0.3,
            "count": 0
           },
           {
            "bin_end": -0.09999999999999998,
            "bin_start": -0.19999999999999996,
            "count": 0
           },
           {
            "bin_end": 0,
            "bin_start": -0.09999999999999998,
            "count": 0
           },
           {
            "bin_end": 0.10000000000000009,
            "bin_start": 0,
            "count": 10000
           },
           {
            "bin_end": 0.20000000000000007,
            "bin_start": 0.10000000000000009,
            "count": 0
           },
           {
            "bin_end": 0.30000000000000004,
            "bin_start": 0.20000000000000007,
            "count": 0
           },
           {
            "bin_end": 0.4,
            "bin_start": 0.30000000000000004,
            "count": 0
           },
           {
            "bin_end": 0.5,
            "bin_start": 0.4,
            "count": 0
           }
          ],
          "max": 0,
          "min": 0,
          "nan_count": 0,
          "unique_count": 1
         }
        },
        {
         "dtype": "int64",
         "name": "pixel8",
         "stats": {
          "histogram": [
           {
            "bin_end": -0.4,
            "bin_start": -0.5,
            "count": 0
           },
           {
            "bin_end": -0.3,
            "bin_start": -0.4,
            "count": 0
           },
           {
            "bin_end": -0.19999999999999996,
            "bin_start": -0.3,
            "count": 0
           },
           {
            "bin_end": -0.09999999999999998,
            "bin_start": -0.19999999999999996,
            "count": 0
           },
           {
            "bin_end": 0,
            "bin_start": -0.09999999999999998,
            "count": 0
           },
           {
            "bin_end": 0.10000000000000009,
            "bin_start": 0,
            "count": 10000
           },
           {
            "bin_end": 0.20000000000000007,
            "bin_start": 0.10000000000000009,
            "count": 0
           },
           {
            "bin_end": 0.30000000000000004,
            "bin_start": 0.20000000000000007,
            "count": 0
           },
           {
            "bin_end": 0.4,
            "bin_start": 0.30000000000000004,
            "count": 0
           },
           {
            "bin_end": 0.5,
            "bin_start": 0.4,
            "count": 0
           }
          ],
          "max": 0,
          "min": 0,
          "nan_count": 0,
          "unique_count": 1
         }
        },
        {
         "dtype": "int64",
         "name": "pixel9",
         "stats": {
          "histogram": [
           {
            "bin_end": -0.4,
            "bin_start": -0.5,
            "count": 0
           },
           {
            "bin_end": -0.3,
            "bin_start": -0.4,
            "count": 0
           },
           {
            "bin_end": -0.19999999999999996,
            "bin_start": -0.3,
            "count": 0
           },
           {
            "bin_end": -0.09999999999999998,
            "bin_start": -0.19999999999999996,
            "count": 0
           },
           {
            "bin_end": 0,
            "bin_start": -0.09999999999999998,
            "count": 0
           },
           {
            "bin_end": 0.10000000000000009,
            "bin_start": 0,
            "count": 10000
           },
           {
            "bin_end": 0.20000000000000007,
            "bin_start": 0.10000000000000009,
            "count": 0
           },
           {
            "bin_end": 0.30000000000000004,
            "bin_start": 0.20000000000000007,
            "count": 0
           },
           {
            "bin_end": 0.4,
            "bin_start": 0.30000000000000004,
            "count": 0
           },
           {
            "bin_end": 0.5,
            "bin_start": 0.4,
            "count": 0
           }
          ],
          "max": 0,
          "min": 0,
          "nan_count": 0,
          "unique_count": 1
         }
        },
        {
         "dtype": "int64",
         "name": "pixel10"
        },
        {
         "dtype": "int64",
         "name": "pixel11"
        },
        {
         "dtype": "int64",
         "name": "pixel12"
        },
        {
         "dtype": "int64",
         "name": "pixel13"
        },
        {
         "dtype": "int64",
         "name": "pixel14"
        },
        {
         "dtype": "int64",
         "name": "pixel15"
        },
        {
         "dtype": "int64",
         "name": "pixel16"
        },
        {
         "dtype": "int64",
         "name": "pixel17"
        },
        {
         "dtype": "int64",
         "name": "pixel18"
        },
        {
         "dtype": "int64",
         "name": "pixel19"
        },
        {
         "dtype": "int64",
         "name": "pixel20"
        },
        {
         "dtype": "int64",
         "name": "pixel21"
        },
        {
         "dtype": "int64",
         "name": "pixel22"
        },
        {
         "dtype": "int64",
         "name": "pixel23"
        },
        {
         "dtype": "int64",
         "name": "pixel24"
        },
        {
         "dtype": "int64",
         "name": "pixel25"
        },
        {
         "dtype": "int64",
         "name": "pixel26"
        },
        {
         "dtype": "int64",
         "name": "pixel27"
        },
        {
         "dtype": "int64",
         "name": "pixel28"
        },
        {
         "dtype": "int64",
         "name": "pixel29"
        },
        {
         "dtype": "int64",
         "name": "pixel30"
        },
        {
         "dtype": "int64",
         "name": "pixel31"
        },
        {
         "dtype": "int64",
         "name": "pixel32"
        },
        {
         "dtype": "int64",
         "name": "pixel33"
        },
        {
         "dtype": "int64",
         "name": "pixel34"
        },
        {
         "dtype": "int64",
         "name": "pixel35"
        },
        {
         "dtype": "int64",
         "name": "pixel36"
        },
        {
         "dtype": "int64",
         "name": "pixel37"
        },
        {
         "dtype": "int64",
         "name": "pixel38"
        },
        {
         "dtype": "int64",
         "name": "pixel39"
        },
        {
         "dtype": "int64",
         "name": "pixel40"
        },
        {
         "dtype": "int64",
         "name": "pixel41"
        },
        {
         "dtype": "int64",
         "name": "pixel42"
        },
        {
         "dtype": "int64",
         "name": "pixel43"
        },
        {
         "dtype": "int64",
         "name": "pixel44"
        },
        {
         "dtype": "int64",
         "name": "pixel45"
        },
        {
         "dtype": "int64",
         "name": "pixel46"
        },
        {
         "dtype": "int64",
         "name": "pixel47"
        },
        {
         "dtype": "int64",
         "name": "pixel48"
        },
        {
         "dtype": "int64",
         "name": "pixel49"
        },
        {
         "dtype": "int64",
         "name": "pixel50"
        },
        {
         "dtype": "int64",
         "name": "pixel51"
        },
        {
         "dtype": "int64",
         "name": "pixel52"
        },
        {
         "dtype": "int64",
         "name": "pixel53"
        },
        {
         "dtype": "int64",
         "name": "pixel54"
        },
        {
         "dtype": "int64",
         "name": "pixel55"
        },
        {
         "dtype": "int64",
         "name": "pixel56"
        },
        {
         "dtype": "int64",
         "name": "pixel57"
        },
        {
         "dtype": "int64",
         "name": "pixel58"
        },
        {
         "dtype": "int64",
         "name": "pixel59"
        },
        {
         "dtype": "int64",
         "name": "pixel60"
        },
        {
         "dtype": "int64",
         "name": "pixel61"
        },
        {
         "dtype": "int64",
         "name": "pixel62"
        },
        {
         "dtype": "int64",
         "name": "pixel63"
        },
        {
         "dtype": "int64",
         "name": "pixel64"
        },
        {
         "dtype": "int64",
         "name": "pixel65"
        },
        {
         "dtype": "int64",
         "name": "pixel66"
        },
        {
         "dtype": "int64",
         "name": "pixel67"
        },
        {
         "dtype": "int64",
         "name": "pixel68"
        },
        {
         "dtype": "int64",
         "name": "pixel69"
        },
        {
         "dtype": "int64",
         "name": "pixel70"
        },
        {
         "dtype": "int64",
         "name": "pixel71"
        },
        {
         "dtype": "int64",
         "name": "pixel72"
        },
        {
         "dtype": "int64",
         "name": "pixel73"
        },
        {
         "dtype": "int64",
         "name": "pixel74"
        },
        {
         "dtype": "int64",
         "name": "pixel75"
        },
        {
         "dtype": "int64",
         "name": "pixel76"
        },
        {
         "dtype": "int64",
         "name": "pixel77"
        },
        {
         "dtype": "int64",
         "name": "pixel78"
        },
        {
         "dtype": "int64",
         "name": "pixel79"
        },
        {
         "dtype": "int64",
         "name": "pixel80"
        },
        {
         "dtype": "int64",
         "name": "pixel81"
        },
        {
         "dtype": "int64",
         "name": "pixel82"
        },
        {
         "dtype": "int64",
         "name": "pixel83"
        },
        {
         "dtype": "int64",
         "name": "pixel84"
        },
        {
         "dtype": "int64",
         "name": "pixel85"
        },
        {
         "dtype": "int64",
         "name": "pixel86"
        },
        {
         "dtype": "int64",
         "name": "pixel87"
        },
        {
         "dtype": "int64",
         "name": "pixel88"
        },
        {
         "dtype": "int64",
         "name": "pixel89"
        },
        {
         "dtype": "int64",
         "name": "pixel90"
        },
        {
         "dtype": "int64",
         "name": "pixel91"
        },
        {
         "dtype": "int64",
         "name": "pixel92"
        },
        {
         "dtype": "int64",
         "name": "pixel93"
        },
        {
         "dtype": "int64",
         "name": "pixel94"
        },
        {
         "dtype": "int64",
         "name": "pixel95"
        },
        {
         "dtype": "int64",
         "name": "pixel96"
        },
        {
         "dtype": "int64",
         "name": "pixel97"
        },
        {
         "dtype": "int64",
         "name": "pixel98"
        },
        {
         "dtype": "int64",
         "name": "pixel99"
        },
        {
         "dtype": "int64",
         "name": "pixel100"
        },
        {
         "dtype": "int64",
         "name": "pixel101"
        },
        {
         "dtype": "int64",
         "name": "pixel102"
        },
        {
         "dtype": "int64",
         "name": "pixel103"
        },
        {
         "dtype": "int64",
         "name": "pixel104"
        },
        {
         "dtype": "int64",
         "name": "pixel105"
        },
        {
         "dtype": "int64",
         "name": "pixel106"
        },
        {
         "dtype": "int64",
         "name": "pixel107"
        },
        {
         "dtype": "int64",
         "name": "pixel108"
        },
        {
         "dtype": "int64",
         "name": "pixel109"
        },
        {
         "dtype": "int64",
         "name": "pixel110"
        },
        {
         "dtype": "int64",
         "name": "pixel111"
        },
        {
         "dtype": "int64",
         "name": "pixel112"
        },
        {
         "dtype": "int64",
         "name": "pixel113"
        },
        {
         "dtype": "int64",
         "name": "pixel114"
        },
        {
         "dtype": "int64",
         "name": "pixel115"
        },
        {
         "dtype": "int64",
         "name": "pixel116"
        },
        {
         "dtype": "int64",
         "name": "pixel117"
        },
        {
         "dtype": "int64",
         "name": "pixel118"
        },
        {
         "dtype": "int64",
         "name": "pixel119"
        },
        {
         "dtype": "int64",
         "name": "pixel120"
        },
        {
         "dtype": "int64",
         "name": "pixel121"
        },
        {
         "dtype": "int64",
         "name": "pixel122"
        },
        {
         "dtype": "int64",
         "name": "pixel123"
        },
        {
         "dtype": "int64",
         "name": "pixel124"
        },
        {
         "dtype": "int64",
         "name": "pixel125"
        },
        {
         "dtype": "int64",
         "name": "pixel126"
        },
        {
         "dtype": "int64",
         "name": "pixel127"
        },
        {
         "dtype": "int64",
         "name": "pixel128"
        },
        {
         "dtype": "int64",
         "name": "pixel129"
        },
        {
         "dtype": "int64",
         "name": "pixel130"
        },
        {
         "dtype": "int64",
         "name": "pixel131"
        },
        {
         "dtype": "int64",
         "name": "pixel132"
        },
        {
         "dtype": "int64",
         "name": "pixel133"
        },
        {
         "dtype": "int64",
         "name": "pixel134"
        },
        {
         "dtype": "int64",
         "name": "pixel135"
        },
        {
         "dtype": "int64",
         "name": "pixel136"
        },
        {
         "dtype": "int64",
         "name": "pixel137"
        },
        {
         "dtype": "int64",
         "name": "pixel138"
        },
        {
         "dtype": "int64",
         "name": "pixel139"
        },
        {
         "dtype": "int64",
         "name": "pixel140"
        },
        {
         "dtype": "int64",
         "name": "pixel141"
        },
        {
         "dtype": "int64",
         "name": "pixel142"
        },
        {
         "dtype": "int64",
         "name": "pixel143"
        },
        {
         "dtype": "int64",
         "name": "pixel144"
        },
        {
         "dtype": "int64",
         "name": "pixel145"
        },
        {
         "dtype": "int64",
         "name": "pixel146"
        },
        {
         "dtype": "int64",
         "name": "pixel147"
        },
        {
         "dtype": "int64",
         "name": "pixel148"
        },
        {
         "dtype": "int64",
         "name": "pixel149"
        },
        {
         "dtype": "int64",
         "name": "pixel150"
        },
        {
         "dtype": "int64",
         "name": "pixel151"
        },
        {
         "dtype": "int64",
         "name": "pixel152"
        },
        {
         "dtype": "int64",
         "name": "pixel153"
        },
        {
         "dtype": "int64",
         "name": "pixel154"
        },
        {
         "dtype": "int64",
         "name": "pixel155"
        },
        {
         "dtype": "int64",
         "name": "pixel156"
        },
        {
         "dtype": "int64",
         "name": "pixel157"
        },
        {
         "dtype": "int64",
         "name": "pixel158"
        },
        {
         "dtype": "int64",
         "name": "pixel159"
        },
        {
         "dtype": "int64",
         "name": "pixel160"
        },
        {
         "dtype": "int64",
         "name": "pixel161"
        },
        {
         "dtype": "int64",
         "name": "pixel162"
        },
        {
         "dtype": "int64",
         "name": "pixel163"
        },
        {
         "dtype": "int64",
         "name": "pixel164"
        },
        {
         "dtype": "int64",
         "name": "pixel165"
        },
        {
         "dtype": "int64",
         "name": "pixel166"
        },
        {
         "dtype": "int64",
         "name": "pixel167"
        },
        {
         "dtype": "int64",
         "name": "pixel168"
        },
        {
         "dtype": "int64",
         "name": "pixel169"
        },
        {
         "dtype": "int64",
         "name": "pixel170"
        },
        {
         "dtype": "int64",
         "name": "pixel171"
        },
        {
         "dtype": "int64",
         "name": "pixel172"
        },
        {
         "dtype": "int64",
         "name": "pixel173"
        },
        {
         "dtype": "int64",
         "name": "pixel174"
        },
        {
         "dtype": "int64",
         "name": "pixel175"
        },
        {
         "dtype": "int64",
         "name": "pixel176"
        },
        {
         "dtype": "int64",
         "name": "pixel177"
        },
        {
         "dtype": "int64",
         "name": "pixel178"
        },
        {
         "dtype": "int64",
         "name": "pixel179"
        },
        {
         "dtype": "int64",
         "name": "pixel180"
        },
        {
         "dtype": "int64",
         "name": "pixel181"
        },
        {
         "dtype": "int64",
         "name": "pixel182"
        },
        {
         "dtype": "int64",
         "name": "pixel183"
        },
        {
         "dtype": "int64",
         "name": "pixel184"
        },
        {
         "dtype": "int64",
         "name": "pixel185"
        },
        {
         "dtype": "int64",
         "name": "pixel186"
        },
        {
         "dtype": "int64",
         "name": "pixel187"
        },
        {
         "dtype": "int64",
         "name": "pixel188"
        },
        {
         "dtype": "int64",
         "name": "pixel189"
        },
        {
         "dtype": "int64",
         "name": "pixel190"
        },
        {
         "dtype": "int64",
         "name": "pixel191"
        },
        {
         "dtype": "int64",
         "name": "pixel192"
        },
        {
         "dtype": "int64",
         "name": "pixel193"
        },
        {
         "dtype": "int64",
         "name": "pixel194"
        },
        {
         "dtype": "int64",
         "name": "pixel195"
        },
        {
         "dtype": "int64",
         "name": "pixel196"
        },
        {
         "dtype": "int64",
         "name": "pixel197"
        },
        {
         "dtype": "int64",
         "name": "pixel198"
        },
        {
         "dtype": "int64",
         "name": "pixel199"
        },
        {
         "dtype": "int64",
         "name": "pixel200"
        },
        {
         "dtype": "int64",
         "name": "pixel201"
        },
        {
         "dtype": "int64",
         "name": "pixel202"
        },
        {
         "dtype": "int64",
         "name": "pixel203"
        },
        {
         "dtype": "int64",
         "name": "pixel204"
        },
        {
         "dtype": "int64",
         "name": "pixel205"
        },
        {
         "dtype": "int64",
         "name": "pixel206"
        },
        {
         "dtype": "int64",
         "name": "pixel207"
        },
        {
         "dtype": "int64",
         "name": "pixel208"
        },
        {
         "dtype": "int64",
         "name": "pixel209"
        },
        {
         "dtype": "int64",
         "name": "pixel210"
        },
        {
         "dtype": "int64",
         "name": "pixel211"
        },
        {
         "dtype": "int64",
         "name": "pixel212"
        },
        {
         "dtype": "int64",
         "name": "pixel213"
        },
        {
         "dtype": "int64",
         "name": "pixel214"
        },
        {
         "dtype": "int64",
         "name": "pixel215"
        },
        {
         "dtype": "int64",
         "name": "pixel216"
        },
        {
         "dtype": "int64",
         "name": "pixel217"
        },
        {
         "dtype": "int64",
         "name": "pixel218"
        },
        {
         "dtype": "int64",
         "name": "pixel219"
        },
        {
         "dtype": "int64",
         "name": "pixel220"
        },
        {
         "dtype": "int64",
         "name": "pixel221"
        },
        {
         "dtype": "int64",
         "name": "pixel222"
        },
        {
         "dtype": "int64",
         "name": "pixel223"
        },
        {
         "dtype": "int64",
         "name": "pixel224"
        },
        {
         "dtype": "int64",
         "name": "pixel225"
        },
        {
         "dtype": "int64",
         "name": "pixel226"
        },
        {
         "dtype": "int64",
         "name": "pixel227"
        },
        {
         "dtype": "int64",
         "name": "pixel228"
        },
        {
         "dtype": "int64",
         "name": "pixel229"
        },
        {
         "dtype": "int64",
         "name": "pixel230"
        },
        {
         "dtype": "int64",
         "name": "pixel231"
        },
        {
         "dtype": "int64",
         "name": "pixel232"
        },
        {
         "dtype": "int64",
         "name": "pixel233"
        },
        {
         "dtype": "int64",
         "name": "pixel234"
        },
        {
         "dtype": "int64",
         "name": "pixel235"
        },
        {
         "dtype": "int64",
         "name": "pixel236"
        },
        {
         "dtype": "int64",
         "name": "pixel237"
        },
        {
         "dtype": "int64",
         "name": "pixel238"
        },
        {
         "dtype": "int64",
         "name": "pixel239"
        },
        {
         "dtype": "int64",
         "name": "pixel240"
        },
        {
         "dtype": "int64",
         "name": "pixel241"
        },
        {
         "dtype": "int64",
         "name": "pixel242"
        },
        {
         "dtype": "int64",
         "name": "pixel243"
        },
        {
         "dtype": "int64",
         "name": "pixel244"
        },
        {
         "dtype": "int64",
         "name": "pixel245"
        },
        {
         "dtype": "int64",
         "name": "pixel246"
        },
        {
         "dtype": "int64",
         "name": "pixel247"
        },
        {
         "dtype": "int64",
         "name": "pixel248"
        },
        {
         "dtype": "int64",
         "name": "pixel249"
        },
        {
         "dtype": "int64",
         "name": "pixel250"
        },
        {
         "dtype": "int64",
         "name": "pixel251"
        },
        {
         "dtype": "int64",
         "name": "pixel252"
        },
        {
         "dtype": "int64",
         "name": "pixel253"
        },
        {
         "dtype": "int64",
         "name": "pixel254"
        },
        {
         "dtype": "int64",
         "name": "pixel255"
        },
        {
         "dtype": "int64",
         "name": "pixel256"
        },
        {
         "dtype": "int64",
         "name": "pixel257"
        },
        {
         "dtype": "int64",
         "name": "pixel258"
        },
        {
         "dtype": "int64",
         "name": "pixel259"
        },
        {
         "dtype": "int64",
         "name": "pixel260"
        },
        {
         "dtype": "int64",
         "name": "pixel261"
        },
        {
         "dtype": "int64",
         "name": "pixel262"
        },
        {
         "dtype": "int64",
         "name": "pixel263"
        },
        {
         "dtype": "int64",
         "name": "pixel264"
        },
        {
         "dtype": "int64",
         "name": "pixel265"
        },
        {
         "dtype": "int64",
         "name": "pixel266"
        },
        {
         "dtype": "int64",
         "name": "pixel267"
        },
        {
         "dtype": "int64",
         "name": "pixel268"
        },
        {
         "dtype": "int64",
         "name": "pixel269"
        },
        {
         "dtype": "int64",
         "name": "pixel270"
        },
        {
         "dtype": "int64",
         "name": "pixel271"
        },
        {
         "dtype": "int64",
         "name": "pixel272"
        },
        {
         "dtype": "int64",
         "name": "pixel273"
        },
        {
         "dtype": "int64",
         "name": "pixel274"
        },
        {
         "dtype": "int64",
         "name": "pixel275"
        },
        {
         "dtype": "int64",
         "name": "pixel276"
        },
        {
         "dtype": "int64",
         "name": "pixel277"
        },
        {
         "dtype": "int64",
         "name": "pixel278"
        },
        {
         "dtype": "int64",
         "name": "pixel279"
        },
        {
         "dtype": "int64",
         "name": "pixel280"
        },
        {
         "dtype": "int64",
         "name": "pixel281"
        },
        {
         "dtype": "int64",
         "name": "pixel282"
        },
        {
         "dtype": "int64",
         "name": "pixel283"
        },
        {
         "dtype": "int64",
         "name": "pixel284"
        },
        {
         "dtype": "int64",
         "name": "pixel285"
        },
        {
         "dtype": "int64",
         "name": "pixel286"
        },
        {
         "dtype": "int64",
         "name": "pixel287"
        },
        {
         "dtype": "int64",
         "name": "pixel288"
        },
        {
         "dtype": "int64",
         "name": "pixel289"
        },
        {
         "dtype": "int64",
         "name": "pixel290"
        },
        {
         "dtype": "int64",
         "name": "pixel291"
        },
        {
         "dtype": "int64",
         "name": "pixel292"
        },
        {
         "dtype": "int64",
         "name": "pixel293"
        },
        {
         "dtype": "int64",
         "name": "pixel294"
        },
        {
         "dtype": "int64",
         "name": "pixel295"
        },
        {
         "dtype": "int64",
         "name": "pixel296"
        },
        {
         "dtype": "int64",
         "name": "pixel297"
        },
        {
         "dtype": "int64",
         "name": "pixel298"
        },
        {
         "dtype": "int64",
         "name": "pixel299"
        },
        {
         "dtype": "int64",
         "name": "pixel300"
        },
        {
         "dtype": "int64",
         "name": "pixel301"
        },
        {
         "dtype": "int64",
         "name": "pixel302"
        },
        {
         "dtype": "int64",
         "name": "pixel303"
        },
        {
         "dtype": "int64",
         "name": "pixel304"
        },
        {
         "dtype": "int64",
         "name": "pixel305"
        },
        {
         "dtype": "int64",
         "name": "pixel306"
        },
        {
         "dtype": "int64",
         "name": "pixel307"
        },
        {
         "dtype": "int64",
         "name": "pixel308"
        },
        {
         "dtype": "int64",
         "name": "pixel309"
        },
        {
         "dtype": "int64",
         "name": "pixel310"
        },
        {
         "dtype": "int64",
         "name": "pixel311"
        },
        {
         "dtype": "int64",
         "name": "pixel312"
        },
        {
         "dtype": "int64",
         "name": "pixel313"
        },
        {
         "dtype": "int64",
         "name": "pixel314"
        },
        {
         "dtype": "int64",
         "name": "pixel315"
        },
        {
         "dtype": "int64",
         "name": "pixel316"
        },
        {
         "dtype": "int64",
         "name": "pixel317"
        },
        {
         "dtype": "int64",
         "name": "pixel318"
        },
        {
         "dtype": "int64",
         "name": "pixel319"
        },
        {
         "dtype": "int64",
         "name": "pixel320"
        },
        {
         "dtype": "int64",
         "name": "pixel321"
        },
        {
         "dtype": "int64",
         "name": "pixel322"
        },
        {
         "dtype": "int64",
         "name": "pixel323"
        },
        {
         "dtype": "int64",
         "name": "pixel324"
        },
        {
         "dtype": "int64",
         "name": "pixel325"
        },
        {
         "dtype": "int64",
         "name": "pixel326"
        },
        {
         "dtype": "int64",
         "name": "pixel327"
        },
        {
         "dtype": "int64",
         "name": "pixel328"
        },
        {
         "dtype": "int64",
         "name": "pixel329"
        },
        {
         "dtype": "int64",
         "name": "pixel330"
        },
        {
         "dtype": "int64",
         "name": "pixel331"
        },
        {
         "dtype": "int64",
         "name": "pixel332"
        },
        {
         "dtype": "int64",
         "name": "pixel333"
        },
        {
         "dtype": "int64",
         "name": "pixel334"
        },
        {
         "dtype": "int64",
         "name": "pixel335"
        },
        {
         "dtype": "int64",
         "name": "pixel336"
        },
        {
         "dtype": "int64",
         "name": "pixel337"
        },
        {
         "dtype": "int64",
         "name": "pixel338"
        },
        {
         "dtype": "int64",
         "name": "pixel339"
        },
        {
         "dtype": "int64",
         "name": "pixel340"
        },
        {
         "dtype": "int64",
         "name": "pixel341"
        },
        {
         "dtype": "int64",
         "name": "pixel342"
        },
        {
         "dtype": "int64",
         "name": "pixel343"
        },
        {
         "dtype": "int64",
         "name": "pixel344"
        },
        {
         "dtype": "int64",
         "name": "pixel345"
        },
        {
         "dtype": "int64",
         "name": "pixel346"
        },
        {
         "dtype": "int64",
         "name": "pixel347"
        },
        {
         "dtype": "int64",
         "name": "pixel348"
        },
        {
         "dtype": "int64",
         "name": "pixel349"
        },
        {
         "dtype": "int64",
         "name": "pixel350"
        },
        {
         "dtype": "int64",
         "name": "pixel351"
        },
        {
         "dtype": "int64",
         "name": "pixel352"
        },
        {
         "dtype": "int64",
         "name": "pixel353"
        },
        {
         "dtype": "int64",
         "name": "pixel354"
        },
        {
         "dtype": "int64",
         "name": "pixel355"
        },
        {
         "dtype": "int64",
         "name": "pixel356"
        },
        {
         "dtype": "int64",
         "name": "pixel357"
        },
        {
         "dtype": "int64",
         "name": "pixel358"
        },
        {
         "dtype": "int64",
         "name": "pixel359"
        },
        {
         "dtype": "int64",
         "name": "pixel360"
        },
        {
         "dtype": "int64",
         "name": "pixel361"
        },
        {
         "dtype": "int64",
         "name": "pixel362"
        },
        {
         "dtype": "int64",
         "name": "pixel363"
        },
        {
         "dtype": "int64",
         "name": "pixel364"
        },
        {
         "dtype": "int64",
         "name": "pixel365"
        },
        {
         "dtype": "int64",
         "name": "pixel366"
        },
        {
         "dtype": "int64",
         "name": "pixel367"
        },
        {
         "dtype": "int64",
         "name": "pixel368"
        },
        {
         "dtype": "int64",
         "name": "pixel369"
        },
        {
         "dtype": "int64",
         "name": "pixel370"
        },
        {
         "dtype": "int64",
         "name": "pixel371"
        },
        {
         "dtype": "int64",
         "name": "pixel372"
        },
        {
         "dtype": "int64",
         "name": "pixel373"
        },
        {
         "dtype": "int64",
         "name": "pixel374"
        },
        {
         "dtype": "int64",
         "name": "pixel375"
        },
        {
         "dtype": "int64",
         "name": "pixel376"
        },
        {
         "dtype": "int64",
         "name": "pixel377"
        },
        {
         "dtype": "int64",
         "name": "pixel378"
        },
        {
         "dtype": "int64",
         "name": "pixel379"
        },
        {
         "dtype": "int64",
         "name": "pixel380"
        },
        {
         "dtype": "int64",
         "name": "pixel381"
        },
        {
         "dtype": "int64",
         "name": "pixel382"
        },
        {
         "dtype": "int64",
         "name": "pixel383"
        },
        {
         "dtype": "int64",
         "name": "pixel384"
        },
        {
         "dtype": "int64",
         "name": "pixel385"
        },
        {
         "dtype": "int64",
         "name": "pixel386"
        },
        {
         "dtype": "int64",
         "name": "pixel387"
        },
        {
         "dtype": "int64",
         "name": "pixel388"
        },
        {
         "dtype": "int64",
         "name": "pixel389"
        },
        {
         "dtype": "int64",
         "name": "pixel390"
        },
        {
         "dtype": "int64",
         "name": "pixel391"
        },
        {
         "dtype": "int64",
         "name": "pixel392"
        },
        {
         "dtype": "int64",
         "name": "pixel393"
        },
        {
         "dtype": "int64",
         "name": "pixel394"
        },
        {
         "dtype": "int64",
         "name": "pixel395"
        },
        {
         "dtype": "int64",
         "name": "pixel396"
        },
        {
         "dtype": "int64",
         "name": "pixel397"
        },
        {
         "dtype": "int64",
         "name": "pixel398"
        },
        {
         "dtype": "int64",
         "name": "pixel399"
        },
        {
         "dtype": "int64",
         "name": "pixel400"
        },
        {
         "dtype": "int64",
         "name": "pixel401"
        },
        {
         "dtype": "int64",
         "name": "pixel402"
        },
        {
         "dtype": "int64",
         "name": "pixel403"
        },
        {
         "dtype": "int64",
         "name": "pixel404"
        },
        {
         "dtype": "int64",
         "name": "pixel405"
        },
        {
         "dtype": "int64",
         "name": "pixel406"
        },
        {
         "dtype": "int64",
         "name": "pixel407"
        },
        {
         "dtype": "int64",
         "name": "pixel408"
        },
        {
         "dtype": "int64",
         "name": "pixel409"
        },
        {
         "dtype": "int64",
         "name": "pixel410"
        },
        {
         "dtype": "int64",
         "name": "pixel411"
        },
        {
         "dtype": "int64",
         "name": "pixel412"
        },
        {
         "dtype": "int64",
         "name": "pixel413"
        },
        {
         "dtype": "int64",
         "name": "pixel414"
        },
        {
         "dtype": "int64",
         "name": "pixel415"
        },
        {
         "dtype": "int64",
         "name": "pixel416"
        },
        {
         "dtype": "int64",
         "name": "pixel417"
        },
        {
         "dtype": "int64",
         "name": "pixel418"
        },
        {
         "dtype": "int64",
         "name": "pixel419"
        },
        {
         "dtype": "int64",
         "name": "pixel420"
        },
        {
         "dtype": "int64",
         "name": "pixel421"
        },
        {
         "dtype": "int64",
         "name": "pixel422"
        },
        {
         "dtype": "int64",
         "name": "pixel423"
        },
        {
         "dtype": "int64",
         "name": "pixel424"
        },
        {
         "dtype": "int64",
         "name": "pixel425"
        },
        {
         "dtype": "int64",
         "name": "pixel426"
        },
        {
         "dtype": "int64",
         "name": "pixel427"
        },
        {
         "dtype": "int64",
         "name": "pixel428"
        },
        {
         "dtype": "int64",
         "name": "pixel429"
        },
        {
         "dtype": "int64",
         "name": "pixel430"
        },
        {
         "dtype": "int64",
         "name": "pixel431"
        },
        {
         "dtype": "int64",
         "name": "pixel432"
        },
        {
         "dtype": "int64",
         "name": "pixel433"
        },
        {
         "dtype": "int64",
         "name": "pixel434"
        },
        {
         "dtype": "int64",
         "name": "pixel435"
        },
        {
         "dtype": "int64",
         "name": "pixel436"
        },
        {
         "dtype": "int64",
         "name": "pixel437"
        },
        {
         "dtype": "int64",
         "name": "pixel438"
        },
        {
         "dtype": "int64",
         "name": "pixel439"
        },
        {
         "dtype": "int64",
         "name": "pixel440"
        },
        {
         "dtype": "int64",
         "name": "pixel441"
        },
        {
         "dtype": "int64",
         "name": "pixel442"
        },
        {
         "dtype": "int64",
         "name": "pixel443"
        },
        {
         "dtype": "int64",
         "name": "pixel444"
        },
        {
         "dtype": "int64",
         "name": "pixel445"
        },
        {
         "dtype": "int64",
         "name": "pixel446"
        },
        {
         "dtype": "int64",
         "name": "pixel447"
        },
        {
         "dtype": "int64",
         "name": "pixel448"
        },
        {
         "dtype": "int64",
         "name": "pixel449"
        },
        {
         "dtype": "int64",
         "name": "pixel450"
        },
        {
         "dtype": "int64",
         "name": "pixel451"
        },
        {
         "dtype": "int64",
         "name": "pixel452"
        },
        {
         "dtype": "int64",
         "name": "pixel453"
        },
        {
         "dtype": "int64",
         "name": "pixel454"
        },
        {
         "dtype": "int64",
         "name": "pixel455"
        },
        {
         "dtype": "int64",
         "name": "pixel456"
        },
        {
         "dtype": "int64",
         "name": "pixel457"
        },
        {
         "dtype": "int64",
         "name": "pixel458"
        },
        {
         "dtype": "int64",
         "name": "pixel459"
        },
        {
         "dtype": "int64",
         "name": "pixel460"
        },
        {
         "dtype": "int64",
         "name": "pixel461"
        },
        {
         "dtype": "int64",
         "name": "pixel462"
        },
        {
         "dtype": "int64",
         "name": "pixel463"
        },
        {
         "dtype": "int64",
         "name": "pixel464"
        },
        {
         "dtype": "int64",
         "name": "pixel465"
        },
        {
         "dtype": "int64",
         "name": "pixel466"
        },
        {
         "dtype": "int64",
         "name": "pixel467"
        },
        {
         "dtype": "int64",
         "name": "pixel468"
        },
        {
         "dtype": "int64",
         "name": "pixel469"
        },
        {
         "dtype": "int64",
         "name": "pixel470"
        },
        {
         "dtype": "int64",
         "name": "pixel471"
        },
        {
         "dtype": "int64",
         "name": "pixel472"
        },
        {
         "dtype": "int64",
         "name": "pixel473"
        },
        {
         "dtype": "int64",
         "name": "pixel474"
        },
        {
         "dtype": "int64",
         "name": "pixel475"
        },
        {
         "dtype": "int64",
         "name": "pixel476"
        },
        {
         "dtype": "int64",
         "name": "pixel477"
        },
        {
         "dtype": "int64",
         "name": "pixel478"
        },
        {
         "dtype": "int64",
         "name": "pixel479"
        },
        {
         "dtype": "int64",
         "name": "pixel480"
        },
        {
         "dtype": "int64",
         "name": "pixel481"
        },
        {
         "dtype": "int64",
         "name": "pixel482"
        },
        {
         "dtype": "int64",
         "name": "pixel483"
        },
        {
         "dtype": "int64",
         "name": "pixel484"
        },
        {
         "dtype": "int64",
         "name": "pixel485"
        },
        {
         "dtype": "int64",
         "name": "pixel486"
        },
        {
         "dtype": "int64",
         "name": "pixel487"
        },
        {
         "dtype": "int64",
         "name": "pixel488"
        },
        {
         "dtype": "int64",
         "name": "pixel489"
        },
        {
         "dtype": "int64",
         "name": "pixel490"
        },
        {
         "dtype": "int64",
         "name": "pixel491"
        },
        {
         "dtype": "int64",
         "name": "pixel492"
        },
        {
         "dtype": "int64",
         "name": "pixel493"
        },
        {
         "dtype": "int64",
         "name": "pixel494"
        },
        {
         "dtype": "int64",
         "name": "pixel495"
        },
        {
         "dtype": "int64",
         "name": "pixel496"
        },
        {
         "dtype": "int64",
         "name": "pixel497"
        },
        {
         "dtype": "int64",
         "name": "pixel498"
        },
        {
         "dtype": "int64",
         "name": "pixel499"
        },
        {
         "dtype": "int64",
         "name": "pixel500"
        },
        {
         "dtype": "int64",
         "name": "pixel501"
        },
        {
         "dtype": "int64",
         "name": "pixel502"
        },
        {
         "dtype": "int64",
         "name": "pixel503"
        },
        {
         "dtype": "int64",
         "name": "pixel504"
        },
        {
         "dtype": "int64",
         "name": "pixel505"
        },
        {
         "dtype": "int64",
         "name": "pixel506"
        },
        {
         "dtype": "int64",
         "name": "pixel507"
        },
        {
         "dtype": "int64",
         "name": "pixel508"
        },
        {
         "dtype": "int64",
         "name": "pixel509"
        },
        {
         "dtype": "int64",
         "name": "pixel510"
        },
        {
         "dtype": "int64",
         "name": "pixel511"
        },
        {
         "dtype": "int64",
         "name": "pixel512"
        },
        {
         "dtype": "int64",
         "name": "pixel513"
        },
        {
         "dtype": "int64",
         "name": "pixel514"
        },
        {
         "dtype": "int64",
         "name": "pixel515"
        },
        {
         "dtype": "int64",
         "name": "pixel516"
        },
        {
         "dtype": "int64",
         "name": "pixel517"
        },
        {
         "dtype": "int64",
         "name": "pixel518"
        },
        {
         "dtype": "int64",
         "name": "pixel519"
        },
        {
         "dtype": "int64",
         "name": "pixel520"
        },
        {
         "dtype": "int64",
         "name": "pixel521"
        },
        {
         "dtype": "int64",
         "name": "pixel522"
        },
        {
         "dtype": "int64",
         "name": "pixel523"
        },
        {
         "dtype": "int64",
         "name": "pixel524"
        },
        {
         "dtype": "int64",
         "name": "pixel525"
        },
        {
         "dtype": "int64",
         "name": "pixel526"
        },
        {
         "dtype": "int64",
         "name": "pixel527"
        },
        {
         "dtype": "int64",
         "name": "pixel528"
        },
        {
         "dtype": "int64",
         "name": "pixel529"
        },
        {
         "dtype": "int64",
         "name": "pixel530"
        },
        {
         "dtype": "int64",
         "name": "pixel531"
        },
        {
         "dtype": "int64",
         "name": "pixel532"
        },
        {
         "dtype": "int64",
         "name": "pixel533"
        },
        {
         "dtype": "int64",
         "name": "pixel534"
        },
        {
         "dtype": "int64",
         "name": "pixel535"
        },
        {
         "dtype": "int64",
         "name": "pixel536"
        },
        {
         "dtype": "int64",
         "name": "pixel537"
        },
        {
         "dtype": "int64",
         "name": "pixel538"
        },
        {
         "dtype": "int64",
         "name": "pixel539"
        },
        {
         "dtype": "int64",
         "name": "pixel540"
        },
        {
         "dtype": "int64",
         "name": "pixel541"
        },
        {
         "dtype": "int64",
         "name": "pixel542"
        },
        {
         "dtype": "int64",
         "name": "pixel543"
        },
        {
         "dtype": "int64",
         "name": "pixel544"
        },
        {
         "dtype": "int64",
         "name": "pixel545"
        },
        {
         "dtype": "int64",
         "name": "pixel546"
        },
        {
         "dtype": "int64",
         "name": "pixel547"
        },
        {
         "dtype": "int64",
         "name": "pixel548"
        },
        {
         "dtype": "int64",
         "name": "pixel549"
        },
        {
         "dtype": "int64",
         "name": "pixel550"
        },
        {
         "dtype": "int64",
         "name": "pixel551"
        },
        {
         "dtype": "int64",
         "name": "pixel552"
        },
        {
         "dtype": "int64",
         "name": "pixel553"
        },
        {
         "dtype": "int64",
         "name": "pixel554"
        },
        {
         "dtype": "int64",
         "name": "pixel555"
        },
        {
         "dtype": "int64",
         "name": "pixel556"
        },
        {
         "dtype": "int64",
         "name": "pixel557"
        },
        {
         "dtype": "int64",
         "name": "pixel558"
        },
        {
         "dtype": "int64",
         "name": "pixel559"
        },
        {
         "dtype": "int64",
         "name": "pixel560"
        },
        {
         "dtype": "int64",
         "name": "pixel561"
        },
        {
         "dtype": "int64",
         "name": "pixel562"
        },
        {
         "dtype": "int64",
         "name": "pixel563"
        },
        {
         "dtype": "int64",
         "name": "pixel564"
        },
        {
         "dtype": "int64",
         "name": "pixel565"
        },
        {
         "dtype": "int64",
         "name": "pixel566"
        },
        {
         "dtype": "int64",
         "name": "pixel567"
        },
        {
         "dtype": "int64",
         "name": "pixel568"
        },
        {
         "dtype": "int64",
         "name": "pixel569"
        },
        {
         "dtype": "int64",
         "name": "pixel570"
        },
        {
         "dtype": "int64",
         "name": "pixel571"
        },
        {
         "dtype": "int64",
         "name": "pixel572"
        },
        {
         "dtype": "int64",
         "name": "pixel573"
        },
        {
         "dtype": "int64",
         "name": "pixel574"
        },
        {
         "dtype": "int64",
         "name": "pixel575"
        },
        {
         "dtype": "int64",
         "name": "pixel576"
        },
        {
         "dtype": "int64",
         "name": "pixel577"
        },
        {
         "dtype": "int64",
         "name": "pixel578"
        },
        {
         "dtype": "int64",
         "name": "pixel579"
        },
        {
         "dtype": "int64",
         "name": "pixel580"
        },
        {
         "dtype": "int64",
         "name": "pixel581"
        },
        {
         "dtype": "int64",
         "name": "pixel582"
        },
        {
         "dtype": "int64",
         "name": "pixel583"
        },
        {
         "dtype": "int64",
         "name": "pixel584"
        },
        {
         "dtype": "int64",
         "name": "pixel585"
        },
        {
         "dtype": "int64",
         "name": "pixel586"
        },
        {
         "dtype": "int64",
         "name": "pixel587"
        },
        {
         "dtype": "int64",
         "name": "pixel588"
        },
        {
         "dtype": "int64",
         "name": "pixel589"
        },
        {
         "dtype": "int64",
         "name": "pixel590"
        },
        {
         "dtype": "int64",
         "name": "pixel591"
        },
        {
         "dtype": "int64",
         "name": "pixel592"
        },
        {
         "dtype": "int64",
         "name": "pixel593"
        },
        {
         "dtype": "int64",
         "name": "pixel594"
        },
        {
         "dtype": "int64",
         "name": "pixel595"
        },
        {
         "dtype": "int64",
         "name": "pixel596"
        },
        {
         "dtype": "int64",
         "name": "pixel597"
        },
        {
         "dtype": "int64",
         "name": "pixel598"
        },
        {
         "dtype": "int64",
         "name": "pixel599"
        },
        {
         "dtype": "int64",
         "name": "pixel600"
        },
        {
         "dtype": "int64",
         "name": "pixel601"
        },
        {
         "dtype": "int64",
         "name": "pixel602"
        },
        {
         "dtype": "int64",
         "name": "pixel603"
        },
        {
         "dtype": "int64",
         "name": "pixel604"
        },
        {
         "dtype": "int64",
         "name": "pixel605"
        },
        {
         "dtype": "int64",
         "name": "pixel606"
        },
        {
         "dtype": "int64",
         "name": "pixel607"
        },
        {
         "dtype": "int64",
         "name": "pixel608"
        },
        {
         "dtype": "int64",
         "name": "pixel609"
        },
        {
         "dtype": "int64",
         "name": "pixel610"
        },
        {
         "dtype": "int64",
         "name": "pixel611"
        },
        {
         "dtype": "int64",
         "name": "pixel612"
        },
        {
         "dtype": "int64",
         "name": "pixel613"
        },
        {
         "dtype": "int64",
         "name": "pixel614"
        },
        {
         "dtype": "int64",
         "name": "pixel615"
        },
        {
         "dtype": "int64",
         "name": "pixel616"
        },
        {
         "dtype": "int64",
         "name": "pixel617"
        },
        {
         "dtype": "int64",
         "name": "pixel618"
        },
        {
         "dtype": "int64",
         "name": "pixel619"
        },
        {
         "dtype": "int64",
         "name": "pixel620"
        },
        {
         "dtype": "int64",
         "name": "pixel621"
        },
        {
         "dtype": "int64",
         "name": "pixel622"
        },
        {
         "dtype": "int64",
         "name": "pixel623"
        },
        {
         "dtype": "int64",
         "name": "pixel624"
        },
        {
         "dtype": "int64",
         "name": "pixel625"
        },
        {
         "dtype": "int64",
         "name": "pixel626"
        },
        {
         "dtype": "int64",
         "name": "pixel627"
        },
        {
         "dtype": "int64",
         "name": "pixel628"
        },
        {
         "dtype": "int64",
         "name": "pixel629"
        },
        {
         "dtype": "int64",
         "name": "pixel630"
        },
        {
         "dtype": "int64",
         "name": "pixel631"
        },
        {
         "dtype": "int64",
         "name": "pixel632"
        },
        {
         "dtype": "int64",
         "name": "pixel633"
        },
        {
         "dtype": "int64",
         "name": "pixel634"
        },
        {
         "dtype": "int64",
         "name": "pixel635"
        },
        {
         "dtype": "int64",
         "name": "pixel636"
        },
        {
         "dtype": "int64",
         "name": "pixel637"
        },
        {
         "dtype": "int64",
         "name": "pixel638"
        },
        {
         "dtype": "int64",
         "name": "pixel639"
        },
        {
         "dtype": "int64",
         "name": "pixel640"
        },
        {
         "dtype": "int64",
         "name": "pixel641"
        },
        {
         "dtype": "int64",
         "name": "pixel642"
        },
        {
         "dtype": "int64",
         "name": "pixel643"
        },
        {
         "dtype": "int64",
         "name": "pixel644"
        },
        {
         "dtype": "int64",
         "name": "pixel645"
        },
        {
         "dtype": "int64",
         "name": "pixel646"
        },
        {
         "dtype": "int64",
         "name": "pixel647"
        },
        {
         "dtype": "int64",
         "name": "pixel648"
        },
        {
         "dtype": "int64",
         "name": "pixel649"
        },
        {
         "dtype": "int64",
         "name": "pixel650"
        },
        {
         "dtype": "int64",
         "name": "pixel651"
        },
        {
         "dtype": "int64",
         "name": "pixel652"
        },
        {
         "dtype": "int64",
         "name": "pixel653"
        },
        {
         "dtype": "int64",
         "name": "pixel654"
        },
        {
         "dtype": "int64",
         "name": "pixel655"
        },
        {
         "dtype": "int64",
         "name": "pixel656"
        },
        {
         "dtype": "int64",
         "name": "pixel657"
        },
        {
         "dtype": "int64",
         "name": "pixel658"
        },
        {
         "dtype": "int64",
         "name": "pixel659"
        },
        {
         "dtype": "int64",
         "name": "pixel660"
        },
        {
         "dtype": "int64",
         "name": "pixel661"
        },
        {
         "dtype": "int64",
         "name": "pixel662"
        },
        {
         "dtype": "int64",
         "name": "pixel663"
        },
        {
         "dtype": "int64",
         "name": "pixel664"
        },
        {
         "dtype": "int64",
         "name": "pixel665"
        },
        {
         "dtype": "int64",
         "name": "pixel666"
        },
        {
         "dtype": "int64",
         "name": "pixel667"
        },
        {
         "dtype": "int64",
         "name": "pixel668"
        },
        {
         "dtype": "int64",
         "name": "pixel669"
        },
        {
         "dtype": "int64",
         "name": "pixel670"
        },
        {
         "dtype": "int64",
         "name": "pixel671"
        },
        {
         "dtype": "int64",
         "name": "pixel672"
        },
        {
         "dtype": "int64",
         "name": "pixel673"
        },
        {
         "dtype": "int64",
         "name": "pixel674"
        },
        {
         "dtype": "int64",
         "name": "pixel675"
        },
        {
         "dtype": "int64",
         "name": "pixel676"
        },
        {
         "dtype": "int64",
         "name": "pixel677"
        },
        {
         "dtype": "int64",
         "name": "pixel678"
        },
        {
         "dtype": "int64",
         "name": "pixel679"
        },
        {
         "dtype": "int64",
         "name": "pixel680"
        },
        {
         "dtype": "int64",
         "name": "pixel681"
        },
        {
         "dtype": "int64",
         "name": "pixel682"
        },
        {
         "dtype": "int64",
         "name": "pixel683"
        },
        {
         "dtype": "int64",
         "name": "pixel684"
        },
        {
         "dtype": "int64",
         "name": "pixel685"
        },
        {
         "dtype": "int64",
         "name": "pixel686"
        },
        {
         "dtype": "int64",
         "name": "pixel687"
        },
        {
         "dtype": "int64",
         "name": "pixel688"
        },
        {
         "dtype": "int64",
         "name": "pixel689"
        },
        {
         "dtype": "int64",
         "name": "pixel690"
        },
        {
         "dtype": "int64",
         "name": "pixel691"
        },
        {
         "dtype": "int64",
         "name": "pixel692"
        },
        {
         "dtype": "int64",
         "name": "pixel693"
        },
        {
         "dtype": "int64",
         "name": "pixel694"
        },
        {
         "dtype": "int64",
         "name": "pixel695"
        },
        {
         "dtype": "int64",
         "name": "pixel696"
        },
        {
         "dtype": "int64",
         "name": "pixel697"
        },
        {
         "dtype": "int64",
         "name": "pixel698"
        },
        {
         "dtype": "int64",
         "name": "pixel699"
        },
        {
         "dtype": "int64",
         "name": "pixel700"
        },
        {
         "dtype": "int64",
         "name": "pixel701"
        },
        {
         "dtype": "int64",
         "name": "pixel702"
        },
        {
         "dtype": "int64",
         "name": "pixel703"
        },
        {
         "dtype": "int64",
         "name": "pixel704"
        },
        {
         "dtype": "int64",
         "name": "pixel705"
        },
        {
         "dtype": "int64",
         "name": "pixel706"
        },
        {
         "dtype": "int64",
         "name": "pixel707"
        },
        {
         "dtype": "int64",
         "name": "pixel708"
        },
        {
         "dtype": "int64",
         "name": "pixel709"
        },
        {
         "dtype": "int64",
         "name": "pixel710"
        },
        {
         "dtype": "int64",
         "name": "pixel711"
        },
        {
         "dtype": "int64",
         "name": "pixel712"
        },
        {
         "dtype": "int64",
         "name": "pixel713"
        },
        {
         "dtype": "int64",
         "name": "pixel714"
        },
        {
         "dtype": "int64",
         "name": "pixel715"
        },
        {
         "dtype": "int64",
         "name": "pixel716"
        },
        {
         "dtype": "int64",
         "name": "pixel717"
        },
        {
         "dtype": "int64",
         "name": "pixel718"
        },
        {
         "dtype": "int64",
         "name": "pixel719"
        },
        {
         "dtype": "int64",
         "name": "pixel720"
        },
        {
         "dtype": "int64",
         "name": "pixel721"
        },
        {
         "dtype": "int64",
         "name": "pixel722"
        },
        {
         "dtype": "int64",
         "name": "pixel723"
        },
        {
         "dtype": "int64",
         "name": "pixel724"
        },
        {
         "dtype": "int64",
         "name": "pixel725"
        },
        {
         "dtype": "int64",
         "name": "pixel726"
        },
        {
         "dtype": "int64",
         "name": "pixel727"
        },
        {
         "dtype": "int64",
         "name": "pixel728"
        },
        {
         "dtype": "int64",
         "name": "pixel729"
        },
        {
         "dtype": "int64",
         "name": "pixel730"
        },
        {
         "dtype": "int64",
         "name": "pixel731"
        },
        {
         "dtype": "int64",
         "name": "pixel732"
        },
        {
         "dtype": "int64",
         "name": "pixel733"
        },
        {
         "dtype": "int64",
         "name": "pixel734"
        },
        {
         "dtype": "int64",
         "name": "pixel735"
        },
        {
         "dtype": "int64",
         "name": "pixel736"
        },
        {
         "dtype": "int64",
         "name": "pixel737"
        },
        {
         "dtype": "int64",
         "name": "pixel738"
        },
        {
         "dtype": "int64",
         "name": "pixel739"
        },
        {
         "dtype": "int64",
         "name": "pixel740"
        },
        {
         "dtype": "int64",
         "name": "pixel741"
        },
        {
         "dtype": "int64",
         "name": "pixel742"
        },
        {
         "dtype": "int64",
         "name": "pixel743"
        },
        {
         "dtype": "int64",
         "name": "pixel744"
        },
        {
         "dtype": "int64",
         "name": "pixel745"
        },
        {
         "dtype": "int64",
         "name": "pixel746"
        },
        {
         "dtype": "int64",
         "name": "pixel747"
        },
        {
         "dtype": "int64",
         "name": "pixel748"
        },
        {
         "dtype": "int64",
         "name": "pixel749"
        },
        {
         "dtype": "int64",
         "name": "pixel750"
        },
        {
         "dtype": "int64",
         "name": "pixel751"
        },
        {
         "dtype": "int64",
         "name": "pixel752"
        },
        {
         "dtype": "int64",
         "name": "pixel753"
        },
        {
         "dtype": "int64",
         "name": "pixel754"
        },
        {
         "dtype": "int64",
         "name": "pixel755"
        },
        {
         "dtype": "int64",
         "name": "pixel756"
        },
        {
         "dtype": "int64",
         "name": "pixel757"
        },
        {
         "dtype": "int64",
         "name": "pixel758"
        },
        {
         "dtype": "int64",
         "name": "pixel759"
        },
        {
         "dtype": "int64",
         "name": "pixel760"
        },
        {
         "dtype": "int64",
         "name": "pixel761"
        },
        {
         "dtype": "int64",
         "name": "pixel762"
        },
        {
         "dtype": "int64",
         "name": "pixel763"
        },
        {
         "dtype": "int64",
         "name": "pixel764"
        },
        {
         "dtype": "int64",
         "name": "pixel765"
        },
        {
         "dtype": "int64",
         "name": "pixel766"
        },
        {
         "dtype": "int64",
         "name": "pixel767"
        },
        {
         "dtype": "int64",
         "name": "pixel768"
        },
        {
         "dtype": "int64",
         "name": "pixel769"
        },
        {
         "dtype": "int64",
         "name": "pixel770"
        },
        {
         "dtype": "int64",
         "name": "pixel771"
        },
        {
         "dtype": "int64",
         "name": "pixel772"
        },
        {
         "dtype": "int64",
         "name": "pixel773"
        },
        {
         "dtype": "int64",
         "name": "pixel774"
        },
        {
         "dtype": "int64",
         "name": "pixel775"
        },
        {
         "dtype": "int64",
         "name": "pixel776"
        },
        {
         "dtype": "int64",
         "name": "pixel777"
        },
        {
         "dtype": "int64",
         "name": "pixel778"
        },
        {
         "dtype": "int64",
         "name": "pixel779"
        },
        {
         "dtype": "int64",
         "name": "pixel780"
        },
        {
         "dtype": "int64",
         "name": "pixel781"
        },
        {
         "dtype": "int64",
         "name": "pixel782"
        },
        {
         "dtype": "int64",
         "name": "pixel783"
        },
        {
         "dtype": "int64",
         "name": "_deepnote_index_column"
        }
       ],
       "row_count": 10000,
       "rows_bottom": [
        {
         "_deepnote_index_column": 13153,
         "pixel0": 0,
         "pixel1": 0,
         "pixel10": 0,
         "pixel100": 0,
         "pixel101": 0,
         "pixel102": 0,
         "pixel103": 0,
         "pixel104": 0,
         "pixel105": 0,
         "pixel106": 0,
         "pixel107": 0,
         "pixel108": 0,
         "pixel109": 0,
         "pixel11": 0,
         "pixel110": 0,
         "pixel111": 0,
         "pixel112": 0,
         "pixel113": 0,
         "pixel114": 0,
         "pixel115": 0,
         "pixel116": 0,
         "pixel117": 0,
         "pixel118": 0,
         "pixel119": 0,
         "pixel12": 0,
         "pixel120": 0,
         "pixel121": 0,
         "pixel122": 0,
         "pixel123": 0,
         "pixel124": 0,
         "pixel125": 0,
         "pixel126": 0,
         "pixel127": 0,
         "pixel128": 0,
         "pixel129": 0,
         "pixel13": 0,
         "pixel130": 0,
         "pixel131": 0,
         "pixel132": 0,
         "pixel133": 0,
         "pixel134": 0,
         "pixel135": 0,
         "pixel136": 0,
         "pixel137": 0,
         "pixel138": 0,
         "pixel139": 0,
         "pixel14": 0,
         "pixel140": 0,
         "pixel141": 0,
         "pixel142": 0,
         "pixel143": 0,
         "pixel144": 0,
         "pixel145": 0,
         "pixel146": 0,
         "pixel147": 0,
         "pixel148": 0,
         "pixel149": 0,
         "pixel15": 0,
         "pixel150": 0,
         "pixel151": 0,
         "pixel152": 0,
         "pixel153": 0,
         "pixel154": 0,
         "pixel155": 0,
         "pixel156": 0,
         "pixel157": 0,
         "pixel158": 0,
         "pixel159": 0,
         "pixel16": 0,
         "pixel160": 0,
         "pixel161": 0,
         "pixel162": 255,
         "pixel163": 255,
         "pixel164": 255,
         "pixel165": 0,
         "pixel166": 0,
         "pixel167": 0,
         "pixel168": 0,
         "pixel169": 0,
         "pixel17": 0,
         "pixel170": 0,
         "pixel171": 0,
         "pixel172": 0,
         "pixel173": 0,
         "pixel174": 0,
         "pixel175": 0,
         "pixel176": 0,
         "pixel177": 0,
         "pixel178": 0,
         "pixel179": 0,
         "pixel18": 0,
         "pixel180": 0,
         "pixel181": 0,
         "pixel182": 0,
         "pixel183": 0,
         "pixel184": 0,
         "pixel185": 0,
         "pixel186": 0,
         "pixel187": 0,
         "pixel188": 255,
         "pixel189": 255,
         "pixel19": 0,
         "pixel190": 255,
         "pixel191": 255,
         "pixel192": 255,
         "pixel193": 0,
         "pixel194": 0,
         "pixel195": 0,
         "pixel196": 0,
         "pixel197": 0,
         "pixel198": 0,
         "pixel199": 0,
         "pixel2": 0,
         "pixel20": 0,
         "pixel200": 0,
         "pixel201": 0,
         "pixel202": 0,
         "pixel203": 0,
         "pixel204": 0,
         "pixel205": 0,
         "pixel206": 0,
         "pixel207": 0,
         "pixel208": 0,
         "pixel209": 0,
         "pixel21": 0,
         "pixel210": 0,
         "pixel211": 0,
         "pixel212": 0,
         "pixel213": 0,
         "pixel214": 0,
         "pixel215": 0,
         "pixel216": 255,
         "pixel217": 255,
         "pixel218": 255,
         "pixel219": 255,
         "pixel22": 0,
         "pixel220": 255,
         "pixel221": 0,
         "pixel222": 0,
         "pixel223": 0,
         "pixel224": 0,
         "pixel225": 0,
         "pixel226": 0,
         "pixel227": 0,
         "pixel228": 0,
         "pixel229": 0,
         "pixel23": 0,
         "pixel230": 0,
         "pixel231": 0,
         "pixel232": 0,
         "pixel233": 0,
         "pixel234": 0,
         "pixel235": 0,
         "pixel236": 0,
         "pixel237": 0,
         "pixel238": 0,
         "pixel239": 0,
         "pixel24": 0,
         "pixel240": 0,
         "pixel241": 0,
         "pixel242": 255,
         "pixel243": 255,
         "pixel244": 255,
         "pixel245": 255,
         "pixel246": 255,
         "pixel247": 0,
         "pixel248": 0,
         "pixel249": 0,
         "pixel25": 0,
         "pixel250": 0,
         "pixel251": 0,
         "pixel252": 0,
         "pixel253": 0,
         "pixel254": 0,
         "pixel255": 0,
         "pixel256": 0,
         "pixel257": 0,
         "pixel258": 0,
         "pixel259": 0,
         "pixel26": 0,
         "pixel260": 0,
         "pixel261": 0,
         "pixel262": 0,
         "pixel263": 0,
         "pixel264": 0,
         "pixel265": 0,
         "pixel266": 0,
         "pixel267": 0,
         "pixel268": 255,
         "pixel269": 255,
         "pixel27": 0,
         "pixel270": 255,
         "pixel271": 255,
         "pixel272": 255,
         "pixel273": 255,
         "pixel274": 255,
         "pixel275": 0,
         "pixel276": 0,
         "pixel277": 0,
         "pixel278": 0,
         "pixel279": 0,
         "pixel28": 0,
         "pixel280": 0,
         "pixel281": 0,
         "pixel282": 0,
         "pixel283": 0,
         "pixel284": 0,
         "pixel285": 0,
         "pixel286": 0,
         "pixel287": 0,
         "pixel288": 0,
         "pixel289": 0,
         "pixel29": 0,
         "pixel290": 0,
         "pixel291": 0,
         "pixel292": 0,
         "pixel293": 0,
         "pixel294": 0,
         "pixel295": 255,
         "pixel296": 255,
         "pixel297": 255,
         "pixel298": 255,
         "pixel299": 255,
         "pixel3": 0,
         "pixel30": 0,
         "pixel300": 255,
         "pixel301": 255,
         "pixel302": 0,
         "pixel303": 0,
         "pixel304": 0,
         "pixel305": 0,
         "pixel306": 0,
         "pixel307": 0,
         "pixel308": 0,
         "pixel309": 0,
         "pixel31": 0,
         "pixel310": 0,
         "pixel311": 0,
         "pixel312": 0,
         "pixel313": 0,
         "pixel314": 0,
         "pixel315": 0,
         "pixel316": 0,
         "pixel317": 0,
         "pixel318": 0,
         "pixel319": 0,
         "pixel32": 0,
         "pixel320": 0,
         "pixel321": 255,
         "pixel322": 255,
         "pixel323": 255,
         "pixel324": 255,
         "pixel325": 255,
         "pixel326": 255,
         "pixel327": 255,
         "pixel328": 255,
         "pixel329": 255,
         "pixel33": 0,
         "pixel330": 0,
         "pixel331": 0,
         "pixel332": 0,
         "pixel333": 0,
         "pixel334": 0,
         "pixel335": 0,
         "pixel336": 0,
         "pixel337": 0,
         "pixel338": 0,
         "pixel339": 0,
         "pixel34": 0,
         "pixel340": 0,
         "pixel341": 0,
         "pixel342": 0,
         "pixel343": 0,
         "pixel344": 0,
         "pixel345": 0,
         "pixel346": 0,
         "pixel347": 0,
         "pixel348": 255,
         "pixel349": 255,
         "pixel35": 0,
         "pixel350": 255,
         "pixel351": 255,
         "pixel352": 255,
         "pixel353": 255,
         "pixel354": 255,
         "pixel355": 255,
         "pixel356": 255,
         "pixel357": 255,
         "pixel358": 0,
         "pixel359": 0,
         "pixel36": 0,
         "pixel360": 0,
         "pixel361": 0,
         "pixel362": 0,
         "pixel363": 0,
         "pixel364": 0,
         "pixel365": 0,
         "pixel366": 0,
         "pixel367": 0,
         "pixel368": 0,
         "pixel369": 0,
         "pixel37": 0,
         "pixel370": 0,
         "pixel371": 0,
         "pixel372": 0,
         "pixel373": 0,
         "pixel374": 255,
         "pixel375": 255,
         "pixel376": 255,
         "pixel377": 255,
         "pixel378": 255,
         "pixel379": 255,
         "pixel38": 0,
         "pixel380": 0,
         "pixel381": 0,
         "pixel382": 255,
         "pixel383": 255,
         "pixel384": 255,
         "pixel385": 0,
         "pixel386": 0,
         "pixel387": 0,
         "pixel388": 0,
         "pixel389": 0,
         "pixel39": 0,
         "pixel390": 0,
         "pixel391": 0,
         "pixel392": 0,
         "pixel393": 0,
         "pixel394": 0,
         "pixel395": 0,
         "pixel396": 0,
         "pixel397": 0,
         "pixel398": 0,
         "pixel399": 0,
         "pixel4": 0,
         "pixel40": 0,
         "pixel400": 0,
         "pixel401": 255,
         "pixel402": 255,
         "pixel403": 255,
         "pixel404": 255,
         "pixel405": 255,
         "pixel406": 0,
         "pixel407": 0,
         "pixel408": 0,
         "pixel409": 255,
         "pixel41": 0,
         "pixel410": 255,
         "pixel411": 255,
         "pixel412": 0,
         "pixel413": 0,
         "pixel414": 0,
         "pixel415": 0,
         "pixel416": 0,
         "pixel417": 0,
         "pixel418": 0,
         "pixel419": 0,
         "pixel42": 0,
         "pixel420": 0,
         "pixel421": 0,
         "pixel422": 0,
         "pixel423": 0,
         "pixel424": 0,
         "pixel425": 0,
         "pixel426": 0,
         "pixel427": 0,
         "pixel428": 255,
         "pixel429": 255,
         "pixel43": 0,
         "pixel430": 255,
         "pixel431": 255,
         "pixel432": 255,
         "pixel433": 0,
         "pixel434": 0,
         "pixel435": 0,
         "pixel436": 0,
         "pixel437": 255,
         "pixel438": 255,
         "pixel439": 255,
         "pixel44": 0,
         "pixel440": 0,
         "pixel441": 0,
         "pixel442": 0,
         "pixel443": 0,
         "pixel444": 0,
         "pixel445": 0,
         "pixel446": 0,
         "pixel447": 0,
         "pixel448": 0,
         "pixel449": 0,
         "pixel45": 0,
         "pixel450": 0,
         "pixel451": 0,
         "pixel452": 0,
         "pixel453": 0,
         "pixel454": 0,
         "pixel455": 255,
         "pixel456": 255,
         "pixel457": 255,
         "pixel458": 255,
         "pixel459": 255,
         "pixel46": 0,
         "pixel460": 0,
         "pixel461": 0,
         "pixel462": 0,
         "pixel463": 0,
         "pixel464": 0,
         "pixel465": 255,
         "pixel466": 255,
         "pixel467": 0,
         "pixel468": 0,
         "pixel469": 0,
         "pixel47": 0,
         "pixel470": 0,
         "pixel471": 0,
         "pixel472": 0,
         "pixel473": 0,
         "pixel474": 0,
         "pixel475": 0,
         "pixel476": 0,
         "pixel477": 0,
         "pixel478": 0,
         "pixel479": 0,
         "pixel48": 0,
         "pixel480": 0,
         "pixel481": 0,
         "pixel482": 255,
         "pixel483": 255,
         "pixel484": 255,
         "pixel485": 255,
         "pixel486": 0,
         "pixel487": 0,
         "pixel488": 0,
         "pixel489": 0,
         "pixel49": 0,
         "pixel490": 0,
         "pixel491": 255,
         "pixel492": 255,
         "pixel493": 255,
         "pixel494": 255,
         "pixel495": 0,
         "pixel496": 0,
         "pixel497": 0,
         "pixel498": 0,
         "pixel499": 0,
         "pixel5": 0,
         "pixel50": 0,
         "pixel500": 0,
         "pixel501": 0,
         "pixel502": 0,
         "pixel503": 0,
         "pixel504": 0,
         "pixel505": 0,
         "pixel506": 0,
         "pixel507": 0,
         "pixel508": 0,
         "pixel509": 255,
         "pixel51": 0,
         "pixel510": 255,
         "pixel511": 255,
         "pixel512": 255,
         "pixel513": 255,
         "pixel514": 0,
         "pixel515": 0,
         "pixel516": 0,
         "pixel517": 255,
         "pixel518": 255,
         "pixel519": 255,
         "pixel52": 0,
         "pixel520": 255,
         "pixel521": 255,
         "pixel522": 255,
         "pixel523": 0,
         "pixel524": 0,
         "pixel525": 0,
         "pixel526": 0,
         "pixel527": 0,
         "pixel528": 0,
         "pixel529": 0,
         "pixel53": 0,
         "pixel530": 0,
         "pixel531": 0,
         "pixel532": 0,
         "pixel533": 0,
         "pixel534": 0,
         "pixel535": 0,
         "pixel536": 0,
         "pixel537": 255,
         "pixel538": 255,
         "pixel539": 255,
         "pixel54": 0,
         "pixel540": 255,
         "pixel541": 0,
         "pixel542": 0,
         "pixel543": 0,
         "pixel544": 255,
         "pixel545": 255,
         "pixel546": 255,
         "pixel547": 255,
         "pixel548": 255,
         "pixel549": 0,
         "pixel55": 0,
         "pixel550": 0,
         "pixel551": 0,
         "pixel552": 0,
         "pixel553": 0,
         "pixel554": 0,
         "pixel555": 0,
         "pixel556": 0,
         "pixel557": 0,
         "pixel558": 0,
         "pixel559": 0,
         "pixel56": 0,
         "pixel560": 0,
         "pixel561": 0,
         "pixel562": 0,
         "pixel563": 0,
         "pixel564": 0,
         "pixel565": 255,
         "pixel566": 255,
         "pixel567": 255,
         "pixel568": 255,
         "pixel569": 255,
         "pixel57": 0,
         "pixel570": 255,
         "pixel571": 255,
         "pixel572": 255,
         "pixel573": 255,
         "pixel574": 255,
         "pixel575": 0,
         "pixel576": 0,
         "pixel577": 0,
         "pixel578": 0,
         "pixel579": 0,
         "pixel58": 0,
         "pixel580": 0,
         "pixel581": 0,
         "pixel582": 0,
         "pixel583": 0,
         "pixel584": 0,
         "pixel585": 0,
         "pixel586": 0,
         "pixel587": 0,
         "pixel588": 0,
         "pixel589": 0,
         "pixel59": 0,
         "pixel590": 0,
         "pixel591": 0,
         "pixel592": 0,
         "pixel593": 255,
         "pixel594": 255,
         "pixel595": 255,
         "pixel596": 255,
         "pixel597": 255,
         "pixel598": 255,
         "pixel599": 255,
         "pixel6": 0,
         "pixel60": 0,
         "pixel600": 255,
         "pixel601": 255,
         "pixel602": 0,
         "pixel603": 0,
         "pixel604": 0,
         "pixel605": 0,
         "pixel606": 0,
         "pixel607": 0,
         "pixel608": 0,
         "pixel609": 0,
         "pixel61": 0,
         "pixel610": 0,
         "pixel611": 0,
         "pixel612": 0,
         "pixel613": 0,
         "pixel614": 0,
         "pixel615": 0,
         "pixel616": 0,
         "pixel617": 0,
         "pixel618": 0,
         "pixel619": 0,
         "pixel62": 0,
         "pixel620": 0,
         "pixel621": 0,
         "pixel622": 0,
         "pixel623": 255,
         "pixel624": 255,
         "pixel625": 255,
         "pixel626": 0,
         "pixel627": 0,
         "pixel628": 0,
         "pixel629": 0,
         "pixel63": 0,
         "pixel630": 0,
         "pixel631": 0,
         "pixel632": 0,
         "pixel633": 0,
         "pixel634": 0,
         "pixel635": 0,
         "pixel636": 0,
         "pixel637": 0,
         "pixel638": 0,
         "pixel639": 0,
         "pixel64": 0,
         "pixel640": 0,
         "pixel641": 0,
         "pixel642": 0,
         "pixel643": 0,
         "pixel644": 0,
         "pixel645": 0,
         "pixel646": 0,
         "pixel647": 0,
         "pixel648": 0,
         "pixel649": 0,
         "pixel65": 0,
         "pixel650": 0,
         "pixel651": 0,
         "pixel652": 0,
         "pixel653": 0,
         "pixel654": 0,
         "pixel655": 0,
         "pixel656": 0,
         "pixel657": 0,
         "pixel658": 0,
         "pixel659": 0,
         "pixel66": 0,
         "pixel660": 0,
         "pixel661": 0,
         "pixel662": 0,
         "pixel663": 0,
         "pixel664": 0,
         "pixel665": 0,
         "pixel666": 0,
         "pixel667": 0,
         "pixel668": 0,
         "pixel669": 0,
         "pixel67": 0,
         "pixel670": 0,
         "pixel671": 0,
         "pixel672": 0,
         "pixel673": 0,
         "pixel674": 0,
         "pixel675": 0,
         "pixel676": 0,
         "pixel677": 0,
         "pixel678": 0,
         "pixel679": 0,
         "pixel68": 0,
         "pixel680": 0,
         "pixel681": 0,
         "pixel682": 0,
         "pixel683": 0,
         "pixel684": 0,
         "pixel685": 0,
         "pixel686": 0,
         "pixel687": 0,
         "pixel688": 0,
         "pixel689": 0,
         "pixel69": 0,
         "pixel690": 0,
         "pixel691": 0,
         "pixel692": 0,
         "pixel693": 0,
         "pixel694": 0,
         "pixel695": 0,
         "pixel696": 0,
         "pixel697": 0,
         "pixel698": 0,
         "pixel699": 0,
         "pixel7": 0,
         "pixel70": 0,
         "pixel700": 0,
         "pixel701": 0,
         "pixel702": 0,
         "pixel703": 0,
         "pixel704": 0,
         "pixel705": 0,
         "pixel706": 0,
         "pixel707": 0,
         "pixel708": 0,
         "pixel709": 0,
         "pixel71": 0,
         "pixel710": 0,
         "pixel711": 0,
         "pixel712": 0,
         "pixel713": 0,
         "pixel714": 0,
         "pixel715": 0,
         "pixel716": 0,
         "pixel717": 0,
         "pixel718": 0,
         "pixel719": 0,
         "pixel72": 0,
         "pixel720": 0,
         "pixel721": 0,
         "pixel722": 0,
         "pixel723": 0,
         "pixel724": 0,
         "pixel725": 0,
         "pixel726": 0,
         "pixel727": 0,
         "pixel728": 0,
         "pixel729": 0,
         "pixel73": 0,
         "pixel730": 0,
         "pixel731": 0,
         "pixel732": 0,
         "pixel733": 0,
         "pixel734": 0,
         "pixel735": 0,
         "pixel736": 0,
         "pixel737": 0,
         "pixel738": 0,
         "pixel739": 0,
         "pixel74": 0,
         "pixel740": 0,
         "pixel741": 0,
         "pixel742": 0,
         "pixel743": 0,
         "pixel744": 0,
         "pixel745": 0,
         "pixel746": 0,
         "pixel747": 0,
         "pixel748": 0,
         "pixel749": 0,
         "pixel75": 0,
         "pixel750": 0,
         "pixel751": 0,
         "pixel752": 0,
         "pixel753": 0,
         "pixel754": 0,
         "pixel755": 0,
         "pixel756": 0,
         "pixel757": 0,
         "pixel758": 0,
         "pixel759": 0,
         "pixel76": 0,
         "pixel760": 0,
         "pixel761": 0,
         "pixel762": 0,
         "pixel763": 0,
         "pixel764": 0,
         "pixel765": 0,
         "pixel766": 0,
         "pixel767": 0,
         "pixel768": 0,
         "pixel769": 0,
         "pixel77": 0,
         "pixel770": 0,
         "pixel771": 0,
         "pixel772": 0,
         "pixel773": 0,
         "pixel774": 0,
         "pixel775": 0,
         "pixel776": 0,
         "pixel777": 0,
         "pixel778": 0,
         "pixel779": 0,
         "pixel78": 0,
         "pixel780": 0,
         "pixel781": 0,
         "pixel782": 0,
         "pixel783": 0,
         "pixel79": 0,
         "pixel8": 0,
         "pixel80": 0,
         "pixel81": 0,
         "pixel82": 0,
         "pixel83": 0,
         "pixel84": 0,
         "pixel85": 0,
         "pixel86": 0,
         "pixel87": 0,
         "pixel88": 0,
         "pixel89": 0,
         "pixel9": 0,
         "pixel90": 0,
         "pixel91": 0,
         "pixel92": 0,
         "pixel93": 0,
         "pixel94": 0,
         "pixel95": 0,
         "pixel96": 0,
         "pixel97": 0,
         "pixel98": 0,
         "pixel99": 0
        }
       ],
       "rows_top": []
      },
      "text/html": [
       "<div>\n",
       "<style scoped>\n",
       "    .dataframe tbody tr th:only-of-type {\n",
       "        vertical-align: middle;\n",
       "    }\n",
       "\n",
       "    .dataframe tbody tr th {\n",
       "        vertical-align: top;\n",
       "    }\n",
       "\n",
       "    .dataframe thead th {\n",
       "        text-align: right;\n",
       "    }\n",
       "</style>\n",
       "<table border=\"1\" class=\"dataframe\">\n",
       "  <thead>\n",
       "    <tr style=\"text-align: right;\">\n",
       "      <th></th>\n",
       "      <th>pixel0</th>\n",
       "      <th>pixel1</th>\n",
       "      <th>pixel2</th>\n",
       "      <th>pixel3</th>\n",
       "      <th>pixel4</th>\n",
       "      <th>pixel5</th>\n",
       "      <th>pixel6</th>\n",
       "      <th>pixel7</th>\n",
       "      <th>pixel8</th>\n",
       "      <th>pixel9</th>\n",
       "      <th>...</th>\n",
       "      <th>pixel774</th>\n",
       "      <th>pixel775</th>\n",
       "      <th>pixel776</th>\n",
       "      <th>pixel777</th>\n",
       "      <th>pixel778</th>\n",
       "      <th>pixel779</th>\n",
       "      <th>pixel780</th>\n",
       "      <th>pixel781</th>\n",
       "      <th>pixel782</th>\n",
       "      <th>pixel783</th>\n",
       "    </tr>\n",
       "  </thead>\n",
       "  <tbody>\n",
       "    <tr>\n",
       "      <th>25420</th>\n",
       "      <td>0</td>\n",
       "      <td>0</td>\n",
       "      <td>0</td>\n",
       "      <td>0</td>\n",
       "      <td>0</td>\n",
       "      <td>0</td>\n",
       "      <td>0</td>\n",
       "      <td>0</td>\n",
       "      <td>0</td>\n",
       "      <td>0</td>\n",
       "      <td>...</td>\n",
       "      <td>0</td>\n",
       "      <td>0</td>\n",
       "      <td>0</td>\n",
       "      <td>0</td>\n",
       "      <td>0</td>\n",
       "      <td>0</td>\n",
       "      <td>0</td>\n",
       "      <td>0</td>\n",
       "      <td>0</td>\n",
       "      <td>0</td>\n",
       "    </tr>\n",
       "    <tr>\n",
       "      <th>33967</th>\n",
       "      <td>0</td>\n",
       "      <td>0</td>\n",
       "      <td>0</td>\n",
       "      <td>0</td>\n",
       "      <td>0</td>\n",
       "      <td>0</td>\n",
       "      <td>0</td>\n",
       "      <td>0</td>\n",
       "      <td>0</td>\n",
       "      <td>0</td>\n",
       "      <td>...</td>\n",
       "      <td>0</td>\n",
       "      <td>0</td>\n",
       "      <td>0</td>\n",
       "      <td>0</td>\n",
       "      <td>0</td>\n",
       "      <td>0</td>\n",
       "      <td>0</td>\n",
       "      <td>0</td>\n",
       "      <td>0</td>\n",
       "      <td>0</td>\n",
       "    </tr>\n",
       "    <tr>\n",
       "      <th>18894</th>\n",
       "      <td>0</td>\n",
       "      <td>0</td>\n",
       "      <td>0</td>\n",
       "      <td>0</td>\n",
       "      <td>0</td>\n",
       "      <td>0</td>\n",
       "      <td>0</td>\n",
       "      <td>0</td>\n",
       "      <td>0</td>\n",
       "      <td>0</td>\n",
       "      <td>...</td>\n",
       "      <td>0</td>\n",
       "      <td>0</td>\n",
       "      <td>0</td>\n",
       "      <td>0</td>\n",
       "      <td>0</td>\n",
       "      <td>0</td>\n",
       "      <td>0</td>\n",
       "      <td>0</td>\n",
       "      <td>0</td>\n",
       "      <td>0</td>\n",
       "    </tr>\n",
       "    <tr>\n",
       "      <th>18206</th>\n",
       "      <td>0</td>\n",
       "      <td>0</td>\n",
       "      <td>0</td>\n",
       "      <td>0</td>\n",
       "      <td>0</td>\n",
       "      <td>0</td>\n",
       "      <td>0</td>\n",
       "      <td>0</td>\n",
       "      <td>0</td>\n",
       "      <td>0</td>\n",
       "      <td>...</td>\n",
       "      <td>0</td>\n",
       "      <td>0</td>\n",
       "      <td>0</td>\n",
       "      <td>0</td>\n",
       "      <td>0</td>\n",
       "      <td>0</td>\n",
       "      <td>0</td>\n",
       "      <td>0</td>\n",
       "      <td>0</td>\n",
       "      <td>0</td>\n",
       "    </tr>\n",
       "    <tr>\n",
       "      <th>39566</th>\n",
       "      <td>0</td>\n",
       "      <td>0</td>\n",
       "      <td>0</td>\n",
       "      <td>0</td>\n",
       "      <td>0</td>\n",
       "      <td>0</td>\n",
       "      <td>0</td>\n",
       "      <td>0</td>\n",
       "      <td>0</td>\n",
       "      <td>0</td>\n",
       "      <td>...</td>\n",
       "      <td>0</td>\n",
       "      <td>0</td>\n",
       "      <td>0</td>\n",
       "      <td>0</td>\n",
       "      <td>0</td>\n",
       "      <td>0</td>\n",
       "      <td>0</td>\n",
       "      <td>0</td>\n",
       "      <td>0</td>\n",
       "      <td>0</td>\n",
       "    </tr>\n",
       "    <tr>\n",
       "      <th>...</th>\n",
       "      <td>...</td>\n",
       "      <td>...</td>\n",
       "      <td>...</td>\n",
       "      <td>...</td>\n",
       "      <td>...</td>\n",
       "      <td>...</td>\n",
       "      <td>...</td>\n",
       "      <td>...</td>\n",
       "      <td>...</td>\n",
       "      <td>...</td>\n",
       "      <td>...</td>\n",
       "      <td>...</td>\n",
       "      <td>...</td>\n",
       "      <td>...</td>\n",
       "      <td>...</td>\n",
       "      <td>...</td>\n",
       "      <td>...</td>\n",
       "      <td>...</td>\n",
       "      <td>...</td>\n",
       "      <td>...</td>\n",
       "      <td>...</td>\n",
       "    </tr>\n",
       "    <tr>\n",
       "      <th>21733</th>\n",
       "      <td>0</td>\n",
       "      <td>0</td>\n",
       "      <td>0</td>\n",
       "      <td>0</td>\n",
       "      <td>0</td>\n",
       "      <td>0</td>\n",
       "      <td>0</td>\n",
       "      <td>0</td>\n",
       "      <td>0</td>\n",
       "      <td>0</td>\n",
       "      <td>...</td>\n",
       "      <td>0</td>\n",
       "      <td>0</td>\n",
       "      <td>0</td>\n",
       "      <td>0</td>\n",
       "      <td>0</td>\n",
       "      <td>0</td>\n",
       "      <td>0</td>\n",
       "      <td>0</td>\n",
       "      <td>0</td>\n",
       "      <td>0</td>\n",
       "    </tr>\n",
       "    <tr>\n",
       "      <th>8285</th>\n",
       "      <td>0</td>\n",
       "      <td>0</td>\n",
       "      <td>0</td>\n",
       "      <td>0</td>\n",
       "      <td>0</td>\n",
       "      <td>0</td>\n",
       "      <td>0</td>\n",
       "      <td>0</td>\n",
       "      <td>0</td>\n",
       "      <td>0</td>\n",
       "      <td>...</td>\n",
       "      <td>0</td>\n",
       "      <td>0</td>\n",
       "      <td>0</td>\n",
       "      <td>0</td>\n",
       "      <td>0</td>\n",
       "      <td>0</td>\n",
       "      <td>0</td>\n",
       "      <td>0</td>\n",
       "      <td>0</td>\n",
       "      <td>0</td>\n",
       "    </tr>\n",
       "    <tr>\n",
       "      <th>40444</th>\n",
       "      <td>0</td>\n",
       "      <td>0</td>\n",
       "      <td>0</td>\n",
       "      <td>0</td>\n",
       "      <td>0</td>\n",
       "      <td>0</td>\n",
       "      <td>0</td>\n",
       "      <td>0</td>\n",
       "      <td>0</td>\n",
       "      <td>0</td>\n",
       "      <td>...</td>\n",
       "      <td>0</td>\n",
       "      <td>0</td>\n",
       "      <td>0</td>\n",
       "      <td>0</td>\n",
       "      <td>0</td>\n",
       "      <td>0</td>\n",
       "      <td>0</td>\n",
       "      <td>0</td>\n",
       "      <td>0</td>\n",
       "      <td>0</td>\n",
       "    </tr>\n",
       "    <tr>\n",
       "      <th>13041</th>\n",
       "      <td>0</td>\n",
       "      <td>0</td>\n",
       "      <td>0</td>\n",
       "      <td>0</td>\n",
       "      <td>0</td>\n",
       "      <td>0</td>\n",
       "      <td>0</td>\n",
       "      <td>0</td>\n",
       "      <td>0</td>\n",
       "      <td>0</td>\n",
       "      <td>...</td>\n",
       "      <td>0</td>\n",
       "      <td>0</td>\n",
       "      <td>0</td>\n",
       "      <td>0</td>\n",
       "      <td>0</td>\n",
       "      <td>0</td>\n",
       "      <td>0</td>\n",
       "      <td>0</td>\n",
       "      <td>0</td>\n",
       "      <td>0</td>\n",
       "    </tr>\n",
       "    <tr>\n",
       "      <th>13153</th>\n",
       "      <td>0</td>\n",
       "      <td>0</td>\n",
       "      <td>0</td>\n",
       "      <td>0</td>\n",
       "      <td>0</td>\n",
       "      <td>0</td>\n",
       "      <td>0</td>\n",
       "      <td>0</td>\n",
       "      <td>0</td>\n",
       "      <td>0</td>\n",
       "      <td>...</td>\n",
       "      <td>0</td>\n",
       "      <td>0</td>\n",
       "      <td>0</td>\n",
       "      <td>0</td>\n",
       "      <td>0</td>\n",
       "      <td>0</td>\n",
       "      <td>0</td>\n",
       "      <td>0</td>\n",
       "      <td>0</td>\n",
       "      <td>0</td>\n",
       "    </tr>\n",
       "  </tbody>\n",
       "</table>\n",
       "<p>10000 rows × 784 columns</p>\n",
       "</div>"
      ],
      "text/plain": [
       "       pixel0  pixel1  pixel2  pixel3  pixel4  pixel5  pixel6  pixel7  pixel8  \\\n",
       "25420       0       0       0       0       0       0       0       0       0   \n",
       "33967       0       0       0       0       0       0       0       0       0   \n",
       "18894       0       0       0       0       0       0       0       0       0   \n",
       "18206       0       0       0       0       0       0       0       0       0   \n",
       "39566       0       0       0       0       0       0       0       0       0   \n",
       "...       ...     ...     ...     ...     ...     ...     ...     ...     ...   \n",
       "21733       0       0       0       0       0       0       0       0       0   \n",
       "8285        0       0       0       0       0       0       0       0       0   \n",
       "40444       0       0       0       0       0       0       0       0       0   \n",
       "13041       0       0       0       0       0       0       0       0       0   \n",
       "13153       0       0       0       0       0       0       0       0       0   \n",
       "\n",
       "       pixel9  ...  pixel774  pixel775  pixel776  pixel777  pixel778  \\\n",
       "25420       0  ...         0         0         0         0         0   \n",
       "33967       0  ...         0         0         0         0         0   \n",
       "18894       0  ...         0         0         0         0         0   \n",
       "18206       0  ...         0         0         0         0         0   \n",
       "39566       0  ...         0         0         0         0         0   \n",
       "...       ...  ...       ...       ...       ...       ...       ...   \n",
       "21733       0  ...         0         0         0         0         0   \n",
       "8285        0  ...         0         0         0         0         0   \n",
       "40444       0  ...         0         0         0         0         0   \n",
       "13041       0  ...         0         0         0         0         0   \n",
       "13153       0  ...         0         0         0         0         0   \n",
       "\n",
       "       pixel779  pixel780  pixel781  pixel782  pixel783  \n",
       "25420         0         0         0         0         0  \n",
       "33967         0         0         0         0         0  \n",
       "18894         0         0         0         0         0  \n",
       "18206         0         0         0         0         0  \n",
       "39566         0         0         0         0         0  \n",
       "...         ...       ...       ...       ...       ...  \n",
       "21733         0         0         0         0         0  \n",
       "8285          0         0         0         0         0  \n",
       "40444         0         0         0         0         0  \n",
       "13041         0         0         0         0         0  \n",
       "13153         0         0         0         0         0  \n",
       "\n",
       "[10000 rows x 784 columns]"
      ]
     },
     "execution_count": 20,
     "metadata": {},
     "output_type": "execute_result"
    }
   ],
   "source": [
    "# Copie de XSup100 en XInf100 pour effectuer la transformation des gris inférieur à 120 en noir et en blanc pour les pixels supérieurs à 120 \n",
    "Xinf120sup = XSup150.copy()\n",
    "Xinf120sup[Xinf120sup.iloc[:,0:] < 120]  = 0\n",
    "Xinf120sup[Xinf120sup.iloc[:,0:] >= 120]  = 255\n",
    "Xinf120sup"
   ]
  },
  {
   "cell_type": "code",
   "execution_count": null,
   "metadata": {
    "cell_id": "00035-40a22fba-63ac-4cfe-93b0-839e1bc74b34",
    "deepnote_cell_type": "code",
    "deepnote_to_be_reexecuted": false,
    "execution_millis": 1,
    "execution_start": 1613731909148,
    "source_hash": "2bf72c54",
    "tags": []
   },
   "outputs": [
    {
     "name": "stdout",
     "output_type": "stream",
     "text": [
      "4\n"
     ]
    }
   ],
   "source": [
    "import seaborn as sns\n",
    "n = 25420\n",
    "print(images.iloc[n,0])"
   ]
  },
  {
   "cell_type": "code",
   "execution_count": null,
   "metadata": {
    "cell_id": "00036-248db78a-9b47-46b7-8e6b-e888856dccff",
    "deepnote_cell_type": "code",
    "deepnote_to_be_reexecuted": false,
    "execution_millis": 76,
    "execution_start": 1613731909149,
    "source_hash": "57459bc5",
    "tags": []
   },
   "outputs": [
    {
     "data": {
      "image/png": "[encoded data removed]",
      "text/plain": [
       "<Figure size 432x288 with 2 Axes>"
      ]
     },
     "metadata": {
      "needs_background": "light"
     },
     "output_type": "display_data"
    }
   ],
   "source": [
    "sns.heatmap(X.loc[n,'pixel0':].values.reshape((28,28)), cmap=\"Greys_r\");"
   ]
  },
  {
   "cell_type": "code",
   "execution_count": null,
   "metadata": {
    "cell_id": "00037-2363d3d8-63bb-46f3-a04d-76b93e957a77",
    "deepnote_cell_type": "code",
    "deepnote_to_be_reexecuted": false,
    "execution_millis": 438,
    "execution_start": 1613731909150,
    "source_hash": "7f6cb8bc",
    "tags": []
   },
   "outputs": [
    {
     "data": {
      "image/png": "[encoded data removed]",
      "text/plain": [
       "<Figure size 432x288 with 2 Axes>"
      ]
     },
     "metadata": {
      "needs_background": "light"
     },
     "output_type": "display_data"
    }
   ],
   "source": [
    "sns.heatmap(X_TReduit.loc[n,'pixel0':].values.reshape((28,28)), cmap=\"Greys_r\");"
   ]
  },
  {
   "cell_type": "code",
   "execution_count": null,
   "metadata": {
    "cell_id": "00038-cce3b118-bb45-4db8-8273-74c99527128a",
    "deepnote_cell_type": "code",
    "deepnote_to_be_reexecuted": false,
    "execution_millis": 361,
    "execution_start": 1613731909463,
    "source_hash": "25dd30aa",
    "tags": []
   },
   "outputs": [
    {
     "data": {
      "image/png": "[encoded data removed]",
      "text/plain": [
       "<Figure size 432x288 with 2 Axes>"
      ]
     },
     "metadata": {
      "needs_background": "light"
     },
     "output_type": "display_data"
    }
   ],
   "source": [
    "sns.heatmap(XSup150.loc[n,'pixel0':].values.reshape((28,28)), cmap=\"Greys_r\");"
   ]
  },
  {
   "cell_type": "code",
   "execution_count": null,
   "metadata": {
    "cell_id": "00039-3fbcfb09-c431-4162-a458-67e652f19804",
    "deepnote_cell_type": "code",
    "deepnote_to_be_reexecuted": false,
    "execution_millis": 569,
    "execution_start": 1613731909818,
    "source_hash": "6cfce498",
    "tags": []
   },
   "outputs": [
    {
     "data": {
      "image/png": "[encoded data removed]",
      "text/plain": [
       "<Figure size 432x288 with 2 Axes>"
      ]
     },
     "metadata": {
      "needs_background": "light"
     },
     "output_type": "display_data"
    }
   ],
   "source": [
    "sns.heatmap(XInf100.loc[n,'pixel0':].values.reshape((28,28)), cmap=\"Greys_r\");"
   ]
  },
  {
   "cell_type": "code",
   "execution_count": null,
   "metadata": {
    "cell_id": "00041-9f174187-24f8-4588-b994-e56c53e31d3f",
    "deepnote_cell_type": "code",
    "deepnote_to_be_reexecuted": false,
    "execution_millis": 286,
    "execution_start": 1613731910370,
    "source_hash": "4670d35a",
    "tags": []
   },
   "outputs": [
    {
     "data": {
      "image/png": "[encoded data removed]",
      "text/plain": [
       "<Figure size 432x288 with 2 Axes>"
      ]
     },
     "metadata": {
      "needs_background": "light"
     },
     "output_type": "display_data"
    }
   ],
   "source": [
    "sns.heatmap(Xinf120sup.loc[n,'pixel0':].values.reshape((28,28)), cmap=\"Greys_r\");"
   ]
  },
  {
   "cell_type": "markdown",
   "metadata": {
    "cell_id": "00030-92b43ae3-a504-4943-a1f1-184d542da13e",
    "deepnote_cell_type": "markdown",
    "tags": []
   },
   "source": [
    "# Etape 5 : Construisez votre modèle"
   ]
  },
  {
   "cell_type": "markdown",
   "metadata": {
    "cell_id": "00031-d2c9033f-2d9e-4a15-8dd3-4b1e1897f95f",
    "deepnote_cell_type": "markdown",
    "tags": []
   },
   "source": [
    "## SVM par défaut"
   ]
  },
  {
   "cell_type": "code",
   "execution_count": null,
   "metadata": {
    "cell_id": "00031-edfb1551-70d3-45a0-a10e-57638ffc5421",
    "deepnote_cell_type": "code",
    "deepnote_to_be_reexecuted": false,
    "execution_millis": 0,
    "execution_start": 1613731910649,
    "source_hash": "746a4dbc",
    "tags": []
   },
   "outputs": [],
   "source": [
    "from sklearn.model_selection import train_test_split"
   ]
  },
  {
   "cell_type": "code",
   "execution_count": null,
   "metadata": {
    "cell_id": "00032-02b1cced-d7e0-4fda-a8c8-a3bdb7982d53",
    "deepnote_cell_type": "code",
    "deepnote_to_be_reexecuted": false,
    "execution_millis": 230,
    "execution_start": 1613731910652,
    "source_hash": "c947e33b",
    "tags": []
   },
   "outputs": [],
   "source": [
    "X_train, X_test, y_train, y_test = train_test_split(X, y, shuffle=True, test_size=0.2, stratify=y, random_state=42)"
   ]
  },
  {
   "cell_type": "code",
   "execution_count": null,
   "metadata": {
    "cell_id": "00033-7d19df7c-c63c-43e2-b8a1-afbfacbd0360",
    "deepnote_cell_type": "code",
    "deepnote_to_be_reexecuted": false,
    "execution_millis": 13,
    "execution_start": 1613731910887,
    "source_hash": "a1c7109f",
    "tags": []
   },
   "outputs": [
    {
     "data": {
      "text/plain": [
       "((33600, 784), (8400, 784), (33600,), (8400,))"
      ]
     },
     "execution_count": 29,
     "metadata": {},
     "output_type": "execute_result"
    }
   ],
   "source": [
    "X_train.shape, X_test.shape, y_train.shape, y_test.shape "
   ]
  },
  {
   "cell_type": "code",
   "execution_count": null,
   "metadata": {
    "cell_id": "00033-f9a36800-9d22-43a0-a612-3452b7d1b941",
    "deepnote_cell_type": "code",
    "deepnote_to_be_reexecuted": false,
    "execution_millis": 45,
    "execution_start": 1613731910892,
    "source_hash": "609127a2",
    "tags": []
   },
   "outputs": [],
   "source": [
    "from sklearn.svm import SVC"
   ]
  },
  {
   "cell_type": "code",
   "execution_count": null,
   "metadata": {
    "cell_id": "00035-bd56f155-874c-4ad6-a03d-dcb4f6c02244",
    "deepnote_cell_type": "code",
    "deepnote_to_be_reexecuted": false,
    "execution_millis": 1,
    "execution_start": 1613731910941,
    "source_hash": "204c0212",
    "tags": []
   },
   "outputs": [],
   "source": [
    "svc_model = SVC(probability=True)"
   ]
  },
  {
   "cell_type": "markdown",
   "metadata": {
    "cell_id": "00048-41fed7fc-abb2-466b-b063-9978ff95a63d",
    "deepnote_cell_type": "markdown",
    "tags": []
   },
   "source": []
  },
  {
   "cell_type": "markdown",
   "metadata": {
    "cell_id": "00049-89c3271d-fd66-42e8-9087-107cf235a128",
    "deepnote_cell_type": "markdown",
    "tags": []
   },
   "source": [
    "## SVM sur TReduit (10 000 enregistrements)"
   ]
  },
  {
   "cell_type": "code",
   "execution_count": null,
   "metadata": {
    "cell_id": "00050-9653c416-1ba3-46da-a7d0-38c2afefb17c",
    "deepnote_cell_type": "code",
    "deepnote_to_be_reexecuted": false,
    "execution_millis": 43,
    "execution_start": 1613731910946,
    "source_hash": "51fa69db",
    "tags": []
   },
   "outputs": [],
   "source": [
    "X_train, X_test, y_train, y_test = train_test_split(X_TReduit, y_TReduit, shuffle=True, test_size=0.2, stratify=y_TReduit, random_state=42)"
   ]
  },
  {
   "cell_type": "code",
   "execution_count": null,
   "metadata": {
    "cell_id": "00053-5ec6604b-793c-4708-b85e-edbc46be08dd",
    "deepnote_cell_type": "code",
    "deepnote_to_be_reexecuted": false,
    "execution_millis": 7,
    "execution_start": 1613731910989,
    "source_hash": "a1c7109f",
    "tags": []
   },
   "outputs": [
    {
     "data": {
      "text/plain": [
       "((8000, 784), (2000, 784), (8000,), (2000,))"
      ]
     },
     "execution_count": 33,
     "metadata": {},
     "output_type": "execute_result"
    }
   ],
   "source": [
    "X_train.shape, X_test.shape, y_train.shape, y_test.shape "
   ]
  },
  {
   "cell_type": "code",
   "execution_count": null,
   "metadata": {
    "cell_id": "00053-107e7651-b1b4-4bf8-879f-5c538082346a",
    "deepnote_cell_type": "code",
    "deepnote_to_be_reexecuted": false,
    "execution_millis": 50,
    "execution_start": 1613731910990,
    "source_hash": "2b5345ef",
    "tags": []
   },
   "outputs": [
    {
     "data": {
      "text/plain": [
       "SVC(probability=True)"
      ]
     },
     "execution_count": 34,
     "metadata": {},
     "output_type": "execute_result"
    }
   ],
   "source": [
    "svc_model_TReduit = SVC(probability=True)\n",
    "svc_model_TReduit "
   ]
  },
  {
   "cell_type": "code",
   "execution_count": null,
   "metadata": {
    "cell_id": "00053-9774e15b-1bd0-4982-b862-0eb70e8a4ea7",
    "deepnote_cell_type": "code",
    "deepnote_to_be_reexecuted": false,
    "execution_millis": 37087,
    "execution_start": 1613731911034,
    "source_hash": "47b9771f",
    "tags": []
   },
   "outputs": [
    {
     "data": {
      "text/plain": [
       "SVC(probability=True)"
      ]
     },
     "execution_count": 35,
     "metadata": {},
     "output_type": "execute_result"
    }
   ],
   "source": [
    "svc_model_TReduit.fit(X_train, y_train)"
   ]
  },
  {
   "cell_type": "code",
   "execution_count": null,
   "metadata": {
    "cell_id": "00054-c9ff6d03-a603-4d01-a7c3-9d11f790dc4c",
    "deepnote_cell_type": "code",
    "deepnote_to_be_reexecuted": false,
    "execution_millis": 4393,
    "execution_start": 1613731948114,
    "source_hash": "53730fe8",
    "tags": []
   },
   "outputs": [
    {
     "data": {
      "text/plain": [
       "0.963"
      ]
     },
     "execution_count": 36,
     "metadata": {},
     "output_type": "execute_result"
    }
   ],
   "source": [
    "#score\n",
    "svc_model_TReduit.score(X_test, y_test)"
   ]
  },
  {
   "cell_type": "markdown",
   "metadata": {
    "cell_id": "00055-f4c14a53-7f51-40e7-907b-ade625bf9b5a",
    "deepnote_cell_type": "markdown",
    "tags": []
   },
   "source": [
    "## SVM Remplacement pixel > 150 en pixel = 255 => en blanc"
   ]
  },
  {
   "cell_type": "code",
   "execution_count": null,
   "metadata": {
    "cell_id": "00056-040aa56a-4812-482d-9e9b-b4735f22e2b0",
    "deepnote_cell_type": "code",
    "deepnote_to_be_reexecuted": false,
    "execution_millis": 60,
    "execution_start": 1613731952504,
    "source_hash": "1830c702",
    "tags": []
   },
   "outputs": [
    {
     "data": {
      "text/plain": [
       "((8000, 784), (2000, 784), (8000,), (2000,))"
      ]
     },
     "execution_count": 37,
     "metadata": {},
     "output_type": "execute_result"
    }
   ],
   "source": [
    "X_train255, X_test255, y_train255, y_test255 = train_test_split(XSup150, y_TReduit, shuffle=True, test_size=0.2, stratify=y_TReduit, random_state=42)\n",
    "X_train255.shape, X_test255.shape, y_train255.shape, y_test255.shape "
   ]
  },
  {
   "cell_type": "code",
   "execution_count": null,
   "metadata": {
    "cell_id": "00057-4e567d1e-c887-49fc-9a65-7358c14150af",
    "deepnote_cell_type": "code",
    "deepnote_to_be_reexecuted": false,
    "execution_millis": 21,
    "execution_start": 1613731952554,
    "source_hash": "8fc0c2a2",
    "tags": []
   },
   "outputs": [
    {
     "data": {
      "text/plain": [
       "SVC(probability=True)"
      ]
     },
     "execution_count": 38,
     "metadata": {},
     "output_type": "execute_result"
    }
   ],
   "source": [
    "svc_model_T255 = SVC(probability=True)\n",
    "svc_model_T255 "
   ]
  },
  {
   "cell_type": "code",
   "execution_count": null,
   "metadata": {
    "cell_id": "00058-059dc2fc-d553-470f-99fd-3fa73f078933",
    "deepnote_cell_type": "code",
    "deepnote_to_be_reexecuted": false,
    "execution_millis": 43151,
    "execution_start": 1613731952570,
    "source_hash": "1ac7ba09",
    "tags": []
   },
   "outputs": [
    {
     "data": {
      "text/plain": [
       "0.9635"
      ]
     },
     "execution_count": 39,
     "metadata": {},
     "output_type": "execute_result"
    }
   ],
   "source": [
    "svc_model_T255.fit(X_train255, y_train255)\n",
    "\n",
    "#score\n",
    "svc_model_T255.score(X_test255, y_test255)"
   ]
  },
  {
   "cell_type": "markdown",
   "metadata": {
    "cell_id": "00058-174e07bb-e488-4fe5-b6d7-ef34528fd6fb",
    "deepnote_cell_type": "markdown",
    "tags": []
   },
   "source": [
    "## SVM Remplacement pixel < 100 en pixel = 0 => en noir"
   ]
  },
  {
   "cell_type": "code",
   "execution_count": null,
   "metadata": {
    "cell_id": "00059-052f60ac-47b2-4750-bb90-05ecea5b5203",
    "deepnote_cell_type": "code",
    "deepnote_to_be_reexecuted": false,
    "execution_millis": 24,
    "execution_start": 1613731995698,
    "source_hash": "5d4368ee",
    "tags": []
   },
   "outputs": [
    {
     "data": {
      "text/plain": [
       "((8000, 784), (2000, 784), (8000,), (2000,))"
      ]
     },
     "execution_count": 40,
     "metadata": {},
     "output_type": "execute_result"
    }
   ],
   "source": [
    "X_train100, X_test100, y_train100, y_test100 = train_test_split(XInf100, y_TReduit, shuffle=True, test_size=0.2, stratify=y_TReduit, random_state=42)\n",
    "X_train100.shape, X_test100.shape, y_train100.shape, y_test100.shape "
   ]
  },
  {
   "cell_type": "code",
   "execution_count": null,
   "metadata": {
    "cell_id": "00060-24bdb0fa-3a87-4511-b7ae-241b6e200bee",
    "deepnote_cell_type": "code",
    "deepnote_to_be_reexecuted": false,
    "execution_millis": 17,
    "execution_start": 1613731995712,
    "source_hash": "2f7a74e0",
    "tags": []
   },
   "outputs": [
    {
     "data": {
      "text/plain": [
       "SVC(probability=True)"
      ]
     },
     "execution_count": 41,
     "metadata": {},
     "output_type": "execute_result"
    }
   ],
   "source": [
    "svc_model_T100 = SVC(probability=True)\n",
    "svc_model_T100 "
   ]
  },
  {
   "cell_type": "code",
   "execution_count": null,
   "metadata": {
    "cell_id": "00061-b345be94-6aee-43d2-82fd-2332af1bff42",
    "deepnote_cell_type": "code",
    "deepnote_to_be_reexecuted": false,
    "execution_millis": 47824,
    "execution_start": 1613731995722,
    "source_hash": "88e2a485",
    "tags": []
   },
   "outputs": [
    {
     "data": {
      "text/plain": [
       "0.958"
      ]
     },
     "execution_count": 42,
     "metadata": {},
     "output_type": "execute_result"
    }
   ],
   "source": [
    "svc_model_T100.fit(X_train100, y_train100)\n",
    "\n",
    "#score\n",
    "svc_model_T100.score(X_test100, y_test100)"
   ]
  },
  {
   "cell_type": "markdown",
   "metadata": {
    "cell_id": "00064-ee74b7e8-647e-4a04-be70-2f5b6be6a201",
    "deepnote_cell_type": "markdown",
    "tags": []
   },
   "source": [
    "## SVM Remplacement pixel < 120 en pixel = 0 => en noir et pixel >= 120 en 255 blanc"
   ]
  },
  {
   "cell_type": "code",
   "execution_count": null,
   "metadata": {
    "cell_id": "00065-1acde90d-02dd-4f15-9fe3-916bf66e676e",
    "deepnote_cell_type": "code",
    "deepnote_to_be_reexecuted": false,
    "execution_millis": 273,
    "execution_start": 1613732043539,
    "source_hash": "6c04677b",
    "tags": []
   },
   "outputs": [
    {
     "data": {
      "application/vnd.deepnote.dataframe.v2+json": {
       "column_count": 784,
       "columns": [
        {
         "dtype": "int64",
         "name": "pixel0",
         "stats": {
          "histogram": [
           {
            "bin_end": -0.4,
            "bin_start": -0.5,
            "count": 0
           },
           {
            "bin_end": -0.3,
            "bin_start": -0.4,
            "count": 0
           },
           {
            "bin_end": -0.19999999999999996,
            "bin_start": -0.3,
            "count": 0
           },
           {
            "bin_end": -0.09999999999999998,
            "bin_start": -0.19999999999999996,
            "count": 0
           },
           {
            "bin_end": 0,
            "bin_start": -0.09999999999999998,
            "count": 0
           },
           {
            "bin_end": 0.10000000000000009,
            "bin_start": 0,
            "count": 10000
           },
           {
            "bin_end": 0.20000000000000007,
            "bin_start": 0.10000000000000009,
            "count": 0
           },
           {
            "bin_end": 0.30000000000000004,
            "bin_start": 0.20000000000000007,
            "count": 0
           },
           {
            "bin_end": 0.4,
            "bin_start": 0.30000000000000004,
            "count": 0
           },
           {
            "bin_end": 0.5,
            "bin_start": 0.4,
            "count": 0
           }
          ],
          "max": 0,
          "min": 0,
          "nan_count": 0,
          "unique_count": 1
         }
        },
        {
         "dtype": "int64",
         "name": "pixel1",
         "stats": {
          "histogram": [
           {
            "bin_end": -0.4,
            "bin_start": -0.5,
            "count": 0
           },
           {
            "bin_end": -0.3,
            "bin_start": -0.4,
            "count": 0
           },
           {
            "bin_end": -0.19999999999999996,
            "bin_start": -0.3,
            "count": 0
           },
           {
            "bin_end": -0.09999999999999998,
            "bin_start": -0.19999999999999996,
            "count": 0
           },
           {
            "bin_end": 0,
            "bin_start": -0.09999999999999998,
            "count": 0
           },
           {
            "bin_end": 0.10000000000000009,
            "bin_start": 0,
            "count": 10000
           },
           {
            "bin_end": 0.20000000000000007,
            "bin_start": 0.10000000000000009,
            "count": 0
           },
           {
            "bin_end": 0.30000000000000004,
            "bin_start": 0.20000000000000007,
            "count": 0
           },
           {
            "bin_end": 0.4,
            "bin_start": 0.30000000000000004,
            "count": 0
           },
           {
            "bin_end": 0.5,
            "bin_start": 0.4,
            "count": 0
           }
          ],
          "max": 0,
          "min": 0,
          "nan_count": 0,
          "unique_count": 1
         }
        },
        {
         "dtype": "int64",
         "name": "pixel2",
         "stats": {
          "histogram": [
           {
            "bin_end": -0.4,
            "bin_start": -0.5,
            "count": 0
           },
           {
            "bin_end": -0.3,
            "bin_start": -0.4,
            "count": 0
           },
           {
            "bin_end": -0.19999999999999996,
            "bin_start": -0.3,
            "count": 0
           },
           {
            "bin_end": -0.09999999999999998,
            "bin_start": -0.19999999999999996,
            "count": 0
           },
           {
            "bin_end": 0,
            "bin_start": -0.09999999999999998,
            "count": 0
           },
           {
            "bin_end": 0.10000000000000009,
            "bin_start": 0,
            "count": 10000
           },
           {
            "bin_end": 0.20000000000000007,
            "bin_start": 0.10000000000000009,
            "count": 0
           },
           {
            "bin_end": 0.30000000000000004,
            "bin_start": 0.20000000000000007,
            "count": 0
           },
           {
            "bin_end": 0.4,
            "bin_start": 0.30000000000000004,
            "count": 0
           },
           {
            "bin_end": 0.5,
            "bin_start": 0.4,
            "count": 0
           }
          ],
          "max": 0,
          "min": 0,
          "nan_count": 0,
          "unique_count": 1
         }
        },
        {
         "dtype": "int64",
         "name": "pixel3",
         "stats": {
          "histogram": [
           {
            "bin_end": -0.4,
            "bin_start": -0.5,
            "count": 0
           },
           {
            "bin_end": -0.3,
            "bin_start": -0.4,
            "count": 0
           },
           {
            "bin_end": -0.19999999999999996,
            "bin_start": -0.3,
            "count": 0
           },
           {
            "bin_end": -0.09999999999999998,
            "bin_start": -0.19999999999999996,
            "count": 0
           },
           {
            "bin_end": 0,
            "bin_start": -0.09999999999999998,
            "count": 0
           },
           {
            "bin_end": 0.10000000000000009,
            "bin_start": 0,
            "count": 10000
           },
           {
            "bin_end": 0.20000000000000007,
            "bin_start": 0.10000000000000009,
            "count": 0
           },
           {
            "bin_end": 0.30000000000000004,
            "bin_start": 0.20000000000000007,
            "count": 0
           },
           {
            "bin_end": 0.4,
            "bin_start": 0.30000000000000004,
            "count": 0
           },
           {
            "bin_end": 0.5,
            "bin_start": 0.4,
            "count": 0
           }
          ],
          "max": 0,
          "min": 0,
          "nan_count": 0,
          "unique_count": 1
         }
        },
        {
         "dtype": "int64",
         "name": "pixel4",
         "stats": {
          "histogram": [
           {
            "bin_end": -0.4,
            "bin_start": -0.5,
            "count": 0
           },
           {
            "bin_end": -0.3,
            "bin_start": -0.4,
            "count": 0
           },
           {
            "bin_end": -0.19999999999999996,
            "bin_start": -0.3,
            "count": 0
           },
           {
            "bin_end": -0.09999999999999998,
            "bin_start": -0.19999999999999996,
            "count": 0
           },
           {
            "bin_end": 0,
            "bin_start": -0.09999999999999998,
            "count": 0
           },
           {
            "bin_end": 0.10000000000000009,
            "bin_start": 0,
            "count": 10000
           },
           {
            "bin_end": 0.20000000000000007,
            "bin_start": 0.10000000000000009,
            "count": 0
           },
           {
            "bin_end": 0.30000000000000004,
            "bin_start": 0.20000000000000007,
            "count": 0
           },
           {
            "bin_end": 0.4,
            "bin_start": 0.30000000000000004,
            "count": 0
           },
           {
            "bin_end": 0.5,
            "bin_start": 0.4,
            "count": 0
           }
          ],
          "max": 0,
          "min": 0,
          "nan_count": 0,
          "unique_count": 1
         }
        },
        {
         "dtype": "int64",
         "name": "pixel5",
         "stats": {
          "histogram": [
           {
            "bin_end": -0.4,
            "bin_start": -0.5,
            "count": 0
           },
           {
            "bin_end": -0.3,
            "bin_start": -0.4,
            "count": 0
           },
           {
            "bin_end": -0.19999999999999996,
            "bin_start": -0.3,
            "count": 0
           },
           {
            "bin_end": -0.09999999999999998,
            "bin_start": -0.19999999999999996,
            "count": 0
           },
           {
            "bin_end": 0,
            "bin_start": -0.09999999999999998,
            "count": 0
           },
           {
            "bin_end": 0.10000000000000009,
            "bin_start": 0,
            "count": 10000
           },
           {
            "bin_end": 0.20000000000000007,
            "bin_start": 0.10000000000000009,
            "count": 0
           },
           {
            "bin_end": 0.30000000000000004,
            "bin_start": 0.20000000000000007,
            "count": 0
           },
           {
            "bin_end": 0.4,
            "bin_start": 0.30000000000000004,
            "count": 0
           },
           {
            "bin_end": 0.5,
            "bin_start": 0.4,
            "count": 0
           }
          ],
          "max": 0,
          "min": 0,
          "nan_count": 0,
          "unique_count": 1
         }
        },
        {
         "dtype": "int64",
         "name": "pixel6",
         "stats": {
          "histogram": [
           {
            "bin_end": -0.4,
            "bin_start": -0.5,
            "count": 0
           },
           {
            "bin_end": -0.3,
            "bin_start": -0.4,
            "count": 0
           },
           {
            "bin_end": -0.19999999999999996,
            "bin_start": -0.3,
            "count": 0
           },
           {
            "bin_end": -0.09999999999999998,
            "bin_start": -0.19999999999999996,
            "count": 0
           },
           {
            "bin_end": 0,
            "bin_start": -0.09999999999999998,
            "count": 0
           },
           {
            "bin_end": 0.10000000000000009,
            "bin_start": 0,
            "count": 10000
           },
           {
            "bin_end": 0.20000000000000007,
            "bin_start": 0.10000000000000009,
            "count": 0
           },
           {
            "bin_end": 0.30000000000000004,
            "bin_start": 0.20000000000000007,
            "count": 0
           },
           {
            "bin_end": 0.4,
            "bin_start": 0.30000000000000004,
            "count": 0
           },
           {
            "bin_end": 0.5,
            "bin_start": 0.4,
            "count": 0
           }
          ],
          "max": 0,
          "min": 0,
          "nan_count": 0,
          "unique_count": 1
         }
        },
        {
         "dtype": "int64",
         "name": "pixel7",
         "stats": {
          "histogram": [
           {
            "bin_end": -0.4,
            "bin_start": -0.5,
            "count": 0
           },
           {
            "bin_end": -0.3,
            "bin_start": -0.4,
            "count": 0
           },
           {
            "bin_end": -0.19999999999999996,
            "bin_start": -0.3,
            "count": 0
           },
           {
            "bin_end": -0.09999999999999998,
            "bin_start": -0.19999999999999996,
            "count": 0
           },
           {
            "bin_end": 0,
            "bin_start": -0.09999999999999998,
            "count": 0
           },
           {
            "bin_end": 0.10000000000000009,
            "bin_start": 0,
            "count": 10000
           },
           {
            "bin_end": 0.20000000000000007,
            "bin_start": 0.10000000000000009,
            "count": 0
           },
           {
            "bin_end": 0.30000000000000004,
            "bin_start": 0.20000000000000007,
            "count": 0
           },
           {
            "bin_end": 0.4,
            "bin_start": 0.30000000000000004,
            "count": 0
           },
           {
            "bin_end": 0.5,
            "bin_start": 0.4,
            "count": 0
           }
          ],
          "max": 0,
          "min": 0,
          "nan_count": 0,
          "unique_count": 1
         }
        },
        {
         "dtype": "int64",
         "name": "pixel8",
         "stats": {
          "histogram": [
           {
            "bin_end": -0.4,
            "bin_start": -0.5,
            "count": 0
           },
           {
            "bin_end": -0.3,
            "bin_start": -0.4,
            "count": 0
           },
           {
            "bin_end": -0.19999999999999996,
            "bin_start": -0.3,
            "count": 0
           },
           {
            "bin_end": -0.09999999999999998,
            "bin_start": -0.19999999999999996,
            "count": 0
           },
           {
            "bin_end": 0,
            "bin_start": -0.09999999999999998,
            "count": 0
           },
           {
            "bin_end": 0.10000000000000009,
            "bin_start": 0,
            "count": 10000
           },
           {
            "bin_end": 0.20000000000000007,
            "bin_start": 0.10000000000000009,
            "count": 0
           },
           {
            "bin_end": 0.30000000000000004,
            "bin_start": 0.20000000000000007,
            "count": 0
           },
           {
            "bin_end": 0.4,
            "bin_start": 0.30000000000000004,
            "count": 0
           },
           {
            "bin_end": 0.5,
            "bin_start": 0.4,
            "count": 0
           }
          ],
          "max": 0,
          "min": 0,
          "nan_count": 0,
          "unique_count": 1
         }
        },
        {
         "dtype": "int64",
         "name": "pixel9",
         "stats": {
          "histogram": [
           {
            "bin_end": -0.4,
            "bin_start": -0.5,
            "count": 0
           },
           {
            "bin_end": -0.3,
            "bin_start": -0.4,
            "count": 0
           },
           {
            "bin_end": -0.19999999999999996,
            "bin_start": -0.3,
            "count": 0
           },
           {
            "bin_end": -0.09999999999999998,
            "bin_start": -0.19999999999999996,
            "count": 0
           },
           {
            "bin_end": 0,
            "bin_start": -0.09999999999999998,
            "count": 0
           },
           {
            "bin_end": 0.10000000000000009,
            "bin_start": 0,
            "count": 10000
           },
           {
            "bin_end": 0.20000000000000007,
            "bin_start": 0.10000000000000009,
            "count": 0
           },
           {
            "bin_end": 0.30000000000000004,
            "bin_start": 0.20000000000000007,
            "count": 0
           },
           {
            "bin_end": 0.4,
            "bin_start": 0.30000000000000004,
            "count": 0
           },
           {
            "bin_end": 0.5,
            "bin_start": 0.4,
            "count": 0
           }
          ],
          "max": 0,
          "min": 0,
          "nan_count": 0,
          "unique_count": 1
         }
        },
        {
         "dtype": "int64",
         "name": "pixel10"
        },
        {
         "dtype": "int64",
         "name": "pixel11"
        },
        {
         "dtype": "int64",
         "name": "pixel12"
        },
        {
         "dtype": "int64",
         "name": "pixel13"
        },
        {
         "dtype": "int64",
         "name": "pixel14"
        },
        {
         "dtype": "int64",
         "name": "pixel15"
        },
        {
         "dtype": "int64",
         "name": "pixel16"
        },
        {
         "dtype": "int64",
         "name": "pixel17"
        },
        {
         "dtype": "int64",
         "name": "pixel18"
        },
        {
         "dtype": "int64",
         "name": "pixel19"
        },
        {
         "dtype": "int64",
         "name": "pixel20"
        },
        {
         "dtype": "int64",
         "name": "pixel21"
        },
        {
         "dtype": "int64",
         "name": "pixel22"
        },
        {
         "dtype": "int64",
         "name": "pixel23"
        },
        {
         "dtype": "int64",
         "name": "pixel24"
        },
        {
         "dtype": "int64",
         "name": "pixel25"
        },
        {
         "dtype": "int64",
         "name": "pixel26"
        },
        {
         "dtype": "int64",
         "name": "pixel27"
        },
        {
         "dtype": "int64",
         "name": "pixel28"
        },
        {
         "dtype": "int64",
         "name": "pixel29"
        },
        {
         "dtype": "int64",
         "name": "pixel30"
        },
        {
         "dtype": "int64",
         "name": "pixel31"
        },
        {
         "dtype": "int64",
         "name": "pixel32"
        },
        {
         "dtype": "int64",
         "name": "pixel33"
        },
        {
         "dtype": "int64",
         "name": "pixel34"
        },
        {
         "dtype": "int64",
         "name": "pixel35"
        },
        {
         "dtype": "int64",
         "name": "pixel36"
        },
        {
         "dtype": "int64",
         "name": "pixel37"
        },
        {
         "dtype": "int64",
         "name": "pixel38"
        },
        {
         "dtype": "int64",
         "name": "pixel39"
        },
        {
         "dtype": "int64",
         "name": "pixel40"
        },
        {
         "dtype": "int64",
         "name": "pixel41"
        },
        {
         "dtype": "int64",
         "name": "pixel42"
        },
        {
         "dtype": "int64",
         "name": "pixel43"
        },
        {
         "dtype": "int64",
         "name": "pixel44"
        },
        {
         "dtype": "int64",
         "name": "pixel45"
        },
        {
         "dtype": "int64",
         "name": "pixel46"
        },
        {
         "dtype": "int64",
         "name": "pixel47"
        },
        {
         "dtype": "int64",
         "name": "pixel48"
        },
        {
         "dtype": "int64",
         "name": "pixel49"
        },
        {
         "dtype": "int64",
         "name": "pixel50"
        },
        {
         "dtype": "int64",
         "name": "pixel51"
        },
        {
         "dtype": "int64",
         "name": "pixel52"
        },
        {
         "dtype": "int64",
         "name": "pixel53"
        },
        {
         "dtype": "int64",
         "name": "pixel54"
        },
        {
         "dtype": "int64",
         "name": "pixel55"
        },
        {
         "dtype": "int64",
         "name": "pixel56"
        },
        {
         "dtype": "int64",
         "name": "pixel57"
        },
        {
         "dtype": "int64",
         "name": "pixel58"
        },
        {
         "dtype": "int64",
         "name": "pixel59"
        },
        {
         "dtype": "int64",
         "name": "pixel60"
        },
        {
         "dtype": "int64",
         "name": "pixel61"
        },
        {
         "dtype": "int64",
         "name": "pixel62"
        },
        {
         "dtype": "int64",
         "name": "pixel63"
        },
        {
         "dtype": "int64",
         "name": "pixel64"
        },
        {
         "dtype": "int64",
         "name": "pixel65"
        },
        {
         "dtype": "int64",
         "name": "pixel66"
        },
        {
         "dtype": "int64",
         "name": "pixel67"
        },
        {
         "dtype": "int64",
         "name": "pixel68"
        },
        {
         "dtype": "int64",
         "name": "pixel69"
        },
        {
         "dtype": "int64",
         "name": "pixel70"
        },
        {
         "dtype": "int64",
         "name": "pixel71"
        },
        {
         "dtype": "int64",
         "name": "pixel72"
        },
        {
         "dtype": "int64",
         "name": "pixel73"
        },
        {
         "dtype": "int64",
         "name": "pixel74"
        },
        {
         "dtype": "int64",
         "name": "pixel75"
        },
        {
         "dtype": "int64",
         "name": "pixel76"
        },
        {
         "dtype": "int64",
         "name": "pixel77"
        },
        {
         "dtype": "int64",
         "name": "pixel78"
        },
        {
         "dtype": "int64",
         "name": "pixel79"
        },
        {
         "dtype": "int64",
         "name": "pixel80"
        },
        {
         "dtype": "int64",
         "name": "pixel81"
        },
        {
         "dtype": "int64",
         "name": "pixel82"
        },
        {
         "dtype": "int64",
         "name": "pixel83"
        },
        {
         "dtype": "int64",
         "name": "pixel84"
        },
        {
         "dtype": "int64",
         "name": "pixel85"
        },
        {
         "dtype": "int64",
         "name": "pixel86"
        },
        {
         "dtype": "int64",
         "name": "pixel87"
        },
        {
         "dtype": "int64",
         "name": "pixel88"
        },
        {
         "dtype": "int64",
         "name": "pixel89"
        },
        {
         "dtype": "int64",
         "name": "pixel90"
        },
        {
         "dtype": "int64",
         "name": "pixel91"
        },
        {
         "dtype": "int64",
         "name": "pixel92"
        },
        {
         "dtype": "int64",
         "name": "pixel93"
        },
        {
         "dtype": "int64",
         "name": "pixel94"
        },
        {
         "dtype": "int64",
         "name": "pixel95"
        },
        {
         "dtype": "int64",
         "name": "pixel96"
        },
        {
         "dtype": "int64",
         "name": "pixel97"
        },
        {
         "dtype": "int64",
         "name": "pixel98"
        },
        {
         "dtype": "int64",
         "name": "pixel99"
        },
        {
         "dtype": "int64",
         "name": "pixel100"
        },
        {
         "dtype": "int64",
         "name": "pixel101"
        },
        {
         "dtype": "int64",
         "name": "pixel102"
        },
        {
         "dtype": "int64",
         "name": "pixel103"
        },
        {
         "dtype": "int64",
         "name": "pixel104"
        },
        {
         "dtype": "int64",
         "name": "pixel105"
        },
        {
         "dtype": "int64",
         "name": "pixel106"
        },
        {
         "dtype": "int64",
         "name": "pixel107"
        },
        {
         "dtype": "int64",
         "name": "pixel108"
        },
        {
         "dtype": "int64",
         "name": "pixel109"
        },
        {
         "dtype": "int64",
         "name": "pixel110"
        },
        {
         "dtype": "int64",
         "name": "pixel111"
        },
        {
         "dtype": "int64",
         "name": "pixel112"
        },
        {
         "dtype": "int64",
         "name": "pixel113"
        },
        {
         "dtype": "int64",
         "name": "pixel114"
        },
        {
         "dtype": "int64",
         "name": "pixel115"
        },
        {
         "dtype": "int64",
         "name": "pixel116"
        },
        {
         "dtype": "int64",
         "name": "pixel117"
        },
        {
         "dtype": "int64",
         "name": "pixel118"
        },
        {
         "dtype": "int64",
         "name": "pixel119"
        },
        {
         "dtype": "int64",
         "name": "pixel120"
        },
        {
         "dtype": "int64",
         "name": "pixel121"
        },
        {
         "dtype": "int64",
         "name": "pixel122"
        },
        {
         "dtype": "int64",
         "name": "pixel123"
        },
        {
         "dtype": "int64",
         "name": "pixel124"
        },
        {
         "dtype": "int64",
         "name": "pixel125"
        },
        {
         "dtype": "int64",
         "name": "pixel126"
        },
        {
         "dtype": "int64",
         "name": "pixel127"
        },
        {
         "dtype": "int64",
         "name": "pixel128"
        },
        {
         "dtype": "int64",
         "name": "pixel129"
        },
        {
         "dtype": "int64",
         "name": "pixel130"
        },
        {
         "dtype": "int64",
         "name": "pixel131"
        },
        {
         "dtype": "int64",
         "name": "pixel132"
        },
        {
         "dtype": "int64",
         "name": "pixel133"
        },
        {
         "dtype": "int64",
         "name": "pixel134"
        },
        {
         "dtype": "int64",
         "name": "pixel135"
        },
        {
         "dtype": "int64",
         "name": "pixel136"
        },
        {
         "dtype": "int64",
         "name": "pixel137"
        },
        {
         "dtype": "int64",
         "name": "pixel138"
        },
        {
         "dtype": "int64",
         "name": "pixel139"
        },
        {
         "dtype": "int64",
         "name": "pixel140"
        },
        {
         "dtype": "int64",
         "name": "pixel141"
        },
        {
         "dtype": "int64",
         "name": "pixel142"
        },
        {
         "dtype": "int64",
         "name": "pixel143"
        },
        {
         "dtype": "int64",
         "name": "pixel144"
        },
        {
         "dtype": "int64",
         "name": "pixel145"
        },
        {
         "dtype": "int64",
         "name": "pixel146"
        },
        {
         "dtype": "int64",
         "name": "pixel147"
        },
        {
         "dtype": "int64",
         "name": "pixel148"
        },
        {
         "dtype": "int64",
         "name": "pixel149"
        },
        {
         "dtype": "int64",
         "name": "pixel150"
        },
        {
         "dtype": "int64",
         "name": "pixel151"
        },
        {
         "dtype": "int64",
         "name": "pixel152"
        },
        {
         "dtype": "int64",
         "name": "pixel153"
        },
        {
         "dtype": "int64",
         "name": "pixel154"
        },
        {
         "dtype": "int64",
         "name": "pixel155"
        },
        {
         "dtype": "int64",
         "name": "pixel156"
        },
        {
         "dtype": "int64",
         "name": "pixel157"
        },
        {
         "dtype": "int64",
         "name": "pixel158"
        },
        {
         "dtype": "int64",
         "name": "pixel159"
        },
        {
         "dtype": "int64",
         "name": "pixel160"
        },
        {
         "dtype": "int64",
         "name": "pixel161"
        },
        {
         "dtype": "int64",
         "name": "pixel162"
        },
        {
         "dtype": "int64",
         "name": "pixel163"
        },
        {
         "dtype": "int64",
         "name": "pixel164"
        },
        {
         "dtype": "int64",
         "name": "pixel165"
        },
        {
         "dtype": "int64",
         "name": "pixel166"
        },
        {
         "dtype": "int64",
         "name": "pixel167"
        },
        {
         "dtype": "int64",
         "name": "pixel168"
        },
        {
         "dtype": "int64",
         "name": "pixel169"
        },
        {
         "dtype": "int64",
         "name": "pixel170"
        },
        {
         "dtype": "int64",
         "name": "pixel171"
        },
        {
         "dtype": "int64",
         "name": "pixel172"
        },
        {
         "dtype": "int64",
         "name": "pixel173"
        },
        {
         "dtype": "int64",
         "name": "pixel174"
        },
        {
         "dtype": "int64",
         "name": "pixel175"
        },
        {
         "dtype": "int64",
         "name": "pixel176"
        },
        {
         "dtype": "int64",
         "name": "pixel177"
        },
        {
         "dtype": "int64",
         "name": "pixel178"
        },
        {
         "dtype": "int64",
         "name": "pixel179"
        },
        {
         "dtype": "int64",
         "name": "pixel180"
        },
        {
         "dtype": "int64",
         "name": "pixel181"
        },
        {
         "dtype": "int64",
         "name": "pixel182"
        },
        {
         "dtype": "int64",
         "name": "pixel183"
        },
        {
         "dtype": "int64",
         "name": "pixel184"
        },
        {
         "dtype": "int64",
         "name": "pixel185"
        },
        {
         "dtype": "int64",
         "name": "pixel186"
        },
        {
         "dtype": "int64",
         "name": "pixel187"
        },
        {
         "dtype": "int64",
         "name": "pixel188"
        },
        {
         "dtype": "int64",
         "name": "pixel189"
        },
        {
         "dtype": "int64",
         "name": "pixel190"
        },
        {
         "dtype": "int64",
         "name": "pixel191"
        },
        {
         "dtype": "int64",
         "name": "pixel192"
        },
        {
         "dtype": "int64",
         "name": "pixel193"
        },
        {
         "dtype": "int64",
         "name": "pixel194"
        },
        {
         "dtype": "int64",
         "name": "pixel195"
        },
        {
         "dtype": "int64",
         "name": "pixel196"
        },
        {
         "dtype": "int64",
         "name": "pixel197"
        },
        {
         "dtype": "int64",
         "name": "pixel198"
        },
        {
         "dtype": "int64",
         "name": "pixel199"
        },
        {
         "dtype": "int64",
         "name": "pixel200"
        },
        {
         "dtype": "int64",
         "name": "pixel201"
        },
        {
         "dtype": "int64",
         "name": "pixel202"
        },
        {
         "dtype": "int64",
         "name": "pixel203"
        },
        {
         "dtype": "int64",
         "name": "pixel204"
        },
        {
         "dtype": "int64",
         "name": "pixel205"
        },
        {
         "dtype": "int64",
         "name": "pixel206"
        },
        {
         "dtype": "int64",
         "name": "pixel207"
        },
        {
         "dtype": "int64",
         "name": "pixel208"
        },
        {
         "dtype": "int64",
         "name": "pixel209"
        },
        {
         "dtype": "int64",
         "name": "pixel210"
        },
        {
         "dtype": "int64",
         "name": "pixel211"
        },
        {
         "dtype": "int64",
         "name": "pixel212"
        },
        {
         "dtype": "int64",
         "name": "pixel213"
        },
        {
         "dtype": "int64",
         "name": "pixel214"
        },
        {
         "dtype": "int64",
         "name": "pixel215"
        },
        {
         "dtype": "int64",
         "name": "pixel216"
        },
        {
         "dtype": "int64",
         "name": "pixel217"
        },
        {
         "dtype": "int64",
         "name": "pixel218"
        },
        {
         "dtype": "int64",
         "name": "pixel219"
        },
        {
         "dtype": "int64",
         "name": "pixel220"
        },
        {
         "dtype": "int64",
         "name": "pixel221"
        },
        {
         "dtype": "int64",
         "name": "pixel222"
        },
        {
         "dtype": "int64",
         "name": "pixel223"
        },
        {
         "dtype": "int64",
         "name": "pixel224"
        },
        {
         "dtype": "int64",
         "name": "pixel225"
        },
        {
         "dtype": "int64",
         "name": "pixel226"
        },
        {
         "dtype": "int64",
         "name": "pixel227"
        },
        {
         "dtype": "int64",
         "name": "pixel228"
        },
        {
         "dtype": "int64",
         "name": "pixel229"
        },
        {
         "dtype": "int64",
         "name": "pixel230"
        },
        {
         "dtype": "int64",
         "name": "pixel231"
        },
        {
         "dtype": "int64",
         "name": "pixel232"
        },
        {
         "dtype": "int64",
         "name": "pixel233"
        },
        {
         "dtype": "int64",
         "name": "pixel234"
        },
        {
         "dtype": "int64",
         "name": "pixel235"
        },
        {
         "dtype": "int64",
         "name": "pixel236"
        },
        {
         "dtype": "int64",
         "name": "pixel237"
        },
        {
         "dtype": "int64",
         "name": "pixel238"
        },
        {
         "dtype": "int64",
         "name": "pixel239"
        },
        {
         "dtype": "int64",
         "name": "pixel240"
        },
        {
         "dtype": "int64",
         "name": "pixel241"
        },
        {
         "dtype": "int64",
         "name": "pixel242"
        },
        {
         "dtype": "int64",
         "name": "pixel243"
        },
        {
         "dtype": "int64",
         "name": "pixel244"
        },
        {
         "dtype": "int64",
         "name": "pixel245"
        },
        {
         "dtype": "int64",
         "name": "pixel246"
        },
        {
         "dtype": "int64",
         "name": "pixel247"
        },
        {
         "dtype": "int64",
         "name": "pixel248"
        },
        {
         "dtype": "int64",
         "name": "pixel249"
        },
        {
         "dtype": "int64",
         "name": "pixel250"
        },
        {
         "dtype": "int64",
         "name": "pixel251"
        },
        {
         "dtype": "int64",
         "name": "pixel252"
        },
        {
         "dtype": "int64",
         "name": "pixel253"
        },
        {
         "dtype": "int64",
         "name": "pixel254"
        },
        {
         "dtype": "int64",
         "name": "pixel255"
        },
        {
         "dtype": "int64",
         "name": "pixel256"
        },
        {
         "dtype": "int64",
         "name": "pixel257"
        },
        {
         "dtype": "int64",
         "name": "pixel258"
        },
        {
         "dtype": "int64",
         "name": "pixel259"
        },
        {
         "dtype": "int64",
         "name": "pixel260"
        },
        {
         "dtype": "int64",
         "name": "pixel261"
        },
        {
         "dtype": "int64",
         "name": "pixel262"
        },
        {
         "dtype": "int64",
         "name": "pixel263"
        },
        {
         "dtype": "int64",
         "name": "pixel264"
        },
        {
         "dtype": "int64",
         "name": "pixel265"
        },
        {
         "dtype": "int64",
         "name": "pixel266"
        },
        {
         "dtype": "int64",
         "name": "pixel267"
        },
        {
         "dtype": "int64",
         "name": "pixel268"
        },
        {
         "dtype": "int64",
         "name": "pixel269"
        },
        {
         "dtype": "int64",
         "name": "pixel270"
        },
        {
         "dtype": "int64",
         "name": "pixel271"
        },
        {
         "dtype": "int64",
         "name": "pixel272"
        },
        {
         "dtype": "int64",
         "name": "pixel273"
        },
        {
         "dtype": "int64",
         "name": "pixel274"
        },
        {
         "dtype": "int64",
         "name": "pixel275"
        },
        {
         "dtype": "int64",
         "name": "pixel276"
        },
        {
         "dtype": "int64",
         "name": "pixel277"
        },
        {
         "dtype": "int64",
         "name": "pixel278"
        },
        {
         "dtype": "int64",
         "name": "pixel279"
        },
        {
         "dtype": "int64",
         "name": "pixel280"
        },
        {
         "dtype": "int64",
         "name": "pixel281"
        },
        {
         "dtype": "int64",
         "name": "pixel282"
        },
        {
         "dtype": "int64",
         "name": "pixel283"
        },
        {
         "dtype": "int64",
         "name": "pixel284"
        },
        {
         "dtype": "int64",
         "name": "pixel285"
        },
        {
         "dtype": "int64",
         "name": "pixel286"
        },
        {
         "dtype": "int64",
         "name": "pixel287"
        },
        {
         "dtype": "int64",
         "name": "pixel288"
        },
        {
         "dtype": "int64",
         "name": "pixel289"
        },
        {
         "dtype": "int64",
         "name": "pixel290"
        },
        {
         "dtype": "int64",
         "name": "pixel291"
        },
        {
         "dtype": "int64",
         "name": "pixel292"
        },
        {
         "dtype": "int64",
         "name": "pixel293"
        },
        {
         "dtype": "int64",
         "name": "pixel294"
        },
        {
         "dtype": "int64",
         "name": "pixel295"
        },
        {
         "dtype": "int64",
         "name": "pixel296"
        },
        {
         "dtype": "int64",
         "name": "pixel297"
        },
        {
         "dtype": "int64",
         "name": "pixel298"
        },
        {
         "dtype": "int64",
         "name": "pixel299"
        },
        {
         "dtype": "int64",
         "name": "pixel300"
        },
        {
         "dtype": "int64",
         "name": "pixel301"
        },
        {
         "dtype": "int64",
         "name": "pixel302"
        },
        {
         "dtype": "int64",
         "name": "pixel303"
        },
        {
         "dtype": "int64",
         "name": "pixel304"
        },
        {
         "dtype": "int64",
         "name": "pixel305"
        },
        {
         "dtype": "int64",
         "name": "pixel306"
        },
        {
         "dtype": "int64",
         "name": "pixel307"
        },
        {
         "dtype": "int64",
         "name": "pixel308"
        },
        {
         "dtype": "int64",
         "name": "pixel309"
        },
        {
         "dtype": "int64",
         "name": "pixel310"
        },
        {
         "dtype": "int64",
         "name": "pixel311"
        },
        {
         "dtype": "int64",
         "name": "pixel312"
        },
        {
         "dtype": "int64",
         "name": "pixel313"
        },
        {
         "dtype": "int64",
         "name": "pixel314"
        },
        {
         "dtype": "int64",
         "name": "pixel315"
        },
        {
         "dtype": "int64",
         "name": "pixel316"
        },
        {
         "dtype": "int64",
         "name": "pixel317"
        },
        {
         "dtype": "int64",
         "name": "pixel318"
        },
        {
         "dtype": "int64",
         "name": "pixel319"
        },
        {
         "dtype": "int64",
         "name": "pixel320"
        },
        {
         "dtype": "int64",
         "name": "pixel321"
        },
        {
         "dtype": "int64",
         "name": "pixel322"
        },
        {
         "dtype": "int64",
         "name": "pixel323"
        },
        {
         "dtype": "int64",
         "name": "pixel324"
        },
        {
         "dtype": "int64",
         "name": "pixel325"
        },
        {
         "dtype": "int64",
         "name": "pixel326"
        },
        {
         "dtype": "int64",
         "name": "pixel327"
        },
        {
         "dtype": "int64",
         "name": "pixel328"
        },
        {
         "dtype": "int64",
         "name": "pixel329"
        },
        {
         "dtype": "int64",
         "name": "pixel330"
        },
        {
         "dtype": "int64",
         "name": "pixel331"
        },
        {
         "dtype": "int64",
         "name": "pixel332"
        },
        {
         "dtype": "int64",
         "name": "pixel333"
        },
        {
         "dtype": "int64",
         "name": "pixel334"
        },
        {
         "dtype": "int64",
         "name": "pixel335"
        },
        {
         "dtype": "int64",
         "name": "pixel336"
        },
        {
         "dtype": "int64",
         "name": "pixel337"
        },
        {
         "dtype": "int64",
         "name": "pixel338"
        },
        {
         "dtype": "int64",
         "name": "pixel339"
        },
        {
         "dtype": "int64",
         "name": "pixel340"
        },
        {
         "dtype": "int64",
         "name": "pixel341"
        },
        {
         "dtype": "int64",
         "name": "pixel342"
        },
        {
         "dtype": "int64",
         "name": "pixel343"
        },
        {
         "dtype": "int64",
         "name": "pixel344"
        },
        {
         "dtype": "int64",
         "name": "pixel345"
        },
        {
         "dtype": "int64",
         "name": "pixel346"
        },
        {
         "dtype": "int64",
         "name": "pixel347"
        },
        {
         "dtype": "int64",
         "name": "pixel348"
        },
        {
         "dtype": "int64",
         "name": "pixel349"
        },
        {
         "dtype": "int64",
         "name": "pixel350"
        },
        {
         "dtype": "int64",
         "name": "pixel351"
        },
        {
         "dtype": "int64",
         "name": "pixel352"
        },
        {
         "dtype": "int64",
         "name": "pixel353"
        },
        {
         "dtype": "int64",
         "name": "pixel354"
        },
        {
         "dtype": "int64",
         "name": "pixel355"
        },
        {
         "dtype": "int64",
         "name": "pixel356"
        },
        {
         "dtype": "int64",
         "name": "pixel357"
        },
        {
         "dtype": "int64",
         "name": "pixel358"
        },
        {
         "dtype": "int64",
         "name": "pixel359"
        },
        {
         "dtype": "int64",
         "name": "pixel360"
        },
        {
         "dtype": "int64",
         "name": "pixel361"
        },
        {
         "dtype": "int64",
         "name": "pixel362"
        },
        {
         "dtype": "int64",
         "name": "pixel363"
        },
        {
         "dtype": "int64",
         "name": "pixel364"
        },
        {
         "dtype": "int64",
         "name": "pixel365"
        },
        {
         "dtype": "int64",
         "name": "pixel366"
        },
        {
         "dtype": "int64",
         "name": "pixel367"
        },
        {
         "dtype": "int64",
         "name": "pixel368"
        },
        {
         "dtype": "int64",
         "name": "pixel369"
        },
        {
         "dtype": "int64",
         "name": "pixel370"
        },
        {
         "dtype": "int64",
         "name": "pixel371"
        },
        {
         "dtype": "int64",
         "name": "pixel372"
        },
        {
         "dtype": "int64",
         "name": "pixel373"
        },
        {
         "dtype": "int64",
         "name": "pixel374"
        },
        {
         "dtype": "int64",
         "name": "pixel375"
        },
        {
         "dtype": "int64",
         "name": "pixel376"
        },
        {
         "dtype": "int64",
         "name": "pixel377"
        },
        {
         "dtype": "int64",
         "name": "pixel378"
        },
        {
         "dtype": "int64",
         "name": "pixel379"
        },
        {
         "dtype": "int64",
         "name": "pixel380"
        },
        {
         "dtype": "int64",
         "name": "pixel381"
        },
        {
         "dtype": "int64",
         "name": "pixel382"
        },
        {
         "dtype": "int64",
         "name": "pixel383"
        },
        {
         "dtype": "int64",
         "name": "pixel384"
        },
        {
         "dtype": "int64",
         "name": "pixel385"
        },
        {
         "dtype": "int64",
         "name": "pixel386"
        },
        {
         "dtype": "int64",
         "name": "pixel387"
        },
        {
         "dtype": "int64",
         "name": "pixel388"
        },
        {
         "dtype": "int64",
         "name": "pixel389"
        },
        {
         "dtype": "int64",
         "name": "pixel390"
        },
        {
         "dtype": "int64",
         "name": "pixel391"
        },
        {
         "dtype": "int64",
         "name": "pixel392"
        },
        {
         "dtype": "int64",
         "name": "pixel393"
        },
        {
         "dtype": "int64",
         "name": "pixel394"
        },
        {
         "dtype": "int64",
         "name": "pixel395"
        },
        {
         "dtype": "int64",
         "name": "pixel396"
        },
        {
         "dtype": "int64",
         "name": "pixel397"
        },
        {
         "dtype": "int64",
         "name": "pixel398"
        },
        {
         "dtype": "int64",
         "name": "pixel399"
        },
        {
         "dtype": "int64",
         "name": "pixel400"
        },
        {
         "dtype": "int64",
         "name": "pixel401"
        },
        {
         "dtype": "int64",
         "name": "pixel402"
        },
        {
         "dtype": "int64",
         "name": "pixel403"
        },
        {
         "dtype": "int64",
         "name": "pixel404"
        },
        {
         "dtype": "int64",
         "name": "pixel405"
        },
        {
         "dtype": "int64",
         "name": "pixel406"
        },
        {
         "dtype": "int64",
         "name": "pixel407"
        },
        {
         "dtype": "int64",
         "name": "pixel408"
        },
        {
         "dtype": "int64",
         "name": "pixel409"
        },
        {
         "dtype": "int64",
         "name": "pixel410"
        },
        {
         "dtype": "int64",
         "name": "pixel411"
        },
        {
         "dtype": "int64",
         "name": "pixel412"
        },
        {
         "dtype": "int64",
         "name": "pixel413"
        },
        {
         "dtype": "int64",
         "name": "pixel414"
        },
        {
         "dtype": "int64",
         "name": "pixel415"
        },
        {
         "dtype": "int64",
         "name": "pixel416"
        },
        {
         "dtype": "int64",
         "name": "pixel417"
        },
        {
         "dtype": "int64",
         "name": "pixel418"
        },
        {
         "dtype": "int64",
         "name": "pixel419"
        },
        {
         "dtype": "int64",
         "name": "pixel420"
        },
        {
         "dtype": "int64",
         "name": "pixel421"
        },
        {
         "dtype": "int64",
         "name": "pixel422"
        },
        {
         "dtype": "int64",
         "name": "pixel423"
        },
        {
         "dtype": "int64",
         "name": "pixel424"
        },
        {
         "dtype": "int64",
         "name": "pixel425"
        },
        {
         "dtype": "int64",
         "name": "pixel426"
        },
        {
         "dtype": "int64",
         "name": "pixel427"
        },
        {
         "dtype": "int64",
         "name": "pixel428"
        },
        {
         "dtype": "int64",
         "name": "pixel429"
        },
        {
         "dtype": "int64",
         "name": "pixel430"
        },
        {
         "dtype": "int64",
         "name": "pixel431"
        },
        {
         "dtype": "int64",
         "name": "pixel432"
        },
        {
         "dtype": "int64",
         "name": "pixel433"
        },
        {
         "dtype": "int64",
         "name": "pixel434"
        },
        {
         "dtype": "int64",
         "name": "pixel435"
        },
        {
         "dtype": "int64",
         "name": "pixel436"
        },
        {
         "dtype": "int64",
         "name": "pixel437"
        },
        {
         "dtype": "int64",
         "name": "pixel438"
        },
        {
         "dtype": "int64",
         "name": "pixel439"
        },
        {
         "dtype": "int64",
         "name": "pixel440"
        },
        {
         "dtype": "int64",
         "name": "pixel441"
        },
        {
         "dtype": "int64",
         "name": "pixel442"
        },
        {
         "dtype": "int64",
         "name": "pixel443"
        },
        {
         "dtype": "int64",
         "name": "pixel444"
        },
        {
         "dtype": "int64",
         "name": "pixel445"
        },
        {
         "dtype": "int64",
         "name": "pixel446"
        },
        {
         "dtype": "int64",
         "name": "pixel447"
        },
        {
         "dtype": "int64",
         "name": "pixel448"
        },
        {
         "dtype": "int64",
         "name": "pixel449"
        },
        {
         "dtype": "int64",
         "name": "pixel450"
        },
        {
         "dtype": "int64",
         "name": "pixel451"
        },
        {
         "dtype": "int64",
         "name": "pixel452"
        },
        {
         "dtype": "int64",
         "name": "pixel453"
        },
        {
         "dtype": "int64",
         "name": "pixel454"
        },
        {
         "dtype": "int64",
         "name": "pixel455"
        },
        {
         "dtype": "int64",
         "name": "pixel456"
        },
        {
         "dtype": "int64",
         "name": "pixel457"
        },
        {
         "dtype": "int64",
         "name": "pixel458"
        },
        {
         "dtype": "int64",
         "name": "pixel459"
        },
        {
         "dtype": "int64",
         "name": "pixel460"
        },
        {
         "dtype": "int64",
         "name": "pixel461"
        },
        {
         "dtype": "int64",
         "name": "pixel462"
        },
        {
         "dtype": "int64",
         "name": "pixel463"
        },
        {
         "dtype": "int64",
         "name": "pixel464"
        },
        {
         "dtype": "int64",
         "name": "pixel465"
        },
        {
         "dtype": "int64",
         "name": "pixel466"
        },
        {
         "dtype": "int64",
         "name": "pixel467"
        },
        {
         "dtype": "int64",
         "name": "pixel468"
        },
        {
         "dtype": "int64",
         "name": "pixel469"
        },
        {
         "dtype": "int64",
         "name": "pixel470"
        },
        {
         "dtype": "int64",
         "name": "pixel471"
        },
        {
         "dtype": "int64",
         "name": "pixel472"
        },
        {
         "dtype": "int64",
         "name": "pixel473"
        },
        {
         "dtype": "int64",
         "name": "pixel474"
        },
        {
         "dtype": "int64",
         "name": "pixel475"
        },
        {
         "dtype": "int64",
         "name": "pixel476"
        },
        {
         "dtype": "int64",
         "name": "pixel477"
        },
        {
         "dtype": "int64",
         "name": "pixel478"
        },
        {
         "dtype": "int64",
         "name": "pixel479"
        },
        {
         "dtype": "int64",
         "name": "pixel480"
        },
        {
         "dtype": "int64",
         "name": "pixel481"
        },
        {
         "dtype": "int64",
         "name": "pixel482"
        },
        {
         "dtype": "int64",
         "name": "pixel483"
        },
        {
         "dtype": "int64",
         "name": "pixel484"
        },
        {
         "dtype": "int64",
         "name": "pixel485"
        },
        {
         "dtype": "int64",
         "name": "pixel486"
        },
        {
         "dtype": "int64",
         "name": "pixel487"
        },
        {
         "dtype": "int64",
         "name": "pixel488"
        },
        {
         "dtype": "int64",
         "name": "pixel489"
        },
        {
         "dtype": "int64",
         "name": "pixel490"
        },
        {
         "dtype": "int64",
         "name": "pixel491"
        },
        {
         "dtype": "int64",
         "name": "pixel492"
        },
        {
         "dtype": "int64",
         "name": "pixel493"
        },
        {
         "dtype": "int64",
         "name": "pixel494"
        },
        {
         "dtype": "int64",
         "name": "pixel495"
        },
        {
         "dtype": "int64",
         "name": "pixel496"
        },
        {
         "dtype": "int64",
         "name": "pixel497"
        },
        {
         "dtype": "int64",
         "name": "pixel498"
        },
        {
         "dtype": "int64",
         "name": "pixel499"
        },
        {
         "dtype": "int64",
         "name": "pixel500"
        },
        {
         "dtype": "int64",
         "name": "pixel501"
        },
        {
         "dtype": "int64",
         "name": "pixel502"
        },
        {
         "dtype": "int64",
         "name": "pixel503"
        },
        {
         "dtype": "int64",
         "name": "pixel504"
        },
        {
         "dtype": "int64",
         "name": "pixel505"
        },
        {
         "dtype": "int64",
         "name": "pixel506"
        },
        {
         "dtype": "int64",
         "name": "pixel507"
        },
        {
         "dtype": "int64",
         "name": "pixel508"
        },
        {
         "dtype": "int64",
         "name": "pixel509"
        },
        {
         "dtype": "int64",
         "name": "pixel510"
        },
        {
         "dtype": "int64",
         "name": "pixel511"
        },
        {
         "dtype": "int64",
         "name": "pixel512"
        },
        {
         "dtype": "int64",
         "name": "pixel513"
        },
        {
         "dtype": "int64",
         "name": "pixel514"
        },
        {
         "dtype": "int64",
         "name": "pixel515"
        },
        {
         "dtype": "int64",
         "name": "pixel516"
        },
        {
         "dtype": "int64",
         "name": "pixel517"
        },
        {
         "dtype": "int64",
         "name": "pixel518"
        },
        {
         "dtype": "int64",
         "name": "pixel519"
        },
        {
         "dtype": "int64",
         "name": "pixel520"
        },
        {
         "dtype": "int64",
         "name": "pixel521"
        },
        {
         "dtype": "int64",
         "name": "pixel522"
        },
        {
         "dtype": "int64",
         "name": "pixel523"
        },
        {
         "dtype": "int64",
         "name": "pixel524"
        },
        {
         "dtype": "int64",
         "name": "pixel525"
        },
        {
         "dtype": "int64",
         "name": "pixel526"
        },
        {
         "dtype": "int64",
         "name": "pixel527"
        },
        {
         "dtype": "int64",
         "name": "pixel528"
        },
        {
         "dtype": "int64",
         "name": "pixel529"
        },
        {
         "dtype": "int64",
         "name": "pixel530"
        },
        {
         "dtype": "int64",
         "name": "pixel531"
        },
        {
         "dtype": "int64",
         "name": "pixel532"
        },
        {
         "dtype": "int64",
         "name": "pixel533"
        },
        {
         "dtype": "int64",
         "name": "pixel534"
        },
        {
         "dtype": "int64",
         "name": "pixel535"
        },
        {
         "dtype": "int64",
         "name": "pixel536"
        },
        {
         "dtype": "int64",
         "name": "pixel537"
        },
        {
         "dtype": "int64",
         "name": "pixel538"
        },
        {
         "dtype": "int64",
         "name": "pixel539"
        },
        {
         "dtype": "int64",
         "name": "pixel540"
        },
        {
         "dtype": "int64",
         "name": "pixel541"
        },
        {
         "dtype": "int64",
         "name": "pixel542"
        },
        {
         "dtype": "int64",
         "name": "pixel543"
        },
        {
         "dtype": "int64",
         "name": "pixel544"
        },
        {
         "dtype": "int64",
         "name": "pixel545"
        },
        {
         "dtype": "int64",
         "name": "pixel546"
        },
        {
         "dtype": "int64",
         "name": "pixel547"
        },
        {
         "dtype": "int64",
         "name": "pixel548"
        },
        {
         "dtype": "int64",
         "name": "pixel549"
        },
        {
         "dtype": "int64",
         "name": "pixel550"
        },
        {
         "dtype": "int64",
         "name": "pixel551"
        },
        {
         "dtype": "int64",
         "name": "pixel552"
        },
        {
         "dtype": "int64",
         "name": "pixel553"
        },
        {
         "dtype": "int64",
         "name": "pixel554"
        },
        {
         "dtype": "int64",
         "name": "pixel555"
        },
        {
         "dtype": "int64",
         "name": "pixel556"
        },
        {
         "dtype": "int64",
         "name": "pixel557"
        },
        {
         "dtype": "int64",
         "name": "pixel558"
        },
        {
         "dtype": "int64",
         "name": "pixel559"
        },
        {
         "dtype": "int64",
         "name": "pixel560"
        },
        {
         "dtype": "int64",
         "name": "pixel561"
        },
        {
         "dtype": "int64",
         "name": "pixel562"
        },
        {
         "dtype": "int64",
         "name": "pixel563"
        },
        {
         "dtype": "int64",
         "name": "pixel564"
        },
        {
         "dtype": "int64",
         "name": "pixel565"
        },
        {
         "dtype": "int64",
         "name": "pixel566"
        },
        {
         "dtype": "int64",
         "name": "pixel567"
        },
        {
         "dtype": "int64",
         "name": "pixel568"
        },
        {
         "dtype": "int64",
         "name": "pixel569"
        },
        {
         "dtype": "int64",
         "name": "pixel570"
        },
        {
         "dtype": "int64",
         "name": "pixel571"
        },
        {
         "dtype": "int64",
         "name": "pixel572"
        },
        {
         "dtype": "int64",
         "name": "pixel573"
        },
        {
         "dtype": "int64",
         "name": "pixel574"
        },
        {
         "dtype": "int64",
         "name": "pixel575"
        },
        {
         "dtype": "int64",
         "name": "pixel576"
        },
        {
         "dtype": "int64",
         "name": "pixel577"
        },
        {
         "dtype": "int64",
         "name": "pixel578"
        },
        {
         "dtype": "int64",
         "name": "pixel579"
        },
        {
         "dtype": "int64",
         "name": "pixel580"
        },
        {
         "dtype": "int64",
         "name": "pixel581"
        },
        {
         "dtype": "int64",
         "name": "pixel582"
        },
        {
         "dtype": "int64",
         "name": "pixel583"
        },
        {
         "dtype": "int64",
         "name": "pixel584"
        },
        {
         "dtype": "int64",
         "name": "pixel585"
        },
        {
         "dtype": "int64",
         "name": "pixel586"
        },
        {
         "dtype": "int64",
         "name": "pixel587"
        },
        {
         "dtype": "int64",
         "name": "pixel588"
        },
        {
         "dtype": "int64",
         "name": "pixel589"
        },
        {
         "dtype": "int64",
         "name": "pixel590"
        },
        {
         "dtype": "int64",
         "name": "pixel591"
        },
        {
         "dtype": "int64",
         "name": "pixel592"
        },
        {
         "dtype": "int64",
         "name": "pixel593"
        },
        {
         "dtype": "int64",
         "name": "pixel594"
        },
        {
         "dtype": "int64",
         "name": "pixel595"
        },
        {
         "dtype": "int64",
         "name": "pixel596"
        },
        {
         "dtype": "int64",
         "name": "pixel597"
        },
        {
         "dtype": "int64",
         "name": "pixel598"
        },
        {
         "dtype": "int64",
         "name": "pixel599"
        },
        {
         "dtype": "int64",
         "name": "pixel600"
        },
        {
         "dtype": "int64",
         "name": "pixel601"
        },
        {
         "dtype": "int64",
         "name": "pixel602"
        },
        {
         "dtype": "int64",
         "name": "pixel603"
        },
        {
         "dtype": "int64",
         "name": "pixel604"
        },
        {
         "dtype": "int64",
         "name": "pixel605"
        },
        {
         "dtype": "int64",
         "name": "pixel606"
        },
        {
         "dtype": "int64",
         "name": "pixel607"
        },
        {
         "dtype": "int64",
         "name": "pixel608"
        },
        {
         "dtype": "int64",
         "name": "pixel609"
        },
        {
         "dtype": "int64",
         "name": "pixel610"
        },
        {
         "dtype": "int64",
         "name": "pixel611"
        },
        {
         "dtype": "int64",
         "name": "pixel612"
        },
        {
         "dtype": "int64",
         "name": "pixel613"
        },
        {
         "dtype": "int64",
         "name": "pixel614"
        },
        {
         "dtype": "int64",
         "name": "pixel615"
        },
        {
         "dtype": "int64",
         "name": "pixel616"
        },
        {
         "dtype": "int64",
         "name": "pixel617"
        },
        {
         "dtype": "int64",
         "name": "pixel618"
        },
        {
         "dtype": "int64",
         "name": "pixel619"
        },
        {
         "dtype": "int64",
         "name": "pixel620"
        },
        {
         "dtype": "int64",
         "name": "pixel621"
        },
        {
         "dtype": "int64",
         "name": "pixel622"
        },
        {
         "dtype": "int64",
         "name": "pixel623"
        },
        {
         "dtype": "int64",
         "name": "pixel624"
        },
        {
         "dtype": "int64",
         "name": "pixel625"
        },
        {
         "dtype": "int64",
         "name": "pixel626"
        },
        {
         "dtype": "int64",
         "name": "pixel627"
        },
        {
         "dtype": "int64",
         "name": "pixel628"
        },
        {
         "dtype": "int64",
         "name": "pixel629"
        },
        {
         "dtype": "int64",
         "name": "pixel630"
        },
        {
         "dtype": "int64",
         "name": "pixel631"
        },
        {
         "dtype": "int64",
         "name": "pixel632"
        },
        {
         "dtype": "int64",
         "name": "pixel633"
        },
        {
         "dtype": "int64",
         "name": "pixel634"
        },
        {
         "dtype": "int64",
         "name": "pixel635"
        },
        {
         "dtype": "int64",
         "name": "pixel636"
        },
        {
         "dtype": "int64",
         "name": "pixel637"
        },
        {
         "dtype": "int64",
         "name": "pixel638"
        },
        {
         "dtype": "int64",
         "name": "pixel639"
        },
        {
         "dtype": "int64",
         "name": "pixel640"
        },
        {
         "dtype": "int64",
         "name": "pixel641"
        },
        {
         "dtype": "int64",
         "name": "pixel642"
        },
        {
         "dtype": "int64",
         "name": "pixel643"
        },
        {
         "dtype": "int64",
         "name": "pixel644"
        },
        {
         "dtype": "int64",
         "name": "pixel645"
        },
        {
         "dtype": "int64",
         "name": "pixel646"
        },
        {
         "dtype": "int64",
         "name": "pixel647"
        },
        {
         "dtype": "int64",
         "name": "pixel648"
        },
        {
         "dtype": "int64",
         "name": "pixel649"
        },
        {
         "dtype": "int64",
         "name": "pixel650"
        },
        {
         "dtype": "int64",
         "name": "pixel651"
        },
        {
         "dtype": "int64",
         "name": "pixel652"
        },
        {
         "dtype": "int64",
         "name": "pixel653"
        },
        {
         "dtype": "int64",
         "name": "pixel654"
        },
        {
         "dtype": "int64",
         "name": "pixel655"
        },
        {
         "dtype": "int64",
         "name": "pixel656"
        },
        {
         "dtype": "int64",
         "name": "pixel657"
        },
        {
         "dtype": "int64",
         "name": "pixel658"
        },
        {
         "dtype": "int64",
         "name": "pixel659"
        },
        {
         "dtype": "int64",
         "name": "pixel660"
        },
        {
         "dtype": "int64",
         "name": "pixel661"
        },
        {
         "dtype": "int64",
         "name": "pixel662"
        },
        {
         "dtype": "int64",
         "name": "pixel663"
        },
        {
         "dtype": "int64",
         "name": "pixel664"
        },
        {
         "dtype": "int64",
         "name": "pixel665"
        },
        {
         "dtype": "int64",
         "name": "pixel666"
        },
        {
         "dtype": "int64",
         "name": "pixel667"
        },
        {
         "dtype": "int64",
         "name": "pixel668"
        },
        {
         "dtype": "int64",
         "name": "pixel669"
        },
        {
         "dtype": "int64",
         "name": "pixel670"
        },
        {
         "dtype": "int64",
         "name": "pixel671"
        },
        {
         "dtype": "int64",
         "name": "pixel672"
        },
        {
         "dtype": "int64",
         "name": "pixel673"
        },
        {
         "dtype": "int64",
         "name": "pixel674"
        },
        {
         "dtype": "int64",
         "name": "pixel675"
        },
        {
         "dtype": "int64",
         "name": "pixel676"
        },
        {
         "dtype": "int64",
         "name": "pixel677"
        },
        {
         "dtype": "int64",
         "name": "pixel678"
        },
        {
         "dtype": "int64",
         "name": "pixel679"
        },
        {
         "dtype": "int64",
         "name": "pixel680"
        },
        {
         "dtype": "int64",
         "name": "pixel681"
        },
        {
         "dtype": "int64",
         "name": "pixel682"
        },
        {
         "dtype": "int64",
         "name": "pixel683"
        },
        {
         "dtype": "int64",
         "name": "pixel684"
        },
        {
         "dtype": "int64",
         "name": "pixel685"
        },
        {
         "dtype": "int64",
         "name": "pixel686"
        },
        {
         "dtype": "int64",
         "name": "pixel687"
        },
        {
         "dtype": "int64",
         "name": "pixel688"
        },
        {
         "dtype": "int64",
         "name": "pixel689"
        },
        {
         "dtype": "int64",
         "name": "pixel690"
        },
        {
         "dtype": "int64",
         "name": "pixel691"
        },
        {
         "dtype": "int64",
         "name": "pixel692"
        },
        {
         "dtype": "int64",
         "name": "pixel693"
        },
        {
         "dtype": "int64",
         "name": "pixel694"
        },
        {
         "dtype": "int64",
         "name": "pixel695"
        },
        {
         "dtype": "int64",
         "name": "pixel696"
        },
        {
         "dtype": "int64",
         "name": "pixel697"
        },
        {
         "dtype": "int64",
         "name": "pixel698"
        },
        {
         "dtype": "int64",
         "name": "pixel699"
        },
        {
         "dtype": "int64",
         "name": "pixel700"
        },
        {
         "dtype": "int64",
         "name": "pixel701"
        },
        {
         "dtype": "int64",
         "name": "pixel702"
        },
        {
         "dtype": "int64",
         "name": "pixel703"
        },
        {
         "dtype": "int64",
         "name": "pixel704"
        },
        {
         "dtype": "int64",
         "name": "pixel705"
        },
        {
         "dtype": "int64",
         "name": "pixel706"
        },
        {
         "dtype": "int64",
         "name": "pixel707"
        },
        {
         "dtype": "int64",
         "name": "pixel708"
        },
        {
         "dtype": "int64",
         "name": "pixel709"
        },
        {
         "dtype": "int64",
         "name": "pixel710"
        },
        {
         "dtype": "int64",
         "name": "pixel711"
        },
        {
         "dtype": "int64",
         "name": "pixel712"
        },
        {
         "dtype": "int64",
         "name": "pixel713"
        },
        {
         "dtype": "int64",
         "name": "pixel714"
        },
        {
         "dtype": "int64",
         "name": "pixel715"
        },
        {
         "dtype": "int64",
         "name": "pixel716"
        },
        {
         "dtype": "int64",
         "name": "pixel717"
        },
        {
         "dtype": "int64",
         "name": "pixel718"
        },
        {
         "dtype": "int64",
         "name": "pixel719"
        },
        {
         "dtype": "int64",
         "name": "pixel720"
        },
        {
         "dtype": "int64",
         "name": "pixel721"
        },
        {
         "dtype": "int64",
         "name": "pixel722"
        },
        {
         "dtype": "int64",
         "name": "pixel723"
        },
        {
         "dtype": "int64",
         "name": "pixel724"
        },
        {
         "dtype": "int64",
         "name": "pixel725"
        },
        {
         "dtype": "int64",
         "name": "pixel726"
        },
        {
         "dtype": "int64",
         "name": "pixel727"
        },
        {
         "dtype": "int64",
         "name": "pixel728"
        },
        {
         "dtype": "int64",
         "name": "pixel729"
        },
        {
         "dtype": "int64",
         "name": "pixel730"
        },
        {
         "dtype": "int64",
         "name": "pixel731"
        },
        {
         "dtype": "int64",
         "name": "pixel732"
        },
        {
         "dtype": "int64",
         "name": "pixel733"
        },
        {
         "dtype": "int64",
         "name": "pixel734"
        },
        {
         "dtype": "int64",
         "name": "pixel735"
        },
        {
         "dtype": "int64",
         "name": "pixel736"
        },
        {
         "dtype": "int64",
         "name": "pixel737"
        },
        {
         "dtype": "int64",
         "name": "pixel738"
        },
        {
         "dtype": "int64",
         "name": "pixel739"
        },
        {
         "dtype": "int64",
         "name": "pixel740"
        },
        {
         "dtype": "int64",
         "name": "pixel741"
        },
        {
         "dtype": "int64",
         "name": "pixel742"
        },
        {
         "dtype": "int64",
         "name": "pixel743"
        },
        {
         "dtype": "int64",
         "name": "pixel744"
        },
        {
         "dtype": "int64",
         "name": "pixel745"
        },
        {
         "dtype": "int64",
         "name": "pixel746"
        },
        {
         "dtype": "int64",
         "name": "pixel747"
        },
        {
         "dtype": "int64",
         "name": "pixel748"
        },
        {
         "dtype": "int64",
         "name": "pixel749"
        },
        {
         "dtype": "int64",
         "name": "pixel750"
        },
        {
         "dtype": "int64",
         "name": "pixel751"
        },
        {
         "dtype": "int64",
         "name": "pixel752"
        },
        {
         "dtype": "int64",
         "name": "pixel753"
        },
        {
         "dtype": "int64",
         "name": "pixel754"
        },
        {
         "dtype": "int64",
         "name": "pixel755"
        },
        {
         "dtype": "int64",
         "name": "pixel756"
        },
        {
         "dtype": "int64",
         "name": "pixel757"
        },
        {
         "dtype": "int64",
         "name": "pixel758"
        },
        {
         "dtype": "int64",
         "name": "pixel759"
        },
        {
         "dtype": "int64",
         "name": "pixel760"
        },
        {
         "dtype": "int64",
         "name": "pixel761"
        },
        {
         "dtype": "int64",
         "name": "pixel762"
        },
        {
         "dtype": "int64",
         "name": "pixel763"
        },
        {
         "dtype": "int64",
         "name": "pixel764"
        },
        {
         "dtype": "int64",
         "name": "pixel765"
        },
        {
         "dtype": "int64",
         "name": "pixel766"
        },
        {
         "dtype": "int64",
         "name": "pixel767"
        },
        {
         "dtype": "int64",
         "name": "pixel768"
        },
        {
         "dtype": "int64",
         "name": "pixel769"
        },
        {
         "dtype": "int64",
         "name": "pixel770"
        },
        {
         "dtype": "int64",
         "name": "pixel771"
        },
        {
         "dtype": "int64",
         "name": "pixel772"
        },
        {
         "dtype": "int64",
         "name": "pixel773"
        },
        {
         "dtype": "int64",
         "name": "pixel774"
        },
        {
         "dtype": "int64",
         "name": "pixel775"
        },
        {
         "dtype": "int64",
         "name": "pixel776"
        },
        {
         "dtype": "int64",
         "name": "pixel777"
        },
        {
         "dtype": "int64",
         "name": "pixel778"
        },
        {
         "dtype": "int64",
         "name": "pixel779"
        },
        {
         "dtype": "int64",
         "name": "pixel780"
        },
        {
         "dtype": "int64",
         "name": "pixel781"
        },
        {
         "dtype": "int64",
         "name": "pixel782"
        },
        {
         "dtype": "int64",
         "name": "pixel783"
        },
        {
         "dtype": "int64",
         "name": "_deepnote_index_column"
        }
       ],
       "row_count": 10000,
       "rows_bottom": [
        {
         "_deepnote_index_column": 13153,
         "pixel0": 0,
         "pixel1": 0,
         "pixel10": 0,
         "pixel100": 0,
         "pixel101": 0,
         "pixel102": 0,
         "pixel103": 0,
         "pixel104": 0,
         "pixel105": 0,
         "pixel106": 0,
         "pixel107": 0,
         "pixel108": 0,
         "pixel109": 0,
         "pixel11": 0,
         "pixel110": 0,
         "pixel111": 0,
         "pixel112": 0,
         "pixel113": 0,
         "pixel114": 0,
         "pixel115": 0,
         "pixel116": 0,
         "pixel117": 0,
         "pixel118": 0,
         "pixel119": 0,
         "pixel12": 0,
         "pixel120": 0,
         "pixel121": 0,
         "pixel122": 0,
         "pixel123": 0,
         "pixel124": 0,
         "pixel125": 0,
         "pixel126": 0,
         "pixel127": 0,
         "pixel128": 0,
         "pixel129": 0,
         "pixel13": 0,
         "pixel130": 0,
         "pixel131": 0,
         "pixel132": 0,
         "pixel133": 0,
         "pixel134": 0,
         "pixel135": 0,
         "pixel136": 0,
         "pixel137": 0,
         "pixel138": 0,
         "pixel139": 0,
         "pixel14": 0,
         "pixel140": 0,
         "pixel141": 0,
         "pixel142": 0,
         "pixel143": 0,
         "pixel144": 0,
         "pixel145": 0,
         "pixel146": 0,
         "pixel147": 0,
         "pixel148": 0,
         "pixel149": 0,
         "pixel15": 0,
         "pixel150": 0,
         "pixel151": 0,
         "pixel152": 0,
         "pixel153": 0,
         "pixel154": 0,
         "pixel155": 0,
         "pixel156": 0,
         "pixel157": 0,
         "pixel158": 0,
         "pixel159": 0,
         "pixel16": 0,
         "pixel160": 0,
         "pixel161": 0,
         "pixel162": 255,
         "pixel163": 255,
         "pixel164": 255,
         "pixel165": 0,
         "pixel166": 0,
         "pixel167": 0,
         "pixel168": 0,
         "pixel169": 0,
         "pixel17": 0,
         "pixel170": 0,
         "pixel171": 0,
         "pixel172": 0,
         "pixel173": 0,
         "pixel174": 0,
         "pixel175": 0,
         "pixel176": 0,
         "pixel177": 0,
         "pixel178": 0,
         "pixel179": 0,
         "pixel18": 0,
         "pixel180": 0,
         "pixel181": 0,
         "pixel182": 0,
         "pixel183": 0,
         "pixel184": 0,
         "pixel185": 0,
         "pixel186": 0,
         "pixel187": 0,
         "pixel188": 255,
         "pixel189": 255,
         "pixel19": 0,
         "pixel190": 255,
         "pixel191": 255,
         "pixel192": 255,
         "pixel193": 0,
         "pixel194": 0,
         "pixel195": 0,
         "pixel196": 0,
         "pixel197": 0,
         "pixel198": 0,
         "pixel199": 0,
         "pixel2": 0,
         "pixel20": 0,
         "pixel200": 0,
         "pixel201": 0,
         "pixel202": 0,
         "pixel203": 0,
         "pixel204": 0,
         "pixel205": 0,
         "pixel206": 0,
         "pixel207": 0,
         "pixel208": 0,
         "pixel209": 0,
         "pixel21": 0,
         "pixel210": 0,
         "pixel211": 0,
         "pixel212": 0,
         "pixel213": 0,
         "pixel214": 0,
         "pixel215": 0,
         "pixel216": 255,
         "pixel217": 255,
         "pixel218": 255,
         "pixel219": 255,
         "pixel22": 0,
         "pixel220": 255,
         "pixel221": 0,
         "pixel222": 0,
         "pixel223": 0,
         "pixel224": 0,
         "pixel225": 0,
         "pixel226": 0,
         "pixel227": 0,
         "pixel228": 0,
         "pixel229": 0,
         "pixel23": 0,
         "pixel230": 0,
         "pixel231": 0,
         "pixel232": 0,
         "pixel233": 0,
         "pixel234": 0,
         "pixel235": 0,
         "pixel236": 0,
         "pixel237": 0,
         "pixel238": 0,
         "pixel239": 0,
         "pixel24": 0,
         "pixel240": 0,
         "pixel241": 0,
         "pixel242": 255,
         "pixel243": 255,
         "pixel244": 255,
         "pixel245": 255,
         "pixel246": 255,
         "pixel247": 0,
         "pixel248": 0,
         "pixel249": 0,
         "pixel25": 0,
         "pixel250": 0,
         "pixel251": 0,
         "pixel252": 0,
         "pixel253": 0,
         "pixel254": 0,
         "pixel255": 0,
         "pixel256": 0,
         "pixel257": 0,
         "pixel258": 0,
         "pixel259": 0,
         "pixel26": 0,
         "pixel260": 0,
         "pixel261": 0,
         "pixel262": 0,
         "pixel263": 0,
         "pixel264": 0,
         "pixel265": 0,
         "pixel266": 0,
         "pixel267": 0,
         "pixel268": 255,
         "pixel269": 255,
         "pixel27": 0,
         "pixel270": 255,
         "pixel271": 255,
         "pixel272": 255,
         "pixel273": 255,
         "pixel274": 255,
         "pixel275": 0,
         "pixel276": 0,
         "pixel277": 0,
         "pixel278": 0,
         "pixel279": 0,
         "pixel28": 0,
         "pixel280": 0,
         "pixel281": 0,
         "pixel282": 0,
         "pixel283": 0,
         "pixel284": 0,
         "pixel285": 0,
         "pixel286": 0,
         "pixel287": 0,
         "pixel288": 0,
         "pixel289": 0,
         "pixel29": 0,
         "pixel290": 0,
         "pixel291": 0,
         "pixel292": 0,
         "pixel293": 0,
         "pixel294": 0,
         "pixel295": 255,
         "pixel296": 255,
         "pixel297": 255,
         "pixel298": 255,
         "pixel299": 255,
         "pixel3": 0,
         "pixel30": 0,
         "pixel300": 255,
         "pixel301": 255,
         "pixel302": 0,
         "pixel303": 0,
         "pixel304": 0,
         "pixel305": 0,
         "pixel306": 0,
         "pixel307": 0,
         "pixel308": 0,
         "pixel309": 0,
         "pixel31": 0,
         "pixel310": 0,
         "pixel311": 0,
         "pixel312": 0,
         "pixel313": 0,
         "pixel314": 0,
         "pixel315": 0,
         "pixel316": 0,
         "pixel317": 0,
         "pixel318": 0,
         "pixel319": 0,
         "pixel32": 0,
         "pixel320": 0,
         "pixel321": 255,
         "pixel322": 255,
         "pixel323": 255,
         "pixel324": 255,
         "pixel325": 255,
         "pixel326": 255,
         "pixel327": 255,
         "pixel328": 255,
         "pixel329": 255,
         "pixel33": 0,
         "pixel330": 0,
         "pixel331": 0,
         "pixel332": 0,
         "pixel333": 0,
         "pixel334": 0,
         "pixel335": 0,
         "pixel336": 0,
         "pixel337": 0,
         "pixel338": 0,
         "pixel339": 0,
         "pixel34": 0,
         "pixel340": 0,
         "pixel341": 0,
         "pixel342": 0,
         "pixel343": 0,
         "pixel344": 0,
         "pixel345": 0,
         "pixel346": 0,
         "pixel347": 0,
         "pixel348": 255,
         "pixel349": 255,
         "pixel35": 0,
         "pixel350": 255,
         "pixel351": 255,
         "pixel352": 255,
         "pixel353": 255,
         "pixel354": 255,
         "pixel355": 255,
         "pixel356": 255,
         "pixel357": 255,
         "pixel358": 0,
         "pixel359": 0,
         "pixel36": 0,
         "pixel360": 0,
         "pixel361": 0,
         "pixel362": 0,
         "pixel363": 0,
         "pixel364": 0,
         "pixel365": 0,
         "pixel366": 0,
         "pixel367": 0,
         "pixel368": 0,
         "pixel369": 0,
         "pixel37": 0,
         "pixel370": 0,
         "pixel371": 0,
         "pixel372": 0,
         "pixel373": 0,
         "pixel374": 255,
         "pixel375": 255,
         "pixel376": 255,
         "pixel377": 255,
         "pixel378": 255,
         "pixel379": 255,
         "pixel38": 0,
         "pixel380": 0,
         "pixel381": 0,
         "pixel382": 255,
         "pixel383": 255,
         "pixel384": 255,
         "pixel385": 0,
         "pixel386": 0,
         "pixel387": 0,
         "pixel388": 0,
         "pixel389": 0,
         "pixel39": 0,
         "pixel390": 0,
         "pixel391": 0,
         "pixel392": 0,
         "pixel393": 0,
         "pixel394": 0,
         "pixel395": 0,
         "pixel396": 0,
         "pixel397": 0,
         "pixel398": 0,
         "pixel399": 0,
         "pixel4": 0,
         "pixel40": 0,
         "pixel400": 0,
         "pixel401": 255,
         "pixel402": 255,
         "pixel403": 255,
         "pixel404": 255,
         "pixel405": 255,
         "pixel406": 0,
         "pixel407": 0,
         "pixel408": 0,
         "pixel409": 255,
         "pixel41": 0,
         "pixel410": 255,
         "pixel411": 255,
         "pixel412": 0,
         "pixel413": 0,
         "pixel414": 0,
         "pixel415": 0,
         "pixel416": 0,
         "pixel417": 0,
         "pixel418": 0,
         "pixel419": 0,
         "pixel42": 0,
         "pixel420": 0,
         "pixel421": 0,
         "pixel422": 0,
         "pixel423": 0,
         "pixel424": 0,
         "pixel425": 0,
         "pixel426": 0,
         "pixel427": 0,
         "pixel428": 255,
         "pixel429": 255,
         "pixel43": 0,
         "pixel430": 255,
         "pixel431": 255,
         "pixel432": 255,
         "pixel433": 0,
         "pixel434": 0,
         "pixel435": 0,
         "pixel436": 0,
         "pixel437": 255,
         "pixel438": 255,
         "pixel439": 255,
         "pixel44": 0,
         "pixel440": 0,
         "pixel441": 0,
         "pixel442": 0,
         "pixel443": 0,
         "pixel444": 0,
         "pixel445": 0,
         "pixel446": 0,
         "pixel447": 0,
         "pixel448": 0,
         "pixel449": 0,
         "pixel45": 0,
         "pixel450": 0,
         "pixel451": 0,
         "pixel452": 0,
         "pixel453": 0,
         "pixel454": 0,
         "pixel455": 255,
         "pixel456": 255,
         "pixel457": 255,
         "pixel458": 255,
         "pixel459": 255,
         "pixel46": 0,
         "pixel460": 0,
         "pixel461": 0,
         "pixel462": 0,
         "pixel463": 0,
         "pixel464": 0,
         "pixel465": 255,
         "pixel466": 255,
         "pixel467": 0,
         "pixel468": 0,
         "pixel469": 0,
         "pixel47": 0,
         "pixel470": 0,
         "pixel471": 0,
         "pixel472": 0,
         "pixel473": 0,
         "pixel474": 0,
         "pixel475": 0,
         "pixel476": 0,
         "pixel477": 0,
         "pixel478": 0,
         "pixel479": 0,
         "pixel48": 0,
         "pixel480": 0,
         "pixel481": 0,
         "pixel482": 255,
         "pixel483": 255,
         "pixel484": 255,
         "pixel485": 255,
         "pixel486": 0,
         "pixel487": 0,
         "pixel488": 0,
         "pixel489": 0,
         "pixel49": 0,
         "pixel490": 0,
         "pixel491": 255,
         "pixel492": 255,
         "pixel493": 255,
         "pixel494": 255,
         "pixel495": 0,
         "pixel496": 0,
         "pixel497": 0,
         "pixel498": 0,
         "pixel499": 0,
         "pixel5": 0,
         "pixel50": 0,
         "pixel500": 0,
         "pixel501": 0,
         "pixel502": 0,
         "pixel503": 0,
         "pixel504": 0,
         "pixel505": 0,
         "pixel506": 0,
         "pixel507": 0,
         "pixel508": 0,
         "pixel509": 255,
         "pixel51": 0,
         "pixel510": 255,
         "pixel511": 255,
         "pixel512": 255,
         "pixel513": 255,
         "pixel514": 0,
         "pixel515": 0,
         "pixel516": 0,
         "pixel517": 255,
         "pixel518": 255,
         "pixel519": 255,
         "pixel52": 0,
         "pixel520": 255,
         "pixel521": 255,
         "pixel522": 255,
         "pixel523": 0,
         "pixel524": 0,
         "pixel525": 0,
         "pixel526": 0,
         "pixel527": 0,
         "pixel528": 0,
         "pixel529": 0,
         "pixel53": 0,
         "pixel530": 0,
         "pixel531": 0,
         "pixel532": 0,
         "pixel533": 0,
         "pixel534": 0,
         "pixel535": 0,
         "pixel536": 0,
         "pixel537": 255,
         "pixel538": 255,
         "pixel539": 255,
         "pixel54": 0,
         "pixel540": 255,
         "pixel541": 0,
         "pixel542": 0,
         "pixel543": 0,
         "pixel544": 255,
         "pixel545": 255,
         "pixel546": 255,
         "pixel547": 255,
         "pixel548": 255,
         "pixel549": 0,
         "pixel55": 0,
         "pixel550": 0,
         "pixel551": 0,
         "pixel552": 0,
         "pixel553": 0,
         "pixel554": 0,
         "pixel555": 0,
         "pixel556": 0,
         "pixel557": 0,
         "pixel558": 0,
         "pixel559": 0,
         "pixel56": 0,
         "pixel560": 0,
         "pixel561": 0,
         "pixel562": 0,
         "pixel563": 0,
         "pixel564": 0,
         "pixel565": 255,
         "pixel566": 255,
         "pixel567": 255,
         "pixel568": 255,
         "pixel569": 255,
         "pixel57": 0,
         "pixel570": 255,
         "pixel571": 255,
         "pixel572": 255,
         "pixel573": 255,
         "pixel574": 255,
         "pixel575": 0,
         "pixel576": 0,
         "pixel577": 0,
         "pixel578": 0,
         "pixel579": 0,
         "pixel58": 0,
         "pixel580": 0,
         "pixel581": 0,
         "pixel582": 0,
         "pixel583": 0,
         "pixel584": 0,
         "pixel585": 0,
         "pixel586": 0,
         "pixel587": 0,
         "pixel588": 0,
         "pixel589": 0,
         "pixel59": 0,
         "pixel590": 0,
         "pixel591": 0,
         "pixel592": 0,
         "pixel593": 255,
         "pixel594": 255,
         "pixel595": 255,
         "pixel596": 255,
         "pixel597": 255,
         "pixel598": 255,
         "pixel599": 255,
         "pixel6": 0,
         "pixel60": 0,
         "pixel600": 255,
         "pixel601": 255,
         "pixel602": 0,
         "pixel603": 0,
         "pixel604": 0,
         "pixel605": 0,
         "pixel606": 0,
         "pixel607": 0,
         "pixel608": 0,
         "pixel609": 0,
         "pixel61": 0,
         "pixel610": 0,
         "pixel611": 0,
         "pixel612": 0,
         "pixel613": 0,
         "pixel614": 0,
         "pixel615": 0,
         "pixel616": 0,
         "pixel617": 0,
         "pixel618": 0,
         "pixel619": 0,
         "pixel62": 0,
         "pixel620": 0,
         "pixel621": 0,
         "pixel622": 0,
         "pixel623": 255,
         "pixel624": 255,
         "pixel625": 255,
         "pixel626": 0,
         "pixel627": 0,
         "pixel628": 0,
         "pixel629": 0,
         "pixel63": 0,
         "pixel630": 0,
         "pixel631": 0,
         "pixel632": 0,
         "pixel633": 0,
         "pixel634": 0,
         "pixel635": 0,
         "pixel636": 0,
         "pixel637": 0,
         "pixel638": 0,
         "pixel639": 0,
         "pixel64": 0,
         "pixel640": 0,
         "pixel641": 0,
         "pixel642": 0,
         "pixel643": 0,
         "pixel644": 0,
         "pixel645": 0,
         "pixel646": 0,
         "pixel647": 0,
         "pixel648": 0,
         "pixel649": 0,
         "pixel65": 0,
         "pixel650": 0,
         "pixel651": 0,
         "pixel652": 0,
         "pixel653": 0,
         "pixel654": 0,
         "pixel655": 0,
         "pixel656": 0,
         "pixel657": 0,
         "pixel658": 0,
         "pixel659": 0,
         "pixel66": 0,
         "pixel660": 0,
         "pixel661": 0,
         "pixel662": 0,
         "pixel663": 0,
         "pixel664": 0,
         "pixel665": 0,
         "pixel666": 0,
         "pixel667": 0,
         "pixel668": 0,
         "pixel669": 0,
         "pixel67": 0,
         "pixel670": 0,
         "pixel671": 0,
         "pixel672": 0,
         "pixel673": 0,
         "pixel674": 0,
         "pixel675": 0,
         "pixel676": 0,
         "pixel677": 0,
         "pixel678": 0,
         "pixel679": 0,
         "pixel68": 0,
         "pixel680": 0,
         "pixel681": 0,
         "pixel682": 0,
         "pixel683": 0,
         "pixel684": 0,
         "pixel685": 0,
         "pixel686": 0,
         "pixel687": 0,
         "pixel688": 0,
         "pixel689": 0,
         "pixel69": 0,
         "pixel690": 0,
         "pixel691": 0,
         "pixel692": 0,
         "pixel693": 0,
         "pixel694": 0,
         "pixel695": 0,
         "pixel696": 0,
         "pixel697": 0,
         "pixel698": 0,
         "pixel699": 0,
         "pixel7": 0,
         "pixel70": 0,
         "pixel700": 0,
         "pixel701": 0,
         "pixel702": 0,
         "pixel703": 0,
         "pixel704": 0,
         "pixel705": 0,
         "pixel706": 0,
         "pixel707": 0,
         "pixel708": 0,
         "pixel709": 0,
         "pixel71": 0,
         "pixel710": 0,
         "pixel711": 0,
         "pixel712": 0,
         "pixel713": 0,
         "pixel714": 0,
         "pixel715": 0,
         "pixel716": 0,
         "pixel717": 0,
         "pixel718": 0,
         "pixel719": 0,
         "pixel72": 0,
         "pixel720": 0,
         "pixel721": 0,
         "pixel722": 0,
         "pixel723": 0,
         "pixel724": 0,
         "pixel725": 0,
         "pixel726": 0,
         "pixel727": 0,
         "pixel728": 0,
         "pixel729": 0,
         "pixel73": 0,
         "pixel730": 0,
         "pixel731": 0,
         "pixel732": 0,
         "pixel733": 0,
         "pixel734": 0,
         "pixel735": 0,
         "pixel736": 0,
         "pixel737": 0,
         "pixel738": 0,
         "pixel739": 0,
         "pixel74": 0,
         "pixel740": 0,
         "pixel741": 0,
         "pixel742": 0,
         "pixel743": 0,
         "pixel744": 0,
         "pixel745": 0,
         "pixel746": 0,
         "pixel747": 0,
         "pixel748": 0,
         "pixel749": 0,
         "pixel75": 0,
         "pixel750": 0,
         "pixel751": 0,
         "pixel752": 0,
         "pixel753": 0,
         "pixel754": 0,
         "pixel755": 0,
         "pixel756": 0,
         "pixel757": 0,
         "pixel758": 0,
         "pixel759": 0,
         "pixel76": 0,
         "pixel760": 0,
         "pixel761": 0,
         "pixel762": 0,
         "pixel763": 0,
         "pixel764": 0,
         "pixel765": 0,
         "pixel766": 0,
         "pixel767": 0,
         "pixel768": 0,
         "pixel769": 0,
         "pixel77": 0,
         "pixel770": 0,
         "pixel771": 0,
         "pixel772": 0,
         "pixel773": 0,
         "pixel774": 0,
         "pixel775": 0,
         "pixel776": 0,
         "pixel777": 0,
         "pixel778": 0,
         "pixel779": 0,
         "pixel78": 0,
         "pixel780": 0,
         "pixel781": 0,
         "pixel782": 0,
         "pixel783": 0,
         "pixel79": 0,
         "pixel8": 0,
         "pixel80": 0,
         "pixel81": 0,
         "pixel82": 0,
         "pixel83": 0,
         "pixel84": 0,
         "pixel85": 0,
         "pixel86": 0,
         "pixel87": 0,
         "pixel88": 0,
         "pixel89": 0,
         "pixel9": 0,
         "pixel90": 0,
         "pixel91": 0,
         "pixel92": 0,
         "pixel93": 0,
         "pixel94": 0,
         "pixel95": 0,
         "pixel96": 0,
         "pixel97": 0,
         "pixel98": 0,
         "pixel99": 0
        }
       ],
       "rows_top": []
      },
      "text/html": [
       "<div>\n",
       "<style scoped>\n",
       "    .dataframe tbody tr th:only-of-type {\n",
       "        vertical-align: middle;\n",
       "    }\n",
       "\n",
       "    .dataframe tbody tr th {\n",
       "        vertical-align: top;\n",
       "    }\n",
       "\n",
       "    .dataframe thead th {\n",
       "        text-align: right;\n",
       "    }\n",
       "</style>\n",
       "<table border=\"1\" class=\"dataframe\">\n",
       "  <thead>\n",
       "    <tr style=\"text-align: right;\">\n",
       "      <th></th>\n",
       "      <th>pixel0</th>\n",
       "      <th>pixel1</th>\n",
       "      <th>pixel2</th>\n",
       "      <th>pixel3</th>\n",
       "      <th>pixel4</th>\n",
       "      <th>pixel5</th>\n",
       "      <th>pixel6</th>\n",
       "      <th>pixel7</th>\n",
       "      <th>pixel8</th>\n",
       "      <th>pixel9</th>\n",
       "      <th>...</th>\n",
       "      <th>pixel774</th>\n",
       "      <th>pixel775</th>\n",
       "      <th>pixel776</th>\n",
       "      <th>pixel777</th>\n",
       "      <th>pixel778</th>\n",
       "      <th>pixel779</th>\n",
       "      <th>pixel780</th>\n",
       "      <th>pixel781</th>\n",
       "      <th>pixel782</th>\n",
       "      <th>pixel783</th>\n",
       "    </tr>\n",
       "  </thead>\n",
       "  <tbody>\n",
       "    <tr>\n",
       "      <th>25420</th>\n",
       "      <td>0</td>\n",
       "      <td>0</td>\n",
       "      <td>0</td>\n",
       "      <td>0</td>\n",
       "      <td>0</td>\n",
       "      <td>0</td>\n",
       "      <td>0</td>\n",
       "      <td>0</td>\n",
       "      <td>0</td>\n",
       "      <td>0</td>\n",
       "      <td>...</td>\n",
       "      <td>0</td>\n",
       "      <td>0</td>\n",
       "      <td>0</td>\n",
       "      <td>0</td>\n",
       "      <td>0</td>\n",
       "      <td>0</td>\n",
       "      <td>0</td>\n",
       "      <td>0</td>\n",
       "      <td>0</td>\n",
       "      <td>0</td>\n",
       "    </tr>\n",
       "    <tr>\n",
       "      <th>33967</th>\n",
       "      <td>0</td>\n",
       "      <td>0</td>\n",
       "      <td>0</td>\n",
       "      <td>0</td>\n",
       "      <td>0</td>\n",
       "      <td>0</td>\n",
       "      <td>0</td>\n",
       "      <td>0</td>\n",
       "      <td>0</td>\n",
       "      <td>0</td>\n",
       "      <td>...</td>\n",
       "      <td>0</td>\n",
       "      <td>0</td>\n",
       "      <td>0</td>\n",
       "      <td>0</td>\n",
       "      <td>0</td>\n",
       "      <td>0</td>\n",
       "      <td>0</td>\n",
       "      <td>0</td>\n",
       "      <td>0</td>\n",
       "      <td>0</td>\n",
       "    </tr>\n",
       "    <tr>\n",
       "      <th>18894</th>\n",
       "      <td>0</td>\n",
       "      <td>0</td>\n",
       "      <td>0</td>\n",
       "      <td>0</td>\n",
       "      <td>0</td>\n",
       "      <td>0</td>\n",
       "      <td>0</td>\n",
       "      <td>0</td>\n",
       "      <td>0</td>\n",
       "      <td>0</td>\n",
       "      <td>...</td>\n",
       "      <td>0</td>\n",
       "      <td>0</td>\n",
       "      <td>0</td>\n",
       "      <td>0</td>\n",
       "      <td>0</td>\n",
       "      <td>0</td>\n",
       "      <td>0</td>\n",
       "      <td>0</td>\n",
       "      <td>0</td>\n",
       "      <td>0</td>\n",
       "    </tr>\n",
       "    <tr>\n",
       "      <th>18206</th>\n",
       "      <td>0</td>\n",
       "      <td>0</td>\n",
       "      <td>0</td>\n",
       "      <td>0</td>\n",
       "      <td>0</td>\n",
       "      <td>0</td>\n",
       "      <td>0</td>\n",
       "      <td>0</td>\n",
       "      <td>0</td>\n",
       "      <td>0</td>\n",
       "      <td>...</td>\n",
       "      <td>0</td>\n",
       "      <td>0</td>\n",
       "      <td>0</td>\n",
       "      <td>0</td>\n",
       "      <td>0</td>\n",
       "      <td>0</td>\n",
       "      <td>0</td>\n",
       "      <td>0</td>\n",
       "      <td>0</td>\n",
       "      <td>0</td>\n",
       "    </tr>\n",
       "    <tr>\n",
       "      <th>39566</th>\n",
       "      <td>0</td>\n",
       "      <td>0</td>\n",
       "      <td>0</td>\n",
       "      <td>0</td>\n",
       "      <td>0</td>\n",
       "      <td>0</td>\n",
       "      <td>0</td>\n",
       "      <td>0</td>\n",
       "      <td>0</td>\n",
       "      <td>0</td>\n",
       "      <td>...</td>\n",
       "      <td>0</td>\n",
       "      <td>0</td>\n",
       "      <td>0</td>\n",
       "      <td>0</td>\n",
       "      <td>0</td>\n",
       "      <td>0</td>\n",
       "      <td>0</td>\n",
       "      <td>0</td>\n",
       "      <td>0</td>\n",
       "      <td>0</td>\n",
       "    </tr>\n",
       "    <tr>\n",
       "      <th>...</th>\n",
       "      <td>...</td>\n",
       "      <td>...</td>\n",
       "      <td>...</td>\n",
       "      <td>...</td>\n",
       "      <td>...</td>\n",
       "      <td>...</td>\n",
       "      <td>...</td>\n",
       "      <td>...</td>\n",
       "      <td>...</td>\n",
       "      <td>...</td>\n",
       "      <td>...</td>\n",
       "      <td>...</td>\n",
       "      <td>...</td>\n",
       "      <td>...</td>\n",
       "      <td>...</td>\n",
       "      <td>...</td>\n",
       "      <td>...</td>\n",
       "      <td>...</td>\n",
       "      <td>...</td>\n",
       "      <td>...</td>\n",
       "      <td>...</td>\n",
       "    </tr>\n",
       "    <tr>\n",
       "      <th>21733</th>\n",
       "      <td>0</td>\n",
       "      <td>0</td>\n",
       "      <td>0</td>\n",
       "      <td>0</td>\n",
       "      <td>0</td>\n",
       "      <td>0</td>\n",
       "      <td>0</td>\n",
       "      <td>0</td>\n",
       "      <td>0</td>\n",
       "      <td>0</td>\n",
       "      <td>...</td>\n",
       "      <td>0</td>\n",
       "      <td>0</td>\n",
       "      <td>0</td>\n",
       "      <td>0</td>\n",
       "      <td>0</td>\n",
       "      <td>0</td>\n",
       "      <td>0</td>\n",
       "      <td>0</td>\n",
       "      <td>0</td>\n",
       "      <td>0</td>\n",
       "    </tr>\n",
       "    <tr>\n",
       "      <th>8285</th>\n",
       "      <td>0</td>\n",
       "      <td>0</td>\n",
       "      <td>0</td>\n",
       "      <td>0</td>\n",
       "      <td>0</td>\n",
       "      <td>0</td>\n",
       "      <td>0</td>\n",
       "      <td>0</td>\n",
       "      <td>0</td>\n",
       "      <td>0</td>\n",
       "      <td>...</td>\n",
       "      <td>0</td>\n",
       "      <td>0</td>\n",
       "      <td>0</td>\n",
       "      <td>0</td>\n",
       "      <td>0</td>\n",
       "      <td>0</td>\n",
       "      <td>0</td>\n",
       "      <td>0</td>\n",
       "      <td>0</td>\n",
       "      <td>0</td>\n",
       "    </tr>\n",
       "    <tr>\n",
       "      <th>40444</th>\n",
       "      <td>0</td>\n",
       "      <td>0</td>\n",
       "      <td>0</td>\n",
       "      <td>0</td>\n",
       "      <td>0</td>\n",
       "      <td>0</td>\n",
       "      <td>0</td>\n",
       "      <td>0</td>\n",
       "      <td>0</td>\n",
       "      <td>0</td>\n",
       "      <td>...</td>\n",
       "      <td>0</td>\n",
       "      <td>0</td>\n",
       "      <td>0</td>\n",
       "      <td>0</td>\n",
       "      <td>0</td>\n",
       "      <td>0</td>\n",
       "      <td>0</td>\n",
       "      <td>0</td>\n",
       "      <td>0</td>\n",
       "      <td>0</td>\n",
       "    </tr>\n",
       "    <tr>\n",
       "      <th>13041</th>\n",
       "      <td>0</td>\n",
       "      <td>0</td>\n",
       "      <td>0</td>\n",
       "      <td>0</td>\n",
       "      <td>0</td>\n",
       "      <td>0</td>\n",
       "      <td>0</td>\n",
       "      <td>0</td>\n",
       "      <td>0</td>\n",
       "      <td>0</td>\n",
       "      <td>...</td>\n",
       "      <td>0</td>\n",
       "      <td>0</td>\n",
       "      <td>0</td>\n",
       "      <td>0</td>\n",
       "      <td>0</td>\n",
       "      <td>0</td>\n",
       "      <td>0</td>\n",
       "      <td>0</td>\n",
       "      <td>0</td>\n",
       "      <td>0</td>\n",
       "    </tr>\n",
       "    <tr>\n",
       "      <th>13153</th>\n",
       "      <td>0</td>\n",
       "      <td>0</td>\n",
       "      <td>0</td>\n",
       "      <td>0</td>\n",
       "      <td>0</td>\n",
       "      <td>0</td>\n",
       "      <td>0</td>\n",
       "      <td>0</td>\n",
       "      <td>0</td>\n",
       "      <td>0</td>\n",
       "      <td>...</td>\n",
       "      <td>0</td>\n",
       "      <td>0</td>\n",
       "      <td>0</td>\n",
       "      <td>0</td>\n",
       "      <td>0</td>\n",
       "      <td>0</td>\n",
       "      <td>0</td>\n",
       "      <td>0</td>\n",
       "      <td>0</td>\n",
       "      <td>0</td>\n",
       "    </tr>\n",
       "  </tbody>\n",
       "</table>\n",
       "<p>10000 rows × 784 columns</p>\n",
       "</div>"
      ],
      "text/plain": [
       "       pixel0  pixel1  pixel2  pixel3  pixel4  pixel5  pixel6  pixel7  pixel8  \\\n",
       "25420       0       0       0       0       0       0       0       0       0   \n",
       "33967       0       0       0       0       0       0       0       0       0   \n",
       "18894       0       0       0       0       0       0       0       0       0   \n",
       "18206       0       0       0       0       0       0       0       0       0   \n",
       "39566       0       0       0       0       0       0       0       0       0   \n",
       "...       ...     ...     ...     ...     ...     ...     ...     ...     ...   \n",
       "21733       0       0       0       0       0       0       0       0       0   \n",
       "8285        0       0       0       0       0       0       0       0       0   \n",
       "40444       0       0       0       0       0       0       0       0       0   \n",
       "13041       0       0       0       0       0       0       0       0       0   \n",
       "13153       0       0       0       0       0       0       0       0       0   \n",
       "\n",
       "       pixel9  ...  pixel774  pixel775  pixel776  pixel777  pixel778  \\\n",
       "25420       0  ...         0         0         0         0         0   \n",
       "33967       0  ...         0         0         0         0         0   \n",
       "18894       0  ...         0         0         0         0         0   \n",
       "18206       0  ...         0         0         0         0         0   \n",
       "39566       0  ...         0         0         0         0         0   \n",
       "...       ...  ...       ...       ...       ...       ...       ...   \n",
       "21733       0  ...         0         0         0         0         0   \n",
       "8285        0  ...         0         0         0         0         0   \n",
       "40444       0  ...         0         0         0         0         0   \n",
       "13041       0  ...         0         0         0         0         0   \n",
       "13153       0  ...         0         0         0         0         0   \n",
       "\n",
       "       pixel779  pixel780  pixel781  pixel782  pixel783  \n",
       "25420         0         0         0         0         0  \n",
       "33967         0         0         0         0         0  \n",
       "18894         0         0         0         0         0  \n",
       "18206         0         0         0         0         0  \n",
       "39566         0         0         0         0         0  \n",
       "...         ...       ...       ...       ...       ...  \n",
       "21733         0         0         0         0         0  \n",
       "8285          0         0         0         0         0  \n",
       "40444         0         0         0         0         0  \n",
       "13041         0         0         0         0         0  \n",
       "13153         0         0         0         0         0  \n",
       "\n",
       "[10000 rows x 784 columns]"
      ]
     },
     "execution_count": 43,
     "metadata": {},
     "output_type": "execute_result"
    }
   ],
   "source": [
    "X_train120, X_test120, y_train120, y_test120 = train_test_split(Xinf120sup, y_TReduit, shuffle=True, test_size=0.2, stratify=y_TReduit, random_state=42)\n",
    "X_train120.shape, X_test120.shape, y_train120.shape, y_test120.shape \n",
    "Xinf120sup"
   ]
  },
  {
   "cell_type": "code",
   "execution_count": null,
   "metadata": {
    "cell_id": "00065-bcc9d921-0ef2-430e-88a1-88bd391bffab",
    "deepnote_cell_type": "code",
    "deepnote_to_be_reexecuted": false,
    "execution_millis": 48439,
    "execution_start": 1613732043808,
    "source_hash": "90b7b7d9",
    "tags": []
   },
   "outputs": [
    {
     "data": {
      "text/plain": [
       "0.9555"
      ]
     },
     "execution_count": 44,
     "metadata": {},
     "output_type": "execute_result"
    }
   ],
   "source": [
    "svc_model_T200 = SVC(probability=True)\n",
    " \n",
    "svc_model_T200.fit(X_train120, y_train120)\n",
    "\n",
    "#score\n",
    "svc_model_T200.score(X_test120, y_test120)"
   ]
  },
  {
   "cell_type": "markdown",
   "metadata": {
    "cell_id": "00037-2e867d80-6d7d-4cd4-9216-d30430b7ae86",
    "deepnote_cell_type": "markdown",
    "tags": []
   },
   "source": [
    "## Learning Curve"
   ]
  },
  {
   "cell_type": "code",
   "execution_count": null,
   "metadata": {
    "cell_id": "00038-81a41315-a280-487c-a1af-50cefe9ea4cc",
    "deepnote_cell_type": "code",
    "deepnote_to_be_reexecuted": false,
    "execution_millis": 0,
    "execution_start": 1613732092239,
    "source_hash": "b6028108",
    "tags": []
   },
   "outputs": [],
   "source": [
    "from sklearn.preprocessing import MinMaxScaler"
   ]
  },
  {
   "cell_type": "code",
   "execution_count": null,
   "metadata": {
    "cell_id": "00039-7eed9a2d-88a5-4638-a62c-a59b98040123",
    "deepnote_cell_type": "code",
    "deepnote_to_be_reexecuted": false,
    "execution_millis": 0,
    "execution_start": 1613732092239,
    "source_hash": "80fd3190",
    "tags": []
   },
   "outputs": [],
   "source": [
    "maxe = MinMaxScaler()"
   ]
  },
  {
   "cell_type": "code",
   "execution_count": null,
   "metadata": {
    "cell_id": "00070-6def337d-5dd2-4dd7-b57c-edd0b2988b53",
    "deepnote_cell_type": "code",
    "deepnote_to_be_reexecuted": false,
    "execution_millis": 295,
    "execution_start": 1613732092240,
    "source_hash": "bb407642",
    "tags": []
   },
   "outputs": [
    {
     "data": {
      "text/plain": [
       "(42000, 784)"
      ]
     },
     "execution_count": 47,
     "metadata": {},
     "output_type": "execute_result"
    }
   ],
   "source": [
    "maxe.fit_transform(X).shape"
   ]
  },
  {
   "cell_type": "code",
   "execution_count": null,
   "metadata": {
    "cell_id": "00037-c1fd2715-2c46-4fa4-a088-e1510894707d",
    "deepnote_cell_type": "code",
    "deepnote_to_be_reexecuted": false,
    "execution_millis": 7902516,
    "execution_start": 1613732092538,
    "source_hash": "3a43f303",
    "tags": []
   },
   "outputs": [],
   "source": [
    "from sklearn.model_selection import learning_curve\n",
    "\n",
    "train_sizes, train_scores, test_scores, fit_times, score_times= \\\n",
    "    learning_curve(svc_model, maxe.fit_transform(X), y, train_sizes=np.linspace(0.1, 1, 10), cv=3,return_times=True)\n"
   ]
  },
  {
   "cell_type": "code",
   "execution_count": null,
   "metadata": {
    "cell_id": "00071-fbcfc6e3-94a4-4b49-bc73-c5c5cb83cbf0",
    "deepnote_cell_type": "code",
    "deepnote_to_be_reexecuted": false,
    "execution_millis": 9,
    "execution_start": 1613739995053,
    "source_hash": "9bc2b33e",
    "tags": []
   },
   "outputs": [
    {
     "data": {
      "text/plain": [
       "array([ 2800,  5600,  8400, 11200, 14000, 16800, 19600, 22400, 25200,\n",
       "       28000])"
      ]
     },
     "execution_count": 17,
     "metadata": {},
     "output_type": "execute_result"
    },
    {
     "data": {
      "text/plain": [
       "array([ 2800,  5600,  8400, 11200, 14000, 16800, 19600, 22400, 25200,\n",
       "       28000])"
      ]
     },
     "execution_count": 49,
     "metadata": {},
     "output_type": "execute_result"
    }
   ],
   "source": [
    "train_sizes"
   ]
  },
  {
   "cell_type": "code",
   "execution_count": null,
   "metadata": {
    "cell_id": "00072-f76941f1-0109-42d4-bc30-f712fcfd1084",
    "deepnote_cell_type": "code",
    "deepnote_to_be_reexecuted": false,
    "execution_millis": 148,
    "execution_start": 1613739995053,
    "source_hash": "28dc05c1",
    "tags": []
   },
   "outputs": [
    {
     "data": {
      "image/png": "[encoded data removed]",
      "text/plain": [
       "<Figure size 432x288 with 1 Axes>"
      ]
     },
     "metadata": {
      "needs_background": "light"
     },
     "output_type": "display_data"
    },
    {
     "data": {
      "image/png": "[encoded data removed]",
      "text/plain": [
       "<Figure size 432x288 with 1 Axes>"
      ]
     },
     "metadata": {
      "needs_background": "light"
     },
     "output_type": "display_data"
    }
   ],
   "source": [
    "plt.plot(train_sizes, train_scores.mean(axis=1), label='train')\n",
    "plt.plot(train_sizes, test_scores.mean(axis=1), label='test')\n",
    "plt.legend()\n",
    "plt.grid(True);"
   ]
  },
  {
   "cell_type": "code",
   "execution_count": null,
   "metadata": {
    "cell_id": "00041-85dabbf6-7aea-461c-9969-11e3fea14605",
    "deepnote_cell_type": "code",
    "deepnote_to_be_reexecuted": false,
    "execution_millis": 163,
    "execution_start": 1613739995195,
    "source_hash": "2d1f71de",
    "tags": []
   },
   "outputs": [
    {
     "data": {
      "image/png": "[encoded data removed]",
      "text/plain": [
       "<Figure size 432x288 with 1 Axes>"
      ]
     },
     "metadata": {
      "needs_background": "light"
     },
     "output_type": "display_data"
    },
    {
     "data": {
      "image/png": "[encoded data removed]",
      "text/plain": [
       "<Figure size 432x288 with 1 Axes>"
      ]
     },
     "metadata": {
      "needs_background": "light"
     },
     "output_type": "display_data"
    }
   ],
   "source": [
    "plt.plot(train_sizes, train_scores.mean(axis=1), label='train')\n",
    "plt.plot(train_sizes, test_scores.mean(axis=1), label='test')\n",
    "plt.legend()\n",
    "plt.grid(True);\n"
   ]
  },
  {
   "cell_type": "code",
   "execution_count": null,
   "metadata": {
    "cell_id": "00081-5919abe1-a527-4b45-8142-217548c23f7f",
    "deepnote_cell_type": "code",
    "tags": []
   },
   "outputs": [],
   "source": [
    "# Avec la data augementation \n",
    "from sklearn.model_selection import learning_curve\n",
    "\n",
    "train_sizes, train_scores, test_scores, fit_times, score_times= \\\n",
    "    learning_curve(svc_model, maxe.fit_transform(X2), y2, train_sizes=np.linspace(0.1, 1, 10), cv=3,return_times=True)\n"
   ]
  },
  {
   "cell_type": "code",
   "execution_count": null,
   "metadata": {
    "cell_id": "00036-8270536c-f12d-4a3a-ad27-ed5f6a6a334c",
    "deepnote_cell_type": "code",
    "deepnote_to_be_reexecuted": false,
    "execution_millis": 37570,
    "execution_start": 1613739995361,
    "source_hash": "390ec5bc",
    "tags": []
   },
   "outputs": [
    {
     "data": {
      "text/plain": [
       "SVC(probability=True)"
      ]
     },
     "execution_count": 10,
     "metadata": {},
     "output_type": "execute_result"
    },
    {
     "data": {
      "text/plain": [
       "SVC(probability=True)"
      ]
     },
     "execution_count": 19,
     "metadata": {},
     "output_type": "execute_result"
    },
    {
     "data": {
      "text/plain": [
       "SVC(probability=True)"
      ]
     },
     "execution_count": 52,
     "metadata": {},
     "output_type": "execute_result"
    }
   ],
   "source": [
    "svc_model.fit(X_train, y_train)"
   ]
  },
  {
   "cell_type": "code",
   "execution_count": null,
   "metadata": {
    "cell_id": "00037-43d5ce96-ed92-4f77-9152-c0c937054d15",
    "deepnote_cell_type": "code",
    "deepnote_to_be_reexecuted": false,
    "execution_millis": 4477,
    "execution_start": 1613740032921,
    "source_hash": "717fa724",
    "tags": []
   },
   "outputs": [
    {
     "ename": "NameError",
     "evalue": "name 'svc_model' is not defined",
     "output_type": "error",
     "traceback": [
      "\u001b[0;31m---------------------------------------------------------------------------\u001b[0m",
      "\u001b[0;31mNameError\u001b[0m                                 Traceback (most recent call last)",
      "\u001b[0;32m<ipython-input-2-6be8219fe2a0>\u001b[0m in \u001b[0;36m<module>\u001b[0;34m\u001b[0m\n\u001b[1;32m      1\u001b[0m \u001b[0;31m#score\u001b[0m\u001b[0;34m\u001b[0m\u001b[0;34m\u001b[0m\u001b[0;34m\u001b[0m\u001b[0m\n\u001b[0;32m----> 2\u001b[0;31m \u001b[0msvc_model\u001b[0m\u001b[0;34m.\u001b[0m\u001b[0mscore\u001b[0m\u001b[0;34m(\u001b[0m\u001b[0mX_test\u001b[0m\u001b[0;34m,\u001b[0m \u001b[0my_test\u001b[0m\u001b[0;34m)\u001b[0m\u001b[0;34m\u001b[0m\u001b[0;34m\u001b[0m\u001b[0m\n\u001b[0m",
      "\u001b[0;31mNameError\u001b[0m: name 'svc_model' is not defined"
     ]
    },
    {
     "data": {
      "text/plain": [
       "0.9741666666666666"
      ]
     },
     "execution_count": 20,
     "metadata": {},
     "output_type": "execute_result"
    },
    {
     "data": {
      "text/plain": [
       "0.963"
      ]
     },
     "execution_count": 53,
     "metadata": {},
     "output_type": "execute_result"
    }
   ],
   "source": [
    "#score\n",
    "svc_model.score(X_test, y_test)"
   ]
  },
  {
   "cell_type": "code",
   "execution_count": null,
   "metadata": {
    "cell_id": "00037-e9344c6d-f931-4109-8e7f-f86b49b9dfdf",
    "deepnote_cell_type": "code",
    "deepnote_to_be_reexecuted": false,
    "execution_millis": 4439,
    "execution_start": 1613740037389,
    "source_hash": "a88ca63c",
    "tags": []
   },
   "outputs": [],
   "source": [
    "#Prédiction\n",
    "y_pred = svc_model.predict(X_test)"
   ]
  },
  {
   "cell_type": "code",
   "execution_count": null,
   "metadata": {
    "cell_id": "00038-576fd649-08f6-4bbc-9826-7179f8118f27",
    "deepnote_cell_type": "code",
    "deepnote_to_be_reexecuted": false,
    "execution_millis": 1121,
    "execution_start": 1613740041830,
    "source_hash": "abca01b2",
    "tags": []
   },
   "outputs": [
    {
     "data": {
      "text/plain": [
       "<AxesSubplot:>"
      ]
     },
     "execution_count": 12,
     "metadata": {},
     "output_type": "execute_result"
    },
    {
     "data": {
      "image/png": "[encoded data removed]",
      "text/plain": [
       "<Figure size 720x720 with 2 Axes>"
      ]
     },
     "metadata": {
      "needs_background": "light"
     },
     "output_type": "display_data"
    },
    {
     "data": {
      "text/plain": [
       "<AxesSubplot:>"
      ]
     },
     "execution_count": 22,
     "metadata": {},
     "output_type": "execute_result"
    },
    {
     "data": {
      "image/png": "[encoded data removed]",
      "text/plain": [
       "<Figure size 720x720 with 2 Axes>"
      ]
     },
     "metadata": {
      "needs_background": "light"
     },
     "output_type": "display_data"
    },
    {
     "data": {
      "image/png": "[encoded data removed]",
      "text/plain": [
       "<Figure size 720x720 with 2 Axes>"
      ]
     },
     "metadata": {
      "needs_background": "light"
     },
     "output_type": "display_data"
    }
   ],
   "source": [
    "from sklearn.metrics import confusion_matrix\n",
    "target_names = list('0123456789')\n",
    "plt.subplots(figsize=(10,10))\n",
    "sns.heatmap(pd.DataFrame(confusion_matrix(y_test, y_pred), \n",
    "index=target_names, columns=target_names)\n",
    ", annot=True);"
   ]
  },
  {
   "cell_type": "code",
   "execution_count": null,
   "metadata": {
    "cell_id": "00039-962d1bd6-befc-4cf1-a840-78373aca2139",
    "deepnote_cell_type": "code",
    "deepnote_to_be_reexecuted": false,
    "execution_millis": 4507,
    "execution_start": 1613740042938,
    "source_hash": "9a88686f",
    "tags": []
   },
   "outputs": [],
   "source": [
    "y_pred_proba = svc_model.predict_proba(X_test)"
   ]
  },
  {
   "cell_type": "code",
   "execution_count": null,
   "metadata": {
    "cell_id": "00041-a3ba2c74-7f91-4233-805f-ad78555c9fbb",
    "deepnote_cell_type": "code",
    "deepnote_to_be_reexecuted": false,
    "execution_millis": 32,
    "execution_start": 1613740047449,
    "source_hash": "8d601b67",
    "tags": []
   },
   "outputs": [
    {
     "data": {
      "text/plain": [
       "(8400, 10)"
      ]
     },
     "execution_count": 24,
     "metadata": {},
     "output_type": "execute_result"
    },
    {
     "data": {
      "text/plain": [
       "(8400, 10)"
      ]
     },
     "execution_count": 24,
     "metadata": {},
     "output_type": "execute_result"
    },
    {
     "data": {
      "text/plain": [
       "(2000, 10)"
      ]
     },
     "execution_count": 57,
     "metadata": {},
     "output_type": "execute_result"
    }
   ],
   "source": [
    "y_pred_proba.shape\n"
   ]
  },
  {
   "cell_type": "code",
   "execution_count": null,
   "metadata": {
    "cell_id": "00041-eff82018-3205-4626-9f99-2e2f91b058d9",
    "deepnote_cell_type": "code",
    "deepnote_to_be_reexecuted": false,
    "execution_millis": 8,
    "execution_start": 1613740047454,
    "source_hash": "7a1c47e0",
    "tags": []
   },
   "outputs": [],
   "source": [
    "from sklearn.metrics import roc_curve, roc_auc_score, auc"
   ]
  },
  {
   "cell_type": "code",
   "execution_count": null,
   "metadata": {
    "cell_id": "00043-7305cc7c-283d-4cab-8650-f4a7485a7d7a",
    "deepnote_cell_type": "code",
    "deepnote_to_be_reexecuted": false,
    "execution_millis": 20,
    "execution_start": 1613740047461,
    "source_hash": "a3cdb012",
    "tags": []
   },
   "outputs": [
    {
     "data": {
      "text/plain": [
       "array([1.35421567e-07, 2.33369719e-07, 9.99238102e-01, 6.27158925e-04,\n",
       "       3.46081553e-07, 3.06153609e-05, 2.03502965e-06, 2.51473483e-06,\n",
       "       9.72863978e-05, 1.57287521e-06])"
      ]
     },
     "execution_count": 26,
     "metadata": {},
     "output_type": "execute_result"
    },
    {
     "data": {
      "text/plain": [
       "array([2.53859685e-08, 9.99460829e-01, 3.05112811e-05, 4.70285137e-05,\n",
       "       1.37193288e-05, 3.17997199e-06, 1.13462907e-06, 2.80294461e-04,\n",
       "       1.33346922e-04, 2.99309746e-05])"
      ]
     },
     "execution_count": 26,
     "metadata": {},
     "output_type": "execute_result"
    },
    {
     "data": {
      "text/plain": [
       "array([7.25235600e-05, 5.00521916e-06, 4.08478641e-03, 1.29952540e-03,\n",
       "       1.81545136e-05, 9.93295308e-05, 1.29488480e-05, 1.63821359e-05,\n",
       "       9.94251052e-01, 1.40292207e-04])"
      ]
     },
     "execution_count": 59,
     "metadata": {},
     "output_type": "execute_result"
    }
   ],
   "source": [
    "y_pred_proba[0]"
   ]
  },
  {
   "cell_type": "code",
   "execution_count": null,
   "metadata": {
    "cell_id": "00044-7ed166b5-6a69-4e9b-ad39-e44a1b4f47d3",
    "deepnote_cell_type": "code",
    "deepnote_to_be_reexecuted": false,
    "execution_millis": 1,
    "execution_start": 1613740047472,
    "source_hash": "5e9b1a66",
    "tags": []
   },
   "outputs": [],
   "source": [
    "def plot_multiclass_roc(clf, X_test, y_test, n_classes, figsize=(17, 6)):\n",
    "    y_score = clf.decision_function(X_test)\n",
    "\n",
    "    # structures\n",
    "    fpr = dict()\n",
    "    tpr = dict()\n",
    "    roc_auc = dict()\n",
    "\n",
    "    # calculate dummies once\n",
    "    y_test_dummies = pd.get_dummies(y_test, drop_first=False).values\n",
    "    for i in range(n_classes):\n",
    "        fpr[i], tpr[i], _ = roc_curve(y_test_dummies[:, i], y_score[:, i])\n",
    "        roc_auc[i] = auc(fpr[i], tpr[i])\n",
    "\n",
    "    # roc for each class\n",
    "    fig, ax = plt.subplots(figsize=figsize)\n",
    "    ax.plot([0, 1], [0, 1], 'k--')\n",
    "    ax.set_xlim([0.0, 1.0])\n",
    "    ax.set_ylim([0.0, 1.05])\n",
    "    ax.set_xlabel('False Positive Rate')\n",
    "    ax.set_ylabel('True Positive Rate')\n",
    "    ax.set_title('Receiver operating characteristic example')\n",
    "    for i in range(n_classes):\n",
    "        ax.plot(fpr[i], tpr[i], label='ROC curve (area = %0.2f) for label %i' % (roc_auc[i], i))\n",
    "    ax.legend(loc=\"best\")\n",
    "    ax.grid(alpha=.4)\n",
    "    sns.despine()\n",
    "    plt.show()\n"
   ]
  },
  {
   "cell_type": "code",
   "execution_count": null,
   "metadata": {
    "cell_id": "00045-1924572b-21a0-45f4-9191-dd39bba2a5ce",
    "deepnote_cell_type": "code",
    "deepnote_to_be_reexecuted": false,
    "execution_millis": 4869,
    "execution_start": 1613740047474,
    "source_hash": "540a91d3",
    "tags": []
   },
   "outputs": [
    {
     "ename": "NameError",
     "evalue": "name 'full_pipeline' is not defined",
     "output_type": "error",
     "traceback": [
      "\u001b[0;31m---------------------------------------------------------------------------\u001b[0m",
      "\u001b[0;31mNameError\u001b[0m                                 Traceback (most recent call last)",
      "\u001b[0;32m<ipython-input-33-64ca36f56f94>\u001b[0m in \u001b[0;36m<module>\u001b[0;34m\u001b[0m\n\u001b[0;32m----> 1\u001b[0;31m \u001b[0mplot_multiclass_roc\u001b[0m\u001b[0;34m(\u001b[0m\u001b[0mfull_pipeline\u001b[0m\u001b[0;34m,\u001b[0m \u001b[0mX_test\u001b[0m\u001b[0;34m,\u001b[0m \u001b[0my_test\u001b[0m\u001b[0;34m,\u001b[0m \u001b[0mn_classes\u001b[0m\u001b[0;34m=\u001b[0m\u001b[0;36m10\u001b[0m\u001b[0;34m,\u001b[0m \u001b[0mfigsize\u001b[0m\u001b[0;34m=\u001b[0m\u001b[0;34m(\u001b[0m\u001b[0;36m16\u001b[0m\u001b[0;34m,\u001b[0m \u001b[0;36m10\u001b[0m\u001b[0;34m)\u001b[0m\u001b[0;34m)\u001b[0m\u001b[0;34m\u001b[0m\u001b[0;34m\u001b[0m\u001b[0m\n\u001b[0m",
      "\u001b[0;31mNameError\u001b[0m: name 'full_pipeline' is not defined"
     ]
    },
    {
     "data": {
      "image/png": "[encoded data removed]",
      "text/plain": [
       "<Figure size 1152x720 with 1 Axes>"
      ]
     },
     "metadata": {
      "needs_background": "light"
     },
     "output_type": "display_data"
    }
   ],
   "source": [
    "\n",
    "plot_multiclass_roc(svc_model, X_test, y_test, n_classes=10, figsize=(16, 10))"
   ]
  },
  {
   "cell_type": "code",
   "execution_count": null,
   "metadata": {
    "cell_id": "00043-9f1267fc-2bf9-41a2-afec-1f6b2016a050",
    "deepnote_cell_type": "code",
    "deepnote_to_be_reexecuted": false,
    "execution_millis": 27,
    "execution_start": 1613740052316,
    "source_hash": "35c39a3f",
    "tags": []
   },
   "outputs": [
    {
     "name": "stdout",
     "output_type": "stream",
     "text": [
      "              precision    recall  f1-score   support\n",
      "\n",
      "           0       0.99      0.98      0.98       826\n",
      "           1       0.99      0.99      0.99       937\n",
      "           2       0.98      0.98      0.98       835\n",
      "           3       0.97      0.96      0.97       870\n",
      "           4       0.98      0.97      0.97       814\n",
      "           5       0.96      0.96      0.96       759\n",
      "           6       0.99      0.99      0.99       828\n",
      "           7       0.97      0.97      0.97       880\n",
      "           8       0.97      0.97      0.97       813\n",
      "           9       0.95      0.95      0.95       838\n",
      "\n",
      "    accuracy                           0.97      8400\n",
      "   macro avg       0.97      0.97      0.97      8400\n",
      "weighted avg       0.97      0.97      0.97      8400\n",
      "\n",
      "              precision    recall  f1-score   support\n",
      "\n",
      "           0       0.98      0.98      0.98       197\n",
      "           1       0.99      0.98      0.98       223\n",
      "           2       0.93      0.96      0.95       199\n",
      "           3       0.96      0.95      0.95       207\n",
      "           4       0.93      0.97      0.95       194\n",
      "           5       0.97      0.98      0.98       181\n",
      "           6       0.97      0.98      0.97       197\n",
      "           7       0.98      0.96      0.97       210\n",
      "           8       0.95      0.92      0.93       193\n",
      "           9       0.96      0.95      0.96       199\n",
      "\n",
      "    accuracy                           0.96      2000\n",
      "   macro avg       0.96      0.96      0.96      2000\n",
      "weighted avg       0.96      0.96      0.96      2000\n",
      "\n"
     ]
    }
   ],
   "source": [
    "from sklearn.metrics import classification_report\n",
    "target_names = list('0123456789')\n",
    "print(classification_report(y_test, y_pred, target_names=target_names))"
   ]
  },
  {
   "cell_type": "markdown",
   "metadata": {
    "cell_id": "00051-215b1228-82fb-4666-9c61-beade0d3d391",
    "deepnote_cell_type": "markdown",
    "tags": []
   },
   "source": [
    "##  Linear kernel"
   ]
  },
  {
   "cell_type": "code",
   "execution_count": null,
   "metadata": {
    "cell_id": "00052-c16df29e-513f-41d1-93dc-09293264a6ca",
    "deepnote_cell_type": "code",
    "deepnote_to_be_reexecuted": false,
    "execution_millis": 0,
    "execution_start": 1613740052329,
    "source_hash": "1b787b0d",
    "tags": []
   },
   "outputs": [],
   "source": [
    "svc_model = SVC(probability=True, kernel='linear')"
   ]
  },
  {
   "cell_type": "code",
   "execution_count": null,
   "metadata": {
    "cell_id": "00053-0d061774-c711-4f14-bf30-426ee6694745",
    "deepnote_cell_type": "code",
    "deepnote_to_be_reexecuted": false,
    "execution_millis": 16457,
    "execution_start": 1613740052337,
    "source_hash": "390ec5bc",
    "tags": []
   },
   "outputs": [
    {
     "ename": "KernelInterrupted",
     "evalue": "Execution interrupted by the Jupyter kernel.",
     "output_type": "error",
     "traceback": [
      "\u001b[0;31m---------------------------------------------------------------------------\u001b[0m",
      "\u001b[0;31mKernelInterrupted\u001b[0m: Execution interrupted by the Jupyter kernel."
     ]
    },
    {
     "data": {
      "text/plain": [
       "SVC(kernel='linear', probability=True)"
      ]
     },
     "execution_count": 64,
     "metadata": {},
     "output_type": "execute_result"
    }
   ],
   "source": [
    "svc_model.fit(X_train, y_train)"
   ]
  },
  {
   "cell_type": "code",
   "execution_count": null,
   "metadata": {
    "cell_id": "00054-b5e10954-656c-4070-8e15-e5de02797f28",
    "deepnote_cell_type": "code",
    "deepnote_to_be_reexecuted": false,
    "execution_millis": 1522,
    "execution_start": 1613740068785,
    "source_hash": "bcf919b7",
    "tags": []
   },
   "outputs": [
    {
     "data": {
      "text/plain": [
       "0.914"
      ]
     },
     "execution_count": 65,
     "metadata": {},
     "output_type": "execute_result"
    }
   ],
   "source": [
    "svc_model.score(X_test, y_test)"
   ]
  },
  {
   "cell_type": "code",
   "execution_count": null,
   "metadata": {
    "cell_id": "00055-408a58e0-2095-406e-8042-5ecd77fe71ea",
    "deepnote_cell_type": "code",
    "deepnote_to_be_reexecuted": false,
    "execution_millis": 1561,
    "execution_start": 1613740070308,
    "source_hash": "37d999ea",
    "tags": []
   },
   "outputs": [],
   "source": [
    "y_pred = svc_model.predict(X_test)"
   ]
  },
  {
   "cell_type": "code",
   "execution_count": null,
   "metadata": {
    "cell_id": "00056-87057bfb-e304-4e1b-864c-097c9860e990",
    "deepnote_cell_type": "code",
    "deepnote_to_be_reexecuted": false,
    "execution_millis": 1010,
    "execution_start": 1613740071889,
    "source_hash": "dc4bfcc5",
    "tags": []
   },
   "outputs": [
    {
     "data": {
      "text/plain": [
       "<AxesSubplot:>"
      ]
     },
     "execution_count": 67,
     "metadata": {},
     "output_type": "execute_result"
    },
    {
     "data": {
      "image/png": "[encoded data removed]",
      "text/plain": [
       "<Figure size 720x720 with 2 Axes>"
      ]
     },
     "metadata": {
      "needs_background": "light"
     },
     "output_type": "display_data"
    }
   ],
   "source": [
    "plt.subplots(figsize=(10,10))\n",
    "sns.heatmap(pd.DataFrame(confusion_matrix(y_test, y_pred), \n",
    "index=target_names, columns=target_names)\n",
    ", annot=True)"
   ]
  },
  {
   "cell_type": "code",
   "execution_count": null,
   "metadata": {
    "cell_id": "00057-aed1ba39-3c65-4151-a466-5a0ba6c306f4",
    "deepnote_cell_type": "code",
    "deepnote_to_be_reexecuted": false,
    "execution_millis": 29,
    "execution_start": 1613740072905,
    "source_hash": "b3be6b30",
    "tags": []
   },
   "outputs": [
    {
     "data": {
      "text/plain": [
       "'              precision    recall  f1-score   support\\n\\n           0       0.96      0.94      0.95       197\\n           1       0.94      0.97      0.96       223\\n           2       0.89      0.90      0.89       199\\n           3       0.86      0.93      0.90       207\\n           4       0.87      0.93      0.90       194\\n           5       0.91      0.83      0.87       181\\n           6       0.93      0.95      0.94       197\\n           7       0.96      0.95      0.96       210\\n           8       0.91      0.82      0.86       193\\n           9       0.90      0.89      0.90       199\\n\\n    accuracy                           0.91      2000\\n   macro avg       0.91      0.91      0.91      2000\\nweighted avg       0.91      0.91      0.91      2000\\n'"
      ]
     },
     "execution_count": 68,
     "metadata": {},
     "output_type": "execute_result"
    }
   ],
   "source": [
    "classification_report(y_test, y_pred, target_names=target_names)"
   ]
  },
  {
   "cell_type": "markdown",
   "metadata": {
    "cell_id": "00053-918f2576-fca7-49d7-b81d-b0a0e6b8ab08",
    "deepnote_cell_type": "markdown",
    "tags": []
   },
   "source": []
  },
  {
   "cell_type": "markdown",
   "metadata": {
    "cell_id": "00054-c0fb7715-abb1-4dea-9894-401bef91c5dc",
    "deepnote_cell_type": "markdown",
    "tags": []
   },
   "source": [
    "## Poly"
   ]
  },
  {
   "cell_type": "code",
   "execution_count": null,
   "metadata": {
    "cell_id": "00056-b1a282b8-54b7-4494-85b5-eb5f6fa1037f",
    "deepnote_cell_type": "code",
    "deepnote_to_be_reexecuted": false,
    "execution_millis": 19,
    "execution_start": 1613740072916,
    "source_hash": "719ae30a",
    "tags": []
   },
   "outputs": [
    {
     "ename": "SyntaxError",
     "evalue": "invalid character in identifier (<ipython-input-69-f97e88973cce>, line 1)",
     "output_type": "error",
     "traceback": [
      "\u001b[0;36m  File \u001b[0;32m\"<ipython-input-69-f97e88973cce>\"\u001b[0;36m, line \u001b[0;32m1\u001b[0m\n\u001b[0;31m    svc_model = SVC(probability=True, kernel=‘poly’)\u001b[0m\n\u001b[0m                                                  ^\u001b[0m\n\u001b[0;31mSyntaxError\u001b[0m\u001b[0;31m:\u001b[0m invalid character in identifier\n"
     ]
    }
   ],
   "source": [
    "svc_model = SVC(probability=True, kernel=‘poly’)"
   ]
  },
  {
   "cell_type": "code",
   "execution_count": null,
   "metadata": {
    "cell_id": "00056-07d7ee20-8535-467c-80b2-eaa76d1be1d8",
    "deepnote_cell_type": "code",
    "deepnote_to_be_reexecuted": true,
    "source_hash": "390ec5bc",
    "tags": []
   },
   "outputs": [],
   "source": [
    "svc_model.fit(X_train, y_train)"
   ]
  },
  {
   "cell_type": "code",
   "execution_count": null,
   "metadata": {
    "cell_id": "00056-a7d44c28-8329-4d00-b9b0-87aac248e896",
    "deepnote_cell_type": "code",
    "deepnote_to_be_reexecuted": true,
    "source_hash": "bcf919b7",
    "tags": []
   },
   "outputs": [],
   "source": [
    "svc_model.score(X_test, y_test)"
   ]
  },
  {
   "cell_type": "code",
   "execution_count": null,
   "metadata": {
    "cell_id": "00061-d8d34de2-ae9e-4469-b68c-04508e919858",
    "deepnote_cell_type": "code",
    "deepnote_to_be_reexecuted": true,
    "source_hash": "37d999ea",
    "tags": []
   },
   "outputs": [],
   "source": [
    "y_pred = svc_model.predict(X_test)"
   ]
  },
  {
   "cell_type": "code",
   "execution_count": null,
   "metadata": {
    "cell_id": "00063-260592bb-c20b-445a-91dc-4db1b2cae73d",
    "deepnote_cell_type": "code",
    "deepnote_to_be_reexecuted": true,
    "source_hash": "dc4bfcc5",
    "tags": []
   },
   "outputs": [],
   "source": [
    "plt.subplots(figsize=(10,10))\n",
    "sns.heatmap(pd.DataFrame(confusion_matrix(y_test, y_pred), \n",
    "index=target_names, columns=target_names)\n",
    ", annot=True)"
   ]
  },
  {
   "cell_type": "code",
   "execution_count": null,
   "metadata": {
    "cell_id": "00065-326cafcf-e0a1-4012-b44b-dc4e3bac211c",
    "deepnote_cell_type": "code",
    "deepnote_to_be_reexecuted": true,
    "source_hash": "b3be6b30",
    "tags": []
   },
   "outputs": [],
   "source": [
    "classification_report(y_test, y_pred, target_names=target_names)"
   ]
  },
  {
   "cell_type": "markdown",
   "metadata": {
    "cell_id": "00056-6f42e23d-c563-4b73-8028-0b8c98395d19",
    "deepnote_cell_type": "markdown",
    "tags": []
   },
   "source": [
    "## RBF"
   ]
  },
  {
   "cell_type": "markdown",
   "metadata": {
    "cell_id": "00057-dbf38d7a-6483-4c5a-98e6-b3113a0c6ca5",
    "deepnote_cell_type": "markdown",
    "tags": []
   },
   "source": [
    "Déjà fait celui par défaut"
   ]
  },
  {
   "cell_type": "code",
   "execution_count": null,
   "metadata": {
    "cell_id": "00057-46fab70a-3719-4323-bbcf-4b9769e0aa68",
    "deepnote_cell_type": "code",
    "deepnote_to_be_reexecuted": true,
    "source_hash": "b623e53d",
    "tags": []
   },
   "outputs": [],
   "source": []
  },
  {
   "cell_type": "markdown",
   "metadata": {
    "cell_id": "00058-b9e19563-0256-4832-b14b-2206946e90aa",
    "deepnote_cell_type": "markdown",
    "tags": []
   },
   "source": []
  },
  {
   "cell_type": "markdown",
   "metadata": {
    "cell_id": "00059-87df7cc7-2f79-414e-ac38-00b239e293f0",
    "deepnote_cell_type": "markdown",
    "tags": []
   },
   "source": [
    "# Etape 6 : Evaluez votre modèle "
   ]
  },
  {
   "cell_type": "markdown",
   "metadata": {
    "cell_id": "00072-83f5d784-7dbd-4b4e-80df-955aeaeda1d7",
    "deepnote_cell_type": "markdown",
    "tags": []
   },
   "source": [
    "Utilisé à chaque étape"
   ]
  },
  {
   "cell_type": "code",
   "execution_count": null,
   "metadata": {
    "cell_id": "00060-401b4910-4f3d-499d-9cdd-eceb05b7886c",
    "deepnote_cell_type": "code",
    "deepnote_to_be_reexecuted": true,
    "source_hash": "b623e53d",
    "tags": []
   },
   "outputs": [],
   "source": []
  },
  {
   "cell_type": "markdown",
   "metadata": {
    "cell_id": "00061-5be4a19d-8d20-420f-a32a-cace2b27f147",
    "deepnote_cell_type": "markdown",
    "tags": []
   },
   "source": [
    "# Etape 7 : Choisissez le meilleur modèle"
   ]
  },
  {
   "cell_type": "code",
   "execution_count": null,
   "metadata": {
    "cell_id": "00062-b2209315-47ca-40df-a4f7-62d9a2b15cd6",
    "deepnote_cell_type": "code",
    "deepnote_to_be_reexecuted": true,
    "source_hash": "385c9dff",
    "tags": []
   },
   "outputs": [],
   "source": [
    "from sklearn.model_selection import GridSearchCV"
   ]
  },
  {
   "cell_type": "code",
   "execution_count": null,
   "metadata": {
    "cell_id": "00062-68fed3a1-e1aa-44ac-ac91-a66c74b1364f",
    "deepnote_cell_type": "code",
    "deepnote_to_be_reexecuted": true,
    "source_hash": "980cd035",
    "tags": []
   },
   "outputs": [],
   "source": [
    "param_grid = {'C': [0.1, 1, 10, 100], 'gamma': [1, 0.1, 0.01, 0.001], 'kernel': ['rbf']} "
   ]
  },
  {
   "cell_type": "code",
   "execution_count": null,
   "metadata": {
    "cell_id": "00071-4ca6f6db-1b1e-4c36-af37-91624854a27f",
    "deepnote_cell_type": "code",
    "deepnote_to_be_reexecuted": true,
    "source_hash": "e6cdead1",
    "tags": []
   },
   "outputs": [],
   "source": [
    "grid =  GridSearchCV(svc_m, parameters)\n",
    "grid.fit(X_train, y_train)"
   ]
  },
  {
   "cell_type": "code",
   "execution_count": null,
   "metadata": {
    "cell_id": "00072-c19a9745-cb82-4b13-aac6-e450e6fe4169",
    "deepnote_cell_type": "code",
    "deepnote_to_be_reexecuted": true,
    "source_hash": "bc2baa2b",
    "tags": []
   },
   "outputs": [],
   "source": [
    "grid.best_params_"
   ]
  },
  {
   "cell_type": "code",
   "execution_count": null,
   "metadata": {
    "cell_id": "00073-0cd2c630-e345-4087-aba9-618f985bc2bc",
    "deepnote_cell_type": "code",
    "deepnote_to_be_reexecuted": true,
    "source_hash": "cc0b95a5",
    "tags": []
   },
   "outputs": [],
   "source": [
    "grid.score(X_test, y_test)"
   ]
  },
  {
   "cell_type": "code",
   "execution_count": null,
   "metadata": {
    "cell_id": "00088-c2db9397-ea28-4070-9091-309dda779ee8",
    "deepnote_cell_type": "code",
    "deepnote_to_be_reexecuted": true,
    "source_hash": "a1ddc9f3",
    "tags": []
   },
   "outputs": [],
   "source": [
    "y_pred_g = grid.predict(X_test)"
   ]
  },
  {
   "cell_type": "code",
   "execution_count": null,
   "metadata": {
    "cell_id": "00090-f6f867f7-d94f-454b-8145-a173d27feaef",
    "deepnote_cell_type": "code",
    "deepnote_to_be_reexecuted": true,
    "source_hash": "91749817",
    "tags": []
   },
   "outputs": [],
   "source": [
    "plt.subplots(figsize=(10,10))\n",
    "sns.heatmap(pd.DataFrame(confusion_matrix(y_test, y_pred_g), \n",
    "index=target_names, columns=target_names)\n",
    ", annot=True)"
   ]
  },
  {
   "cell_type": "code",
   "execution_count": null,
   "metadata": {
    "cell_id": "00091-e8de25d1-5d80-4c6e-b4fe-16b7c94f3518",
    "deepnote_cell_type": "code",
    "deepnote_to_be_reexecuted": true,
    "source_hash": "4518a893",
    "tags": []
   },
   "outputs": [],
   "source": [
    "classification_report(y_test, y_pred_g, target_names=target_names)"
   ]
  },
  {
   "cell_type": "code",
   "execution_count": null,
   "metadata": {
    "cell_id": "00093-5c010edc-3b5a-450b-96a8-31b75ab31a24",
    "deepnote_cell_type": "code",
    "deepnote_to_be_reexecuted": true,
    "source_hash": "b623e53d",
    "tags": []
   },
   "outputs": [],
   "source": []
  },
  {
   "cell_type": "markdown",
   "metadata": {
    "cell_id": "00074-f2c085ca-f2ac-4c91-b3e8-a04b9c8bc786",
    "deepnote_cell_type": "markdown",
    "tags": []
   },
   "source": [
    "# Etape 8 : Optionnel Affichez quelques prédictions"
   ]
  },
  {
   "cell_type": "code",
   "execution_count": null,
   "metadata": {
    "cell_id": "00075-9e58a23e-17ad-40a0-b026-0637cc2d42ee",
    "deepnote_cell_type": "code",
    "deepnote_to_be_reexecuted": true,
    "source_hash": "33850a4b",
    "tags": []
   },
   "outputs": [],
   "source": [
    "y_pred_final = grid.predict(X_test_final)"
   ]
  },
  {
   "cell_type": "code",
   "execution_count": null,
   "metadata": {
    "cell_id": "00076-21098703-3c95-48a4-a725-3dd5b65ef29f",
    "deepnote_cell_type": "code",
    "deepnote_to_be_reexecuted": true,
    "source_hash": "e08dc673",
    "tags": []
   },
   "outputs": [],
   "source": [
    "n = 9855\n",
    "print('la prédiction  :  ', y_pred_final.iloc[n])\n",
    "sns.heatmap(X_test_final.iloc[n].values.reshape((28,28)), cmap=\"Greys_r\");"
   ]
  },
  {
   "cell_type": "markdown",
   "metadata": {
    "created_in_deepnote_cell": true,
    "deepnote_cell_type": "markdown",
    "tags": []
   },
   "source": [
    "<a style='text-decoration:none;line-height:16px;display:flex;color:#5B5B62;padding:10px;justify-content:end;' href='https://deepnote.com?utm_source=created-in-deepnote-cell&projectId=eefa2ee0-a143-4269-9af7-42f409f9b4f6' target=\"_blank\">\n",
    "<img style='display:inline;max-height:16px;margin:0px;margin-right:7.5px;' src='data:image/svg+xml;base64,PD94bWwgdmVyc2lvbj0iMS4wIiBlbmNvZGluZz0iVVRGLTgiPz4KPHN2ZyB3aWR0aD0iODBweCIgaGVpZ2h0PSI4MHB4IiB2aWV3Qm94PSIwIDAgODAgODAiIHZlcnNpb249IjEuMSIgeG1sbnM9Imh0dHA6Ly93d3cudzMub3JnLzIwMDAvc3ZnIiB4bWxuczp4bGluaz0iaHR0cDovL3d3dy53My5vcmcvMTk5OS94bGluayI+CiAgICA8IS0tIEdlbmVyYXRvcjogU2tldGNoIDU0LjEgKDc2NDkwKSAtIGh0dHBzOi8vc2tldGNoYXBwLmNvbSAtLT4KICAgIDx0aXRsZT5Hcm91cCAzPC90aXRsZT4KICAgIDxkZXNjPkNyZWF0ZWQgd2l0aCBTa2V0Y2guPC9kZXNjPgogICAgPGcgaWQ9IkxhbmRpbmciIHN0cm9rZT0ibm9uZSIgc3Ryb2tlLXdpZHRoPSIxIiBmaWxsPSJub25lIiBmaWxsLXJ1bGU9ImV2ZW5vZGQiPgogICAgICAgIDxnIGlkPSJBcnRib2FyZCIgdHJhbnNmb3JtPSJ0cmFuc2xhdGUoLTEyMzUuMDAwMDAwLCAtNzkuMDAwMDAwKSI+CiAgICAgICAgICAgIDxnIGlkPSJHcm91cC0zIiB0cmFuc2Zvcm09InRyYW5zbGF0ZSgxMjM1LjAwMDAwMCwgNzkuMDAwMDAwKSI+CiAgICAgICAgICAgICAgICA8cG9seWdvbiBpZD0iUGF0aC0yMCIgZmlsbD0iIzAyNjVCNCIgcG9pbnRzPSIyLjM3NjIzNzYyIDgwIDM4LjA0NzY2NjcgODAgNTcuODIxNzgyMiA3My44MDU3NTkyIDU3LjgyMTc4MjIgMzIuNzU5MjczOSAzOS4xNDAyMjc4IDMxLjY4MzE2ODMiPjwvcG9seWdvbj4KICAgICAgICAgICAgICAgIDxwYXRoIGQ9Ik0zNS4wMDc3MTgsODAgQzQyLjkwNjIwMDcsNzYuNDU0OTM1OCA0Ny41NjQ5MTY3LDcxLjU0MjI2NzEgNDguOTgzODY2LDY1LjI2MTk5MzkgQzUxLjExMjI4OTksNTUuODQxNTg0MiA0MS42NzcxNzk1LDQ5LjIxMjIyODQgMjUuNjIzOTg0Niw0OS4yMTIyMjg0IEMyNS40ODQ5Mjg5LDQ5LjEyNjg0NDggMjkuODI2MTI5Niw0My4yODM4MjQ4IDM4LjY0NzU4NjksMzEuNjgzMTY4MyBMNzIuODcxMjg3MSwzMi41NTQ0MjUgTDY1LjI4MDk3Myw2Ny42NzYzNDIxIEw1MS4xMTIyODk5LDc3LjM3NjE0NCBMMzUuMDA3NzE4LDgwIFoiIGlkPSJQYXRoLTIyIiBmaWxsPSIjMDAyODY4Ij48L3BhdGg+CiAgICAgICAgICAgICAgICA8cGF0aCBkPSJNMCwzNy43MzA0NDA1IEwyNy4xMTQ1MzcsMC4yNTcxMTE0MzYgQzYyLjM3MTUxMjMsLTEuOTkwNzE3MDEgODAsMTAuNTAwMzkyNyA4MCwzNy43MzA0NDA1IEM4MCw2NC45NjA0ODgyIDY0Ljc3NjUwMzgsNzkuMDUwMzQxNCAzNC4zMjk1MTEzLDgwIEM0Ny4wNTUzNDg5LDc3LjU2NzA4MDggNTMuNDE4MjY3Nyw3MC4zMTM2MTAzIDUzLjQxODI2NzcsNTguMjM5NTg4NSBDNTMuNDE4MjY3Nyw0MC4xMjg1NTU3IDM2LjMwMzk1NDQsMzcuNzMwNDQwNSAyNS4yMjc0MTcsMzcuNzMwNDQwNSBDMTcuODQzMDU4NiwzNy43MzA0NDA1IDkuNDMzOTE5NjYsMzcuNzMwNDQwNSAwLDM3LjczMDQ0MDUgWiIgaWQ9IlBhdGgtMTkiIGZpbGw9IiMzNzkzRUYiPjwvcGF0aD4KICAgICAgICAgICAgPC9nPgogICAgICAgIDwvZz4KICAgIDwvZz4KPC9zdmc+' > </img>\n",
    "Created in <span style='font-weight:600;margin-left:4px;'>Deepnote</span></a>"
   ]
  }
 ],
 "metadata": {
  "deepnote": {},
  "deepnote_execution_queue": [],
  "deepnote_notebook_id": "3dde9d71-4a50-47e1-aedb-8a9d124937e6",
  "kernelspec": {
   "display_name": "Python 3",
   "language": "python",
   "name": "python3"
  },
  "language_info": {
   "codemirror_mode": {
    "name": "ipython",
    "version": 3
   },
   "file_extension": ".py",
   "mimetype": "text/x-python",
   "name": "python",
   "nbconvert_exporter": "python",
   "pygments_lexer": "ipython3",
   "version": "3.8.8"
  },
  "toc": {
   "base_numbering": 1,
   "nav_menu": {},
   "number_sections": true,
   "sideBar": true,
   "skip_h1_title": false,
   "title_cell": "Table of Contents",
   "title_sidebar": "Contents",
   "toc_cell": false,
   "toc_position": {},
   "toc_section_display": true,
   "toc_window_display": true
  }
 },
 "nbformat": 4,
 "nbformat_minor": 2
}
